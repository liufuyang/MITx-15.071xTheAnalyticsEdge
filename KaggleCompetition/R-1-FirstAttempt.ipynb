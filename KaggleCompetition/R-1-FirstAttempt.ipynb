{
 "cells": [
  {
   "cell_type": "code",
   "execution_count": 1,
   "metadata": {
    "collapsed": true
   },
   "outputs": [],
   "source": [
    "submitSample = read.csv('data//sampleSubmission2016.csv')"
   ]
  },
  {
   "cell_type": "code",
   "execution_count": 2,
   "metadata": {
    "collapsed": false
   },
   "outputs": [
    {
     "data": {
      "text/html": [
       "<table>\n",
       "<thead><tr><th></th><th scope=col>USER_ID</th><th scope=col>Predictions</th></tr></thead>\n",
       "<tbody>\n",
       "\t<tr><th scope=row>1</th><td>2</td><td>Democrat</td></tr>\n",
       "\t<tr><th scope=row>2</th><td>3</td><td>Republican</td></tr>\n",
       "\t<tr><th scope=row>3</th><td>6</td><td>Republican</td></tr>\n",
       "\t<tr><th scope=row>4</th><td>7</td><td>Democrat</td></tr>\n",
       "\t<tr><th scope=row>5</th><td>14</td><td>Democrat</td></tr>\n",
       "\t<tr><th scope=row>6</th><td>28</td><td>Republican</td></tr>\n",
       "</tbody>\n",
       "</table>\n"
      ],
      "text/latex": [
       "\\begin{tabular}{r|ll}\n",
       "  & USER_ID & Predictions\\\\\n",
       "\\hline\n",
       "\t1 & 2 & Democrat\\\\\n",
       "\t2 & 3 & Republican\\\\\n",
       "\t3 & 6 & Republican\\\\\n",
       "\t4 & 7 & Democrat\\\\\n",
       "\t5 & 14 & Democrat\\\\\n",
       "\t6 & 28 & Republican\\\\\n",
       "\\end{tabular}\n"
      ],
      "text/plain": [
       "  USER_ID Predictions\n",
       "1       2    Democrat\n",
       "2       3  Republican\n",
       "3       6  Republican\n",
       "4       7    Democrat\n",
       "5      14    Democrat\n",
       "6      28  Republican"
      ]
     },
     "execution_count": 2,
     "metadata": {},
     "output_type": "execute_result"
    }
   ],
   "source": [
    "head(submitSample)"
   ]
  },
  {
   "cell_type": "code",
   "execution_count": 3,
   "metadata": {
    "collapsed": false
   },
   "outputs": [
    {
     "data": {
      "text/html": [
       "1392"
      ],
      "text/latex": [
       "1392"
      ],
      "text/markdown": [
       "1392"
      ],
      "text/plain": [
       "[1] 1392"
      ]
     },
     "execution_count": 3,
     "metadata": {},
     "output_type": "execute_result"
    }
   ],
   "source": [
    "nrow(submitSample)"
   ]
  },
  {
   "cell_type": "code",
   "execution_count": 4,
   "metadata": {
    "collapsed": true
   },
   "outputs": [],
   "source": [
    "voting = read.csv('data//train2016.csv')"
   ]
  },
  {
   "cell_type": "code",
   "execution_count": 5,
   "metadata": {
    "collapsed": false
   },
   "outputs": [
    {
     "name": "stdout",
     "output_type": "stream",
     "text": [
      "'data.frame':\t5568 obs. of  108 variables:\n",
      " $ USER_ID        : int  1 4 5 8 9 10 11 12 13 15 ...\n",
      " $ YOB            : int  1938 1970 1997 1983 1984 1997 1983 1996 NA 1981 ...\n",
      " $ Gender         : Factor w/ 3 levels \"\",\"Female\",\"Male\": 3 2 3 3 2 2 3 3 3 2 ...\n",
      " $ Income         : Factor w/ 7 levels \"\",\"$100,001 - $150,000\",..: 1 6 5 2 4 6 3 5 1 4 ...\n",
      " $ HouseholdStatus: Factor w/ 7 levels \"\",\"Domestic Partners (no kids)\",..: 5 3 6 5 5 6 4 6 6 5 ...\n",
      " $ EducationLevel : Factor w/ 8 levels \"\",\"Associate's Degree\",..: 1 3 7 3 7 4 5 4 4 1 ...\n",
      " $ Party          : Factor w/ 2 levels \"Democrat\",\"Republican\": 1 1 2 1 2 1 1 2 2 2 ...\n",
      " $ Q124742        : Factor w/ 3 levels \"\",\"No\",\"Yes\": 2 1 1 2 2 1 1 3 2 2 ...\n",
      " $ Q124122        : Factor w/ 3 levels \"\",\"No\",\"Yes\": 1 3 3 3 3 1 1 3 1 2 ...\n",
      " $ Q123464        : Factor w/ 3 levels \"\",\"No\",\"Yes\": 2 2 3 2 2 1 1 2 3 2 ...\n",
      " $ Q123621        : Factor w/ 3 levels \"\",\"No\",\"Yes\": 2 2 2 3 2 1 1 2 2 2 ...\n",
      " $ Q122769        : Factor w/ 3 levels \"\",\"No\",\"Yes\": 2 2 1 2 2 2 1 2 1 3 ...\n",
      " $ Q122770        : Factor w/ 3 levels \"\",\"No\",\"Yes\": 3 3 3 2 3 3 1 3 3 2 ...\n",
      " $ Q122771        : Factor w/ 3 levels \"\",\"Private\",\"Public\": 3 3 2 3 3 3 1 2 3 3 ...\n",
      " $ Q122120        : Factor w/ 3 levels \"\",\"No\",\"Yes\": 2 2 2 2 2 2 1 3 3 2 ...\n",
      " $ Q121699        : Factor w/ 3 levels \"\",\"No\",\"Yes\": 3 3 2 3 3 2 1 2 2 3 ...\n",
      " $ Q121700        : Factor w/ 3 levels \"\",\"No\",\"Yes\": 2 2 2 2 2 2 1 2 2 2 ...\n",
      " $ Q120978        : Factor w/ 3 levels \"\",\"No\",\"Yes\": 1 3 3 3 3 3 1 2 3 3 ...\n",
      " $ Q121011        : Factor w/ 3 levels \"\",\"No\",\"Yes\": 2 2 2 2 3 2 1 2 2 3 ...\n",
      " $ Q120379        : Factor w/ 3 levels \"\",\"No\",\"Yes\": 2 2 2 2 2 3 1 3 3 2 ...\n",
      " $ Q120650        : Factor w/ 3 levels \"\",\"No\",\"Yes\": 3 3 3 3 3 3 1 3 1 3 ...\n",
      " $ Q120472        : Factor w/ 3 levels \"\",\"Art\",\"Science\": 1 3 3 3 2 3 1 3 3 2 ...\n",
      " $ Q120194        : Factor w/ 3 levels \"\",\"Study first\",..: 3 2 2 3 3 3 1 3 2 3 ...\n",
      " $ Q120012        : Factor w/ 3 levels \"\",\"No\",\"Yes\": 2 3 1 2 3 3 1 2 2 3 ...\n",
      " $ Q120014        : Factor w/ 3 levels \"\",\"No\",\"Yes\": 2 3 3 3 2 3 1 3 2 2 ...\n",
      " $ Q119334        : Factor w/ 3 levels \"\",\"No\",\"Yes\": 1 2 2 3 2 2 2 2 1 2 ...\n",
      " $ Q119851        : Factor w/ 3 levels \"\",\"No\",\"Yes\": 3 2 3 2 2 3 1 2 2 3 ...\n",
      " $ Q119650        : Factor w/ 3 levels \"\",\"Giving\",\"Receiving\": 1 3 3 2 2 3 1 3 3 2 ...\n",
      " $ Q118892        : Factor w/ 3 levels \"\",\"No\",\"Yes\": 3 2 2 3 2 2 2 3 1 2 ...\n",
      " $ Q118117        : Factor w/ 3 levels \"\",\"No\",\"Yes\": 3 2 3 2 2 2 2 2 3 3 ...\n",
      " $ Q118232        : Factor w/ 3 levels \"\",\"Idealist\",..: 2 3 3 2 2 3 3 2 1 2 ...\n",
      " $ Q118233        : Factor w/ 3 levels \"\",\"No\",\"Yes\": 2 2 2 2 3 2 2 2 2 3 ...\n",
      " $ Q118237        : Factor w/ 3 levels \"\",\"No\",\"Yes\": 2 2 3 2 3 2 3 3 3 3 ...\n",
      " $ Q117186        : Factor w/ 3 levels \"\",\"Cool headed\",..: 1 2 2 2 3 1 2 2 2 2 ...\n",
      " $ Q117193        : Factor w/ 3 levels \"\",\"Odd hours\",..: 1 3 2 3 3 3 2 3 1 3 ...\n",
      " $ Q116797        : Factor w/ 3 levels \"\",\"No\",\"Yes\": 3 2 2 2 2 1 2 2 2 3 ...\n",
      " $ Q116881        : Factor w/ 3 levels \"\",\"Happy\",\"Right\": 2 2 3 2 2 1 2 3 2 2 ...\n",
      " $ Q116953        : Factor w/ 3 levels \"\",\"No\",\"Yes\": 3 3 3 3 3 1 2 2 3 2 ...\n",
      " $ Q116601        : Factor w/ 3 levels \"\",\"No\",\"Yes\": 3 3 2 3 3 1 3 2 2 3 ...\n",
      " $ Q116441        : Factor w/ 3 levels \"\",\"No\",\"Yes\": 2 3 2 2 2 1 2 2 2 3 ...\n",
      " $ Q116448        : Factor w/ 3 levels \"\",\"No\",\"Yes\": 2 2 3 2 3 1 3 2 2 3 ...\n",
      " $ Q116197        : Factor w/ 3 levels \"\",\"A.M.\",\"P.M.\": 3 2 2 2 3 1 3 3 3 3 ...\n",
      " $ Q115602        : Factor w/ 3 levels \"\",\"No\",\"Yes\": 3 2 3 3 2 1 3 3 3 3 ...\n",
      " $ Q115777        : Factor w/ 3 levels \"\",\"End\",\"Start\": 3 2 3 3 2 1 2 3 3 3 ...\n",
      " $ Q115610        : Factor w/ 3 levels \"\",\"No\",\"Yes\": 3 3 3 3 2 1 3 3 3 3 ...\n",
      " $ Q115611        : Factor w/ 3 levels \"\",\"No\",\"Yes\": 2 2 3 2 2 1 2 3 2 3 ...\n",
      " $ Q115899        : Factor w/ 3 levels \"\",\"Circumstances\",..: 2 3 2 2 3 1 3 2 3 3 ...\n",
      " $ Q115390        : Factor w/ 3 levels \"\",\"No\",\"Yes\": 3 3 2 3 2 1 3 2 3 3 ...\n",
      " $ Q114961        : Factor w/ 3 levels \"\",\"No\",\"Yes\": 3 3 3 2 3 1 3 2 3 2 ...\n",
      " $ Q114748        : Factor w/ 3 levels \"\",\"No\",\"Yes\": 3 2 2 2 3 1 2 3 3 2 ...\n",
      " $ Q115195        : Factor w/ 3 levels \"\",\"No\",\"Yes\": 3 3 3 3 3 1 3 2 1 2 ...\n",
      " $ Q114517        : Factor w/ 3 levels \"\",\"No\",\"Yes\": 2 2 3 2 3 1 1 2 1 2 ...\n",
      " $ Q114386        : Factor w/ 3 levels \"\",\"Mysterious\",..: 1 2 2 3 3 1 1 2 1 3 ...\n",
      " $ Q113992        : Factor w/ 3 levels \"\",\"No\",\"Yes\": 3 2 2 2 3 1 1 2 1 2 ...\n",
      " $ Q114152        : Factor w/ 3 levels \"\",\"No\",\"Yes\": 3 2 2 2 2 1 1 2 1 3 ...\n",
      " $ Q113583        : Factor w/ 3 levels \"\",\"Talk\",\"Tunes\": 2 1 3 2 3 1 1 3 3 3 ...\n",
      " $ Q113584        : Factor w/ 3 levels \"\",\"People\",\"Technology\": 3 1 3 2 2 1 1 2 3 3 ...\n",
      " $ Q113181        : Factor w/ 3 levels \"\",\"No\",\"Yes\": 2 1 3 2 2 1 1 3 1 3 ...\n",
      " $ Q112478        : Factor w/ 3 levels \"\",\"No\",\"Yes\": 2 1 3 3 2 1 1 2 1 2 ...\n",
      " $ Q112512        : Factor w/ 3 levels \"\",\"No\",\"Yes\": 3 1 3 3 3 1 1 3 3 3 ...\n",
      " $ Q112270        : Factor w/ 3 levels \"\",\"No\",\"Yes\": 1 1 3 3 2 1 1 3 2 3 ...\n",
      " $ Q111848        : Factor w/ 3 levels \"\",\"No\",\"Yes\": 2 1 2 3 2 3 1 3 3 2 ...\n",
      " $ Q111580        : Factor w/ 3 levels \"\",\"Demanding\",..: 2 1 3 3 2 3 3 2 2 2 ...\n",
      " $ Q111220        : Factor w/ 3 levels \"\",\"No\",\"Yes\": 2 1 2 2 3 2 2 2 2 3 ...\n",
      " $ Q110740        : Factor w/ 3 levels \"\",\"Mac\",\"PC\": 1 2 3 2 3 3 3 3 3 3 ...\n",
      " $ Q109367        : Factor w/ 3 levels \"\",\"No\",\"Yes\": 2 3 2 3 3 1 3 2 2 3 ...\n",
      " $ Q108950        : Factor w/ 3 levels \"\",\"Cautious\",..: 2 2 2 3 2 1 2 2 1 2 ...\n",
      " $ Q109244        : Factor w/ 3 levels \"\",\"No\",\"Yes\": 2 2 2 2 2 1 3 2 2 2 ...\n",
      " $ Q108855        : Factor w/ 3 levels \"\",\"Umm...\",\"Yes!\": 3 2 2 2 3 1 2 3 1 3 ...\n",
      " $ Q108617        : Factor w/ 3 levels \"\",\"No\",\"Yes\": 2 2 2 2 2 1 2 2 2 2 ...\n",
      " $ Q108856        : Factor w/ 3 levels \"\",\"Socialize\",..: 3 3 3 2 2 1 1 2 3 2 ...\n",
      " $ Q108754        : Factor w/ 3 levels \"\",\"No\",\"Yes\": 2 3 2 3 2 1 2 2 2 2 ...\n",
      " $ Q108342        : Factor w/ 3 levels \"\",\"In-person\",..: 2 2 2 3 3 2 3 2 1 3 ...\n",
      " $ Q108343        : Factor w/ 3 levels \"\",\"No\",\"Yes\": 1 2 2 2 2 2 3 2 1 3 ...\n",
      " $ Q107869        : Factor w/ 3 levels \"\",\"No\",\"Yes\": 3 3 2 3 2 2 1 2 1 3 ...\n",
      " $ Q107491        : Factor w/ 3 levels \"\",\"No\",\"Yes\": 2 3 3 2 3 3 3 3 3 3 ...\n",
      " $ Q106993        : Factor w/ 3 levels \"\",\"No\",\"Yes\": 3 2 3 3 3 3 2 3 3 3 ...\n",
      " $ Q106997        : Factor w/ 3 levels \"\",\"Grrr people\",..: 3 3 2 2 3 2 2 2 2 3 ...\n",
      " $ Q106272        : Factor w/ 3 levels \"\",\"No\",\"Yes\": 3 3 3 2 3 3 3 3 1 2 ...\n",
      " $ Q106388        : Factor w/ 3 levels \"\",\"No\",\"Yes\": 2 3 2 2 2 2 2 2 2 2 ...\n",
      " $ Q106389        : Factor w/ 3 levels \"\",\"No\",\"Yes\": 3 3 2 3 3 3 3 3 3 2 ...\n",
      " $ Q106042        : Factor w/ 3 levels \"\",\"No\",\"Yes\": 3 3 2 3 3 3 1 2 2 3 ...\n",
      " $ Q105840        : Factor w/ 3 levels \"\",\"No\",\"Yes\": 1 3 2 2 3 2 3 2 2 3 ...\n",
      " $ Q105655        : Factor w/ 3 levels \"\",\"No\",\"Yes\": 2 2 2 3 3 2 2 3 3 3 ...\n",
      " $ Q104996        : Factor w/ 3 levels \"\",\"No\",\"Yes\": 3 3 2 3 2 3 2 2 2 3 ...\n",
      " $ Q103293        : Factor w/ 3 levels \"\",\"No\",\"Yes\": 2 1 3 2 2 3 3 3 3 3 ...\n",
      " $ Q102906        : Factor w/ 3 levels \"\",\"No\",\"Yes\": 2 1 2 2 2 3 3 2 2 3 ...\n",
      " $ Q102674        : Factor w/ 3 levels \"\",\"No\",\"Yes\": 2 1 2 2 3 2 2 2 1 2 ...\n",
      " $ Q102687        : Factor w/ 3 levels \"\",\"No\",\"Yes\": 3 1 3 3 2 3 2 3 3 2 ...\n",
      " $ Q102289        : Factor w/ 3 levels \"\",\"No\",\"Yes\": 2 1 2 3 2 1 1 2 2 2 ...\n",
      " $ Q102089        : Factor w/ 3 levels \"\",\"Own\",\"Rent\": 2 1 2 2 2 1 2 2 1 2 ...\n",
      " $ Q101162        : Factor w/ 3 levels \"\",\"Optimist\",..: 2 1 3 2 2 1 3 3 2 2 ...\n",
      " $ Q101163        : Factor w/ 3 levels \"\",\"Dad\",\"Mom\": 1 1 3 3 3 1 1 3 2 3 ...\n",
      " $ Q101596        : Factor w/ 3 levels \"\",\"No\",\"Yes\": 3 1 2 2 2 1 1 3 2 2 ...\n",
      " $ Q100689        : Factor w/ 3 levels \"\",\"No\",\"Yes\": 3 1 2 2 3 1 3 3 2 3 ...\n",
      " $ Q100680        : Factor w/ 3 levels \"\",\"No\",\"Yes\": 2 1 2 2 3 1 3 2 3 3 ...\n",
      " $ Q100562        : Factor w/ 3 levels \"\",\"No\",\"Yes\": 2 1 2 3 3 1 3 3 2 3 ...\n",
      " $ Q99982         : Factor w/ 3 levels \"\",\"Check!\",\"Nope\": 3 1 3 2 3 1 1 3 3 2 ...\n",
      " $ Q100010        : Factor w/ 3 levels \"\",\"No\",\"Yes\": 3 1 3 2 3 1 3 3 3 3 ...\n",
      "  [list output truncated]\n"
     ]
    }
   ],
   "source": [
    "str(voting)"
   ]
  },
  {
   "cell_type": "code",
   "execution_count": 6,
   "metadata": {
    "collapsed": false
   },
   "outputs": [
    {
     "data": {
      "text/html": [
       "108"
      ],
      "text/latex": [
       "108"
      ],
      "text/markdown": [
       "108"
      ],
      "text/plain": [
       "[1] 108"
      ]
     },
     "execution_count": 6,
     "metadata": {},
     "output_type": "execute_result"
    }
   ],
   "source": [
    "length(names(voting))"
   ]
  },
  {
   "cell_type": "code",
   "execution_count": 7,
   "metadata": {
    "collapsed": false
   },
   "outputs": [
    {
     "data": {
      "text/plain": [
       "   Min. 1st Qu.  Median    Mean 3rd Qu.    Max.    NA's \n",
       "   1880    1970    1983    1980    1993    2039     333 "
      ]
     },
     "execution_count": 7,
     "metadata": {},
     "output_type": "execute_result"
    }
   ],
   "source": [
    "summary(voting$YOB)"
   ]
  },
  {
   "cell_type": "markdown",
   "metadata": {},
   "source": [
    "## Data Engineering\n"
   ]
  },
  {
   "cell_type": "code",
   "execution_count": 8,
   "metadata": {
    "collapsed": false
   },
   "outputs": [
    {
     "name": "stderr",
     "output_type": "stream",
     "text": [
      "Loading required package: Rcpp\n",
      "Warning message:\n",
      ": package ‘Rcpp’ was built under R version 3.2.4mice 2.25 2015-11-09\n"
     ]
    }
   ],
   "source": [
    "library(mice)"
   ]
  },
  {
   "cell_type": "code",
   "execution_count": null,
   "metadata": {
    "collapsed": false
   },
   "outputs": [],
   "source": []
  },
  {
   "cell_type": "code",
   "execution_count": 9,
   "metadata": {
    "collapsed": false
   },
   "outputs": [],
   "source": [
    "## add new feature Age\n",
    "\n",
    "voting$Age[(2016- voting$YOB ) <= 18] = '1-18'\n",
    "voting$Age[((2016- voting$YOB ) > 18) & ((2016- voting$YOB ) <= 40)] = '17-40'\n",
    "voting$Age[(2016- voting$YOB ) > 40] = '40+'\n",
    "voting$Age = as.factor(voting$Age)\n",
    "#voting$Age = 2016- voting$YOB"
   ]
  },
  {
   "cell_type": "code",
   "execution_count": 10,
   "metadata": {
    "collapsed": false
   },
   "outputs": [
    {
     "data": {
      "text/html": [
       "<dl class=dl-horizontal>\n",
       "\t<dt>1-18</dt>\n",
       "\t\t<dd>306</dd>\n",
       "\t<dt>17-40</dt>\n",
       "\t\t<dd>3092</dd>\n",
       "\t<dt>40+</dt>\n",
       "\t\t<dd>1837</dd>\n",
       "\t<dt>NA's</dt>\n",
       "\t\t<dd>333</dd>\n",
       "</dl>\n"
      ],
      "text/latex": [
       "\\begin{description*}\n",
       "\\item[1-18] 306\n",
       "\\item[17-40] 3092\n",
       "\\item[40+] 1837\n",
       "\\item[NA's] 333\n",
       "\\end{description*}\n"
      ],
      "text/markdown": [
       "1-18\n",
       ":   30617-40\n",
       ":   309240+\n",
       ":   1837NA's\n",
       ":   333\n",
       "\n"
      ],
      "text/plain": [
       " 1-18 17-40   40+  NA's \n",
       "  306  3092  1837   333 "
      ]
     },
     "execution_count": 10,
     "metadata": {},
     "output_type": "execute_result"
    }
   ],
   "source": [
    "summary(voting$Age)"
   ]
  },
  {
   "cell_type": "code",
   "execution_count": 11,
   "metadata": {
    "collapsed": false
   },
   "outputs": [
    {
     "data": {
      "text/html": [
       "109"
      ],
      "text/latex": [
       "109"
      ],
      "text/markdown": [
       "109"
      ],
      "text/plain": [
       "[1] 109"
      ]
     },
     "execution_count": 11,
     "metadata": {},
     "output_type": "execute_result"
    }
   ],
   "source": [
    "length(names(voting))"
   ]
  },
  {
   "cell_type": "code",
   "execution_count": 12,
   "metadata": {
    "collapsed": true
   },
   "outputs": [],
   "source": [
    "voting = voting[, !(names(voting) %in% c('YOB'))]"
   ]
  },
  {
   "cell_type": "code",
   "execution_count": 13,
   "metadata": {
    "collapsed": false
   },
   "outputs": [
    {
     "data": {
      "text/html": [
       "108"
      ],
      "text/latex": [
       "108"
      ],
      "text/markdown": [
       "108"
      ],
      "text/plain": [
       "[1] 108"
      ]
     },
     "execution_count": 13,
     "metadata": {},
     "output_type": "execute_result"
    }
   ],
   "source": [
    "length(names(voting))"
   ]
  },
  {
   "cell_type": "markdown",
   "metadata": {},
   "source": [
    "## Train Test Split"
   ]
  },
  {
   "cell_type": "code",
   "execution_count": 14,
   "metadata": {
    "collapsed": true
   },
   "outputs": [],
   "source": [
    "library(caTools)\n",
    "set.seed(42)\n",
    "spl = sample.split(voting$Party, 0.7)\n",
    "train = subset(voting, spl == TRUE)\n",
    "test = subset(voting, spl == FALSE)"
   ]
  },
  {
   "cell_type": "markdown",
   "metadata": {},
   "source": [
    "## Super Simple LR model"
   ]
  },
  {
   "cell_type": "code",
   "execution_count": 15,
   "metadata": {
    "collapsed": false
   },
   "outputs": [],
   "source": [
    "SimpleMod = glm(Party ~ . -USER_ID, data=train, family=binomial)\n",
    "\n",
    "PredTest = predict(SimpleMod, newdata=train, type=\"response\")\n",
    "threshold = 0.5\n",
    "PredTestLabels = as.factor(ifelse(PredTest<threshold, \"Democrat\", \"Republican\"))\n"
   ]
  },
  {
   "cell_type": "code",
   "execution_count": 16,
   "metadata": {
    "collapsed": false
   },
   "outputs": [
    {
     "data": {
      "text/plain": [
       "            PredTestLabels\n",
       "             Democrat Republican\n",
       "  Democrat       1352        598\n",
       "  Republican      629       1087"
      ]
     },
     "execution_count": 16,
     "metadata": {},
     "output_type": "execute_result"
    }
   ],
   "source": [
    "table(train$Party, PredTestLabels)"
   ]
  },
  {
   "cell_type": "code",
   "execution_count": 17,
   "metadata": {
    "collapsed": false
   },
   "outputs": [
    {
     "data": {
      "text/html": [
       "0.665302782324059"
      ],
      "text/latex": [
       "0.665302782324059"
      ],
      "text/markdown": [
       "0.665302782324059"
      ],
      "text/plain": [
       "[1] 0.6653028"
      ]
     },
     "execution_count": 17,
     "metadata": {},
     "output_type": "execute_result"
    }
   ],
   "source": [
    "t = table(train$Party, PredTestLabels)\n",
    "sum(diag(t))/sum(t)"
   ]
  },
  {
   "cell_type": "markdown",
   "metadata": {},
   "source": [
    "### Check test score on LR:"
   ]
  },
  {
   "cell_type": "code",
   "execution_count": 18,
   "metadata": {
    "collapsed": false
   },
   "outputs": [
    {
     "data": {
      "text/plain": [
       "            PredTestLabels\n",
       "             Democrat Republican\n",
       "  Democrat        540        287\n",
       "  Republican      321        421"
      ]
     },
     "execution_count": 18,
     "metadata": {},
     "output_type": "execute_result"
    },
    {
     "data": {
      "text/html": [
       "0.612492033142129"
      ],
      "text/latex": [
       "0.612492033142129"
      ],
      "text/markdown": [
       "0.612492033142129"
      ],
      "text/plain": [
       "[1] 0.612492"
      ]
     },
     "execution_count": 18,
     "metadata": {},
     "output_type": "execute_result"
    }
   ],
   "source": [
    "PredTest = predict(SimpleMod, newdata=test,  type=\"response\")\n",
    "PredTestLabels = as.factor(ifelse(PredTest<threshold, \"Democrat\", \"Republican\"))\n",
    "t = table(test$Party, PredTestLabels)\n",
    "t\n",
    "sum(diag(t))/sum(t)"
   ]
  },
  {
   "cell_type": "markdown",
   "metadata": {},
   "source": [
    "## RandomForest"
   ]
  },
  {
   "cell_type": "code",
   "execution_count": null,
   "metadata": {
    "collapsed": true
   },
   "outputs": [],
   "source": []
  },
  {
   "cell_type": "code",
   "execution_count": 19,
   "metadata": {
    "collapsed": false
   },
   "outputs": [
    {
     "name": "stderr",
     "output_type": "stream",
     "text": [
      "randomForest 4.6-12\n",
      "Type rfNews() to see new features/changes/bug fixes.\n"
     ]
    }
   ],
   "source": [
    "library(randomForest)\n",
    "set.seed(42)"
   ]
  },
  {
   "cell_type": "code",
   "execution_count": 20,
   "metadata": {
    "collapsed": false
   },
   "outputs": [
    {
     "ename": "ERROR",
     "evalue": "Error in na.fail.default(structure(list(Party = structure(c(2L, 1L, 2L, : missing values in object\n",
     "output_type": "error",
     "traceback": [
      "Error in na.fail.default(structure(list(Party = structure(c(2L, 1L, 2L, : missing values in object\n"
     ]
    }
   ],
   "source": [
    "votingRF = randomForest(Party ~ . -USER_ID, data=train)"
   ]
  },
  {
   "cell_type": "markdown",
   "metadata": {},
   "source": [
    "*** \n",
    "### Using mice to deal with missing data:"
   ]
  },
  {
   "cell_type": "code",
   "execution_count": 21,
   "metadata": {
    "collapsed": false
   },
   "outputs": [],
   "source": [
    "library(mice)"
   ]
  },
  {
   "cell_type": "code",
   "execution_count": 22,
   "metadata": {
    "collapsed": false
   },
   "outputs": [
    {
     "data": {
      "text/html": [
       "<table>\n",
       "<thead><tr><th></th><th scope=col>USER_ID</th><th scope=col>Gender</th><th scope=col>Income</th><th scope=col>HouseholdStatus</th><th scope=col>EducationLevel</th><th scope=col>Party</th><th scope=col>Q124742</th><th scope=col>Q124122</th><th scope=col>Q123464</th><th scope=col>Q123621</th><th scope=col></th><th scope=col>Q99581</th><th scope=col>Q99480</th><th scope=col>Q98869</th><th scope=col>Q98578</th><th scope=col>Q98059</th><th scope=col>Q98078</th><th scope=col>Q98197</th><th scope=col>Q96024</th><th scope=col>Age</th><th scope=col></th></tr></thead>\n",
       "<tbody>\n",
       "\t<tr><th scope=row>3666</th><td>1</td><td>1</td><td>1</td><td>1</td><td>1</td><td>1</td><td>1</td><td>1</td><td>1</td><td>1</td><td>⋯</td><td>1</td><td>1</td><td>1</td><td>1</td><td>1</td><td>1</td><td>1</td><td>1</td><td>1</td><td>0</td></tr>\n",
       "\t<tr><th scope=row> 232</th><td>1</td><td>1</td><td>1</td><td>1</td><td>1</td><td>1</td><td>1</td><td>1</td><td>1</td><td>1</td><td>⋯</td><td>1</td><td>1</td><td>1</td><td>1</td><td>1</td><td>1</td><td>1</td><td>1</td><td>0</td><td>1</td></tr>\n",
       "\t<tr><th scope=row></th><td>0  </td><td>0  </td><td>0  </td><td>0  </td><td>0  </td><td>0  </td><td>0  </td><td>0  </td><td>0  </td><td>0  </td><td>⋯  </td><td>0  </td><td>0  </td><td>0  </td><td>0  </td><td>0  </td><td>0  </td><td>0  </td><td>0  </td><td>232</td><td>232</td></tr>\n",
       "</tbody>\n",
       "</table>\n"
      ],
      "text/latex": [
       "\\begin{tabular}{r|lllllllllllllllllllllllllllllllllllllllllllllllllllllllllllllllllllllllllllllllllllllllllllllllllllllllllllll}\n",
       "  & USER_ID & Gender & Income & HouseholdStatus & EducationLevel & Party & Q124742 & Q124122 & Q123464 & Q123621 &  & Q99581 & Q99480 & Q98869 & Q98578 & Q98059 & Q98078 & Q98197 & Q96024 & Age & \\\\\n",
       "\\hline\n",
       "\t3666 & 1 & 1 & 1 & 1 & 1 & 1 & 1 & 1 & 1 & 1 & ⋯ & 1 & 1 & 1 & 1 & 1 & 1 & 1 & 1 & 1 & 0\\\\\n",
       "\t 232 & 1 & 1 & 1 & 1 & 1 & 1 & 1 & 1 & 1 & 1 & ⋯ & 1 & 1 & 1 & 1 & 1 & 1 & 1 & 1 & 0 & 1\\\\\n",
       "\t & 0   & 0   & 0   & 0   & 0   & 0   & 0   & 0   & 0   & 0   & ⋯   & 0   & 0   & 0   & 0   & 0   & 0   & 0   & 0   & 232 & 232\\\\\n",
       "\\end{tabular}\n"
      ],
      "text/markdown": [
       "1. 1\n",
       "2. 1\n",
       "3. 0\n",
       "4. 1\n",
       "5. 1\n",
       "6. 0\n",
       "7. 1\n",
       "8. 1\n",
       "9. 0\n",
       "10. 1\n",
       "11. 1\n",
       "12. 0\n",
       "13. 1\n",
       "14. 1\n",
       "15. 0\n",
       "16. 1\n",
       "17. 1\n",
       "18. 0\n",
       "19. 1\n",
       "20. 1\n",
       "21. 0\n",
       "22. 1\n",
       "23. 1\n",
       "24. 0\n",
       "25. 1\n",
       "26. 1\n",
       "27. 0\n",
       "28. 1\n",
       "29. 1\n",
       "30. 0\n",
       "31. 1\n",
       "32. 1\n",
       "33. 0\n",
       "34. 1\n",
       "35. 1\n",
       "36. 0\n",
       "37. 1\n",
       "38. 1\n",
       "39. 0\n",
       "40. 1\n",
       "41. 1\n",
       "42. 0\n",
       "43. 1\n",
       "44. 1\n",
       "45. 0\n",
       "46. 1\n",
       "47. 1\n",
       "48. 0\n",
       "49. 1\n",
       "50. 1\n",
       "51. 0\n",
       "52. 1\n",
       "53. 1\n",
       "54. 0\n",
       "55. 1\n",
       "56. 1\n",
       "57. 0\n",
       "58. 1\n",
       "59. 1\n",
       "60. 0\n",
       "61. 1\n",
       "62. 1\n",
       "63. 0\n",
       "64. 1\n",
       "65. 1\n",
       "66. 0\n",
       "67. 1\n",
       "68. 1\n",
       "69. 0\n",
       "70. 1\n",
       "71. 1\n",
       "72. 0\n",
       "73. 1\n",
       "74. 1\n",
       "75. 0\n",
       "76. 1\n",
       "77. 1\n",
       "78. 0\n",
       "79. 1\n",
       "80. 1\n",
       "81. 0\n",
       "82. 1\n",
       "83. 1\n",
       "84. 0\n",
       "85. 1\n",
       "86. 1\n",
       "87. 0\n",
       "88. 1\n",
       "89. 1\n",
       "90. 0\n",
       "91. 1\n",
       "92. 1\n",
       "93. 0\n",
       "94. 1\n",
       "95. 1\n",
       "96. 0\n",
       "97. 1\n",
       "98. 1\n",
       "99. 0\n",
       "100. 1\n",
       "101. 1\n",
       "102. 0\n",
       "103. 1\n",
       "104. 1\n",
       "105. 0\n",
       "106. 1\n",
       "107. 1\n",
       "108. 0\n",
       "109. 1\n",
       "110. 1\n",
       "111. 0\n",
       "112. 1\n",
       "113. 1\n",
       "114. 0\n",
       "115. 1\n",
       "116. 1\n",
       "117. 0\n",
       "118. 1\n",
       "119. 1\n",
       "120. 0\n",
       "121. 1\n",
       "122. 1\n",
       "123. 0\n",
       "124. 1\n",
       "125. 1\n",
       "126. 0\n",
       "127. 1\n",
       "128. 1\n",
       "129. 0\n",
       "130. 1\n",
       "131. 1\n",
       "132. 0\n",
       "133. 1\n",
       "134. 1\n",
       "135. 0\n",
       "136. 1\n",
       "137. 1\n",
       "138. 0\n",
       "139. 1\n",
       "140. 1\n",
       "141. 0\n",
       "142. 1\n",
       "143. 1\n",
       "144. 0\n",
       "145. 1\n",
       "146. 1\n",
       "147. 0\n",
       "148. 1\n",
       "149. 1\n",
       "150. 0\n",
       "151. 1\n",
       "152. 1\n",
       "153. 0\n",
       "154. 1\n",
       "155. 1\n",
       "156. 0\n",
       "157. 1\n",
       "158. 1\n",
       "159. 0\n",
       "160. 1\n",
       "161. 1\n",
       "162. 0\n",
       "163. 1\n",
       "164. 1\n",
       "165. 0\n",
       "166. 1\n",
       "167. 1\n",
       "168. 0\n",
       "169. 1\n",
       "170. 1\n",
       "171. 0\n",
       "172. 1\n",
       "173. 1\n",
       "174. 0\n",
       "175. 1\n",
       "176. 1\n",
       "177. 0\n",
       "178. 1\n",
       "179. 1\n",
       "180. 0\n",
       "181. 1\n",
       "182. 1\n",
       "183. 0\n",
       "184. 1\n",
       "185. 1\n",
       "186. 0\n",
       "187. 1\n",
       "188. 1\n",
       "189. 0\n",
       "190. 1\n",
       "191. 1\n",
       "192. 0\n",
       "193. 1\n",
       "194. 1\n",
       "195. 0\n",
       "196. 1\n",
       "197. 1\n",
       "198. 0\n",
       "199. 1\n",
       "200. 1\n",
       "201. 0\n",
       "202. 1\n",
       "203. 1\n",
       "204. 0\n",
       "205. 1\n",
       "206. 1\n",
       "207. 0\n",
       "208. 1\n",
       "209. 1\n",
       "210. 0\n",
       "211. 1\n",
       "212. 1\n",
       "213. 0\n",
       "214. 1\n",
       "215. 1\n",
       "216. 0\n",
       "217. 1\n",
       "218. 1\n",
       "219. 0\n",
       "220. 1\n",
       "221. 1\n",
       "222. 0\n",
       "223. 1\n",
       "224. 1\n",
       "225. 0\n",
       "226. 1\n",
       "227. 1\n",
       "228. 0\n",
       "229. 1\n",
       "230. 1\n",
       "231. 0\n",
       "232. 1\n",
       "233. 1\n",
       "234. 0\n",
       "235. 1\n",
       "236. 1\n",
       "237. 0\n",
       "238. 1\n",
       "239. 1\n",
       "240. 0\n",
       "241. 1\n",
       "242. 1\n",
       "243. 0\n",
       "244. 1\n",
       "245. 1\n",
       "246. 0\n",
       "247. 1\n",
       "248. 1\n",
       "249. 0\n",
       "250. 1\n",
       "251. 1\n",
       "252. 0\n",
       "253. 1\n",
       "254. 1\n",
       "255. 0\n",
       "256. 1\n",
       "257. 1\n",
       "258. 0\n",
       "259. 1\n",
       "260. 1\n",
       "261. 0\n",
       "262. 1\n",
       "263. 1\n",
       "264. 0\n",
       "265. 1\n",
       "266. 1\n",
       "267. 0\n",
       "268. 1\n",
       "269. 1\n",
       "270. 0\n",
       "271. 1\n",
       "272. 1\n",
       "273. 0\n",
       "274. 1\n",
       "275. 1\n",
       "276. 0\n",
       "277. 1\n",
       "278. 1\n",
       "279. 0\n",
       "280. 1\n",
       "281. 1\n",
       "282. 0\n",
       "283. 1\n",
       "284. 1\n",
       "285. 0\n",
       "286. 1\n",
       "287. 1\n",
       "288. 0\n",
       "289. 1\n",
       "290. 1\n",
       "291. 0\n",
       "292. 1\n",
       "293. 1\n",
       "294. 0\n",
       "295. 1\n",
       "296. 1\n",
       "297. 0\n",
       "298. 1\n",
       "299. 1\n",
       "300. 0\n",
       "301. 1\n",
       "302. 1\n",
       "303. 0\n",
       "304. 1\n",
       "305. 1\n",
       "306. 0\n",
       "307. 1\n",
       "308. 1\n",
       "309. 0\n",
       "310. 1\n",
       "311. 1\n",
       "312. 0\n",
       "313. 1\n",
       "314. 1\n",
       "315. 0\n",
       "316. 1\n",
       "317. 1\n",
       "318. 0\n",
       "319. 1\n",
       "320. 1\n",
       "321. 0\n",
       "322. 1\n",
       "323. 0\n",
       "324. 232\n",
       "325. 0\n",
       "326. 1\n",
       "327. 232\n",
       "\n",
       "\n"
      ],
      "text/plain": [
       "     USER_ID Gender Income HouseholdStatus EducationLevel Party Q124742 Q124122\n",
       "3666       1      1      1               1              1     1       1       1\n",
       " 232       1      1      1               1              1     1       1       1\n",
       "           0      0      0               0              0     0       0       0\n",
       "     Q123464 Q123621 Q122769 Q122770 Q122771 Q122120 Q121699 Q121700 Q120978\n",
       "3666       1       1       1       1       1       1       1       1       1\n",
       " 232       1       1       1       1       1       1       1       1       1\n",
       "           0       0       0       0       0       0       0       0       0\n",
       "     Q121011 Q120379 Q120650 Q120472 Q120194 Q120012 Q120014 Q119334 Q119851\n",
       "3666       1       1       1       1       1       1       1       1       1\n",
       " 232       1       1       1       1       1       1       1       1       1\n",
       "           0       0       0       0       0       0       0       0       0\n",
       "     Q119650 Q118892 Q118117 Q118232 Q118233 Q118237 Q117186 Q117193 Q116797\n",
       "3666       1       1       1       1       1       1       1       1       1\n",
       " 232       1       1       1       1       1       1       1       1       1\n",
       "           0       0       0       0       0       0       0       0       0\n",
       "     Q116881 Q116953 Q116601 Q116441 Q116448 Q116197 Q115602 Q115777 Q115610\n",
       "3666       1       1       1       1       1       1       1       1       1\n",
       " 232       1       1       1       1       1       1       1       1       1\n",
       "           0       0       0       0       0       0       0       0       0\n",
       "     Q115611 Q115899 Q115390 Q114961 Q114748 Q115195 Q114517 Q114386 Q113992\n",
       "3666       1       1       1       1       1       1       1       1       1\n",
       " 232       1       1       1       1       1       1       1       1       1\n",
       "           0       0       0       0       0       0       0       0       0\n",
       "     Q114152 Q113583 Q113584 Q113181 Q112478 Q112512 Q112270 Q111848 Q111580\n",
       "3666       1       1       1       1       1       1       1       1       1\n",
       " 232       1       1       1       1       1       1       1       1       1\n",
       "           0       0       0       0       0       0       0       0       0\n",
       "     Q111220 Q110740 Q109367 Q108950 Q109244 Q108855 Q108617 Q108856 Q108754\n",
       "3666       1       1       1       1       1       1       1       1       1\n",
       " 232       1       1       1       1       1       1       1       1       1\n",
       "           0       0       0       0       0       0       0       0       0\n",
       "     Q108342 Q108343 Q107869 Q107491 Q106993 Q106997 Q106272 Q106388 Q106389\n",
       "3666       1       1       1       1       1       1       1       1       1\n",
       " 232       1       1       1       1       1       1       1       1       1\n",
       "           0       0       0       0       0       0       0       0       0\n",
       "     Q106042 Q105840 Q105655 Q104996 Q103293 Q102906 Q102674 Q102687 Q102289\n",
       "3666       1       1       1       1       1       1       1       1       1\n",
       " 232       1       1       1       1       1       1       1       1       1\n",
       "           0       0       0       0       0       0       0       0       0\n",
       "     Q102089 Q101162 Q101163 Q101596 Q100689 Q100680 Q100562 Q99982 Q100010\n",
       "3666       1       1       1       1       1       1       1      1       1\n",
       " 232       1       1       1       1       1       1       1      1       1\n",
       "           0       0       0       0       0       0       0      0       0\n",
       "     Q99716 Q99581 Q99480 Q98869 Q98578 Q98059 Q98078 Q98197 Q96024 Age    \n",
       "3666      1      1      1      1      1      1      1      1      1   1   0\n",
       " 232      1      1      1      1      1      1      1      1      1   0   1\n",
       "          0      0      0      0      0      0      0      0      0 232 232"
      ]
     },
     "execution_count": 22,
     "metadata": {},
     "output_type": "execute_result"
    }
   ],
   "source": [
    "md.pattern(train)"
   ]
  },
  {
   "cell_type": "code",
   "execution_count": 23,
   "metadata": {
    "collapsed": false
   },
   "outputs": [
    {
     "name": "stdout",
     "output_type": "stream",
     "text": [
      "\n",
      " iter imp variable\n",
      "  1   1  Age\n",
      "  1   2  Age\n",
      "  1   3  Age\n",
      "  1   4  Age\n",
      "  1   5  Age\n",
      "  2   1  Age\n",
      "  2   2  Age\n",
      "  2   3  Age\n",
      "  2   4  Age\n",
      "  2   5  Age\n",
      "  3   1  Age\n",
      "  3   2  Age\n",
      "  3   3  Age\n",
      "  3   4  Age\n",
      "  3   5  Age\n",
      "  4   1  Age\n",
      "  4   2  Age\n",
      "  4   3  Age\n",
      "  4   4  Age\n",
      "  4   5  Age\n",
      "  5   1  Age\n",
      "  5   2  Age\n",
      "  5   3  Age\n",
      "  5   4  Age\n",
      "  5   5  Age\n"
     ]
    }
   ],
   "source": [
    "train_imputed = complete(mice(train))"
   ]
  },
  {
   "cell_type": "code",
   "execution_count": 24,
   "metadata": {
    "collapsed": false
   },
   "outputs": [
    {
     "data": {
      "text/html": [
       "108"
      ],
      "text/latex": [
       "108"
      ],
      "text/markdown": [
       "108"
      ],
      "text/plain": [
       "[1] 108"
      ]
     },
     "execution_count": 24,
     "metadata": {},
     "output_type": "execute_result"
    }
   ],
   "source": [
    "length(names(train_imputed))"
   ]
  },
  {
   "cell_type": "code",
   "execution_count": 25,
   "metadata": {
    "collapsed": false
   },
   "outputs": [
    {
     "data": {
      "text/plain": [
       "Length  Class   Mode \n",
       "     0   NULL   NULL "
      ]
     },
     "execution_count": 25,
     "metadata": {},
     "output_type": "execute_result"
    }
   ],
   "source": [
    "summary(train_imputed$YOB)"
   ]
  },
  {
   "cell_type": "code",
   "execution_count": 26,
   "metadata": {
    "collapsed": false
   },
   "outputs": [
    {
     "data": {
      "text/html": [
       "<dl class=dl-horizontal>\n",
       "\t<dt>1-18</dt>\n",
       "\t\t<dd>255</dd>\n",
       "\t<dt>17-40</dt>\n",
       "\t\t<dd>2297</dd>\n",
       "\t<dt>40+</dt>\n",
       "\t\t<dd>1346</dd>\n",
       "</dl>\n"
      ],
      "text/latex": [
       "\\begin{description*}\n",
       "\\item[1-18] 255\n",
       "\\item[17-40] 2297\n",
       "\\item[40+] 1346\n",
       "\\end{description*}\n"
      ],
      "text/markdown": [
       "1-18\n",
       ":   25517-40\n",
       ":   229740+\n",
       ":   1346\n",
       "\n"
      ],
      "text/plain": [
       " 1-18 17-40   40+ \n",
       "  255  2297  1346 "
      ]
     },
     "execution_count": 26,
     "metadata": {},
     "output_type": "execute_result"
    }
   ],
   "source": [
    "summary(train_imputed$Age)"
   ]
  },
  {
   "cell_type": "markdown",
   "metadata": {},
   "source": [
    "***\n",
    "### continue RF..."
   ]
  },
  {
   "cell_type": "code",
   "execution_count": 27,
   "metadata": {
    "collapsed": false
   },
   "outputs": [],
   "source": [
    "votingRF = randomForest(Party ~ . -USER_ID, \n",
    "                        data=train_imputed,\n",
    "                       nodesize=40,\n",
    "                       ntree=200)"
   ]
  },
  {
   "cell_type": "code",
   "execution_count": 28,
   "metadata": {
    "collapsed": false
   },
   "outputs": [
    {
     "data": {
      "text/plain": [
       "            predictRF\n",
       "             Democrat Republican\n",
       "  Democrat       1767        299\n",
       "  Republican      412       1420"
      ]
     },
     "execution_count": 28,
     "metadata": {},
     "output_type": "execute_result"
    }
   ],
   "source": [
    "predictRF = predict(votingRF, newdata = train_imputed)\n",
    "table(train$Party, predictRF)"
   ]
  },
  {
   "cell_type": "code",
   "execution_count": 29,
   "metadata": {
    "collapsed": false
   },
   "outputs": [
    {
     "data": {
      "text/html": [
       "0.817598768599282"
      ],
      "text/latex": [
       "0.817598768599282"
      ],
      "text/markdown": [
       "0.817598768599282"
      ],
      "text/plain": [
       "[1] 0.8175988"
      ]
     },
     "execution_count": 29,
     "metadata": {},
     "output_type": "execute_result"
    }
   ],
   "source": [
    "t = table(train$Party, predictRF)\n",
    "sum(diag(t))/sum(t)"
   ]
  },
  {
   "cell_type": "markdown",
   "metadata": {
    "collapsed": true
   },
   "source": [
    "### Checking test score on RF:"
   ]
  },
  {
   "cell_type": "code",
   "execution_count": 30,
   "metadata": {
    "collapsed": false
   },
   "outputs": [
    {
     "name": "stdout",
     "output_type": "stream",
     "text": [
      "\n",
      " iter imp variable\n",
      "  1   1  Age\n",
      "  1   2  Age\n",
      "  1   3  Age\n",
      "  1   4  Age\n",
      "  1   5  Age\n",
      "  2   1  Age\n",
      "  2   2  Age\n",
      "  2   3  Age\n",
      "  2   4  Age\n",
      "  2   5  Age\n",
      "  3   1  Age\n",
      "  3   2  Age\n",
      "  3   3  Age\n",
      "  3   4  Age\n",
      "  3   5  Age\n",
      "  4   1  Age\n",
      "  4   2  Age\n",
      "  4   3  Age\n",
      "  4   4  Age\n",
      "  4   5  Age\n",
      "  5   1  Age\n",
      "  5   2  Age\n",
      "  5   3  Age\n",
      "  5   4  Age\n",
      "  5   5  Age\n"
     ]
    },
    {
     "data": {
      "text/plain": [
       "            predictRF\n",
       "             Democrat Republican\n",
       "  Democrat        624        261\n",
       "  Republican      349        436"
      ]
     },
     "execution_count": 30,
     "metadata": {},
     "output_type": "execute_result"
    },
    {
     "data": {
      "text/html": [
       "0.634730538922156"
      ],
      "text/latex": [
       "0.634730538922156"
      ],
      "text/markdown": [
       "0.634730538922156"
      ],
      "text/plain": [
       "[1] 0.6347305"
      ]
     },
     "execution_count": 30,
     "metadata": {},
     "output_type": "execute_result"
    }
   ],
   "source": [
    "test_imputed = complete(mice(test))\n",
    "predictRF = predict(votingRF, newdata = test_imputed)\n",
    "\n",
    "t = table(test$Party, predictRF)\n",
    "t\n",
    "sum(diag(t))/sum(t)"
   ]
  },
  {
   "cell_type": "code",
   "execution_count": null,
   "metadata": {
    "collapsed": true
   },
   "outputs": [],
   "source": []
  },
  {
   "cell_type": "markdown",
   "metadata": {},
   "source": [
    "## To a Kaggle submit with the above mode parameter:"
   ]
  },
  {
   "cell_type": "code",
   "execution_count": null,
   "metadata": {
    "collapsed": false
   },
   "outputs": [],
   "source": [
    "voting_imputed = complete(mice(voting))\n",
    "votingRF = randomForest(Party ~ . -USER_ID -Gender, \n",
    "                        data=voting_imputed,\n",
    "                       nodesize=40,\n",
    "                       ntree=200)\n",
    "kaggle_test = read.csv('data//test2016.csv')\n",
    "kaggle_test_imputed = complete(mice(kaggle_test))\n",
    "predict_kaggle_RF = predict(votingRF, newdata = kaggle_test_imputed)"
   ]
  },
  {
   "cell_type": "code",
   "execution_count": null,
   "metadata": {
    "collapsed": false
   },
   "outputs": [],
   "source": [
    "MySubmission = data.frame(USER_ID = kaggle_test$USER_ID, Predictions = predict_kaggle_RF)\n",
    "write.csv(MySubmission, \"submissions/RF_all_nodesize40_ntree200.csv\", row.names=FALSE, quote=FALSE)"
   ]
  },
  {
   "cell_type": "code",
   "execution_count": null,
   "metadata": {
    "collapsed": true
   },
   "outputs": [],
   "source": []
  }
 ],
 "metadata": {
  "kernelspec": {
   "display_name": "R",
   "language": "R",
   "name": "ir"
  },
  "language_info": {
   "codemirror_mode": "r",
   "file_extension": ".r",
   "mimetype": "text/x-r-source",
   "name": "R",
   "pygments_lexer": "r",
   "version": "3.2.3"
  }
 },
 "nbformat": 4,
 "nbformat_minor": 0
}
