{
 "cells": [
  {
   "cell_type": "markdown",
   "metadata": {},
   "source": [
    "# Cluster first:"
   ]
  },
  {
   "cell_type": "code",
   "execution_count": 1,
   "metadata": {
    "collapsed": true
   },
   "outputs": [],
   "source": [
    "voting = read.csv('data//train2016.csv')"
   ]
  },
  {
   "cell_type": "code",
   "execution_count": null,
   "metadata": {
    "collapsed": false
   },
   "outputs": [],
   "source": []
  },
  {
   "cell_type": "code",
   "execution_count": null,
   "metadata": {
    "collapsed": true
   },
   "outputs": [],
   "source": []
  },
  {
   "cell_type": "code",
   "execution_count": 2,
   "metadata": {
    "collapsed": false
   },
   "outputs": [
    {
     "name": "stdout",
     "output_type": "stream",
     "text": [
      "'data.frame':\t5568 obs. of  108 variables:\n",
      " $ USER_ID        : int  1 4 5 8 9 10 11 12 13 15 ...\n",
      " $ YOB            : int  1938 1970 1997 1983 1984 1997 1983 1996 NA 1981 ...\n",
      " $ Gender         : Factor w/ 3 levels \"\",\"Female\",\"Male\": 3 2 3 3 2 2 3 3 3 2 ...\n",
      " $ Income         : Factor w/ 7 levels \"\",\"$100,001 - $150,000\",..: 1 6 5 2 4 6 3 5 1 4 ...\n",
      " $ HouseholdStatus: Factor w/ 7 levels \"\",\"Domestic Partners (no kids)\",..: 5 3 6 5 5 6 4 6 6 5 ...\n",
      " $ EducationLevel : Factor w/ 8 levels \"\",\"Associate's Degree\",..: 1 3 7 3 7 4 5 4 4 1 ...\n",
      " $ Party          : Factor w/ 2 levels \"Democrat\",\"Republican\": 1 1 2 1 2 1 1 2 2 2 ...\n",
      " $ Q124742        : Factor w/ 3 levels \"\",\"No\",\"Yes\": 2 1 1 2 2 1 1 3 2 2 ...\n",
      " $ Q124122        : Factor w/ 3 levels \"\",\"No\",\"Yes\": 1 3 3 3 3 1 1 3 1 2 ...\n",
      " $ Q123464        : Factor w/ 3 levels \"\",\"No\",\"Yes\": 2 2 3 2 2 1 1 2 3 2 ...\n",
      " $ Q123621        : Factor w/ 3 levels \"\",\"No\",\"Yes\": 2 2 2 3 2 1 1 2 2 2 ...\n",
      " $ Q122769        : Factor w/ 3 levels \"\",\"No\",\"Yes\": 2 2 1 2 2 2 1 2 1 3 ...\n",
      " $ Q122770        : Factor w/ 3 levels \"\",\"No\",\"Yes\": 3 3 3 2 3 3 1 3 3 2 ...\n",
      " $ Q122771        : Factor w/ 3 levels \"\",\"Private\",\"Public\": 3 3 2 3 3 3 1 2 3 3 ...\n",
      " $ Q122120        : Factor w/ 3 levels \"\",\"No\",\"Yes\": 2 2 2 2 2 2 1 3 3 2 ...\n",
      " $ Q121699        : Factor w/ 3 levels \"\",\"No\",\"Yes\": 3 3 2 3 3 2 1 2 2 3 ...\n",
      " $ Q121700        : Factor w/ 3 levels \"\",\"No\",\"Yes\": 2 2 2 2 2 2 1 2 2 2 ...\n",
      " $ Q120978        : Factor w/ 3 levels \"\",\"No\",\"Yes\": 1 3 3 3 3 3 1 2 3 3 ...\n",
      " $ Q121011        : Factor w/ 3 levels \"\",\"No\",\"Yes\": 2 2 2 2 3 2 1 2 2 3 ...\n",
      " $ Q120379        : Factor w/ 3 levels \"\",\"No\",\"Yes\": 2 2 2 2 2 3 1 3 3 2 ...\n",
      " $ Q120650        : Factor w/ 3 levels \"\",\"No\",\"Yes\": 3 3 3 3 3 3 1 3 1 3 ...\n",
      " $ Q120472        : Factor w/ 3 levels \"\",\"Art\",\"Science\": 1 3 3 3 2 3 1 3 3 2 ...\n",
      " $ Q120194        : Factor w/ 3 levels \"\",\"Study first\",..: 3 2 2 3 3 3 1 3 2 3 ...\n",
      " $ Q120012        : Factor w/ 3 levels \"\",\"No\",\"Yes\": 2 3 1 2 3 3 1 2 2 3 ...\n",
      " $ Q120014        : Factor w/ 3 levels \"\",\"No\",\"Yes\": 2 3 3 3 2 3 1 3 2 2 ...\n",
      " $ Q119334        : Factor w/ 3 levels \"\",\"No\",\"Yes\": 1 2 2 3 2 2 2 2 1 2 ...\n",
      " $ Q119851        : Factor w/ 3 levels \"\",\"No\",\"Yes\": 3 2 3 2 2 3 1 2 2 3 ...\n",
      " $ Q119650        : Factor w/ 3 levels \"\",\"Giving\",\"Receiving\": 1 3 3 2 2 3 1 3 3 2 ...\n",
      " $ Q118892        : Factor w/ 3 levels \"\",\"No\",\"Yes\": 3 2 2 3 2 2 2 3 1 2 ...\n",
      " $ Q118117        : Factor w/ 3 levels \"\",\"No\",\"Yes\": 3 2 3 2 2 2 2 2 3 3 ...\n",
      " $ Q118232        : Factor w/ 3 levels \"\",\"Idealist\",..: 2 3 3 2 2 3 3 2 1 2 ...\n",
      " $ Q118233        : Factor w/ 3 levels \"\",\"No\",\"Yes\": 2 2 2 2 3 2 2 2 2 3 ...\n",
      " $ Q118237        : Factor w/ 3 levels \"\",\"No\",\"Yes\": 2 2 3 2 3 2 3 3 3 3 ...\n",
      " $ Q117186        : Factor w/ 3 levels \"\",\"Cool headed\",..: 1 2 2 2 3 1 2 2 2 2 ...\n",
      " $ Q117193        : Factor w/ 3 levels \"\",\"Odd hours\",..: 1 3 2 3 3 3 2 3 1 3 ...\n",
      " $ Q116797        : Factor w/ 3 levels \"\",\"No\",\"Yes\": 3 2 2 2 2 1 2 2 2 3 ...\n",
      " $ Q116881        : Factor w/ 3 levels \"\",\"Happy\",\"Right\": 2 2 3 2 2 1 2 3 2 2 ...\n",
      " $ Q116953        : Factor w/ 3 levels \"\",\"No\",\"Yes\": 3 3 3 3 3 1 2 2 3 2 ...\n",
      " $ Q116601        : Factor w/ 3 levels \"\",\"No\",\"Yes\": 3 3 2 3 3 1 3 2 2 3 ...\n",
      " $ Q116441        : Factor w/ 3 levels \"\",\"No\",\"Yes\": 2 3 2 2 2 1 2 2 2 3 ...\n",
      " $ Q116448        : Factor w/ 3 levels \"\",\"No\",\"Yes\": 2 2 3 2 3 1 3 2 2 3 ...\n",
      " $ Q116197        : Factor w/ 3 levels \"\",\"A.M.\",\"P.M.\": 3 2 2 2 3 1 3 3 3 3 ...\n",
      " $ Q115602        : Factor w/ 3 levels \"\",\"No\",\"Yes\": 3 2 3 3 2 1 3 3 3 3 ...\n",
      " $ Q115777        : Factor w/ 3 levels \"\",\"End\",\"Start\": 3 2 3 3 2 1 2 3 3 3 ...\n",
      " $ Q115610        : Factor w/ 3 levels \"\",\"No\",\"Yes\": 3 3 3 3 2 1 3 3 3 3 ...\n",
      " $ Q115611        : Factor w/ 3 levels \"\",\"No\",\"Yes\": 2 2 3 2 2 1 2 3 2 3 ...\n",
      " $ Q115899        : Factor w/ 3 levels \"\",\"Circumstances\",..: 2 3 2 2 3 1 3 2 3 3 ...\n",
      " $ Q115390        : Factor w/ 3 levels \"\",\"No\",\"Yes\": 3 3 2 3 2 1 3 2 3 3 ...\n",
      " $ Q114961        : Factor w/ 3 levels \"\",\"No\",\"Yes\": 3 3 3 2 3 1 3 2 3 2 ...\n",
      " $ Q114748        : Factor w/ 3 levels \"\",\"No\",\"Yes\": 3 2 2 2 3 1 2 3 3 2 ...\n",
      " $ Q115195        : Factor w/ 3 levels \"\",\"No\",\"Yes\": 3 3 3 3 3 1 3 2 1 2 ...\n",
      " $ Q114517        : Factor w/ 3 levels \"\",\"No\",\"Yes\": 2 2 3 2 3 1 1 2 1 2 ...\n",
      " $ Q114386        : Factor w/ 3 levels \"\",\"Mysterious\",..: 1 2 2 3 3 1 1 2 1 3 ...\n",
      " $ Q113992        : Factor w/ 3 levels \"\",\"No\",\"Yes\": 3 2 2 2 3 1 1 2 1 2 ...\n",
      " $ Q114152        : Factor w/ 3 levels \"\",\"No\",\"Yes\": 3 2 2 2 2 1 1 2 1 3 ...\n",
      " $ Q113583        : Factor w/ 3 levels \"\",\"Talk\",\"Tunes\": 2 1 3 2 3 1 1 3 3 3 ...\n",
      " $ Q113584        : Factor w/ 3 levels \"\",\"People\",\"Technology\": 3 1 3 2 2 1 1 2 3 3 ...\n",
      " $ Q113181        : Factor w/ 3 levels \"\",\"No\",\"Yes\": 2 1 3 2 2 1 1 3 1 3 ...\n",
      " $ Q112478        : Factor w/ 3 levels \"\",\"No\",\"Yes\": 2 1 3 3 2 1 1 2 1 2 ...\n",
      " $ Q112512        : Factor w/ 3 levels \"\",\"No\",\"Yes\": 3 1 3 3 3 1 1 3 3 3 ...\n",
      " $ Q112270        : Factor w/ 3 levels \"\",\"No\",\"Yes\": 1 1 3 3 2 1 1 3 2 3 ...\n",
      " $ Q111848        : Factor w/ 3 levels \"\",\"No\",\"Yes\": 2 1 2 3 2 3 1 3 3 2 ...\n",
      " $ Q111580        : Factor w/ 3 levels \"\",\"Demanding\",..: 2 1 3 3 2 3 3 2 2 2 ...\n",
      " $ Q111220        : Factor w/ 3 levels \"\",\"No\",\"Yes\": 2 1 2 2 3 2 2 2 2 3 ...\n",
      " $ Q110740        : Factor w/ 3 levels \"\",\"Mac\",\"PC\": 1 2 3 2 3 3 3 3 3 3 ...\n",
      " $ Q109367        : Factor w/ 3 levels \"\",\"No\",\"Yes\": 2 3 2 3 3 1 3 2 2 3 ...\n",
      " $ Q108950        : Factor w/ 3 levels \"\",\"Cautious\",..: 2 2 2 3 2 1 2 2 1 2 ...\n",
      " $ Q109244        : Factor w/ 3 levels \"\",\"No\",\"Yes\": 2 2 2 2 2 1 3 2 2 2 ...\n",
      " $ Q108855        : Factor w/ 3 levels \"\",\"Umm...\",\"Yes!\": 3 2 2 2 3 1 2 3 1 3 ...\n",
      " $ Q108617        : Factor w/ 3 levels \"\",\"No\",\"Yes\": 2 2 2 2 2 1 2 2 2 2 ...\n",
      " $ Q108856        : Factor w/ 3 levels \"\",\"Socialize\",..: 3 3 3 2 2 1 1 2 3 2 ...\n",
      " $ Q108754        : Factor w/ 3 levels \"\",\"No\",\"Yes\": 2 3 2 3 2 1 2 2 2 2 ...\n",
      " $ Q108342        : Factor w/ 3 levels \"\",\"In-person\",..: 2 2 2 3 3 2 3 2 1 3 ...\n",
      " $ Q108343        : Factor w/ 3 levels \"\",\"No\",\"Yes\": 1 2 2 2 2 2 3 2 1 3 ...\n",
      " $ Q107869        : Factor w/ 3 levels \"\",\"No\",\"Yes\": 3 3 2 3 2 2 1 2 1 3 ...\n",
      " $ Q107491        : Factor w/ 3 levels \"\",\"No\",\"Yes\": 2 3 3 2 3 3 3 3 3 3 ...\n",
      " $ Q106993        : Factor w/ 3 levels \"\",\"No\",\"Yes\": 3 2 3 3 3 3 2 3 3 3 ...\n",
      " $ Q106997        : Factor w/ 3 levels \"\",\"Grrr people\",..: 3 3 2 2 3 2 2 2 2 3 ...\n",
      " $ Q106272        : Factor w/ 3 levels \"\",\"No\",\"Yes\": 3 3 3 2 3 3 3 3 1 2 ...\n",
      " $ Q106388        : Factor w/ 3 levels \"\",\"No\",\"Yes\": 2 3 2 2 2 2 2 2 2 2 ...\n",
      " $ Q106389        : Factor w/ 3 levels \"\",\"No\",\"Yes\": 3 3 2 3 3 3 3 3 3 2 ...\n",
      " $ Q106042        : Factor w/ 3 levels \"\",\"No\",\"Yes\": 3 3 2 3 3 3 1 2 2 3 ...\n",
      " $ Q105840        : Factor w/ 3 levels \"\",\"No\",\"Yes\": 1 3 2 2 3 2 3 2 2 3 ...\n",
      " $ Q105655        : Factor w/ 3 levels \"\",\"No\",\"Yes\": 2 2 2 3 3 2 2 3 3 3 ...\n",
      " $ Q104996        : Factor w/ 3 levels \"\",\"No\",\"Yes\": 3 3 2 3 2 3 2 2 2 3 ...\n",
      " $ Q103293        : Factor w/ 3 levels \"\",\"No\",\"Yes\": 2 1 3 2 2 3 3 3 3 3 ...\n",
      " $ Q102906        : Factor w/ 3 levels \"\",\"No\",\"Yes\": 2 1 2 2 2 3 3 2 2 3 ...\n",
      " $ Q102674        : Factor w/ 3 levels \"\",\"No\",\"Yes\": 2 1 2 2 3 2 2 2 1 2 ...\n",
      " $ Q102687        : Factor w/ 3 levels \"\",\"No\",\"Yes\": 3 1 3 3 2 3 2 3 3 2 ...\n",
      " $ Q102289        : Factor w/ 3 levels \"\",\"No\",\"Yes\": 2 1 2 3 2 1 1 2 2 2 ...\n",
      " $ Q102089        : Factor w/ 3 levels \"\",\"Own\",\"Rent\": 2 1 2 2 2 1 2 2 1 2 ...\n",
      " $ Q101162        : Factor w/ 3 levels \"\",\"Optimist\",..: 2 1 3 2 2 1 3 3 2 2 ...\n",
      " $ Q101163        : Factor w/ 3 levels \"\",\"Dad\",\"Mom\": 1 1 3 3 3 1 1 3 2 3 ...\n",
      " $ Q101596        : Factor w/ 3 levels \"\",\"No\",\"Yes\": 3 1 2 2 2 1 1 3 2 2 ...\n",
      " $ Q100689        : Factor w/ 3 levels \"\",\"No\",\"Yes\": 3 1 2 2 3 1 3 3 2 3 ...\n",
      " $ Q100680        : Factor w/ 3 levels \"\",\"No\",\"Yes\": 2 1 2 2 3 1 3 2 3 3 ...\n",
      " $ Q100562        : Factor w/ 3 levels \"\",\"No\",\"Yes\": 2 1 2 3 3 1 3 3 2 3 ...\n",
      " $ Q99982         : Factor w/ 3 levels \"\",\"Check!\",\"Nope\": 3 1 3 2 3 1 1 3 3 2 ...\n",
      " $ Q100010        : Factor w/ 3 levels \"\",\"No\",\"Yes\": 3 1 3 2 3 1 3 3 3 3 ...\n",
      "  [list output truncated]\n"
     ]
    }
   ],
   "source": [
    "str(voting)"
   ]
  },
  {
   "cell_type": "code",
   "execution_count": null,
   "metadata": {
    "collapsed": true
   },
   "outputs": [],
   "source": []
  },
  {
   "cell_type": "code",
   "execution_count": 3,
   "metadata": {
    "collapsed": false
   },
   "outputs": [],
   "source": [
    "library(caTools)\n",
    "set.seed(42)\n",
    "spl = sample.split(voting$Party, 0.7)\n",
    "train = subset(voting, spl == TRUE)\n",
    "test = subset(voting, spl == FALSE)"
   ]
  },
  {
   "cell_type": "code",
   "execution_count": 4,
   "metadata": {
    "collapsed": false
   },
   "outputs": [],
   "source": [
    "train_for_cluster = data.frame(train$Income)\n",
    "#train_for_cluster$Gender = train$Gender\n",
    "\n",
    "test_for_cluster = data.frame(test$Income)\n",
    "#test_for_cluster$Gender = test$Gender\n"
   ]
  },
  {
   "cell_type": "markdown",
   "metadata": {},
   "source": [
    "## Imputing:"
   ]
  },
  {
   "cell_type": "code",
   "execution_count": 5,
   "metadata": {
    "collapsed": false
   },
   "outputs": [
    {
     "name": "stderr",
     "output_type": "stream",
     "text": [
      "Loading required package: Rcpp\n",
      "Warning message:\n",
      ": package ‘Rcpp’ was built under R version 3.2.4mice 2.25 2015-11-09\n"
     ]
    }
   ],
   "source": [
    "library(mice)"
   ]
  },
  {
   "cell_type": "code",
   "execution_count": 6,
   "metadata": {
    "collapsed": false
   },
   "outputs": [],
   "source": [
    "\n",
    "#train = complete(mice(train))\n",
    "#test = complete(mice(test))"
   ]
  },
  {
   "cell_type": "markdown",
   "metadata": {},
   "source": [
    "## Clustering:"
   ]
  },
  {
   "cell_type": "code",
   "execution_count": 7,
   "metadata": {
    "collapsed": true
   },
   "outputs": [],
   "source": [
    "limitedTrain = train_for_cluster\n",
    "\n",
    "#limitedTrain$V1 = NULL\n",
    "#limitedTrain$V2 = NULL\n",
    "#limitedTrain$V7 = NULL\n",
    "\n",
    "limitedTest = test_for_cluster\n",
    "\n",
    "#limitedTest$V1 = NULL\n",
    "#limitedTest$V2 = NULL\n",
    "#limitedTest$V7 = NULL"
   ]
  },
  {
   "cell_type": "markdown",
   "metadata": {},
   "source": [
    "### Normalizing before clustering:"
   ]
  },
  {
   "cell_type": "code",
   "execution_count": 8,
   "metadata": {
    "collapsed": false
   },
   "outputs": [
    {
     "name": "stderr",
     "output_type": "stream",
     "text": [
      "Warning message:\n",
      ": package ‘caret’ was built under R version 3.2.4Loading required package: lattice\n",
      "Loading required package: ggplot2\n",
      "Warning message:\n",
      ": package ‘ggplot2’ was built under R version 3.2.4Warning message:\n",
      "In pre_process_options(method, column_types): The following pre-processing methods were eliminated: 'center', 'scale'"
     ]
    }
   ],
   "source": [
    "library(caret)\n",
    "\n",
    "preproc = preProcess(limitedTrain)\n",
    "\n",
    "normTrain = predict(preproc, limitedTrain)\n",
    "\n",
    "normTest = predict(preproc, limitedTest)"
   ]
  },
  {
   "cell_type": "code",
   "execution_count": 9,
   "metadata": {
    "collapsed": false
   },
   "outputs": [
    {
     "name": "stderr",
     "output_type": "stream",
     "text": [
      "Warning message:\n",
      "In kmeans(normTrain, centers = k, iter.max = 2000): NAs introduced by coercion"
     ]
    },
    {
     "ename": "ERROR",
     "evalue": "Error in kmeans(normTrain, centers = k, iter.max = 2000): more cluster centers than distinct data points.\n",
     "output_type": "error",
     "traceback": [
      "Error in kmeans(normTrain, centers = k, iter.max = 2000): more cluster centers than distinct data points.\n"
     ]
    },
    {
     "ename": "ERROR",
     "evalue": "Error in str(KMC): object 'KMC' not found\n",
     "output_type": "error",
     "traceback": [
      "Error in str(KMC): object 'KMC' not found\n"
     ]
    }
   ],
   "source": [
    "set.seed(100)\n",
    "k = 3\n",
    "\n",
    "KMC = kmeans(normTrain, centers = k, iter.max = 2000)\n",
    "str(KMC)"
   ]
  },
  {
   "cell_type": "code",
   "execution_count": 10,
   "metadata": {
    "collapsed": false
   },
   "outputs": [
    {
     "data": {
      "text/html": [
       "3898"
      ],
      "text/latex": [
       "3898"
      ],
      "text/markdown": [
       "3898"
      ],
      "text/plain": [
       "[1] 3898"
      ]
     },
     "execution_count": 10,
     "metadata": {},
     "output_type": "execute_result"
    }
   ],
   "source": [
    "nrow(normTrain)"
   ]
  },
  {
   "cell_type": "code",
   "execution_count": 11,
   "metadata": {
    "collapsed": false
   },
   "outputs": [
    {
     "ename": "ERROR",
     "evalue": "Error in md.pattern(normTrain): Data should have at least two columns\n",
     "output_type": "error",
     "traceback": [
      "Error in md.pattern(normTrain): Data should have at least two columns\n"
     ]
    }
   ],
   "source": [
    "md.pattern(normTrain)"
   ]
  },
  {
   "cell_type": "code",
   "execution_count": 12,
   "metadata": {
    "collapsed": false
   },
   "outputs": [
    {
     "data": {
      "text/html": [
       "<table>\n",
       "<thead><tr><th></th><th scope=col>train.Income</th></tr></thead>\n",
       "<tbody>\n",
       "\t<tr><th scope=row>1</th><td>$75,000 - $100,000</td></tr>\n",
       "\t<tr><th scope=row>2</th><td>$100,001 - $150,000</td></tr>\n",
       "\t<tr><th scope=row>3</th><td>$50,000 - $74,999</td></tr>\n",
       "\t<tr><th scope=row>4</th><td>$25,001 - $50,000</td></tr>\n",
       "\t<tr><th scope=row>5</th><td>$75,000 - $100,000</td></tr>\n",
       "\t<tr><th scope=row>6</th><td></td></tr>\n",
       "</tbody>\n",
       "</table>\n"
      ],
      "text/latex": [
       "\\begin{tabular}{r|l}\n",
       "  & train.Income\\\\\n",
       "\\hline\n",
       "\t1 & $75,000 - $100,000\\\\\n",
       "\t2 & $100,001 - $150,000\\\\\n",
       "\t3 & $50,000 - $74,999\\\\\n",
       "\t4 & $25,001 - $50,000\\\\\n",
       "\t5 & $75,000 - $100,000\\\\\n",
       "\t6 & \\\\\n",
       "\\end{tabular}\n"
      ],
      "text/plain": [
       "         train.Income\n",
       "1  $75,000 - $100,000\n",
       "2 $100,001 - $150,000\n",
       "3   $50,000 - $74,999\n",
       "4   $25,001 - $50,000\n",
       "5  $75,000 - $100,000\n",
       "6                    "
      ]
     },
     "execution_count": 12,
     "metadata": {},
     "output_type": "execute_result"
    }
   ],
   "source": [
    "head(normTrain)"
   ]
  },
  {
   "cell_type": "code",
   "execution_count": null,
   "metadata": {
    "collapsed": false
   },
   "outputs": [],
   "source": [
    "str(normTrain)\n"
   ]
  },
  {
   "cell_type": "code",
   "execution_count": null,
   "metadata": {
    "collapsed": true
   },
   "outputs": [],
   "source": []
  }
 ],
 "metadata": {
  "kernelspec": {
   "display_name": "R",
   "language": "R",
   "name": "ir"
  },
  "language_info": {
   "codemirror_mode": "r",
   "file_extension": ".r",
   "mimetype": "text/x-r-source",
   "name": "R",
   "pygments_lexer": "r",
   "version": "3.2.3"
  }
 },
 "nbformat": 4,
 "nbformat_minor": 0
}
