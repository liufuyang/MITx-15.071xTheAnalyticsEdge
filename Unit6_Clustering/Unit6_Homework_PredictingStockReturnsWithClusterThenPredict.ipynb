{
 "cells": [
  {
   "cell_type": "markdown",
   "metadata": {},
   "source": [
    "# PREDICTING STOCK RETURNS WITH CLUSTER-THEN-PREDICT\n",
    "\n",
    "In the second lecture sequence this week, we heard about cluster-then-predict, a methodology in which you first cluster observations and then build cluster-specific prediction models. In the lecture sequence, we saw how this methodology helped improve the prediction of heart attack risk. In this assignment, we'll use cluster-then-predict to predict future stock prices using historical stock data.\n",
    "\n",
    "When selecting which stocks to invest in, investors seek to obtain good future returns. In this problem, we will first use clustering to identify clusters of stocks that have similar returns over time. Then, we'll use logistic regression to predict whether or not the stocks will have positive future returns.\n",
    "\n",
    "For this problem, we'll use StocksCluster.csv, which contains monthly stock returns from the NASDAQ stock exchange. The NASDAQ is the second-largest stock exchange in the world, and it lists many technology companies. The stock price data used in this problem was obtained from infochimps, a website providing access to many datasets.\n",
    "\n",
    "Each observation in the dataset is the monthly returns of a particular company in a particular year. The years included are 2000-2009. The companies are limited to tickers that were listed on the exchange for the entire period 2000-2009, and whose stock price never fell below $1. So, for example, one observation is for Yahoo in 2000, and another observation is for Yahoo in 2001. Our goal will be to predict whether or not the stock return in December will be positive, using the stock returns for the first 11 months of the year.\n",
    "\n",
    "This dataset contains the following variables:\n",
    "\n",
    "* **ReturnJan** = the return for the company's stock during January (in the year of the observation). \n",
    "* **ReturnFeb** = the return for the company's stock during February (in the year of the observation). \n",
    "* **ReturnMar** = the return for the company's stock during March (in the year of the observation). \n",
    "* **ReturnApr** = the return for the company's stock during April (in the year of the observation). \n",
    "* **ReturnMay** = the return for the company's stock during May (in the year of the observation). \n",
    "* **ReturnJune** = the return for the company's stock during June (in the year of the observation). \n",
    "* **ReturnJuly** = the return for the company's stock during July (in the year of the observation). \n",
    "* **ReturnAug** = the return for the company's stock during August (in the year of the observation). \n",
    "* **ReturnSep** = the return for the company's stock during September (in the year of the observation). \n",
    "* **ReturnOct** = the return for the company's stock during October (in the year of the observation). \n",
    "* **ReturnNov** = the return for the company's stock during November (in the year of the observation). \n",
    "* **PositiveDec** = whether or not the company's stock had a positive return in December (in the year of the observation). This variable takes value 1 if the return was positive, and value 0 if the return was not positive.\n",
    "\n",
    "For the first 11 variables, the value stored is a proportional change in stock value during that month. For instance, a value of 0.05 means the stock increased in value 5% during the month, while a value of -0.02 means the stock decreased in value 2% during the month."
   ]
  },
  {
   "cell_type": "markdown",
   "metadata": {},
   "source": [
    "# Exploring the Dataset"
   ]
  },
  {
   "cell_type": "code",
   "execution_count": 1,
   "metadata": {
    "collapsed": true
   },
   "outputs": [],
   "source": [
    "options(jupyter.plot_mimetypes = 'image/png')"
   ]
  },
  {
   "cell_type": "code",
   "execution_count": 2,
   "metadata": {
    "collapsed": true
   },
   "outputs": [],
   "source": [
    "stocks = read.csv('data//StocksCluster.csv')"
   ]
  },
  {
   "cell_type": "code",
   "execution_count": 3,
   "metadata": {
    "collapsed": false
   },
   "outputs": [
    {
     "name": "stdout",
     "output_type": "stream",
     "text": [
      "'data.frame':\t11580 obs. of  12 variables:\n",
      " $ ReturnJan  : num  0.0807 -0.0107 0.0477 -0.074 -0.031 ...\n",
      " $ ReturnFeb  : num  0.0663 0.1021 0.036 -0.0482 -0.2127 ...\n",
      " $ ReturnMar  : num  0.0329 0.1455 0.0397 0.0182 0.0915 ...\n",
      " $ ReturnApr  : num  0.1831 -0.0844 -0.1624 -0.0247 0.1893 ...\n",
      " $ ReturnMay  : num  0.13033 -0.3273 -0.14743 -0.00604 -0.15385 ...\n",
      " $ ReturnJune : num  -0.0176 -0.3593 0.0486 -0.0253 -0.1061 ...\n",
      " $ ReturnJuly : num  -0.0205 -0.0253 -0.1354 -0.094 0.3553 ...\n",
      " $ ReturnAug  : num  0.0247 0.2113 0.0334 0.0953 0.0568 ...\n",
      " $ ReturnSep  : num  -0.0204 -0.58 0 0.0567 0.0336 ...\n",
      " $ ReturnOct  : num  -0.1733 -0.2671 0.0917 -0.0963 0.0363 ...\n",
      " $ ReturnNov  : num  -0.0254 -0.1512 -0.0596 -0.0405 -0.0853 ...\n",
      " $ PositiveDec: int  0 0 0 1 1 1 1 0 0 0 ...\n"
     ]
    }
   ],
   "source": [
    "str(stocks)"
   ]
  },
  {
   "cell_type": "code",
   "execution_count": 5,
   "metadata": {
    "collapsed": false
   },
   "outputs": [
    {
     "data": {
      "text/html": [
       "0.546113989637306"
      ],
      "text/latex": [
       "0.546113989637306"
      ],
      "text/markdown": [
       "0.546113989637306"
      ],
      "text/plain": [
       "[1] 0.546114"
      ]
     },
     "execution_count": 5,
     "metadata": {},
     "output_type": "execute_result"
    }
   ],
   "source": [
    "sum(stocks$PositiveDec)/length(stocks$PositiveDec)"
   ]
  },
  {
   "cell_type": "code",
   "execution_count": 6,
   "metadata": {
    "collapsed": false
   },
   "outputs": [
    {
     "data": {
      "text/html": [
       "<table>\n",
       "<thead><tr><th></th><th scope=col>ReturnJan</th><th scope=col>ReturnFeb</th><th scope=col>ReturnMar</th><th scope=col>ReturnApr</th><th scope=col>ReturnMay</th><th scope=col>ReturnJune</th><th scope=col>ReturnJuly</th><th scope=col>ReturnAug</th><th scope=col>ReturnSep</th><th scope=col>ReturnOct</th><th scope=col>ReturnNov</th><th scope=col>PositiveDec</th></tr></thead>\n",
       "<tbody>\n",
       "\t<tr><th scope=row>ReturnJan</th><td> 1.000000000</td><td> 0.066774583</td><td>-0.090496798</td><td>-0.037678006</td><td>-0.044411417</td><td> 0.092238307</td><td>-0.081429765</td><td>-0.022792019</td><td>-0.026437153</td><td> 0.142977229</td><td> 0.067632333</td><td> 0.004728518</td></tr>\n",
       "\t<tr><th scope=row>ReturnFeb</th><td> 0.06677458</td><td> 1.00000000</td><td>-0.15598326</td><td>-0.19135192</td><td>-0.09552092</td><td> 0.16999448</td><td>-0.06177851</td><td> 0.13155979</td><td> 0.04350177</td><td>-0.08732427</td><td>-0.15465828</td><td>-0.03817318</td></tr>\n",
       "\t<tr><th scope=row>ReturnMar</th><td>-0.090496798</td><td>-0.155983263</td><td> 1.000000000</td><td> 0.009726288</td><td>-0.003892789</td><td>-0.085905486</td><td> 0.003374160</td><td>-0.022005400</td><td> 0.076518327</td><td>-0.011923758</td><td> 0.037323535</td><td> 0.022408661</td></tr>\n",
       "\t<tr><th scope=row>ReturnApr</th><td>-0.037678006</td><td>-0.191351924</td><td> 0.009726288</td><td> 1.000000000</td><td> 0.063822504</td><td>-0.011027752</td><td> 0.080631932</td><td>-0.051756051</td><td>-0.028920972</td><td> 0.048540025</td><td> 0.031761837</td><td> 0.094353528</td></tr>\n",
       "\t<tr><th scope=row>ReturnMay</th><td>-0.044411417</td><td>-0.095520920</td><td>-0.003892789</td><td> 0.063822504</td><td> 1.000000000</td><td>-0.021074539</td><td> 0.090850264</td><td>-0.033125658</td><td> 0.021962862</td><td> 0.017166728</td><td> 0.048046590</td><td> 0.058201934</td></tr>\n",
       "\t<tr><th scope=row>ReturnJune</th><td> 0.09223831</td><td> 0.16999448</td><td>-0.08590549</td><td>-0.01102775</td><td>-0.02107454</td><td> 1.00000000</td><td>-0.02915260</td><td> 0.01071053</td><td> 0.04474727</td><td>-0.02263599</td><td>-0.06527054</td><td> 0.02340975</td></tr>\n",
       "\t<tr><th scope=row>ReturnJuly</th><td>-0.0814297650</td><td>-0.0617785094</td><td> 0.0033741597</td><td> 0.0806319317</td><td> 0.0908502642</td><td>-0.0291525996</td><td> 1.0000000000</td><td> 0.0007137558</td><td> 0.0689478037</td><td>-0.0547089088</td><td>-0.0483738369</td><td> 0.0743642097</td></tr>\n",
       "\t<tr><th scope=row>ReturnAug</th><td>-0.0227920187</td><td> 0.1315597863</td><td>-0.0220053995</td><td>-0.0517560510</td><td>-0.0331256580</td><td> 0.0107105260</td><td> 0.0007137558</td><td> 1.0000000000</td><td> 0.0007407139</td><td>-0.0755945614</td><td>-0.1164890345</td><td> 0.0041669657</td></tr>\n",
       "\t<tr><th scope=row>ReturnSep</th><td>-0.0264371526</td><td> 0.0435017706</td><td> 0.0765183267</td><td>-0.0289209718</td><td> 0.0219628623</td><td> 0.0447472692</td><td> 0.0689478037</td><td> 0.0007407139</td><td> 1.0000000000</td><td>-0.0580792362</td><td>-0.0197197998</td><td> 0.0416302863</td></tr>\n",
       "\t<tr><th scope=row>ReturnOct</th><td> 0.14297723</td><td>-0.08732427</td><td>-0.01192376</td><td> 0.04854003</td><td> 0.01716673</td><td>-0.02263599</td><td>-0.05470891</td><td>-0.07559456</td><td>-0.05807924</td><td> 1.00000000</td><td> 0.19167279</td><td>-0.05257496</td></tr>\n",
       "\t<tr><th scope=row>ReturnNov</th><td> 0.06763233</td><td>-0.15465828</td><td> 0.03732353</td><td> 0.03176184</td><td> 0.04804659</td><td>-0.06527054</td><td>-0.04837384</td><td>-0.11648903</td><td>-0.01971980</td><td> 0.19167279</td><td> 1.00000000</td><td>-0.06234656</td></tr>\n",
       "\t<tr><th scope=row>PositiveDec</th><td> 0.004728518</td><td>-0.038173184</td><td> 0.022408661</td><td> 0.094353528</td><td> 0.058201934</td><td> 0.023409745</td><td> 0.074364210</td><td> 0.004166966</td><td> 0.041630286</td><td>-0.052574956</td><td>-0.062346556</td><td> 1.000000000</td></tr>\n",
       "</tbody>\n",
       "</table>\n"
      ],
      "text/latex": [
       "\\begin{tabular}{r|llllllllllll}\n",
       "  & ReturnJan & ReturnFeb & ReturnMar & ReturnApr & ReturnMay & ReturnJune & ReturnJuly & ReturnAug & ReturnSep & ReturnOct & ReturnNov & PositiveDec\\\\\n",
       "\\hline\n",
       "\tReturnJan &  1.000000000 &  0.066774583 & -0.090496798 & -0.037678006 & -0.044411417 &  0.092238307 & -0.081429765 & -0.022792019 & -0.026437153 &  0.142977229 &  0.067632333 &  0.004728518\\\\\n",
       "\tReturnFeb &  0.06677458 &  1.00000000 & -0.15598326 & -0.19135192 & -0.09552092 &  0.16999448 & -0.06177851 &  0.13155979 &  0.04350177 & -0.08732427 & -0.15465828 & -0.03817318\\\\\n",
       "\tReturnMar & -0.090496798 & -0.155983263 &  1.000000000 &  0.009726288 & -0.003892789 & -0.085905486 &  0.003374160 & -0.022005400 &  0.076518327 & -0.011923758 &  0.037323535 &  0.022408661\\\\\n",
       "\tReturnApr & -0.037678006 & -0.191351924 &  0.009726288 &  1.000000000 &  0.063822504 & -0.011027752 &  0.080631932 & -0.051756051 & -0.028920972 &  0.048540025 &  0.031761837 &  0.094353528\\\\\n",
       "\tReturnMay & -0.044411417 & -0.095520920 & -0.003892789 &  0.063822504 &  1.000000000 & -0.021074539 &  0.090850264 & -0.033125658 &  0.021962862 &  0.017166728 &  0.048046590 &  0.058201934\\\\\n",
       "\tReturnJune &  0.09223831 &  0.16999448 & -0.08590549 & -0.01102775 & -0.02107454 &  1.00000000 & -0.02915260 &  0.01071053 &  0.04474727 & -0.02263599 & -0.06527054 &  0.02340975\\\\\n",
       "\tReturnJuly & -0.0814297650 & -0.0617785094 &  0.0033741597 &  0.0806319317 &  0.0908502642 & -0.0291525996 &  1.0000000000 &  0.0007137558 &  0.0689478037 & -0.0547089088 & -0.0483738369 &  0.0743642097\\\\\n",
       "\tReturnAug & -0.0227920187 &  0.1315597863 & -0.0220053995 & -0.0517560510 & -0.0331256580 &  0.0107105260 &  0.0007137558 &  1.0000000000 &  0.0007407139 & -0.0755945614 & -0.1164890345 &  0.0041669657\\\\\n",
       "\tReturnSep & -0.0264371526 &  0.0435017706 &  0.0765183267 & -0.0289209718 &  0.0219628623 &  0.0447472692 &  0.0689478037 &  0.0007407139 &  1.0000000000 & -0.0580792362 & -0.0197197998 &  0.0416302863\\\\\n",
       "\tReturnOct &  0.14297723 & -0.08732427 & -0.01192376 &  0.04854003 &  0.01716673 & -0.02263599 & -0.05470891 & -0.07559456 & -0.05807924 &  1.00000000 &  0.19167279 & -0.05257496\\\\\n",
       "\tReturnNov &  0.06763233 & -0.15465828 &  0.03732353 &  0.03176184 &  0.04804659 & -0.06527054 & -0.04837384 & -0.11648903 & -0.01971980 &  0.19167279 &  1.00000000 & -0.06234656\\\\\n",
       "\tPositiveDec &  0.004728518 & -0.038173184 &  0.022408661 &  0.094353528 &  0.058201934 &  0.023409745 &  0.074364210 &  0.004166966 &  0.041630286 & -0.052574956 & -0.062346556 &  1.000000000\\\\\n",
       "\\end{tabular}\n"
      ],
      "text/markdown": [
       "1. 1\n",
       "2. 0.066774583067731\n",
       "3. -0.0904967978082892\n",
       "4. -0.0376780059738025\n",
       "5. -0.0444114168206573\n",
       "6. 0.0922383068359878\n",
       "7. -0.0814297649789913\n",
       "8. -0.0227920187246281\n",
       "9. -0.0264371526294706\n",
       "10. 0.142977228620078\n",
       "11. 0.0676323332733198\n",
       "12. 0.00472851816210438\n",
       "13. 0.066774583067731\n",
       "14. 1\n",
       "15. -0.155983263045423\n",
       "16. -0.191351923912839\n",
       "17. -0.0955209197412307\n",
       "18. 0.169994483267404\n",
       "19. -0.0617785093728109\n",
       "20. 0.131559786257804\n",
       "21. 0.0435017706470365\n",
       "22. -0.0873242671628062\n",
       "23. -0.154658281491813\n",
       "24. -0.038173183907419\n",
       "25. -0.0904967978082892\n",
       "26. -0.155983263045423\n",
       "27. 1\n",
       "28. 0.00972628763899142\n",
       "29. -0.00389278936721106\n",
       "30. -0.0859054861675458\n",
       "31. 0.00337415970672835\n",
       "32. -0.0220053995350278\n",
       "33. 0.0765183266866572\n",
       "34. -0.0119237577353289\n",
       "35. 0.0373235348774903\n",
       "36. 0.0224086612225876\n",
       "37. -0.0376780059738025\n",
       "38. -0.191351923912839\n",
       "39. 0.00972628763899142\n",
       "40. 1\n",
       "41. 0.0638225039221518\n",
       "42. -0.0110277521891467\n",
       "43. 0.0806319317301162\n",
       "44. -0.0517560510181903\n",
       "45. -0.0289209718220434\n",
       "46. 0.0485400253647801\n",
       "47. 0.0317618366115435\n",
       "48. 0.0943535281161153\n",
       "49. -0.0444114168206573\n",
       "50. -0.0955209197412307\n",
       "51. -0.00389278936721106\n",
       "52. 0.0638225039221518\n",
       "53. 1\n",
       "54. -0.0210745388011446\n",
       "55. 0.0908502641893604\n",
       "56. -0.0331256580042424\n",
       "57. 0.021962862273366\n",
       "58. 0.0171667279196336\n",
       "59. 0.0480465902082418\n",
       "60. 0.0582019336365801\n",
       "61. 0.0922383068359878\n",
       "62. 0.169994483267404\n",
       "63. -0.0859054861675458\n",
       "64. -0.0110277521891467\n",
       "65. -0.0210745388011446\n",
       "66. 1\n",
       "67. -0.0291525995563477\n",
       "68. 0.0107105260352835\n",
       "69. 0.0447472692158743\n",
       "70. -0.0226359936356001\n",
       "71. -0.0652705412973485\n",
       "72. 0.0234097450840245\n",
       "73. -0.0814297649789913\n",
       "74. -0.0617785093728109\n",
       "75. 0.00337415970672835\n",
       "76. 0.0806319317301162\n",
       "77. 0.0908502641893604\n",
       "78. -0.0291525995563477\n",
       "79. 1\n",
       "80. 0.000713755829037745\n",
       "81. 0.0689478037162552\n",
       "82. -0.0547089087613605\n",
       "83. -0.0483738369012076\n",
       "84. 0.0743642096708865\n",
       "85. -0.0227920187246281\n",
       "86. 0.131559786257804\n",
       "87. -0.0220053995350278\n",
       "88. -0.0517560510181903\n",
       "89. -0.0331256580042424\n",
       "90. 0.0107105260352835\n",
       "91. 0.000713755829037745\n",
       "92. 1\n",
       "93. 0.000740713888793172\n",
       "94. -0.0755945614104149\n",
       "95. -0.116489034470395\n",
       "96. 0.0041669657255641\n",
       "97. -0.0264371526294706\n",
       "98. 0.0435017706470365\n",
       "99. 0.0765183266866572\n",
       "100. -0.0289209718220434\n",
       "101. 0.021962862273366\n",
       "102. 0.0447472692158743\n",
       "103. 0.0689478037162552\n",
       "104. 0.000740713888793172\n",
       "105. 1\n",
       "106. -0.0580792362175669\n",
       "107. -0.0197197997571471\n",
       "108. 0.0416302863147643\n",
       "109. 0.142977228620078\n",
       "110. -0.0873242671628062\n",
       "111. -0.0119237577353289\n",
       "112. 0.0485400253647801\n",
       "113. 0.0171667279196336\n",
       "114. -0.0226359936356001\n",
       "115. -0.0547089087613605\n",
       "116. -0.0755945614104149\n",
       "117. -0.0580792362175669\n",
       "118. 1\n",
       "119. 0.191672785553102\n",
       "120. -0.0525749562816702\n",
       "121. 0.0676323332733198\n",
       "122. -0.154658281491813\n",
       "123. 0.0373235348774903\n",
       "124. 0.0317618366115435\n",
       "125. 0.0480465902082418\n",
       "126. -0.0652705412973485\n",
       "127. -0.0483738369012076\n",
       "128. -0.116489034470395\n",
       "129. -0.0197197997571471\n",
       "130. 0.191672785553102\n",
       "131. 1\n",
       "132. -0.0623465558789451\n",
       "133. 0.00472851816210438\n",
       "134. -0.038173183907419\n",
       "135. 0.0224086612225876\n",
       "136. 0.0943535281161153\n",
       "137. 0.0582019336365801\n",
       "138. 0.0234097450840245\n",
       "139. 0.0743642096708865\n",
       "140. 0.0041669657255641\n",
       "141. 0.0416302863147643\n",
       "142. -0.0525749562816702\n",
       "143. -0.0623465558789451\n",
       "144. 1\n",
       "\n",
       "\n"
      ],
      "text/plain": [
       "               ReturnJan   ReturnFeb    ReturnMar    ReturnApr    ReturnMay\n",
       "ReturnJan    1.000000000  0.06677458 -0.090496798 -0.037678006 -0.044411417\n",
       "ReturnFeb    0.066774583  1.00000000 -0.155983263 -0.191351924 -0.095520920\n",
       "ReturnMar   -0.090496798 -0.15598326  1.000000000  0.009726288 -0.003892789\n",
       "ReturnApr   -0.037678006 -0.19135192  0.009726288  1.000000000  0.063822504\n",
       "ReturnMay   -0.044411417 -0.09552092 -0.003892789  0.063822504  1.000000000\n",
       "ReturnJune   0.092238307  0.16999448 -0.085905486 -0.011027752 -0.021074539\n",
       "ReturnJuly  -0.081429765 -0.06177851  0.003374160  0.080631932  0.090850264\n",
       "ReturnAug   -0.022792019  0.13155979 -0.022005400 -0.051756051 -0.033125658\n",
       "ReturnSep   -0.026437153  0.04350177  0.076518327 -0.028920972  0.021962862\n",
       "ReturnOct    0.142977229 -0.08732427 -0.011923758  0.048540025  0.017166728\n",
       "ReturnNov    0.067632333 -0.15465828  0.037323535  0.031761837  0.048046590\n",
       "PositiveDec  0.004728518 -0.03817318  0.022408661  0.094353528  0.058201934\n",
       "             ReturnJune    ReturnJuly     ReturnAug     ReturnSep   ReturnOct\n",
       "ReturnJan    0.09223831 -0.0814297650 -0.0227920187 -0.0264371526  0.14297723\n",
       "ReturnFeb    0.16999448 -0.0617785094  0.1315597863  0.0435017706 -0.08732427\n",
       "ReturnMar   -0.08590549  0.0033741597 -0.0220053995  0.0765183267 -0.01192376\n",
       "ReturnApr   -0.01102775  0.0806319317 -0.0517560510 -0.0289209718  0.04854003\n",
       "ReturnMay   -0.02107454  0.0908502642 -0.0331256580  0.0219628623  0.01716673\n",
       "ReturnJune   1.00000000 -0.0291525996  0.0107105260  0.0447472692 -0.02263599\n",
       "ReturnJuly  -0.02915260  1.0000000000  0.0007137558  0.0689478037 -0.05470891\n",
       "ReturnAug    0.01071053  0.0007137558  1.0000000000  0.0007407139 -0.07559456\n",
       "ReturnSep    0.04474727  0.0689478037  0.0007407139  1.0000000000 -0.05807924\n",
       "ReturnOct   -0.02263599 -0.0547089088 -0.0755945614 -0.0580792362  1.00000000\n",
       "ReturnNov   -0.06527054 -0.0483738369 -0.1164890345 -0.0197197998  0.19167279\n",
       "PositiveDec  0.02340975  0.0743642097  0.0041669657  0.0416302863 -0.05257496\n",
       "              ReturnNov  PositiveDec\n",
       "ReturnJan    0.06763233  0.004728518\n",
       "ReturnFeb   -0.15465828 -0.038173184\n",
       "ReturnMar    0.03732353  0.022408661\n",
       "ReturnApr    0.03176184  0.094353528\n",
       "ReturnMay    0.04804659  0.058201934\n",
       "ReturnJune  -0.06527054  0.023409745\n",
       "ReturnJuly  -0.04837384  0.074364210\n",
       "ReturnAug   -0.11648903  0.004166966\n",
       "ReturnSep   -0.01971980  0.041630286\n",
       "ReturnOct    0.19167279 -0.052574956\n",
       "ReturnNov    1.00000000 -0.062346556\n",
       "PositiveDec -0.06234656  1.000000000"
      ]
     },
     "execution_count": 6,
     "metadata": {},
     "output_type": "execute_result"
    }
   ],
   "source": [
    "cor(stocks)"
   ]
  },
  {
   "cell_type": "code",
   "execution_count": 10,
   "metadata": {
    "collapsed": false
   },
   "outputs": [
    {
     "data": {
      "text/html": [
       "<dl class=dl-horizontal>\n",
       "\t<dt>ReturnSep</dt>\n",
       "\t\t<dd>-0.0147207680320706</dd>\n",
       "\t<dt>ReturnFeb</dt>\n",
       "\t\t<dd>-0.00760478374652837</dd>\n",
       "\t<dt>ReturnJuly</dt>\n",
       "\t\t<dd>0.0030508630465198</dd>\n",
       "\t<dt>ReturnOct</dt>\n",
       "\t\t<dd>0.005650844223958</dd>\n",
       "\t<dt>ReturnJune</dt>\n",
       "\t\t<dd>0.005937902151085</dd>\n",
       "\t<dt>ReturnNov</dt>\n",
       "\t\t<dd>0.0113874403181846</dd>\n",
       "\t<dt>ReturnJan</dt>\n",
       "\t\t<dd>0.0126316020628346</dd>\n",
       "\t<dt>ReturnAug</dt>\n",
       "\t\t<dd>0.0161982647881778</dd>\n",
       "\t<dt>ReturnMar</dt>\n",
       "\t\t<dd>0.0194023361995022</dd>\n",
       "\t<dt>ReturnMay</dt>\n",
       "\t\t<dd>0.0247365913897302</dd>\n",
       "\t<dt>ReturnApr</dt>\n",
       "\t\t<dd>0.0263081470836858</dd>\n",
       "\t<dt>PositiveDec</dt>\n",
       "\t\t<dd>0.546113989637306</dd>\n",
       "</dl>\n"
      ],
      "text/latex": [
       "\\begin{description*}\n",
       "\\item[ReturnSep] -0.0147207680320706\n",
       "\\item[ReturnFeb] -0.00760478374652837\n",
       "\\item[ReturnJuly] 0.0030508630465198\n",
       "\\item[ReturnOct] 0.005650844223958\n",
       "\\item[ReturnJune] 0.005937902151085\n",
       "\\item[ReturnNov] 0.0113874403181846\n",
       "\\item[ReturnJan] 0.0126316020628346\n",
       "\\item[ReturnAug] 0.0161982647881778\n",
       "\\item[ReturnMar] 0.0194023361995022\n",
       "\\item[ReturnMay] 0.0247365913897302\n",
       "\\item[ReturnApr] 0.0263081470836858\n",
       "\\item[PositiveDec] 0.546113989637306\n",
       "\\end{description*}\n"
      ],
      "text/markdown": [
       "ReturnSep\n",
       ":   -0.0147207680320706ReturnFeb\n",
       ":   -0.00760478374652837ReturnJuly\n",
       ":   0.0030508630465198ReturnOct\n",
       ":   0.005650844223958ReturnJune\n",
       ":   0.005937902151085ReturnNov\n",
       ":   0.0113874403181846ReturnJan\n",
       ":   0.0126316020628346ReturnAug\n",
       ":   0.0161982647881778ReturnMar\n",
       ":   0.0194023361995022ReturnMay\n",
       ":   0.0247365913897302ReturnApr\n",
       ":   0.0263081470836858PositiveDec\n",
       ":   0.546113989637306\n",
       "\n"
      ],
      "text/plain": [
       "   ReturnSep    ReturnFeb   ReturnJuly    ReturnOct   ReturnJune    ReturnNov \n",
       "-0.014720768 -0.007604784  0.003050863  0.005650844  0.005937902  0.011387440 \n",
       "   ReturnJan    ReturnAug    ReturnMar    ReturnMay    ReturnApr  PositiveDec \n",
       " 0.012631602  0.016198265  0.019402336  0.024736591  0.026308147  0.546113990 "
      ]
     },
     "execution_count": 10,
     "metadata": {},
     "output_type": "execute_result"
    }
   ],
   "source": [
    "sort(apply(stocks, 2, mean))"
   ]
  },
  {
   "cell_type": "markdown",
   "metadata": {},
   "source": [
    "# Initial Logistic Regression Model"
   ]
  },
  {
   "cell_type": "markdown",
   "metadata": {},
   "source": [
    "## Train, test, split"
   ]
  },
  {
   "cell_type": "code",
   "execution_count": 12,
   "metadata": {
    "collapsed": false
   },
   "outputs": [],
   "source": [
    "library(caTools)\n",
    "set.seed(144)\n",
    "\n",
    "spl = sample.split(stocks$PositiveDec, SplitRatio = 0.7)\n",
    "\n",
    "stocksTrain = subset(stocks, spl == TRUE)\n",
    "\n",
    "stocksTest = subset(stocks, spl == FALSE)"
   ]
  },
  {
   "cell_type": "code",
   "execution_count": 13,
   "metadata": {
    "collapsed": true
   },
   "outputs": [],
   "source": [
    "model_LR = glm(PositiveDec ~ .,\n",
    "              family = binomial,\n",
    "              data = stocksTrain)"
   ]
  },
  {
   "cell_type": "code",
   "execution_count": 18,
   "metadata": {
    "collapsed": false
   },
   "outputs": [
    {
     "data": {
      "text/plain": [
       "   \n",
       "    FALSE TRUE\n",
       "  0   990 2689\n",
       "  1   787 3640"
      ]
     },
     "execution_count": 18,
     "metadata": {},
     "output_type": "execute_result"
    },
    {
     "data": {
      "text/html": [
       "0.571181840611892"
      ],
      "text/latex": [
       "0.571181840611892"
      ],
      "text/markdown": [
       "0.571181840611892"
      ],
      "text/plain": [
       "[1] 0.5711818"
      ]
     },
     "execution_count": 18,
     "metadata": {},
     "output_type": "execute_result"
    }
   ],
   "source": [
    "# Acc train:\n",
    "predictTrain = predict(model_LR, type = 'response', newdata = stocksTrain)\n",
    "t = table(stocksTrain$PositiveDec, predictTrain > 0.5)\n",
    "t\n",
    "sum(diag(t)) / sum(t)"
   ]
  },
  {
   "cell_type": "code",
   "execution_count": 19,
   "metadata": {
    "collapsed": false
   },
   "outputs": [
    {
     "data": {
      "text/plain": [
       "   \n",
       "    FALSE TRUE\n",
       "  0   417 1160\n",
       "  1   344 1553"
      ]
     },
     "execution_count": 19,
     "metadata": {},
     "output_type": "execute_result"
    },
    {
     "data": {
      "text/html": [
       "0.567069660333909"
      ],
      "text/latex": [
       "0.567069660333909"
      ],
      "text/markdown": [
       "0.567069660333909"
      ],
      "text/plain": [
       "[1] 0.5670697"
      ]
     },
     "execution_count": 19,
     "metadata": {},
     "output_type": "execute_result"
    }
   ],
   "source": [
    "# Acc test:\n",
    "predictTest = predict(model_LR, type = 'response', newdata = stocksTest)\n",
    "t = table(stocksTest$PositiveDec, predictTest > 0.5)\n",
    "t\n",
    "sum(diag(t)) / sum(t)"
   ]
  },
  {
   "cell_type": "code",
   "execution_count": 20,
   "metadata": {
    "collapsed": true
   },
   "outputs": [],
   "source": [
    "## Test baseline:\n"
   ]
  },
  {
   "cell_type": "code",
   "execution_count": 21,
   "metadata": {
    "collapsed": false
   },
   "outputs": [
    {
     "data": {
      "text/html": [
       "0.546056419113414"
      ],
      "text/latex": [
       "0.546056419113414"
      ],
      "text/markdown": [
       "0.546056419113414"
      ],
      "text/plain": [
       "[1] 0.5460564"
      ]
     },
     "execution_count": 21,
     "metadata": {},
     "output_type": "execute_result"
    }
   ],
   "source": [
    "sum(stocksTest$PositiveDec)/length(stocksTest$PositiveDec)"
   ]
  },
  {
   "cell_type": "markdown",
   "metadata": {},
   "source": [
    "# Clustering Stocks"
   ]
  },
  {
   "cell_type": "code",
   "execution_count": 22,
   "metadata": {
    "collapsed": true
   },
   "outputs": [],
   "source": [
    "limitedTrain = stocksTrain\n",
    "\n",
    "limitedTrain$PositiveDec = NULL\n",
    "\n",
    "limitedTest = stocksTest\n",
    "\n",
    "limitedTest$PositiveDec = NULL"
   ]
  },
  {
   "cell_type": "markdown",
   "metadata": {},
   "source": [
    "## preProcessing with library caret - normalize"
   ]
  },
  {
   "cell_type": "code",
   "execution_count": 23,
   "metadata": {
    "collapsed": false
   },
   "outputs": [
    {
     "name": "stderr",
     "output_type": "stream",
     "text": [
      "Warning message:\n",
      ": package ‘caret’ was built under R version 3.2.4Loading required package: lattice\n",
      "Loading required package: ggplot2\n",
      "Warning message:\n",
      ": package ‘ggplot2’ was built under R version 3.2.4"
     ]
    }
   ],
   "source": [
    "library(caret)\n",
    "\n",
    "preproc = preProcess(limitedTrain)\n",
    "\n",
    "normTrain = predict(preproc, limitedTrain)\n",
    "\n",
    "normTest = predict(preproc, limitedTest)"
   ]
  },
  {
   "cell_type": "markdown",
   "metadata": {},
   "source": [
    "* * *"
   ]
  },
  {
   "cell_type": "code",
   "execution_count": 24,
   "metadata": {
    "collapsed": false
   },
   "outputs": [
    {
     "data": {
      "text/html": [
       "2.10058620167752e-17"
      ],
      "text/latex": [
       "2.10058620167752e-17"
      ],
      "text/markdown": [
       "2.10058620167752e-17"
      ],
      "text/plain": [
       "[1] 2.100586e-17"
      ]
     },
     "execution_count": 24,
     "metadata": {},
     "output_type": "execute_result"
    }
   ],
   "source": [
    "mean(normTrain$ReturnJan)"
   ]
  },
  {
   "cell_type": "code",
   "execution_count": 25,
   "metadata": {
    "collapsed": false
   },
   "outputs": [
    {
     "data": {
      "text/html": [
       "-0.000418588563471001"
      ],
      "text/latex": [
       "-0.000418588563471001"
      ],
      "text/markdown": [
       "-0.000418588563471001"
      ],
      "text/plain": [
       "[1] -0.0004185886"
      ]
     },
     "execution_count": 25,
     "metadata": {},
     "output_type": "execute_result"
    }
   ],
   "source": [
    "mean(normTest$ReturnJan)"
   ]
  },
  {
   "cell_type": "markdown",
   "metadata": {},
   "source": [
    "# K-means:"
   ]
  },
  {
   "cell_type": "code",
   "execution_count": 26,
   "metadata": {
    "collapsed": false
   },
   "outputs": [
    {
     "name": "stdout",
     "output_type": "stream",
     "text": [
      "List of 9\n",
      " $ cluster     : Named int [1:8106] 1 1 1 3 1 3 2 2 1 3 ...\n",
      "  ..- attr(*, \"names\")= chr [1:8106] \"1\" \"2\" \"4\" \"6\" ...\n",
      " $ centers     : num [1:3, 1:11] -0.4523 0.2641 0.7425 -0.1497 -0.0415 ...\n",
      "  ..- attr(*, \"dimnames\")=List of 2\n",
      "  .. ..$ : chr [1:3] \"1\" \"2\" \"3\"\n",
      "  .. ..$ : chr [1:11] \"ReturnJan\" \"ReturnFeb\" \"ReturnMar\" \"ReturnApr\" ...\n",
      " $ totss       : num 89155\n",
      " $ withinss    : num [1:3] 31204 38032 9937\n",
      " $ tot.withinss: num 79173\n",
      " $ betweenss   : num 9982\n",
      " $ size        : int [1:3] 3157 4696 253\n",
      " $ iter        : int 5\n",
      " $ ifault      : int 0\n",
      " - attr(*, \"class\")= chr \"kmeans\"\n"
     ]
    }
   ],
   "source": [
    "set.seed(144)\n",
    "k = 3\n",
    "\n",
    "KMC = kmeans(normTrain, centers = k, iter.max = 1000)\n",
    "str(KMC)"
   ]
  },
  {
   "cell_type": "markdown",
   "metadata": {},
   "source": [
    "Recall from the recitation that we can use the **flexclust** package to obtain training set and testing set cluster assignments for our observations (note that the call to as.kcca may take a while to complete):"
   ]
  },
  {
   "cell_type": "code",
   "execution_count": 27,
   "metadata": {
    "collapsed": false
   },
   "outputs": [
    {
     "name": "stderr",
     "output_type": "stream",
     "text": [
      "Loading required package: grid\n",
      "Loading required package: modeltools\n",
      "Loading required package: stats4\n"
     ]
    }
   ],
   "source": [
    "library(flexclust)\n",
    "\n",
    "KMC.kcca = as.kcca(KMC, normTrain)\n",
    "\n",
    "clusterTrain = predict(KMC.kcca)\n",
    "\n",
    "clusterTest = predict(KMC.kcca, newdata=normTest)"
   ]
  },
  {
   "cell_type": "code",
   "execution_count": 30,
   "metadata": {
    "collapsed": false
   },
   "outputs": [
    {
     "data": {
      "text/plain": [
       "clusterTest\n",
       "   1    2    3 \n",
       "1298 2080   96 "
      ]
     },
     "execution_count": 30,
     "metadata": {},
     "output_type": "execute_result"
    }
   ],
   "source": [
    "table(clusterTest)"
   ]
  },
  {
   "cell_type": "markdown",
   "metadata": {},
   "source": [
    "# Cluster-Specific Predictions"
   ]
  },
  {
   "cell_type": "code",
   "execution_count": 33,
   "metadata": {
    "collapsed": false
   },
   "outputs": [],
   "source": [
    "stocksTrain1 = stocksTrain[clusterTrain == 1, ]\n",
    "stocksTrain2 = stocksTrain[clusterTrain == 2, ]\n",
    "stocksTrain3 = stocksTrain[clusterTrain == 3, ]\n",
    "\n",
    "stocksTest1 = stocksTest[clusterTest == 1, ]\n",
    "stocksTest2 = stocksTest[clusterTest == 2, ]\n",
    "stocksTest3 = stocksTest[clusterTest == 3, ]"
   ]
  },
  {
   "cell_type": "code",
   "execution_count": 34,
   "metadata": {
    "collapsed": false
   },
   "outputs": [
    {
     "name": "stderr",
     "output_type": "stream",
     "text": [
      "Warning message:\n",
      "In mean.default(stocksTrain1): argument is not numeric or logical: returning NA"
     ]
    },
    {
     "data": {
      "text/plain": [
       "[1] NA"
      ]
     },
     "execution_count": 34,
     "metadata": {},
     "output_type": "execute_result"
    }
   ],
   "source": [
    "mean(stocksTrain1)"
   ]
  },
  {
   "cell_type": "code",
   "execution_count": 45,
   "metadata": {
    "collapsed": false
   },
   "outputs": [
    {
     "data": {
      "text/html": [
       "0.602470700031676"
      ],
      "text/latex": [
       "0.602470700031676"
      ],
      "text/markdown": [
       "0.602470700031676"
      ],
      "text/plain": [
       "[1] 0.6024707"
      ]
     },
     "execution_count": 45,
     "metadata": {},
     "output_type": "execute_result"
    },
    {
     "data": {
      "text/html": [
       "0.514054514480409"
      ],
      "text/latex": [
       "0.514054514480409"
      ],
      "text/markdown": [
       "0.514054514480409"
      ],
      "text/plain": [
       "[1] 0.5140545"
      ]
     },
     "execution_count": 45,
     "metadata": {},
     "output_type": "execute_result"
    },
    {
     "data": {
      "text/html": [
       "0.438735177865613"
      ],
      "text/latex": [
       "0.438735177865613"
      ],
      "text/markdown": [
       "0.438735177865613"
      ],
      "text/plain": [
       "[1] 0.4387352"
      ]
     },
     "execution_count": 45,
     "metadata": {},
     "output_type": "execute_result"
    }
   ],
   "source": [
    "mean(stocksTrain1$PositiveDec)\n",
    "mean(stocksTrain2$PositiveDec)\n",
    "mean(stocksTrain3$PositiveDec)"
   ]
  },
  {
   "cell_type": "code",
   "execution_count": 46,
   "metadata": {
    "collapsed": false
   },
   "outputs": [],
   "source": [
    "model_LR_1 = glm(PositiveDec ~ .,\n",
    "              family = binomial,\n",
    "              data = stocksTrain1)\n",
    "model_LR_2 = glm(PositiveDec ~ .,\n",
    "              family = binomial,\n",
    "              data = stocksTrain2)\n",
    "model_LR_3 = glm(PositiveDec ~ .,\n",
    "              family = binomial,\n",
    "              data = stocksTrain3)"
   ]
  },
  {
   "cell_type": "code",
   "execution_count": 52,
   "metadata": {
    "collapsed": false
   },
   "outputs": [
    {
     "data": {
      "text/html": [
       "<dl class=dl-horizontal>\n",
       "\t<dt>(Intercept)</dt>\n",
       "\t\t<dd>2</dd>\n",
       "\t<dt>ReturnJan</dt>\n",
       "\t\t<dd>2</dd>\n",
       "\t<dt>ReturnFeb</dt>\n",
       "\t\t<dd>1</dd>\n",
       "\t<dt>ReturnMar</dt>\n",
       "\t\t<dd>2</dd>\n",
       "\t<dt>ReturnApr</dt>\n",
       "\t\t<dd>3</dd>\n",
       "\t<dt>ReturnMay</dt>\n",
       "\t\t<dd>3</dd>\n",
       "\t<dt>ReturnJune</dt>\n",
       "\t\t<dd>2</dd>\n",
       "\t<dt>ReturnJuly</dt>\n",
       "\t\t<dd>3</dd>\n",
       "\t<dt>ReturnAug</dt>\n",
       "\t\t<dd>2</dd>\n",
       "\t<dt>ReturnSep</dt>\n",
       "\t\t<dd>3</dd>\n",
       "\t<dt>ReturnOct</dt>\n",
       "\t\t<dd>1</dd>\n",
       "\t<dt>ReturnNov</dt>\n",
       "\t\t<dd>0</dd>\n",
       "</dl>\n"
      ],
      "text/latex": [
       "\\begin{description*}\n",
       "\\item[(Intercept)] 2\n",
       "\\item[ReturnJan] 2\n",
       "\\item[ReturnFeb] 1\n",
       "\\item[ReturnMar] 2\n",
       "\\item[ReturnApr] 3\n",
       "\\item[ReturnMay] 3\n",
       "\\item[ReturnJune] 2\n",
       "\\item[ReturnJuly] 3\n",
       "\\item[ReturnAug] 2\n",
       "\\item[ReturnSep] 3\n",
       "\\item[ReturnOct] 1\n",
       "\\item[ReturnNov] 0\n",
       "\\end{description*}\n"
      ],
      "text/markdown": [
       "(Intercept)\n",
       ":   2ReturnJan\n",
       ":   2ReturnFeb\n",
       ":   1ReturnMar\n",
       ":   2ReturnApr\n",
       ":   3ReturnMay\n",
       ":   3ReturnJune\n",
       ":   2ReturnJuly\n",
       ":   3ReturnAug\n",
       ":   2ReturnSep\n",
       ":   3ReturnOct\n",
       ":   1ReturnNov\n",
       ":   0\n",
       "\n"
      ],
      "text/plain": [
       "(Intercept)   ReturnJan   ReturnFeb   ReturnMar   ReturnApr   ReturnMay \n",
       "          2           2           1           2           3           3 \n",
       " ReturnJune  ReturnJuly   ReturnAug   ReturnSep   ReturnOct   ReturnNov \n",
       "          2           3           2           3           1           0 "
      ]
     },
     "execution_count": 52,
     "metadata": {},
     "output_type": "execute_result"
    }
   ],
   "source": [
    "(model_LR_1$coefficients > 0) + (model_LR_2$coefficients > 0) + (model_LR_3$coefficients > 0)"
   ]
  },
  {
   "cell_type": "code",
   "execution_count": 53,
   "metadata": {
    "collapsed": false
   },
   "outputs": [
    {
     "data": {
      "text/plain": [
       "   \n",
       "    FALSE TRUE\n",
       "  0    30  471\n",
       "  1    23  774"
      ]
     },
     "execution_count": 53,
     "metadata": {},
     "output_type": "execute_result"
    },
    {
     "data": {
      "text/html": [
       "0.619414483821264"
      ],
      "text/latex": [
       "0.619414483821264"
      ],
      "text/markdown": [
       "0.619414483821264"
      ],
      "text/plain": [
       "[1] 0.6194145"
      ]
     },
     "execution_count": 53,
     "metadata": {},
     "output_type": "execute_result"
    }
   ],
   "source": [
    "predictTest1 = predict(model_LR_1, type = 'response', newdata = stocksTest1)\n",
    "t = table(stocksTest1$PositiveDec, predictTest1 > 0.5)\n",
    "t\n",
    "sum(diag(t)) / sum(t)"
   ]
  },
  {
   "cell_type": "code",
   "execution_count": 54,
   "metadata": {
    "collapsed": false
   },
   "outputs": [
    {
     "data": {
      "text/plain": [
       "   \n",
       "    FALSE TRUE\n",
       "  0   388  626\n",
       "  1   309  757"
      ]
     },
     "execution_count": 54,
     "metadata": {},
     "output_type": "execute_result"
    },
    {
     "data": {
      "text/html": [
       "0.550480769230769"
      ],
      "text/latex": [
       "0.550480769230769"
      ],
      "text/markdown": [
       "0.550480769230769"
      ],
      "text/plain": [
       "[1] 0.5504808"
      ]
     },
     "execution_count": 54,
     "metadata": {},
     "output_type": "execute_result"
    }
   ],
   "source": [
    "predictTest2 = predict(model_LR_2, type = 'response', newdata = stocksTest2)\n",
    "t = table(stocksTest2$PositiveDec, predictTest2 > 0.5)\n",
    "t\n",
    "sum(diag(t)) / sum(t)"
   ]
  },
  {
   "cell_type": "code",
   "execution_count": 55,
   "metadata": {
    "collapsed": false
   },
   "outputs": [
    {
     "data": {
      "text/plain": [
       "   \n",
       "    FALSE TRUE\n",
       "  0    49   13\n",
       "  1    21   13"
      ]
     },
     "execution_count": 55,
     "metadata": {},
     "output_type": "execute_result"
    },
    {
     "data": {
      "text/html": [
       "0.645833333333333"
      ],
      "text/latex": [
       "0.645833333333333"
      ],
      "text/markdown": [
       "0.645833333333333"
      ],
      "text/plain": [
       "[1] 0.6458333"
      ]
     },
     "execution_count": 55,
     "metadata": {},
     "output_type": "execute_result"
    }
   ],
   "source": [
    "predictTest3 = predict(model_LR_3, type = 'response', newdata = stocksTest3)\n",
    "t = table(stocksTest3$PositiveDec, predictTest3 > 0.5)\n",
    "t\n",
    "sum(diag(t)) / sum(t)"
   ]
  },
  {
   "cell_type": "code",
   "execution_count": 56,
   "metadata": {
    "collapsed": true
   },
   "outputs": [],
   "source": [
    "AllPredictions = c(predictTest1, predictTest2, predictTest3)\n",
    "AllOutcomes = c(stocksTest1$PositiveDec, stocksTest2$PositiveDec, stocksTest3$PositiveDec)"
   ]
  },
  {
   "cell_type": "code",
   "execution_count": 64,
   "metadata": {
    "collapsed": false
   },
   "outputs": [
    {
     "data": {
      "text/plain": [
       "           \n",
       "AllOutcomes FALSE TRUE\n",
       "          0   467 1110\n",
       "          1   353 1544"
      ]
     },
     "execution_count": 64,
     "metadata": {},
     "output_type": "execute_result"
    },
    {
     "data": {
      "text/html": [
       "0.578871617731721"
      ],
      "text/latex": [
       "0.578871617731721"
      ],
      "text/markdown": [
       "0.578871617731721"
      ],
      "text/plain": [
       "[1] 0.5788716"
      ]
     },
     "execution_count": 64,
     "metadata": {},
     "output_type": "execute_result"
    }
   ],
   "source": [
    "t = table(AllOutcomes, AllPredictions > 0.5)\n",
    "t\n",
    "sum(diag(t)) / sum(t)"
   ]
  },
  {
   "cell_type": "markdown",
   "metadata": {},
   "source": [
    "We see a modest improvement over the original logistic regression model. Since predicting stock returns is a notoriously hard problem, this is a good increase in accuracy. By investing in stocks for which we are more confident that they will have positive returns (by selecting the ones with higher predicted probabilities), this cluster-then-predict model can give us an edge over the original logistic regression model."
   ]
  },
  {
   "cell_type": "code",
   "execution_count": null,
   "metadata": {
    "collapsed": false
   },
   "outputs": [],
   "source": []
  },
  {
   "cell_type": "code",
   "execution_count": null,
   "metadata": {
    "collapsed": true
   },
   "outputs": [],
   "source": []
  }
 ],
 "metadata": {
  "kernelspec": {
   "display_name": "R",
   "language": "R",
   "name": "ir"
  },
  "language_info": {
   "codemirror_mode": "r",
   "file_extension": ".r",
   "mimetype": "text/x-r-source",
   "name": "R",
   "pygments_lexer": "r",
   "version": "3.2.3"
  }
 },
 "nbformat": 4,
 "nbformat_minor": 0
}
