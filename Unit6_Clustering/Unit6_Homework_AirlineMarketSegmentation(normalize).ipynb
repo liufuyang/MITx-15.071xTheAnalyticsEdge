{
 "cells": [
  {
   "cell_type": "markdown",
   "metadata": {},
   "source": [
    "# MARKET SEGMENTATION FOR AIRLINES\n",
    "\n",
    "Market segmentation is a strategy that divides a broad target market of customers into smaller, more similar groups, and then designs a marketing strategy specifically for each group. Clustering is a common technique for market segmentation since it automatically finds similar groups given a data set. \n",
    "\n",
    "In this problem, we'll see how clustering can be used to find similar groups of customers who belong to an airline's frequent flyer program. The airline is trying to learn more about its customers so that it can target different customer segments with different types of mileage offers. \n",
    "\n",
    "The file AirlinesCluster.csv contains information on 3,999 members of the frequent flyer program. This data comes from the textbook \"Data Mining for Business Intelligence,\" by Galit Shmueli, Nitin R. Patel, and Peter C. Bruce. For more information, see the website for the book.\n",
    "\n",
    "There are seven different variables in the dataset, described below:\n",
    "\n",
    "* **Balance** = number of miles eligible for award travel\n",
    "* **QualMiles** = number of miles qualifying for TopFlight status\n",
    "* **BonusMiles** = number of miles earned from non-flight bonus transactions in the past 12 months\n",
    "* **BonusTrans** = number of non-flight bonus transactions in the past 12 months\n",
    "* **FlightMiles** = number of flight miles in the past 12 months\n",
    "* **FlightTrans** = number of flight transactions in the past 12 months\n",
    "* **DaysSinceEnroll** = number of days since enrolled in the frequent flyer program"
   ]
  },
  {
   "cell_type": "code",
   "execution_count": 1,
   "metadata": {
    "collapsed": true
   },
   "outputs": [],
   "source": [
    "options(jupyter.plot_mimetypes = 'image/png')"
   ]
  },
  {
   "cell_type": "code",
   "execution_count": 2,
   "metadata": {
    "collapsed": true
   },
   "outputs": [],
   "source": [
    "airlines = read.csv('data//AirlinesCluster.csv')"
   ]
  },
  {
   "cell_type": "code",
   "execution_count": 3,
   "metadata": {
    "collapsed": false
   },
   "outputs": [
    {
     "name": "stdout",
     "output_type": "stream",
     "text": [
      "'data.frame':\t3999 obs. of  7 variables:\n",
      " $ Balance        : int  28143 19244 41354 14776 97752 16420 84914 20856 443003 104860 ...\n",
      " $ QualMiles      : int  0 0 0 0 0 0 0 0 0 0 ...\n",
      " $ BonusMiles     : int  174 215 4123 500 43300 0 27482 5250 1753 28426 ...\n",
      " $ BonusTrans     : int  1 2 4 1 26 0 25 4 43 28 ...\n",
      " $ FlightMiles    : int  0 0 0 0 2077 0 0 250 3850 1150 ...\n",
      " $ FlightTrans    : int  0 0 0 0 4 0 0 1 12 3 ...\n",
      " $ DaysSinceEnroll: int  7000 6968 7034 6952 6935 6942 6994 6938 6948 6931 ...\n"
     ]
    }
   ],
   "source": [
    "str(airlines)"
   ]
  },
  {
   "cell_type": "code",
   "execution_count": 4,
   "metadata": {
    "collapsed": false
   },
   "outputs": [
    {
     "data": {
      "text/plain": [
       "    Balance          QualMiles         BonusMiles       BonusTrans  \n",
       " Min.   :      0   Min.   :    0.0   Min.   :     0   Min.   : 0.0  \n",
       " 1st Qu.:  18528   1st Qu.:    0.0   1st Qu.:  1250   1st Qu.: 3.0  \n",
       " Median :  43097   Median :    0.0   Median :  7171   Median :12.0  \n",
       " Mean   :  73601   Mean   :  144.1   Mean   : 17145   Mean   :11.6  \n",
       " 3rd Qu.:  92404   3rd Qu.:    0.0   3rd Qu.: 23800   3rd Qu.:17.0  \n",
       " Max.   :1704838   Max.   :11148.0   Max.   :263685   Max.   :86.0  \n",
       "  FlightMiles       FlightTrans     DaysSinceEnroll\n",
       " Min.   :    0.0   Min.   : 0.000   Min.   :   2   \n",
       " 1st Qu.:    0.0   1st Qu.: 0.000   1st Qu.:2330   \n",
       " Median :    0.0   Median : 0.000   Median :4096   \n",
       " Mean   :  460.1   Mean   : 1.374   Mean   :4119   \n",
       " 3rd Qu.:  311.0   3rd Qu.: 1.000   3rd Qu.:5790   \n",
       " Max.   :30817.0   Max.   :53.000   Max.   :8296   "
      ]
     },
     "execution_count": 4,
     "metadata": {},
     "output_type": "execute_result"
    }
   ],
   "source": [
    "summary(airlines)"
   ]
  },
  {
   "cell_type": "markdown",
   "metadata": {},
   "source": [
    "## Normalizing the Data"
   ]
  },
  {
   "cell_type": "markdown",
   "metadata": {},
   "source": [
    "Let's go ahead and normalize our data. You can normalize the variables in a data frame by using the preProcess function in the \"caret\" package. You should already have this package installed from Week 4, but if not, go ahead and install it with install.packages(\"caret\"). Then load the package with library(caret)."
   ]
  },
  {
   "cell_type": "code",
   "execution_count": 5,
   "metadata": {
    "collapsed": false
   },
   "outputs": [
    {
     "name": "stderr",
     "output_type": "stream",
     "text": [
      "Warning message:\n",
      ": package ‘caret’ was built under R version 3.2.4Loading required package: lattice\n",
      "Loading required package: ggplot2\n",
      "Warning message:\n",
      ": package ‘ggplot2’ was built under R version 3.2.4"
     ]
    }
   ],
   "source": [
    "library(caret)"
   ]
  },
  {
   "cell_type": "markdown",
   "metadata": {},
   "source": [
    "**Now, create a normalized data frame called \"airlinesNorm\" by running the following commands:**"
   ]
  },
  {
   "cell_type": "code",
   "execution_count": 6,
   "metadata": {
    "collapsed": true
   },
   "outputs": [],
   "source": [
    "preproc = preProcess(airlines)\n",
    "\n",
    "airlinesNorm = predict(preproc, airlines)"
   ]
  },
  {
   "cell_type": "markdown",
   "metadata": {},
   "source": [
    "The first command pre-processes the data, and the second command performs the normalization. If you look at the summary of airlinesNorm, you should see that all of the variables now have mean zero. You can also see that each of the variables has standard deviation 1 by using the **sd()** function."
   ]
  },
  {
   "cell_type": "code",
   "execution_count": 14,
   "metadata": {
    "collapsed": false
   },
   "outputs": [
    {
     "data": {
      "text/html": [
       "<dl class=dl-horizontal>\n",
       "\t<dt>Balance</dt>\n",
       "\t\t<dd>2.7654041803777e-17</dd>\n",
       "\t<dt>QualMiles</dt>\n",
       "\t\t<dd>2.67193003846391e-17</dd>\n",
       "\t<dt>BonusMiles</dt>\n",
       "\t\t<dd>-4.27364354311889e-17</dd>\n",
       "\t<dt>BonusTrans</dt>\n",
       "\t\t<dd>-7.19113696898276e-17</dd>\n",
       "\t<dt>FlightMiles</dt>\n",
       "\t\t<dd>1.48180261509452e-17</dd>\n",
       "\t<dt>FlightTrans</dt>\n",
       "\t\t<dd>1.07414707169229e-17</dd>\n",
       "\t<dt>DaysSinceEnroll</dt>\n",
       "\t\t<dd>5.56369501329916e-17</dd>\n",
       "</dl>\n"
      ],
      "text/latex": [
       "\\begin{description*}\n",
       "\\item[Balance] 2.7654041803777e-17\n",
       "\\item[QualMiles] 2.67193003846391e-17\n",
       "\\item[BonusMiles] -4.27364354311889e-17\n",
       "\\item[BonusTrans] -7.19113696898276e-17\n",
       "\\item[FlightMiles] 1.48180261509452e-17\n",
       "\\item[FlightTrans] 1.07414707169229e-17\n",
       "\\item[DaysSinceEnroll] 5.56369501329916e-17\n",
       "\\end{description*}\n"
      ],
      "text/markdown": [
       "Balance\n",
       ":   2.7654041803777e-17QualMiles\n",
       ":   2.67193003846391e-17BonusMiles\n",
       ":   -4.27364354311889e-17BonusTrans\n",
       ":   -7.19113696898276e-17FlightMiles\n",
       ":   1.48180261509452e-17FlightTrans\n",
       ":   1.07414707169229e-17DaysSinceEnroll\n",
       ":   5.56369501329916e-17\n",
       "\n"
      ],
      "text/plain": [
       "        Balance       QualMiles      BonusMiles      BonusTrans     FlightMiles \n",
       "   2.765404e-17    2.671930e-17   -4.273644e-17   -7.191137e-17    1.481803e-17 \n",
       "    FlightTrans DaysSinceEnroll \n",
       "   1.074147e-17    5.563695e-17 "
      ]
     },
     "execution_count": 14,
     "metadata": {},
     "output_type": "execute_result"
    }
   ],
   "source": [
    "apply(airlinesNorm, 2, mean)"
   ]
  },
  {
   "cell_type": "code",
   "execution_count": 13,
   "metadata": {
    "collapsed": false
   },
   "outputs": [
    {
     "data": {
      "text/html": [
       "<dl class=dl-horizontal>\n",
       "\t<dt>Balance</dt>\n",
       "\t\t<dd>1</dd>\n",
       "\t<dt>QualMiles</dt>\n",
       "\t\t<dd>1</dd>\n",
       "\t<dt>BonusMiles</dt>\n",
       "\t\t<dd>1</dd>\n",
       "\t<dt>BonusTrans</dt>\n",
       "\t\t<dd>1</dd>\n",
       "\t<dt>FlightMiles</dt>\n",
       "\t\t<dd>1</dd>\n",
       "\t<dt>FlightTrans</dt>\n",
       "\t\t<dd>1</dd>\n",
       "\t<dt>DaysSinceEnroll</dt>\n",
       "\t\t<dd>1</dd>\n",
       "</dl>\n"
      ],
      "text/latex": [
       "\\begin{description*}\n",
       "\\item[Balance] 1\n",
       "\\item[QualMiles] 1\n",
       "\\item[BonusMiles] 1\n",
       "\\item[BonusTrans] 1\n",
       "\\item[FlightMiles] 1\n",
       "\\item[FlightTrans] 1\n",
       "\\item[DaysSinceEnroll] 1\n",
       "\\end{description*}\n"
      ],
      "text/markdown": [
       "Balance\n",
       ":   1QualMiles\n",
       ":   1BonusMiles\n",
       ":   1BonusTrans\n",
       ":   1FlightMiles\n",
       ":   1FlightTrans\n",
       ":   1DaysSinceEnroll\n",
       ":   1\n",
       "\n"
      ],
      "text/plain": [
       "        Balance       QualMiles      BonusMiles      BonusTrans     FlightMiles \n",
       "              1               1               1               1               1 \n",
       "    FlightTrans DaysSinceEnroll \n",
       "              1               1 "
      ]
     },
     "execution_count": 13,
     "metadata": {},
     "output_type": "execute_result"
    }
   ],
   "source": [
    "apply(airlinesNorm, 2, sd)"
   ]
  },
  {
   "cell_type": "code",
   "execution_count": 20,
   "metadata": {
    "collapsed": false
   },
   "outputs": [
    {
     "data": {
      "text/html": [
       "<dl class=dl-horizontal>\n",
       "\t<dt>DaysSinceEnroll</dt>\n",
       "\t\t<dd>2.02284186757624</dd>\n",
       "\t<dt>BonusTrans</dt>\n",
       "\t\t<dd>7.74672728007656</dd>\n",
       "\t<dt>BonusMiles</dt>\n",
       "\t\t<dd>10.2082929165594</dd>\n",
       "\t<dt>FlightTrans</dt>\n",
       "\t\t<dd>13.610350650989</dd>\n",
       "\t<dt>QualMiles</dt>\n",
       "\t\t<dd>14.2230842504047</dd>\n",
       "\t<dt>Balance</dt>\n",
       "\t\t<dd>16.1868113010578</dd>\n",
       "\t<dt>FlightMiles</dt>\n",
       "\t\t<dd>21.6802923859018</dd>\n",
       "</dl>\n"
      ],
      "text/latex": [
       "\\begin{description*}\n",
       "\\item[DaysSinceEnroll] 2.02284186757624\n",
       "\\item[BonusTrans] 7.74672728007656\n",
       "\\item[BonusMiles] 10.2082929165594\n",
       "\\item[FlightTrans] 13.610350650989\n",
       "\\item[QualMiles] 14.2230842504047\n",
       "\\item[Balance] 16.1868113010578\n",
       "\\item[FlightMiles] 21.6802923859018\n",
       "\\end{description*}\n"
      ],
      "text/markdown": [
       "DaysSinceEnroll\n",
       ":   2.02284186757624BonusTrans\n",
       ":   7.74672728007656BonusMiles\n",
       ":   10.2082929165594FlightTrans\n",
       ":   13.610350650989QualMiles\n",
       ":   14.2230842504047Balance\n",
       ":   16.1868113010578FlightMiles\n",
       ":   21.6802923859018\n",
       "\n"
      ],
      "text/plain": [
       "DaysSinceEnroll      BonusTrans      BonusMiles     FlightTrans       QualMiles \n",
       "       2.022842        7.746727       10.208293       13.610351       14.223084 \n",
       "        Balance     FlightMiles \n",
       "      16.186811       21.680292 "
      ]
     },
     "execution_count": 20,
     "metadata": {},
     "output_type": "execute_result"
    }
   ],
   "source": [
    "sort(apply(airlinesNorm, 2, max))"
   ]
  },
  {
   "cell_type": "code",
   "execution_count": 19,
   "metadata": {
    "collapsed": false
   },
   "outputs": [
    {
     "data": {
      "text/html": [
       "<dl class=dl-horizontal>\n",
       "\t<dt>DaysSinceEnroll</dt>\n",
       "\t\t<dd>-1.99336135716923</dd>\n",
       "\t<dt>BonusTrans</dt>\n",
       "\t\t<dd>-1.20805181160949</dd>\n",
       "\t<dt>Balance</dt>\n",
       "\t\t<dd>-0.730348220598438</dd>\n",
       "\t<dt>BonusMiles</dt>\n",
       "\t\t<dd>-0.709903070341544</dd>\n",
       "\t<dt>FlightTrans</dt>\n",
       "\t\t<dd>-0.362122584817356</dd>\n",
       "\t<dt>FlightMiles</dt>\n",
       "\t\t<dd>-0.328562170108424</dd>\n",
       "\t<dt>QualMiles</dt>\n",
       "\t\t<dd>-0.186275392249039</dd>\n",
       "</dl>\n"
      ],
      "text/latex": [
       "\\begin{description*}\n",
       "\\item[DaysSinceEnroll] -1.99336135716923\n",
       "\\item[BonusTrans] -1.20805181160949\n",
       "\\item[Balance] -0.730348220598438\n",
       "\\item[BonusMiles] -0.709903070341544\n",
       "\\item[FlightTrans] -0.362122584817356\n",
       "\\item[FlightMiles] -0.328562170108424\n",
       "\\item[QualMiles] -0.186275392249039\n",
       "\\end{description*}\n"
      ],
      "text/markdown": [
       "DaysSinceEnroll\n",
       ":   -1.99336135716923BonusTrans\n",
       ":   -1.20805181160949Balance\n",
       ":   -0.730348220598438BonusMiles\n",
       ":   -0.709903070341544FlightTrans\n",
       ":   -0.362122584817356FlightMiles\n",
       ":   -0.328562170108424QualMiles\n",
       ":   -0.186275392249039\n",
       "\n"
      ],
      "text/plain": [
       "DaysSinceEnroll      BonusTrans         Balance      BonusMiles     FlightTrans \n",
       "     -1.9933614      -1.2080518      -0.7303482      -0.7099031      -0.3621226 \n",
       "    FlightMiles       QualMiles \n",
       "     -0.3285622      -0.1862754 "
      ]
     },
     "execution_count": 19,
     "metadata": {},
     "output_type": "execute_result"
    }
   ],
   "source": [
    "sort(apply(airlinesNorm, 2, min))"
   ]
  },
  {
   "cell_type": "markdown",
   "metadata": {},
   "source": [
    "## Hierarchical Clustering:\n",
    "\n",
    "Compute the distances between data points (using euclidean distance) and then run the Hierarchical clustering algorithm (using method=\"ward.D\") on the normalized data. It may take a few minutes for the commands to finish since the dataset has a large number of observations for hierarchical clustering."
   ]
  },
  {
   "cell_type": "code",
   "execution_count": 22,
   "metadata": {
    "collapsed": false
   },
   "outputs": [
    {
     "data": {
      "image/png": "[encoded data removed]"
     },
     "metadata": {},
     "output_type": "display_data"
    }
   ],
   "source": [
    "distance = dist(airlinesNorm, method = \"euclidean\")\n",
    "clusterIntensity = hclust(distance, method = \"ward.D\")\n",
    "plot(clusterIntensity)\n",
    "# visulize the cuts:\n",
    "rect.hclust(clusterIntensity, k = 7, border=\"red\")"
   ]
  },
  {
   "cell_type": "code",
   "execution_count": 23,
   "metadata": {
    "collapsed": true
   },
   "outputs": [],
   "source": [
    "airlineClusters = cutree(clusterIntensity, k = 5)"
   ]
  },
  {
   "cell_type": "code",
   "execution_count": 24,
   "metadata": {
    "collapsed": false
   },
   "outputs": [
    {
     "data": {
      "text/plain": [
       "airlineClusters\n",
       "   1    2    3    4    5 \n",
       " 776  519  494  868 1342 "
      ]
     },
     "execution_count": 24,
     "metadata": {},
     "output_type": "execute_result"
    }
   ],
   "source": [
    "table(airlineClusters)"
   ]
  },
  {
   "cell_type": "code",
   "execution_count": 34,
   "metadata": {
    "collapsed": false
   },
   "outputs": [
    {
     "data": {
      "text/html": [
       "<dl class=dl-horizontal>\n",
       "\t<dt>3</dt>\n",
       "\t\t<dd>198191.574898785</dd>\n",
       "\t<dt>2</dt>\n",
       "\t\t<dd>110669.265895954</dd>\n",
       "\t<dt>1</dt>\n",
       "\t\t<dd>57866.9046391753</dd>\n",
       "\t<dt>4</dt>\n",
       "\t\t<dd>52335.91359447</dd>\n",
       "\t<dt>5</dt>\n",
       "\t\t<dd>36255.9098360656</dd>\n",
       "</dl>\n"
      ],
      "text/latex": [
       "\\begin{description*}\n",
       "\\item[3] 198191.574898785\n",
       "\\item[2] 110669.265895954\n",
       "\\item[1] 57866.9046391753\n",
       "\\item[4] 52335.91359447\n",
       "\\item[5] 36255.9098360656\n",
       "\\end{description*}\n"
      ],
      "text/markdown": [
       "3\n",
       ":   198191.5748987852\n",
       ":   110669.2658959541\n",
       ":   57866.90463917534\n",
       ":   52335.913594475\n",
       ":   36255.9098360656\n",
       "\n"
      ],
      "text/plain": [
       "        3         2         1         4         5 \n",
       "198191.57 110669.27  57866.90  52335.91  36255.91 "
      ]
     },
     "execution_count": 34,
     "metadata": {},
     "output_type": "execute_result"
    }
   ],
   "source": [
    "sort(tapply(airlines$Balance, airlineClusters, mean), decreasing = TRUE)"
   ]
  },
  {
   "cell_type": "code",
   "execution_count": 36,
   "metadata": {
    "collapsed": false
   },
   "outputs": [
    {
     "data": {
      "text/html": [
       "<dl class=dl-horizontal>\n",
       "\t<dt>2</dt>\n",
       "\t\t<dd>1065.98265895954</dd>\n",
       "\t<dt>3</dt>\n",
       "\t\t<dd>30.3461538461538</dd>\n",
       "\t<dt>4</dt>\n",
       "\t\t<dd>4.84792626728111</dd>\n",
       "\t<dt>5</dt>\n",
       "\t\t<dd>2.51117734724292</dd>\n",
       "\t<dt>1</dt>\n",
       "\t\t<dd>0.644329896907217</dd>\n",
       "</dl>\n"
      ],
      "text/latex": [
       "\\begin{description*}\n",
       "\\item[2] 1065.98265895954\n",
       "\\item[3] 30.3461538461538\n",
       "\\item[4] 4.84792626728111\n",
       "\\item[5] 2.51117734724292\n",
       "\\item[1] 0.644329896907217\n",
       "\\end{description*}\n"
      ],
      "text/markdown": [
       "2\n",
       ":   1065.982658959543\n",
       ":   30.34615384615384\n",
       ":   4.847926267281115\n",
       ":   2.511177347242921\n",
       ":   0.644329896907217\n",
       "\n"
      ],
      "text/plain": [
       "           2            3            4            5            1 \n",
       "1065.9826590   30.3461538    4.8479263    2.5111773    0.6443299 "
      ]
     },
     "execution_count": 36,
     "metadata": {},
     "output_type": "execute_result"
    }
   ],
   "source": [
    "sort(tapply(airlines$QualMiles, airlineClusters, mean), decreasing = TRUE)"
   ]
  },
  {
   "cell_type": "code",
   "execution_count": 37,
   "metadata": {
    "collapsed": false
   },
   "outputs": [
    {
     "data": {
      "text/html": [
       "<dl class=dl-horizontal>\n",
       "\t<dt>3</dt>\n",
       "\t\t<dd>55795.8603238866</dd>\n",
       "\t<dt>2</dt>\n",
       "\t\t<dd>22881.7630057803</dd>\n",
       "\t<dt>4</dt>\n",
       "\t\t<dd>20788.7661290323</dd>\n",
       "\t<dt>1</dt>\n",
       "\t\t<dd>10360.1237113402</dd>\n",
       "\t<dt>5</dt>\n",
       "\t\t<dd>2264.78763040238</dd>\n",
       "</dl>\n"
      ],
      "text/latex": [
       "\\begin{description*}\n",
       "\\item[3] 55795.8603238866\n",
       "\\item[2] 22881.7630057803\n",
       "\\item[4] 20788.7661290323\n",
       "\\item[1] 10360.1237113402\n",
       "\\item[5] 2264.78763040238\n",
       "\\end{description*}\n"
      ],
      "text/markdown": [
       "3\n",
       ":   55795.86032388662\n",
       ":   22881.76300578034\n",
       ":   20788.76612903231\n",
       ":   10360.12371134025\n",
       ":   2264.78763040238\n",
       "\n"
      ],
      "text/plain": [
       "        3         2         4         1         5 \n",
       "55795.860 22881.763 20788.766 10360.124  2264.788 "
      ]
     },
     "execution_count": 37,
     "metadata": {},
     "output_type": "execute_result"
    }
   ],
   "source": [
    "sort(tapply(airlines$BonusMiles, airlineClusters, mean), decreasing = TRUE)"
   ]
  },
  {
   "cell_type": "code",
   "execution_count": 41,
   "metadata": {
    "collapsed": false
   },
   "outputs": [
    {
     "data": {
      "text/html": [
       "<dl class=dl-horizontal>\n",
       "\t<dt>2</dt>\n",
       "\t\t<dd>2613.41811175337</dd>\n",
       "\t<dt>3</dt>\n",
       "\t\t<dd>327.676113360324</dd>\n",
       "\t<dt>5</dt>\n",
       "\t\t<dd>119.321907600596</dd>\n",
       "\t<dt>4</dt>\n",
       "\t\t<dd>111.573732718894</dd>\n",
       "\t<dt>1</dt>\n",
       "\t\t<dd>83.1842783505155</dd>\n",
       "</dl>\n"
      ],
      "text/latex": [
       "\\begin{description*}\n",
       "\\item[2] 2613.41811175337\n",
       "\\item[3] 327.676113360324\n",
       "\\item[5] 119.321907600596\n",
       "\\item[4] 111.573732718894\n",
       "\\item[1] 83.1842783505155\n",
       "\\end{description*}\n"
      ],
      "text/markdown": [
       "2\n",
       ":   2613.418111753373\n",
       ":   327.6761133603245\n",
       ":   119.3219076005964\n",
       ":   111.5737327188941\n",
       ":   83.1842783505155\n",
       "\n"
      ],
      "text/plain": [
       "         2          3          5          4          1 \n",
       "2613.41811  327.67611  119.32191  111.57373   83.18428 "
      ]
     },
     "execution_count": 41,
     "metadata": {},
     "output_type": "execute_result"
    }
   ],
   "source": [
    "sort(tapply(airlines$FlightMiles, airlineClusters, mean), decreasing = TRUE)"
   ]
  },
  {
   "cell_type": "code",
   "execution_count": 33,
   "metadata": {
    "collapsed": false
   },
   "outputs": [
    {
     "data": {
      "text/html": [
       "<dl class=dl-horizontal>\n",
       "\t<dt>1</dt>\n",
       "\t\t<dd>6235.36469072165</dd>\n",
       "\t<dt>3</dt>\n",
       "\t\t<dd>5615.70850202429</dd>\n",
       "\t<dt>2</dt>\n",
       "\t\t<dd>4402.41425818882</dd>\n",
       "\t<dt>5</dt>\n",
       "\t\t<dd>3060.08122205663</dd>\n",
       "\t<dt>4</dt>\n",
       "\t\t<dd>2840.82258064516</dd>\n",
       "</dl>\n"
      ],
      "text/latex": [
       "\\begin{description*}\n",
       "\\item[1] 6235.36469072165\n",
       "\\item[3] 5615.70850202429\n",
       "\\item[2] 4402.41425818882\n",
       "\\item[5] 3060.08122205663\n",
       "\\item[4] 2840.82258064516\n",
       "\\end{description*}\n"
      ],
      "text/markdown": [
       "1\n",
       ":   6235.364690721653\n",
       ":   5615.708502024292\n",
       ":   4402.414258188825\n",
       ":   3060.081222056634\n",
       ":   2840.82258064516\n",
       "\n"
      ],
      "text/plain": [
       "       1        3        2        5        4 \n",
       "6235.365 5615.709 4402.414 3060.081 2840.823 "
      ]
     },
     "execution_count": 33,
     "metadata": {},
     "output_type": "execute_result"
    }
   ],
   "source": [
    "sort(tapply(airlines$DaysSinceEnroll, airlineClusters, mean), decreasing = TRUE)"
   ]
  },
  {
   "cell_type": "markdown",
   "metadata": {},
   "source": [
    "## K-means:"
   ]
  },
  {
   "cell_type": "code",
   "execution_count": 42,
   "metadata": {
    "collapsed": false
   },
   "outputs": [
    {
     "name": "stdout",
     "output_type": "stream",
     "text": [
      "List of 9\n",
      " $ cluster     : int [1:3999] 4 4 4 4 1 4 3 4 2 3 ...\n",
      " $ centers     : num [1:5, 1:7] 1.4444 1.0005 -0.0558 -0.1333 -0.4058 ...\n",
      "  ..- attr(*, \"dimnames\")=List of 2\n",
      "  .. ..$ : chr [1:5] \"1\" \"2\" \"3\" \"4\" ...\n",
      "  .. ..$ : chr [1:7] \"Balance\" \"QualMiles\" \"BonusMiles\" \"BonusTrans\" ...\n",
      " $ totss       : num 27986\n",
      " $ withinss    : num [1:5] 4948 3624 2054 2040 2321\n",
      " $ tot.withinss: num 14987\n",
      " $ betweenss   : num 12999\n",
      " $ size        : int [1:5] 408 141 993 1182 1275\n",
      " $ iter        : int 4\n",
      " $ ifault      : int 0\n",
      " - attr(*, \"class\")= chr \"kmeans\"\n"
     ]
    }
   ],
   "source": [
    "k=5\n",
    "set.seed(88)\n",
    "KMC = kmeans(airlinesNorm, centers=k, iter.max = 1000)\n",
    "str(KMC)"
   ]
  },
  {
   "cell_type": "code",
   "execution_count": 43,
   "metadata": {
    "collapsed": false
   },
   "outputs": [
    {
     "data": {
      "text/plain": [
       "\n",
       "   1    2    3    4    5 \n",
       " 408  141  993 1182 1275 "
      ]
     },
     "execution_count": 43,
     "metadata": {},
     "output_type": "execute_result"
    }
   ],
   "source": [
    "table(KMC$cluster)"
   ]
  },
  {
   "cell_type": "code",
   "execution_count": 45,
   "metadata": {
    "collapsed": false
   },
   "outputs": [
    {
     "data": {
      "text/html": [
       "<table>\n",
       "<thead><tr><th></th><th scope=col>Balance</th><th scope=col>QualMiles</th><th scope=col>BonusMiles</th><th scope=col>BonusTrans</th><th scope=col>FlightMiles</th><th scope=col>FlightTrans</th><th scope=col>DaysSinceEnroll</th></tr></thead>\n",
       "<tbody>\n",
       "\t<tr><th scope=row>1</th><td>1.4443971</td><td>0.5111573</td><td>1.8769284</td><td>1.0331951</td><td>0.1169945</td><td>0.1444636</td><td>0.7198040</td></tr>\n",
       "\t<tr><th scope=row>2</th><td>1.0005410</td><td>0.6838223</td><td>0.6144780</td><td>1.7214887</td><td>3.8559798</td><td>4.1196141</td><td>0.2742394</td></tr>\n",
       "\t<tr><th scope=row>3</th><td>-0.05580605</td><td>-0.14104391</td><td> 0.30413576</td><td> 0.71087436</td><td>-0.12182784</td><td>-0.12875687</td><td>-0.33982091</td></tr>\n",
       "\t<tr><th scope=row>4</th><td>-0.1333174</td><td>-0.1149161</td><td>-0.3492669</td><td>-0.3373455</td><td>-0.1833989</td><td>-0.1961819</td><td> 0.9640923</td></tr>\n",
       "\t<tr><th scope=row>5</th><td>-0.40579897</td><td>-0.02281076</td><td>-0.58164823</td><td>-0.76190536</td><td>-0.19896025</td><td>-0.21965815</td><td>-0.88977471</td></tr>\n",
       "</tbody>\n",
       "</table>\n"
      ],
      "text/latex": [
       "\\begin{tabular}{r|lllllll}\n",
       "  & Balance & QualMiles & BonusMiles & BonusTrans & FlightMiles & FlightTrans & DaysSinceEnroll\\\\\n",
       "\\hline\n",
       "\t1 & 1.4443971 & 0.5111573 & 1.8769284 & 1.0331951 & 0.1169945 & 0.1444636 & 0.7198040\\\\\n",
       "\t2 & 1.0005410 & 0.6838223 & 0.6144780 & 1.7214887 & 3.8559798 & 4.1196141 & 0.2742394\\\\\n",
       "\t3 & -0.05580605 & -0.14104391 &  0.30413576 &  0.71087436 & -0.12182784 & -0.12875687 & -0.33982091\\\\\n",
       "\t4 & -0.1333174 & -0.1149161 & -0.3492669 & -0.3373455 & -0.1833989 & -0.1961819 &  0.9640923\\\\\n",
       "\t5 & -0.40579897 & -0.02281076 & -0.58164823 & -0.76190536 & -0.19896025 & -0.21965815 & -0.88977471\\\\\n",
       "\\end{tabular}\n"
      ],
      "text/markdown": [
       "1. 1.44439706192131\n",
       "2. 1.00054098475219\n",
       "3. -0.0558060473414668\n",
       "4. -0.133317419582712\n",
       "5. -0.405798968750676\n",
       "6. 0.51115730178272\n",
       "7. 0.683822338503239\n",
       "8. -0.141043913788715\n",
       "9. -0.114916073751856\n",
       "10. -0.0228107633642517\n",
       "11. 1.87692836816141\n",
       "12. 0.614478020161119\n",
       "13. 0.304135758667628\n",
       "14. -0.34926690807188\n",
       "15. -0.581648233779265\n",
       "16. 1.03319505293642\n",
       "17. 1.72148873405425\n",
       "18. 0.710874362046273\n",
       "19. -0.337345514220113\n",
       "20. -0.76190536219881\n",
       "21. 0.116994509414563\n",
       "22. 3.85597979868078\n",
       "23. -0.121827844252839\n",
       "24. -0.183398942064217\n",
       "25. -0.198960245170324\n",
       "26. 0.144463570235926\n",
       "27. 4.11961411346015\n",
       "28. -0.128756874386344\n",
       "29. -0.196181900856047\n",
       "30. -0.219658151824817\n",
       "31. 0.719803989417615\n",
       "32. 0.27423943009043\n",
       "33. -0.339820913255845\n",
       "34. 0.964092331265428\n",
       "35. -0.889774710602213\n",
       "\n",
       "\n"
      ],
      "text/plain": [
       "      Balance   QualMiles BonusMiles BonusTrans FlightMiles FlightTrans\n",
       "1  1.44439706  0.51115730  1.8769284  1.0331951   0.1169945   0.1444636\n",
       "2  1.00054098  0.68382234  0.6144780  1.7214887   3.8559798   4.1196141\n",
       "3 -0.05580605 -0.14104391  0.3041358  0.7108744  -0.1218278  -0.1287569\n",
       "4 -0.13331742 -0.11491607 -0.3492669 -0.3373455  -0.1833989  -0.1961819\n",
       "5 -0.40579897 -0.02281076 -0.5816482 -0.7619054  -0.1989602  -0.2196582\n",
       "  DaysSinceEnroll\n",
       "1       0.7198040\n",
       "2       0.2742394\n",
       "3      -0.3398209\n",
       "4       0.9640923\n",
       "5      -0.8897747"
      ]
     },
     "execution_count": 45,
     "metadata": {},
     "output_type": "execute_result"
    }
   ],
   "source": [
    "KMC$centers"
   ]
  },
  {
   "cell_type": "code",
   "execution_count": 47,
   "metadata": {
    "collapsed": false
   },
   "outputs": [
    {
     "data": {
      "text/html": [
       "<dl class=dl-horizontal>\n",
       "\t<dt>1</dt>\n",
       "\t\t<dd>219161.401960784</dd>\n",
       "\t<dt>2</dt>\n",
       "\t\t<dd>174431.510638298</dd>\n",
       "\t<dt>3</dt>\n",
       "\t\t<dd>67977.4360523666</dd>\n",
       "\t<dt>4</dt>\n",
       "\t\t<dd>60166.1759729272</dd>\n",
       "\t<dt>5</dt>\n",
       "\t\t<dd>32706.6666666667</dd>\n",
       "</dl>\n"
      ],
      "text/latex": [
       "\\begin{description*}\n",
       "\\item[1] 219161.401960784\n",
       "\\item[2] 174431.510638298\n",
       "\\item[3] 67977.4360523666\n",
       "\\item[4] 60166.1759729272\n",
       "\\item[5] 32706.6666666667\n",
       "\\end{description*}\n"
      ],
      "text/markdown": [
       "1\n",
       ":   219161.4019607842\n",
       ":   174431.5106382983\n",
       ":   67977.43605236664\n",
       ":   60166.17597292725\n",
       ":   32706.6666666667\n",
       "\n"
      ],
      "text/plain": [
       "        1         2         3         4         5 \n",
       "219161.40 174431.51  67977.44  60166.18  32706.67 "
      ]
     },
     "execution_count": 47,
     "metadata": {},
     "output_type": "execute_result"
    }
   ],
   "source": [
    "sort(tapply(airlines$Balance, KMC$cluster, mean), decreasing = TRUE)"
   ]
  },
  {
   "cell_type": "code",
   "execution_count": null,
   "metadata": {
    "collapsed": true
   },
   "outputs": [],
   "source": []
  }
 ],
 "metadata": {
  "kernelspec": {
   "display_name": "R",
   "language": "R",
   "name": "ir"
  },
  "language_info": {
   "codemirror_mode": "r",
   "file_extension": ".r",
   "mimetype": "text/x-r-source",
   "name": "R",
   "pygments_lexer": "r",
   "version": "3.2.3"
  }
 },
 "nbformat": 4,
 "nbformat_minor": 0
}
