{
 "cells": [
  {
   "cell_type": "code",
   "execution_count": 1,
   "metadata": {
    "collapsed": true
   },
   "outputs": [],
   "source": [
    "wine = read.csv('data//wine.csv')"
   ]
  },
  {
   "cell_type": "code",
   "execution_count": 2,
   "metadata": {
    "collapsed": false
   },
   "outputs": [
    {
     "name": "stdout",
     "output_type": "stream",
     "text": [
      "'data.frame':\t25 obs. of  7 variables:\n",
      " $ Year       : int  1952 1953 1955 1957 1958 1959 1960 1961 1962 1963 ...\n",
      " $ Price      : num  7.5 8.04 7.69 6.98 6.78 ...\n",
      " $ WinterRain : int  600 690 502 420 582 485 763 830 697 608 ...\n",
      " $ AGST       : num  17.1 16.7 17.1 16.1 16.4 ...\n",
      " $ HarvestRain: int  160 80 130 110 187 187 290 38 52 155 ...\n",
      " $ Age        : int  31 30 28 26 25 24 23 22 21 20 ...\n",
      " $ FrancePop  : num  43184 43495 44218 45152 45654 ...\n"
     ]
    }
   ],
   "source": [
    "str(wine)"
   ]
  },
  {
   "cell_type": "code",
   "execution_count": 3,
   "metadata": {
    "collapsed": false
   },
   "outputs": [
    {
     "data": {
      "text/plain": [
       "      Year          Price         WinterRain         AGST        HarvestRain   \n",
       " Min.   :1952   Min.   :6.205   Min.   :376.0   Min.   :14.98   Min.   : 38.0  \n",
       " 1st Qu.:1960   1st Qu.:6.519   1st Qu.:536.0   1st Qu.:16.20   1st Qu.: 89.0  \n",
       " Median :1966   Median :7.121   Median :600.0   Median :16.53   Median :130.0  \n",
       " Mean   :1966   Mean   :7.067   Mean   :605.3   Mean   :16.51   Mean   :148.6  \n",
       " 3rd Qu.:1972   3rd Qu.:7.495   3rd Qu.:697.0   3rd Qu.:17.07   3rd Qu.:187.0  \n",
       " Max.   :1978   Max.   :8.494   Max.   :830.0   Max.   :17.65   Max.   :292.0  \n",
       "      Age         FrancePop    \n",
       " Min.   : 5.0   Min.   :43184  \n",
       " 1st Qu.:11.0   1st Qu.:46584  \n",
       " Median :17.0   Median :50255  \n",
       " Mean   :17.2   Mean   :49694  \n",
       " 3rd Qu.:23.0   3rd Qu.:52894  \n",
       " Max.   :31.0   Max.   :54602  "
      ]
     },
     "execution_count": 3,
     "metadata": {},
     "output_type": "execute_result"
    }
   ],
   "source": [
    "summary(wine)"
   ]
  },
  {
   "cell_type": "markdown",
   "metadata": {},
   "source": [
    "## Define Linear Model: lm()"
   ]
  },
  {
   "cell_type": "code",
   "execution_count": 5,
   "metadata": {
    "collapsed": true
   },
   "outputs": [],
   "source": [
    "model1 = lm(Price ~ AGST, data=wine)"
   ]
  },
  {
   "cell_type": "code",
   "execution_count": 6,
   "metadata": {
    "collapsed": false
   },
   "outputs": [
    {
     "data": {
      "text/plain": [
       "\n",
       "Call:\n",
       "lm(formula = Price ~ AGST, data = wine)\n",
       "\n",
       "Residuals:\n",
       "     Min       1Q   Median       3Q      Max \n",
       "-0.78450 -0.23882 -0.03727  0.38992  0.90318 \n",
       "\n",
       "Coefficients:\n",
       "            Estimate Std. Error t value Pr(>|t|)    \n",
       "(Intercept)  -3.4178     2.4935  -1.371 0.183710    \n",
       "AGST          0.6351     0.1509   4.208 0.000335 ***\n",
       "---\n",
       "Signif. codes:  0 ‘***’ 0.001 ‘**’ 0.01 ‘*’ 0.05 ‘.’ 0.1 ‘ ’ 1\n",
       "\n",
       "Residual standard error: 0.4993 on 23 degrees of freedom\n",
       "Multiple R-squared:  0.435,\tAdjusted R-squared:  0.4105 \n",
       "F-statistic: 17.71 on 1 and 23 DF,  p-value: 0.000335\n"
      ]
     },
     "execution_count": 6,
     "metadata": {},
     "output_type": "execute_result"
    }
   ],
   "source": [
    "summary(model1)"
   ]
  },
  {
   "cell_type": "code",
   "execution_count": 7,
   "metadata": {
    "collapsed": false
   },
   "outputs": [
    {
     "data": {
      "text/html": [
       "<dl class=dl-horizontal>\n",
       "\t<dt>1</dt>\n",
       "\t\t<dd>0.0420425810460022</dd>\n",
       "\t<dt>2</dt>\n",
       "\t\t<dd>0.829837738524831</dd>\n",
       "\t<dt>3</dt>\n",
       "\t\t<dd>0.211693940607739</dd>\n",
       "\t<dt>4</dt>\n",
       "\t\t<dd>0.156094322998686</dd>\n",
       "\t<dt>5</dt>\n",
       "\t\t<dd>-0.231191403734465</dd>\n",
       "\t<dt>6</dt>\n",
       "\t\t<dd>0.389917007932511</dd>\n",
       "\t<dt>7</dt>\n",
       "\t\t<dd>-0.489591403734465</dd>\n",
       "\t<dt>8</dt>\n",
       "\t\t<dd>0.903181154050975</dd>\n",
       "\t<dt>9</dt>\n",
       "\t\t<dd>0.453724101945699</dd>\n",
       "\t<dt>10</dt>\n",
       "\t\t<dd>0.148874611485033</dd>\n",
       "\t<dt>11</dt>\n",
       "\t\t<dd>-0.238821565072427</dd>\n",
       "\t<dt>12</dt>\n",
       "\t\t<dd>-0.0897423809052182</dd>\n",
       "\t<dt>13</dt>\n",
       "\t\t<dd>0.661856600016115</dd>\n",
       "\t<dt>14</dt>\n",
       "\t\t<dd>-0.0521151077469565</dd>\n",
       "\t<dt>15</dt>\n",
       "\t\t<dd>-0.627266467308658</dd>\n",
       "\t<dt>16</dt>\n",
       "\t\t<dd>-0.747149474918407</dd>\n",
       "\t<dt>17</dt>\n",
       "\t\t<dd>0.421135019401429</dd>\n",
       "\t<dt>18</dt>\n",
       "\t\t<dd>-0.0372744113442148</dd>\n",
       "\t<dt>19</dt>\n",
       "\t\t<dd>0.106852776573575</dd>\n",
       "\t<dt>20</dt>\n",
       "\t\t<dd>-0.784502703581142</dd>\n",
       "\t<dt>21</dt>\n",
       "\t\t<dd>-0.640175898054301</dd>\n",
       "\t<dt>22</dt>\n",
       "\t\t<dd>-0.0550871979009768</dd>\n",
       "\t<dt>23</dt>\n",
       "\t\t<dd>-0.670553213120474</dd>\n",
       "\t<dt>24</dt>\n",
       "\t\t<dd>-0.22040380790028</dd>\n",
       "\t<dt>25</dt>\n",
       "\t\t<dd>0.558665180739389</dd>\n",
       "</dl>\n"
      ],
      "text/latex": [
       "\\begin{description*}\n",
       "\\item[1] 0.0420425810460022\n",
       "\\item[2] 0.829837738524831\n",
       "\\item[3] 0.211693940607739\n",
       "\\item[4] 0.156094322998686\n",
       "\\item[5] -0.231191403734465\n",
       "\\item[6] 0.389917007932511\n",
       "\\item[7] -0.489591403734465\n",
       "\\item[8] 0.903181154050975\n",
       "\\item[9] 0.453724101945699\n",
       "\\item[10] 0.148874611485033\n",
       "\\item[11] -0.238821565072427\n",
       "\\item[12] -0.0897423809052182\n",
       "\\item[13] 0.661856600016115\n",
       "\\item[14] -0.0521151077469565\n",
       "\\item[15] -0.627266467308658\n",
       "\\item[16] -0.747149474918407\n",
       "\\item[17] 0.421135019401429\n",
       "\\item[18] -0.0372744113442148\n",
       "\\item[19] 0.106852776573575\n",
       "\\item[20] -0.784502703581142\n",
       "\\item[21] -0.640175898054301\n",
       "\\item[22] -0.0550871979009768\n",
       "\\item[23] -0.670553213120474\n",
       "\\item[24] -0.22040380790028\n",
       "\\item[25] 0.558665180739389\n",
       "\\end{description*}\n"
      ],
      "text/markdown": [
       "1\n",
       ":   0.04204258104600222\n",
       ":   0.8298377385248313\n",
       ":   0.2116939406077394\n",
       ":   0.1560943229986865\n",
       ":   -0.2311914037344656\n",
       ":   0.3899170079325117\n",
       ":   -0.4895914037344658\n",
       ":   0.9031811540509759\n",
       ":   0.45372410194569910\n",
       ":   0.14887461148503311\n",
       ":   -0.23882156507242712\n",
       ":   -0.089742380905218213\n",
       ":   0.66185660001611514\n",
       ":   -0.052115107746956515\n",
       ":   -0.62726646730865816\n",
       ":   -0.74714947491840717\n",
       ":   0.42113501940142918\n",
       ":   -0.037274411344214819\n",
       ":   0.10685277657357520\n",
       ":   -0.78450270358114221\n",
       ":   -0.64017589805430122\n",
       ":   -0.055087197900976823\n",
       ":   -0.67055321312047424\n",
       ":   -0.2204038079002825\n",
       ":   0.558665180739389\n",
       "\n"
      ],
      "text/plain": [
       "          1           2           3           4           5           6 \n",
       " 0.04204258  0.82983774  0.21169394  0.15609432 -0.23119140  0.38991701 \n",
       "          7           8           9          10          11          12 \n",
       "-0.48959140  0.90318115  0.45372410  0.14887461 -0.23882157 -0.08974238 \n",
       "         13          14          15          16          17          18 \n",
       " 0.66185660 -0.05211511 -0.62726647 -0.74714947  0.42113502 -0.03727441 \n",
       "         19          20          21          22          23          24 \n",
       " 0.10685278 -0.78450270 -0.64017590 -0.05508720 -0.67055321 -0.22040381 \n",
       "         25 \n",
       " 0.55866518 "
      ]
     },
     "execution_count": 7,
     "metadata": {},
     "output_type": "execute_result"
    }
   ],
   "source": [
    "model1$residuals"
   ]
  },
  {
   "cell_type": "code",
   "execution_count": 8,
   "metadata": {
    "collapsed": true
   },
   "outputs": [],
   "source": [
    "SSE = sum(model1$residuals^2)"
   ]
  },
  {
   "cell_type": "code",
   "execution_count": 9,
   "metadata": {
    "collapsed": false
   },
   "outputs": [
    {
     "data": {
      "text/html": [
       "5.73487514702011"
      ],
      "text/latex": [
       "5.73487514702011"
      ],
      "text/markdown": [
       "5.73487514702011"
      ],
      "text/plain": [
       "[1] 5.734875"
      ]
     },
     "execution_count": 9,
     "metadata": {},
     "output_type": "execute_result"
    }
   ],
   "source": [
    "SSE"
   ]
  },
  {
   "cell_type": "code",
   "execution_count": 10,
   "metadata": {
    "collapsed": true
   },
   "outputs": [],
   "source": [
    "model2 = lm(Price ~ AGST + HarvestRain, data=wine)"
   ]
  },
  {
   "cell_type": "code",
   "execution_count": 11,
   "metadata": {
    "collapsed": false
   },
   "outputs": [
    {
     "data": {
      "text/plain": [
       "\n",
       "Call:\n",
       "lm(formula = Price ~ AGST + HarvestRain, data = wine)\n",
       "\n",
       "Residuals:\n",
       "     Min       1Q   Median       3Q      Max \n",
       "-0.88321 -0.19600  0.06178  0.15379  0.59722 \n",
       "\n",
       "Coefficients:\n",
       "            Estimate Std. Error t value Pr(>|t|)    \n",
       "(Intercept) -2.20265    1.85443  -1.188 0.247585    \n",
       "AGST         0.60262    0.11128   5.415 1.94e-05 ***\n",
       "HarvestRain -0.00457    0.00101  -4.525 0.000167 ***\n",
       "---\n",
       "Signif. codes:  0 ‘***’ 0.001 ‘**’ 0.01 ‘*’ 0.05 ‘.’ 0.1 ‘ ’ 1\n",
       "\n",
       "Residual standard error: 0.3674 on 22 degrees of freedom\n",
       "Multiple R-squared:  0.7074,\tAdjusted R-squared:  0.6808 \n",
       "F-statistic: 26.59 on 2 and 22 DF,  p-value: 1.347e-06\n"
      ]
     },
     "execution_count": 11,
     "metadata": {},
     "output_type": "execute_result"
    }
   ],
   "source": [
    "summary(model2)"
   ]
  },
  {
   "cell_type": "code",
   "execution_count": 12,
   "metadata": {
    "collapsed": false
   },
   "outputs": [
    {
     "data": {
      "text/plain": [
       "\n",
       "Call:\n",
       "lm(formula = Price ~ AGST + HarvestRain + WinterRain + Age + \n",
       "    FrancePop, data = wine)\n",
       "\n",
       "Residuals:\n",
       "     Min       1Q   Median       3Q      Max \n",
       "-0.48179 -0.24662 -0.00726  0.22012  0.51987 \n",
       "\n",
       "Coefficients:\n",
       "              Estimate Std. Error t value Pr(>|t|)    \n",
       "(Intercept) -4.504e-01  1.019e+01  -0.044 0.965202    \n",
       "AGST         6.012e-01  1.030e-01   5.836 1.27e-05 ***\n",
       "HarvestRain -3.958e-03  8.751e-04  -4.523 0.000233 ***\n",
       "WinterRain   1.043e-03  5.310e-04   1.963 0.064416 .  \n",
       "Age          5.847e-04  7.900e-02   0.007 0.994172    \n",
       "FrancePop   -4.953e-05  1.667e-04  -0.297 0.769578    \n",
       "---\n",
       "Signif. codes:  0 ‘***’ 0.001 ‘**’ 0.01 ‘*’ 0.05 ‘.’ 0.1 ‘ ’ 1\n",
       "\n",
       "Residual standard error: 0.3019 on 19 degrees of freedom\n",
       "Multiple R-squared:  0.8294,\tAdjusted R-squared:  0.7845 \n",
       "F-statistic: 18.47 on 5 and 19 DF,  p-value: 1.044e-06\n"
      ]
     },
     "execution_count": 12,
     "metadata": {},
     "output_type": "execute_result"
    }
   ],
   "source": [
    "model3 = lm(Price ~ AGST + HarvestRain + WinterRain + Age + FrancePop, data=wine)\n",
    "summary(model3)"
   ]
  },
  {
   "cell_type": "code",
   "execution_count": 14,
   "metadata": {
    "collapsed": false
   },
   "outputs": [
    {
     "data": {
      "text/plain": [
       "\n",
       "Call:\n",
       "lm(formula = Price ~ HarvestRain + WinterRain, data = wine)\n",
       "\n",
       "Residuals:\n",
       "    Min      1Q  Median      3Q     Max \n",
       "-1.0933 -0.3222 -0.1012  0.3871  1.1877 \n",
       "\n",
       "Coefficients:\n",
       "              Estimate Std. Error t value Pr(>|t|)    \n",
       "(Intercept)  7.865e+00  6.616e-01  11.888 4.76e-11 ***\n",
       "HarvestRain -4.971e-03  1.601e-03  -3.105  0.00516 ** \n",
       "WinterRain  -9.848e-05  9.007e-04  -0.109  0.91392    \n",
       "---\n",
       "Signif. codes:  0 ‘***’ 0.001 ‘**’ 0.01 ‘*’ 0.05 ‘.’ 0.1 ‘ ’ 1\n",
       "\n",
       "Residual standard error: 0.5611 on 22 degrees of freedom\n",
       "Multiple R-squared:  0.3177,\tAdjusted R-squared:  0.2557 \n",
       "F-statistic: 5.122 on 2 and 22 DF,  p-value: 0.01492\n"
      ]
     },
     "execution_count": 14,
     "metadata": {},
     "output_type": "execute_result"
    }
   ],
   "source": [
    "model3.1 = lm(Price ~ HarvestRain + WinterRain, data=wine)\n",
    "summary(model3.1)"
   ]
  },
  {
   "cell_type": "code",
   "execution_count": 15,
   "metadata": {
    "collapsed": false
   },
   "outputs": [
    {
     "data": {
      "text/plain": [
       "\n",
       "Call:\n",
       "lm(formula = Price ~ AGST + HarvestRain + WinterRain + Age, data = wine)\n",
       "\n",
       "Residuals:\n",
       "     Min       1Q   Median       3Q      Max \n",
       "-0.45470 -0.24273  0.00752  0.19773  0.53637 \n",
       "\n",
       "Coefficients:\n",
       "              Estimate Std. Error t value Pr(>|t|)    \n",
       "(Intercept) -3.4299802  1.7658975  -1.942 0.066311 .  \n",
       "AGST         0.6072093  0.0987022   6.152  5.2e-06 ***\n",
       "HarvestRain -0.0039715  0.0008538  -4.652 0.000154 ***\n",
       "WinterRain   0.0010755  0.0005073   2.120 0.046694 *  \n",
       "Age          0.0239308  0.0080969   2.956 0.007819 ** \n",
       "---\n",
       "Signif. codes:  0 ‘***’ 0.001 ‘**’ 0.01 ‘*’ 0.05 ‘.’ 0.1 ‘ ’ 1\n",
       "\n",
       "Residual standard error: 0.295 on 20 degrees of freedom\n",
       "Multiple R-squared:  0.8286,\tAdjusted R-squared:  0.7943 \n",
       "F-statistic: 24.17 on 4 and 20 DF,  p-value: 2.036e-07\n"
      ]
     },
     "execution_count": 15,
     "metadata": {},
     "output_type": "execute_result"
    }
   ],
   "source": [
    "model4 = lm(Price ~ AGST + HarvestRain + WinterRain + Age, data=wine)\n",
    "summary(model4) ## Slight or the same as Model3, but less parameter"
   ]
  },
  {
   "cell_type": "markdown",
   "metadata": {},
   "source": [
    "## Correlations in R - COR"
   ]
  },
  {
   "cell_type": "code",
   "execution_count": 16,
   "metadata": {
    "collapsed": false
   },
   "outputs": [
    {
     "data": {
      "text/html": [
       "0.13665054738763"
      ],
      "text/latex": [
       "0.13665054738763"
      ],
      "text/markdown": [
       "0.13665054738763"
      ],
      "text/plain": [
       "[1] 0.1366505"
      ]
     },
     "execution_count": 16,
     "metadata": {},
     "output_type": "execute_result"
    }
   ],
   "source": [
    "cor(wine$WinterRain, wine$Price)"
   ]
  },
  {
   "cell_type": "code",
   "execution_count": 17,
   "metadata": {
    "collapsed": false
   },
   "outputs": [
    {
     "data": {
      "text/html": [
       "\n",
       "<table width=\"100%\" summary=\"page for cor {stats}\"><tr><td>cor {stats}</td><td style=\"text-align: right;\">R Documentation</td></tr></table>\n",
       "\n",
       "<h2>Correlation, Variance and Covariance (Matrices)</h2>\n",
       "\n",
       "<h3>Description</h3>\n",
       "\n",
       "<p><code>var</code>, <code>cov</code> and <code>cor</code> compute the variance of <code>x</code>\n",
       "and the covariance or correlation of <code>x</code> and <code>y</code> if these\n",
       "are vectors.   If <code>x</code> and <code>y</code> are matrices then the\n",
       "covariances (or correlations) between the columns of <code>x</code> and the\n",
       "columns of <code>y</code> are computed.\n",
       "</p>\n",
       "<p><code>cov2cor</code> scales a covariance matrix into the corresponding\n",
       "correlation matrix <em>efficiently</em>.\n",
       "</p>\n",
       "\n",
       "\n",
       "<h3>Usage</h3>\n",
       "\n",
       "<pre>\n",
       "var(x, y = NULL, na.rm = FALSE, use)\n",
       "\n",
       "cov(x, y = NULL, use = \"everything\",\n",
       "    method = c(\"pearson\", \"kendall\", \"spearman\"))\n",
       "\n",
       "cor(x, y = NULL, use = \"everything\",\n",
       "    method = c(\"pearson\", \"kendall\", \"spearman\"))\n",
       "\n",
       "cov2cor(V)\n",
       "</pre>\n",
       "\n",
       "\n",
       "<h3>Arguments</h3>\n",
       "\n",
       "<table summary=\"R argblock\">\n",
       "<tr valign=\"top\"><td><code>x</code></td>\n",
       "<td>\n",
       "<p>a numeric vector, matrix or data frame.</p>\n",
       "</td></tr>\n",
       "<tr valign=\"top\"><td><code>y</code></td>\n",
       "<td>\n",
       "<p><code>NULL</code> (default) or a vector, matrix or data frame with\n",
       "compatible dimensions to <code>x</code>.   The default is equivalent to\n",
       "<code>y = x</code> (but more efficient).</p>\n",
       "</td></tr>\n",
       "<tr valign=\"top\"><td><code>na.rm</code></td>\n",
       "<td>\n",
       "<p>logical. Should missing values be removed?</p>\n",
       "</td></tr>\n",
       "<tr valign=\"top\"><td><code>use</code></td>\n",
       "<td>\n",
       "<p>an optional character string giving a\n",
       "method for computing covariances in the presence\n",
       "of missing values.  This must be (an abbreviation of) one of the strings\n",
       "<code>\"everything\"</code>, <code>\"all.obs\"</code>, <code>\"complete.obs\"</code>,\n",
       "<code>\"na.or.complete\"</code>, or <code>\"pairwise.complete.obs\"</code>.</p>\n",
       "</td></tr>\n",
       "<tr valign=\"top\"><td><code>method</code></td>\n",
       "<td>\n",
       "<p>a character string indicating which correlation\n",
       "coefficient (or covariance) is to be computed.  One of\n",
       "<code>\"pearson\"</code> (default), <code>\"kendall\"</code>, or <code>\"spearman\"</code>:\n",
       "can be abbreviated.</p>\n",
       "</td></tr>\n",
       "<tr valign=\"top\"><td><code>V</code></td>\n",
       "<td>\n",
       "<p>symmetric numeric matrix, usually positive definite such as a\n",
       "covariance matrix.</p>\n",
       "</td></tr>\n",
       "</table>\n",
       "\n",
       "\n",
       "<h3>Details</h3>\n",
       "\n",
       "<p>For <code>cov</code> and <code>cor</code> one must <em>either</em> give a matrix or\n",
       "data frame for <code>x</code> <em>or</em> give both <code>x</code> and <code>y</code>.\n",
       "</p>\n",
       "<p>The inputs must be numeric (as determined by <code>is.numeric</code>:\n",
       "logical values are also allowed for historical compatibility): the\n",
       "<code>\"kendall\"</code> and <code>\"spearman\"</code> methods make sense for ordered\n",
       "inputs but <code>xtfrm</code> can be used to find a suitable prior\n",
       "transformation to numbers.\n",
       "</p>\n",
       "<p><code>var</code> is just another interface to <code>cov</code>, where\n",
       "<code>na.rm</code> is used to determine the default for <code>use</code> when that\n",
       "is unspecified.  If <code>na.rm</code> is <code>TRUE</code> then the complete\n",
       "observations (rows) are used (<code>use = \"na.or.complete\"</code>) to\n",
       "compute the variance.  Otherwise, by default <code>use = \"everything\"</code>.\n",
       "</p>\n",
       "<p>If <code>use</code> is <code>\"everything\"</code>, <code>NA</code>s will\n",
       "propagate conceptually, i.e., a resulting value will be <code>NA</code>\n",
       "whenever one of its contributing observations is <code>NA</code>.<br />\n",
       "If <code>use</code> is <code>\"all.obs\"</code>, then the presence of missing\n",
       "observations will produce an error.  If <code>use</code> is\n",
       "<code>\"complete.obs\"</code> then missing values are handled by casewise\n",
       "deletion (and if there are no complete cases, that gives an error).\n",
       "<br />\n",
       "<code>\"na.or.complete\"</code> is the same unless there are no complete\n",
       "cases, that gives <code>NA</code>.\n",
       "Finally, if <code>use</code> has the value <code>\"pairwise.complete.obs\"</code>\n",
       "then the correlation or covariance between each pair of variables is\n",
       "computed using all complete pairs of observations on those variables.\n",
       "This can result in covariance or correlation matrices which are not positive\n",
       "semi-definite, as well as <code>NA</code> entries if there are no complete\n",
       "pairs for that pair of variables.   For <code>cov</code> and <code>var</code>,\n",
       "<code>\"pairwise.complete.obs\"</code> only works with the <code>\"pearson\"</code>\n",
       "method.\n",
       "Note that (the equivalent of) <code>var(double(0), use = *)</code> gives\n",
       "<code>NA</code> for <code>use = \"everything\"</code> and <code>\"na.or.complete\"</code>,\n",
       "and gives an error in the other cases.\n",
       "</p>\n",
       "<p>The denominator <i>n - 1</i> is used which gives an unbiased estimator\n",
       "of the (co)variance for i.i.d. observations.\n",
       "These functions return <code>NA</code> when there is only one\n",
       "observation (whereas S-PLUS has been returning <code>NaN</code>), and\n",
       "fail if <code>x</code> has length zero.\n",
       "</p>\n",
       "<p>For <code>cor()</code>, if <code>method</code> is <code>\"kendall\"</code> or\n",
       "<code>\"spearman\"</code>, Kendall's <i>tau</i> or Spearman's\n",
       "<i>rho</i> statistic is used to estimate a rank-based measure of\n",
       "association.  These are more robust and have been recommended if the\n",
       "data do not necessarily come from a bivariate normal distribution.<br />\n",
       "For <code>cov()</code>, a non-Pearson method is unusual but available for\n",
       "the sake of completeness.  Note that <code>\"spearman\"</code> basically\n",
       "computes <code>cor(R(x), R(y))</code> (or <code>cov(., .)</code>) where <code>R(u)\n",
       "  := rank(u, na.last = \"keep\")</code>. In the case of missing values, the\n",
       "ranks are calculated depending on the value of <code>use</code>, either\n",
       "based on complete observations, or based on pairwise completeness with\n",
       "reranking for each pair.\n",
       "</p>\n",
       "<p>Scaling a covariance matrix into a correlation one can be achieved in\n",
       "many ways, mathematically most appealing by multiplication with a\n",
       "diagonal matrix from left and right, or more efficiently by using\n",
       "<code>sweep(.., FUN = \"/\")</code> twice.  The <code>cov2cor</code> function\n",
       "is even a bit more efficient, and provided mostly for didactical\n",
       "reasons.\n",
       "</p>\n",
       "\n",
       "\n",
       "<h3>Value</h3>\n",
       "\n",
       "<p>For <code>r &lt;- cor(*, use = \"all.obs\")</code>, it is now guaranteed that\n",
       "<code>all(r &lt;= 1)</code>.\n",
       "</p>\n",
       "\n",
       "\n",
       "<h3>Note</h3>\n",
       "\n",
       "<p>Some people have noted that the code for Kendall's tau is slow for\n",
       "very large datasets (many more than 1000 cases).  It rarely makes\n",
       "sense to do such a computation, but see function\n",
       "<code>cor.fk</code> in package <a href=\"https://CRAN.R-project.org/package=pcaPP\"><span class=\"pkg\">pcaPP</span></a>.\n",
       "</p>\n",
       "\n",
       "\n",
       "<h3>References</h3>\n",
       "\n",
       "<p>Becker, R. A., Chambers, J. M. and Wilks, A. R. (1988)\n",
       "<em>The New S Language</em>.\n",
       "Wadsworth &amp; Brooks/Cole.\n",
       "</p>\n",
       "\n",
       "\n",
       "<h3>See Also</h3>\n",
       "\n",
       "<p><code>cor.test</code> for confidence intervals (and tests).\n",
       "</p>\n",
       "<p><code>cov.wt</code> for <em>weighted</em> covariance computation.\n",
       "</p>\n",
       "<p><code>sd</code> for standard deviation (vectors).\n",
       "</p>\n",
       "\n",
       "\n",
       "<h3>Examples</h3>\n",
       "\n",
       "<pre>\n",
       "var(1:10)  # 9.166667\n",
       "\n",
       "var(1:5, 1:5) # 2.5\n",
       "\n",
       "## Two simple vectors\n",
       "cor(1:10, 2:11) # == 1\n",
       "\n",
       "## Correlation Matrix of Multivariate sample:\n",
       "(Cl &lt;- cor(longley))\n",
       "## Graphical Correlation Matrix:\n",
       "symnum(Cl) # highly correlated\n",
       "\n",
       "## Spearman's rho  and  Kendall's tau\n",
       "symnum(clS &lt;- cor(longley, method = \"spearman\"))\n",
       "symnum(clK &lt;- cor(longley, method = \"kendall\"))\n",
       "## How much do they differ?\n",
       "i &lt;- lower.tri(Cl)\n",
       "cor(cbind(P = Cl[i], S = clS[i], K = clK[i]))\n",
       "\n",
       "\n",
       "## cov2cor() scales a covariance matrix by its diagonal\n",
       "##           to become the correlation matrix.\n",
       "cov2cor # see the function definition {and learn ..}\n",
       "stopifnot(all.equal(Cl, cov2cor(cov(longley))),\n",
       "          all.equal(cor(longley, method = \"kendall\"),\n",
       "            cov2cor(cov(longley, method = \"kendall\"))))\n",
       "\n",
       "##--- Missing value treatment:\n",
       "\n",
       "C1 &lt;- cov(swiss)\n",
       "range(eigen(C1, only.values = TRUE)$values) # 6.19        1921\n",
       "\n",
       "## swM := \"swiss\" with  3 \"missing\"s :\n",
       "swM &lt;- swiss\n",
       "colnames(swM) &lt;- abbreviate(colnames(swiss), min=6)\n",
       "swM[1,2] &lt;- swM[7,3] &lt;- swM[25,5] &lt;- NA # create 3 \"missing\"\n",
       "\n",
       "## Consider all 5 \"use\" cases :\n",
       "(C. &lt;- cov(swM)) # use=\"everything\"  quite a few NA's in cov.matrix\n",
       "try(cov(swM, use = \"all\")) # Error: missing obs...\n",
       "C2 &lt;- cov(swM, use = \"complete\")\n",
       "stopifnot(identical(C2, cov(swM, use = \"na.or.complete\")))\n",
       "range(eigen(C2, only.values = TRUE)$values) # 6.46   1930\n",
       "C3 &lt;- cov(swM, use = \"pairwise\")\n",
       "range(eigen(C3, only.values = TRUE)$values) # 6.19   1938\n",
       "\n",
       "## Kendall's tau doesn't change much:\n",
       "symnum(Rc &lt;- cor(swM, method = \"kendall\", use = \"complete\"))\n",
       "symnum(Rp &lt;- cor(swM, method = \"kendall\", use = \"pairwise\"))\n",
       "symnum(R. &lt;- cor(swiss, method = \"kendall\"))\n",
       "\n",
       "## \"pairwise\" is closer componentwise,\n",
       "summary(abs(c(1 - Rp/R.)))\n",
       "summary(abs(c(1 - Rc/R.)))\n",
       "\n",
       "## but \"complete\" is closer in Eigen space:\n",
       "EV &lt;- function(m) eigen(m, only.values=TRUE)$values\n",
       "summary(abs(1 - EV(Rp)/EV(R.)) / abs(1 - EV(Rc)/EV(R.)))\n",
       "</pre>\n",
       "\n",
       "<hr /><div style=\"text-align: center;\">[Package <em>stats</em> version 3.2.3 ]</div>"
      ],
      "text/latex": [
       "\\inputencoding{utf8}\n",
       "\\HeaderA{cor}{Correlation, Variance and Covariance (Matrices)}{cor}\n",
       "\\aliasA{cov}{cor}{cov}\n",
       "\\aliasA{cov2cor}{cor}{cov2cor}\n",
       "\\aliasA{var}{cor}{var}\n",
       "\\keyword{univar}{cor}\n",
       "\\keyword{multivariate}{cor}\n",
       "\\keyword{array}{cor}\n",
       "%\n",
       "\\begin{Description}\\relax\n",
       "\\code{var}, \\code{cov} and \\code{cor} compute the variance of \\code{x}\n",
       "and the covariance or correlation of \\code{x} and \\code{y} if these\n",
       "are vectors.   If \\code{x} and \\code{y} are matrices then the\n",
       "covariances (or correlations) between the columns of \\code{x} and the\n",
       "columns of \\code{y} are computed.\n",
       "\n",
       "\\code{cov2cor} scales a covariance matrix into the corresponding\n",
       "correlation matrix \\emph{efficiently}.\n",
       "\\end{Description}\n",
       "%\n",
       "\\begin{Usage}\n",
       "\\begin{verbatim}\n",
       "var(x, y = NULL, na.rm = FALSE, use)\n",
       "\n",
       "cov(x, y = NULL, use = \"everything\",\n",
       "    method = c(\"pearson\", \"kendall\", \"spearman\"))\n",
       "\n",
       "cor(x, y = NULL, use = \"everything\",\n",
       "    method = c(\"pearson\", \"kendall\", \"spearman\"))\n",
       "\n",
       "cov2cor(V)\n",
       "\\end{verbatim}\n",
       "\\end{Usage}\n",
       "%\n",
       "\\begin{Arguments}\n",
       "\\begin{ldescription}\n",
       "\\item[\\code{x}] a numeric vector, matrix or data frame.\n",
       "\\item[\\code{y}] \\code{NULL} (default) or a vector, matrix or data frame with\n",
       "compatible dimensions to \\code{x}.   The default is equivalent to\n",
       "\\code{y = x} (but more efficient).\n",
       "\\item[\\code{na.rm}] logical. Should missing values be removed?\n",
       "\\item[\\code{use}] an optional character string giving a\n",
       "method for computing covariances in the presence\n",
       "of missing values.  This must be (an abbreviation of) one of the strings\n",
       "\\code{\"everything\"}, \\code{\"all.obs\"}, \\code{\"complete.obs\"},\n",
       "\\code{\"na.or.complete\"}, or \\code{\"pairwise.complete.obs\"}.\n",
       "\\item[\\code{method}] a character string indicating which correlation\n",
       "coefficient (or covariance) is to be computed.  One of\n",
       "\\code{\"pearson\"} (default), \\code{\"kendall\"}, or \\code{\"spearman\"}:\n",
       "can be abbreviated.\n",
       "\\item[\\code{V}] symmetric numeric matrix, usually positive definite such as a\n",
       "covariance matrix.\n",
       "\\end{ldescription}\n",
       "\\end{Arguments}\n",
       "%\n",
       "\\begin{Details}\\relax\n",
       "For \\code{cov} and \\code{cor} one must \\emph{either} give a matrix or\n",
       "data frame for \\code{x} \\emph{or} give both \\code{x} and \\code{y}.\n",
       "\n",
       "The inputs must be numeric (as determined by \\code{\\LinkA{is.numeric}{is.numeric}}:\n",
       "logical values are also allowed for historical compatibility): the\n",
       "\\code{\"kendall\"} and \\code{\"spearman\"} methods make sense for ordered\n",
       "inputs but \\code{\\LinkA{xtfrm}{xtfrm}} can be used to find a suitable prior\n",
       "transformation to numbers.\n",
       "\n",
       "\\code{var} is just another interface to \\code{cov}, where\n",
       "\\code{na.rm} is used to determine the default for \\code{use} when that\n",
       "is unspecified.  If \\code{na.rm} is \\code{TRUE} then the complete\n",
       "observations (rows) are used (\\code{use = \"na.or.complete\"}) to\n",
       "compute the variance.  Otherwise, by default \\code{use = \"everything\"}.\n",
       "\n",
       "If \\code{use} is \\code{\"everything\"}, \\code{\\LinkA{NA}{NA}}s will\n",
       "propagate conceptually, i.e., a resulting value will be \\code{NA}\n",
       "whenever one of its contributing observations is \\code{NA}.\\\\{}\n",
       "If \\code{use} is \\code{\"all.obs\"}, then the presence of missing\n",
       "observations will produce an error.  If \\code{use} is\n",
       "\\code{\"complete.obs\"} then missing values are handled by casewise\n",
       "deletion (and if there are no complete cases, that gives an error).\n",
       "\\\\{}\n",
       "\\code{\"na.or.complete\"} is the same unless there are no complete\n",
       "cases, that gives \\code{NA}.\n",
       "Finally, if \\code{use} has the value \\code{\"pairwise.complete.obs\"}\n",
       "then the correlation or covariance between each pair of variables is\n",
       "computed using all complete pairs of observations on those variables.\n",
       "This can result in covariance or correlation matrices which are not positive\n",
       "semi-definite, as well as \\code{NA} entries if there are no complete\n",
       "pairs for that pair of variables.   For \\code{cov} and \\code{var},\n",
       "\\code{\"pairwise.complete.obs\"} only works with the \\code{\"pearson\"}\n",
       "method.\n",
       "Note that (the equivalent of) \\code{var(double(0), use = *)} gives\n",
       "\\code{NA} for \\code{use = \"everything\"} and \\code{\"na.or.complete\"},\n",
       "and gives an error in the other cases.\n",
       "\n",
       "The denominator \\eqn{n - 1}{} is used which gives an unbiased estimator\n",
       "of the (co)variance for i.i.d. observations.\n",
       "These functions return \\code{\\LinkA{NA}{NA}} when there is only one\n",
       "observation (whereas S-PLUS has been returning \\code{NaN}), and\n",
       "fail if \\code{x} has length zero.\n",
       "\n",
       "For \\code{cor()}, if \\code{method} is \\code{\"kendall\"} or\n",
       "\\code{\"spearman\"}, Kendall's \\eqn{\\tau}{} or Spearman's\n",
       "\\eqn{\\rho}{} statistic is used to estimate a rank-based measure of\n",
       "association.  These are more robust and have been recommended if the\n",
       "data do not necessarily come from a bivariate normal distribution.\\\\{}\n",
       "For \\code{cov()}, a non-Pearson method is unusual but available for\n",
       "the sake of completeness.  Note that \\code{\"spearman\"} basically\n",
       "computes \\code{cor(R(x), R(y))} (or \\code{cov(., .)}) where \\code{R(u)\n",
       "  := rank(u, na.last = \"keep\")}. In the case of missing values, the\n",
       "ranks are calculated depending on the value of \\code{use}, either\n",
       "based on complete observations, or based on pairwise completeness with\n",
       "reranking for each pair.\n",
       "\n",
       "Scaling a covariance matrix into a correlation one can be achieved in\n",
       "many ways, mathematically most appealing by multiplication with a\n",
       "diagonal matrix from left and right, or more efficiently by using\n",
       "\\code{\\LinkA{sweep}{sweep}(.., FUN = \"/\")} twice.  The \\code{cov2cor} function\n",
       "is even a bit more efficient, and provided mostly for didactical\n",
       "reasons.\n",
       "\\end{Details}\n",
       "%\n",
       "\\begin{Value}\n",
       "For \\code{r <- cor(*, use = \"all.obs\")}, it is now guaranteed that\n",
       "\\code{all(r <= 1)}.\n",
       "\\end{Value}\n",
       "%\n",
       "\\begin{Note}\\relax\n",
       "Some people have noted that the code for Kendall's tau is slow for\n",
       "very large datasets (many more than 1000 cases).  It rarely makes\n",
       "sense to do such a computation, but see function\n",
       "\\code{\\LinkA{cor.fk}{cor.fk}} in package \\Rhref{https://CRAN.R-project.org/package=pcaPP}{\\pkg{pcaPP}}.\n",
       "\\end{Note}\n",
       "%\n",
       "\\begin{References}\\relax\n",
       "Becker, R. A., Chambers, J. M. and Wilks, A. R. (1988)\n",
       "\\emph{The New S Language}.\n",
       "Wadsworth \\& Brooks/Cole.\n",
       "\\end{References}\n",
       "%\n",
       "\\begin{SeeAlso}\\relax\n",
       "\\code{\\LinkA{cor.test}{cor.test}} for confidence intervals (and tests).\n",
       "\n",
       "\\code{\\LinkA{cov.wt}{cov.wt}} for \\emph{weighted} covariance computation.\n",
       "\n",
       "\\code{\\LinkA{sd}{sd}} for standard deviation (vectors).\n",
       "\\end{SeeAlso}\n",
       "%\n",
       "\\begin{Examples}\n",
       "\\begin{ExampleCode}\n",
       "var(1:10)  # 9.166667\n",
       "\n",
       "var(1:5, 1:5) # 2.5\n",
       "\n",
       "## Two simple vectors\n",
       "cor(1:10, 2:11) # == 1\n",
       "\n",
       "## Correlation Matrix of Multivariate sample:\n",
       "(Cl <- cor(longley))\n",
       "## Graphical Correlation Matrix:\n",
       "symnum(Cl) # highly correlated\n",
       "\n",
       "## Spearman's rho  and  Kendall's tau\n",
       "symnum(clS <- cor(longley, method = \"spearman\"))\n",
       "symnum(clK <- cor(longley, method = \"kendall\"))\n",
       "## How much do they differ?\n",
       "i <- lower.tri(Cl)\n",
       "cor(cbind(P = Cl[i], S = clS[i], K = clK[i]))\n",
       "\n",
       "\n",
       "## cov2cor() scales a covariance matrix by its diagonal\n",
       "##           to become the correlation matrix.\n",
       "cov2cor # see the function definition {and learn ..}\n",
       "stopifnot(all.equal(Cl, cov2cor(cov(longley))),\n",
       "          all.equal(cor(longley, method = \"kendall\"),\n",
       "            cov2cor(cov(longley, method = \"kendall\"))))\n",
       "\n",
       "##--- Missing value treatment:\n",
       "\n",
       "C1 <- cov(swiss)\n",
       "range(eigen(C1, only.values = TRUE)$values) # 6.19        1921\n",
       "\n",
       "## swM := \"swiss\" with  3 \"missing\"s :\n",
       "swM <- swiss\n",
       "colnames(swM) <- abbreviate(colnames(swiss), min=6)\n",
       "swM[1,2] <- swM[7,3] <- swM[25,5] <- NA # create 3 \"missing\"\n",
       "\n",
       "## Consider all 5 \"use\" cases :\n",
       "(C. <- cov(swM)) # use=\"everything\"  quite a few NA's in cov.matrix\n",
       "try(cov(swM, use = \"all\")) # Error: missing obs...\n",
       "C2 <- cov(swM, use = \"complete\")\n",
       "stopifnot(identical(C2, cov(swM, use = \"na.or.complete\")))\n",
       "range(eigen(C2, only.values = TRUE)$values) # 6.46   1930\n",
       "C3 <- cov(swM, use = \"pairwise\")\n",
       "range(eigen(C3, only.values = TRUE)$values) # 6.19   1938\n",
       "\n",
       "## Kendall's tau doesn't change much:\n",
       "symnum(Rc <- cor(swM, method = \"kendall\", use = \"complete\"))\n",
       "symnum(Rp <- cor(swM, method = \"kendall\", use = \"pairwise\"))\n",
       "symnum(R. <- cor(swiss, method = \"kendall\"))\n",
       "\n",
       "## \"pairwise\" is closer componentwise,\n",
       "summary(abs(c(1 - Rp/R.)))\n",
       "summary(abs(c(1 - Rc/R.)))\n",
       "\n",
       "## but \"complete\" is closer in Eigen space:\n",
       "EV <- function(m) eigen(m, only.values=TRUE)$values\n",
       "summary(abs(1 - EV(Rp)/EV(R.)) / abs(1 - EV(Rc)/EV(R.)))\n",
       "\\end{ExampleCode}\n",
       "\\end{Examples}"
      ],
      "text/plain": [
       "cor                   package:stats                    R Documentation\n",
       "\n",
       "_\bC_\bo_\br_\br_\be_\bl_\ba_\bt_\bi_\bo_\bn, _\bV_\ba_\br_\bi_\ba_\bn_\bc_\be _\ba_\bn_\bd _\bC_\bo_\bv_\ba_\br_\bi_\ba_\bn_\bc_\be (_\bM_\ba_\bt_\br_\bi_\bc_\be_\bs)\n",
       "\n",
       "_\bD_\be_\bs_\bc_\br_\bi_\bp_\bt_\bi_\bo_\bn:\n",
       "\n",
       "     ‘var’, ‘cov’ and ‘cor’ compute the variance of ‘x’ and the\n",
       "     covariance or correlation of ‘x’ and ‘y’ if these are vectors.  If\n",
       "     ‘x’ and ‘y’ are matrices then the covariances (or correlations)\n",
       "     between the columns of ‘x’ and the columns of ‘y’ are computed.\n",
       "\n",
       "     ‘cov2cor’ scales a covariance matrix into the corresponding\n",
       "     correlation matrix _efficiently_.\n",
       "\n",
       "_\bU_\bs_\ba_\bg_\be:\n",
       "\n",
       "     var(x, y = NULL, na.rm = FALSE, use)\n",
       "     \n",
       "     cov(x, y = NULL, use = \"everything\",\n",
       "         method = c(\"pearson\", \"kendall\", \"spearman\"))\n",
       "     \n",
       "     cor(x, y = NULL, use = \"everything\",\n",
       "         method = c(\"pearson\", \"kendall\", \"spearman\"))\n",
       "     \n",
       "     cov2cor(V)\n",
       "     \n",
       "_\bA_\br_\bg_\bu_\bm_\be_\bn_\bt_\bs:\n",
       "\n",
       "       x: a numeric vector, matrix or data frame.\n",
       "\n",
       "       y: ‘NULL’ (default) or a vector, matrix or data frame with\n",
       "          compatible dimensions to ‘x’.  The default is equivalent to\n",
       "          ‘y = x’ (but more efficient).\n",
       "\n",
       "   na.rm: logical. Should missing values be removed?\n",
       "\n",
       "     use: an optional character string giving a method for computing\n",
       "          covariances in the presence of missing values.  This must be\n",
       "          (an abbreviation of) one of the strings ‘\"everything\"’,\n",
       "          ‘\"all.obs\"’, ‘\"complete.obs\"’, ‘\"na.or.complete\"’, or\n",
       "          ‘\"pairwise.complete.obs\"’.\n",
       "\n",
       "  method: a character string indicating which correlation coefficient\n",
       "          (or covariance) is to be computed.  One of ‘\"pearson\"’\n",
       "          (default), ‘\"kendall\"’, or ‘\"spearman\"’: can be abbreviated.\n",
       "\n",
       "       V: symmetric numeric matrix, usually positive definite such as a\n",
       "          covariance matrix.\n",
       "\n",
       "_\bD_\be_\bt_\ba_\bi_\bl_\bs:\n",
       "\n",
       "     For ‘cov’ and ‘cor’ one must _either_ give a matrix or data frame\n",
       "     for ‘x’ _or_ give both ‘x’ and ‘y’.\n",
       "\n",
       "     The inputs must be numeric (as determined by ‘is.numeric’: logical\n",
       "     values are also allowed for historical compatibility): the\n",
       "     ‘\"kendall\"’ and ‘\"spearman\"’ methods make sense for ordered inputs\n",
       "     but ‘xtfrm’ can be used to find a suitable prior transformation to\n",
       "     numbers.\n",
       "\n",
       "     ‘var’ is just another interface to ‘cov’, where ‘na.rm’ is used to\n",
       "     determine the default for ‘use’ when that is unspecified.  If\n",
       "     ‘na.rm’ is ‘TRUE’ then the complete observations (rows) are used\n",
       "     (‘use = \"na.or.complete\"’) to compute the variance.  Otherwise, by\n",
       "     default ‘use = \"everything\"’.\n",
       "\n",
       "     If ‘use’ is ‘\"everything\"’, ‘NA’s will propagate conceptually,\n",
       "     i.e., a resulting value will be ‘NA’ whenever one of its\n",
       "     contributing observations is ‘NA’.\n",
       "     If ‘use’ is ‘\"all.obs\"’, then the presence of missing observations\n",
       "     will produce an error.  If ‘use’ is ‘\"complete.obs\"’ then missing\n",
       "     values are handled by casewise deletion (and if there are no\n",
       "     complete cases, that gives an error).\n",
       "\n",
       "     ‘\"na.or.complete\"’ is the same unless there are no complete cases,\n",
       "     that gives ‘NA’.  Finally, if ‘use’ has the value\n",
       "     ‘\"pairwise.complete.obs\"’ then the correlation or covariance\n",
       "     between each pair of variables is computed using all complete\n",
       "     pairs of observations on those variables.  This can result in\n",
       "     covariance or correlation matrices which are not positive\n",
       "     semi-definite, as well as ‘NA’ entries if there are no complete\n",
       "     pairs for that pair of variables.  For ‘cov’ and ‘var’,\n",
       "     ‘\"pairwise.complete.obs\"’ only works with the ‘\"pearson\"’ method.\n",
       "     Note that (the equivalent of) ‘var(double(0), use = *)’ gives ‘NA’\n",
       "     for ‘use = \"everything\"’ and ‘\"na.or.complete\"’, and gives an\n",
       "     error in the other cases.\n",
       "\n",
       "     The denominator n - 1 is used which gives an unbiased estimator of\n",
       "     the (co)variance for i.i.d. observations.  These functions return\n",
       "     ‘NA’ when there is only one observation (whereas S-PLUS has been\n",
       "     returning ‘NaN’), and fail if ‘x’ has length zero.\n",
       "\n",
       "     For ‘cor()’, if ‘method’ is ‘\"kendall\"’ or ‘\"spearman\"’, Kendall's\n",
       "     tau or Spearman's rho statistic is used to estimate a rank-based\n",
       "     measure of association.  These are more robust and have been\n",
       "     recommended if the data do not necessarily come from a bivariate\n",
       "     normal distribution.\n",
       "     For ‘cov()’, a non-Pearson method is unusual but available for the\n",
       "     sake of completeness.  Note that ‘\"spearman\"’ basically computes\n",
       "     ‘cor(R(x), R(y))’ (or ‘cov(., .)’) where ‘R(u) := rank(u, na.last\n",
       "     = \"keep\")’. In the case of missing values, the ranks are\n",
       "     calculated depending on the value of ‘use’, either based on\n",
       "     complete observations, or based on pairwise completeness with\n",
       "     reranking for each pair.\n",
       "\n",
       "     Scaling a covariance matrix into a correlation one can be achieved\n",
       "     in many ways, mathematically most appealing by multiplication with\n",
       "     a diagonal matrix from left and right, or more efficiently by\n",
       "     using ‘sweep(.., FUN = \"/\")’ twice.  The ‘cov2cor’ function is\n",
       "     even a bit more efficient, and provided mostly for didactical\n",
       "     reasons.\n",
       "\n",
       "_\bV_\ba_\bl_\bu_\be:\n",
       "\n",
       "     For ‘r <- cor(*, use = \"all.obs\")’, it is now guaranteed that\n",
       "     ‘all(r <= 1)’.\n",
       "\n",
       "_\bN_\bo_\bt_\be:\n",
       "\n",
       "     Some people have noted that the code for Kendall's tau is slow for\n",
       "     very large datasets (many more than 1000 cases).  It rarely makes\n",
       "     sense to do such a computation, but see function ‘cor.fk’ in\n",
       "     package ‘pcaPP’.\n",
       "\n",
       "_\bR_\be_\bf_\be_\br_\be_\bn_\bc_\be_\bs:\n",
       "\n",
       "     Becker, R. A., Chambers, J. M. and Wilks, A. R. (1988) _The New S\n",
       "     Language_.  Wadsworth & Brooks/Cole.\n",
       "\n",
       "_\bS_\be_\be _\bA_\bl_\bs_\bo:\n",
       "\n",
       "     ‘cor.test’ for confidence intervals (and tests).\n",
       "\n",
       "     ‘cov.wt’ for _weighted_ covariance computation.\n",
       "\n",
       "     ‘sd’ for standard deviation (vectors).\n",
       "\n",
       "_\bE_\bx_\ba_\bm_\bp_\bl_\be_\bs:\n",
       "\n",
       "     var(1:10)  # 9.166667\n",
       "     \n",
       "     var(1:5, 1:5) # 2.5\n",
       "     \n",
       "     ## Two simple vectors\n",
       "     cor(1:10, 2:11) # == 1\n",
       "     \n",
       "     ## Correlation Matrix of Multivariate sample:\n",
       "     (Cl <- cor(longley))\n",
       "     ## Graphical Correlation Matrix:\n",
       "     symnum(Cl) # highly correlated\n",
       "     \n",
       "     ## Spearman's rho  and  Kendall's tau\n",
       "     symnum(clS <- cor(longley, method = \"spearman\"))\n",
       "     symnum(clK <- cor(longley, method = \"kendall\"))\n",
       "     ## How much do they differ?\n",
       "     i <- lower.tri(Cl)\n",
       "     cor(cbind(P = Cl[i], S = clS[i], K = clK[i]))\n",
       "     \n",
       "     \n",
       "     ## cov2cor() scales a covariance matrix by its diagonal\n",
       "     ##           to become the correlation matrix.\n",
       "     cov2cor # see the function definition {and learn ..}\n",
       "     stopifnot(all.equal(Cl, cov2cor(cov(longley))),\n",
       "               all.equal(cor(longley, method = \"kendall\"),\n",
       "                 cov2cor(cov(longley, method = \"kendall\"))))\n",
       "     \n",
       "     ##--- Missing value treatment:\n",
       "     \n",
       "     C1 <- cov(swiss)\n",
       "     range(eigen(C1, only.values = TRUE)$values) # 6.19        1921\n",
       "     \n",
       "     ## swM := \"swiss\" with  3 \"missing\"s :\n",
       "     swM <- swiss\n",
       "     colnames(swM) <- abbreviate(colnames(swiss), min=6)\n",
       "     swM[1,2] <- swM[7,3] <- swM[25,5] <- NA # create 3 \"missing\"\n",
       "     \n",
       "     ## Consider all 5 \"use\" cases :\n",
       "     (C. <- cov(swM)) # use=\"everything\"  quite a few NA's in cov.matrix\n",
       "     try(cov(swM, use = \"all\")) # Error: missing obs...\n",
       "     C2 <- cov(swM, use = \"complete\")\n",
       "     stopifnot(identical(C2, cov(swM, use = \"na.or.complete\")))\n",
       "     range(eigen(C2, only.values = TRUE)$values) # 6.46   1930\n",
       "     C3 <- cov(swM, use = \"pairwise\")\n",
       "     range(eigen(C3, only.values = TRUE)$values) # 6.19   1938\n",
       "     \n",
       "     ## Kendall's tau doesn't change much:\n",
       "     symnum(Rc <- cor(swM, method = \"kendall\", use = \"complete\"))\n",
       "     symnum(Rp <- cor(swM, method = \"kendall\", use = \"pairwise\"))\n",
       "     symnum(R. <- cor(swiss, method = \"kendall\"))\n",
       "     \n",
       "     ## \"pairwise\" is closer componentwise,\n",
       "     summary(abs(c(1 - Rp/R.)))\n",
       "     summary(abs(c(1 - Rc/R.)))\n",
       "     \n",
       "     ## but \"complete\" is closer in Eigen space:\n",
       "     EV <- function(m) eigen(m, only.values=TRUE)$values\n",
       "     summary(abs(1 - EV(Rp)/EV(R.)) / abs(1 - EV(Rc)/EV(R.)))\n",
       "     "
      ]
     },
     "execution_count": 17,
     "metadata": {},
     "output_type": "execute_result"
    }
   ],
   "source": [
    "?cor"
   ]
  },
  {
   "cell_type": "code",
   "execution_count": 18,
   "metadata": {
    "collapsed": false
   },
   "outputs": [
    {
     "data": {
      "text/html": [
       "-0.994485097111455"
      ],
      "text/latex": [
       "-0.994485097111455"
      ],
      "text/markdown": [
       "-0.994485097111455"
      ],
      "text/plain": [
       "[1] -0.9944851"
      ]
     },
     "execution_count": 18,
     "metadata": {},
     "output_type": "execute_result"
    }
   ],
   "source": [
    "cor(wine$Age, wine$FrancePop)"
   ]
  },
  {
   "cell_type": "code",
   "execution_count": 19,
   "metadata": {
    "collapsed": false
   },
   "outputs": [
    {
     "data": {
      "text/html": [
       "<table>\n",
       "<thead><tr><th></th><th scope=col>Year</th><th scope=col>Price</th><th scope=col>WinterRain</th><th scope=col>AGST</th><th scope=col>HarvestRain</th><th scope=col>Age</th><th scope=col>FrancePop</th></tr></thead>\n",
       "<tbody>\n",
       "\t<tr><th scope=row>Year</th><td> 1.00000000</td><td>-0.44776786</td><td> 0.01697002</td><td>-0.24691585</td><td> 0.02800907</td><td>-1.00000000</td><td> 0.99448510</td></tr>\n",
       "\t<tr><th scope=row>Price</th><td>-0.4477679</td><td> 1.0000000</td><td> 0.1366505</td><td> 0.6595629</td><td>-0.5633219</td><td> 0.4477679</td><td>-0.4668616</td></tr>\n",
       "\t<tr><th scope=row>WinterRain</th><td> 0.016970024</td><td> 0.136650547</td><td> 1.000000000</td><td>-0.321090611</td><td>-0.275440854</td><td>-0.016970024</td><td>-0.001621627</td></tr>\n",
       "\t<tr><th scope=row>AGST</th><td>-0.24691585</td><td> 0.65956286</td><td>-0.32109061</td><td> 1.00000000</td><td>-0.06449593</td><td> 0.24691585</td><td>-0.25916227</td></tr>\n",
       "\t<tr><th scope=row>HarvestRain</th><td> 0.02800907</td><td>-0.56332190</td><td>-0.27544085</td><td>-0.06449593</td><td> 1.00000000</td><td>-0.02800907</td><td> 0.04126439</td></tr>\n",
       "\t<tr><th scope=row>Age</th><td>-1.00000000</td><td> 0.44776786</td><td>-0.01697002</td><td> 0.24691585</td><td>-0.02800907</td><td> 1.00000000</td><td>-0.99448510</td></tr>\n",
       "\t<tr><th scope=row>FrancePop</th><td> 0.994485097</td><td>-0.466861641</td><td>-0.001621627</td><td>-0.259162274</td><td> 0.041264394</td><td>-0.994485097</td><td> 1.000000000</td></tr>\n",
       "</tbody>\n",
       "</table>\n"
      ],
      "text/latex": [
       "\\begin{tabular}{r|lllllll}\n",
       "  & Year & Price & WinterRain & AGST & HarvestRain & Age & FrancePop\\\\\n",
       "\\hline\n",
       "\tYear &  1.00000000 & -0.44776786 &  0.01697002 & -0.24691585 &  0.02800907 & -1.00000000 &  0.99448510\\\\\n",
       "\tPrice & -0.4477679 &  1.0000000 &  0.1366505 &  0.6595629 & -0.5633219 &  0.4477679 & -0.4668616\\\\\n",
       "\tWinterRain &  0.016970024 &  0.136650547 &  1.000000000 & -0.321090611 & -0.275440854 & -0.016970024 & -0.001621627\\\\\n",
       "\tAGST & -0.24691585 &  0.65956286 & -0.32109061 &  1.00000000 & -0.06449593 &  0.24691585 & -0.25916227\\\\\n",
       "\tHarvestRain &  0.02800907 & -0.56332190 & -0.27544085 & -0.06449593 &  1.00000000 & -0.02800907 &  0.04126439\\\\\n",
       "\tAge & -1.00000000 &  0.44776786 & -0.01697002 &  0.24691585 & -0.02800907 &  1.00000000 & -0.99448510\\\\\n",
       "\tFrancePop &  0.994485097 & -0.466861641 & -0.001621627 & -0.259162274 &  0.041264394 & -0.994485097 &  1.000000000\\\\\n",
       "\\end{tabular}\n"
      ],
      "text/markdown": [
       "1. 1\n",
       "2. -0.447767855382989\n",
       "3. 0.0169700237062503\n",
       "4. -0.246915850391149\n",
       "5. 0.0280090727015615\n",
       "6. -1\n",
       "7. 0.994485097111455\n",
       "8. -0.447767855382989\n",
       "9. 1\n",
       "10. 0.13665054738763\n",
       "11. 0.659562861143591\n",
       "12. -0.563321903510208\n",
       "13. 0.447767855382989\n",
       "14. -0.466861641249636\n",
       "15. 0.0169700237062503\n",
       "16. 0.13665054738763\n",
       "17. 1\n",
       "18. -0.321090610600727\n",
       "19. -0.275440854498618\n",
       "20. -0.0169700237062503\n",
       "21. -0.00162162696466083\n",
       "22. -0.246915850391149\n",
       "23. 0.659562861143591\n",
       "24. -0.321090610600727\n",
       "25. 1\n",
       "26. -0.0644959302726223\n",
       "27. 0.246915850391149\n",
       "28. -0.259162273546354\n",
       "29. 0.0280090727015615\n",
       "30. -0.563321903510208\n",
       "31. -0.275440854498618\n",
       "32. -0.0644959302726223\n",
       "33. 1\n",
       "34. -0.0280090727015615\n",
       "35. 0.041264394415047\n",
       "36. -1\n",
       "37. 0.447767855382989\n",
       "38. -0.0169700237062503\n",
       "39. 0.246915850391149\n",
       "40. -0.0280090727015615\n",
       "41. 1\n",
       "42. -0.994485097111455\n",
       "43. 0.994485097111455\n",
       "44. -0.466861641249636\n",
       "45. -0.00162162696466083\n",
       "46. -0.259162273546354\n",
       "47. 0.041264394415047\n",
       "48. -0.994485097111455\n",
       "49. 1\n",
       "\n",
       "\n"
      ],
      "text/plain": [
       "                   Year      Price   WinterRain        AGST HarvestRain\n",
       "Year         1.00000000 -0.4477679  0.016970024 -0.24691585  0.02800907\n",
       "Price       -0.44776786  1.0000000  0.136650547  0.65956286 -0.56332190\n",
       "WinterRain   0.01697002  0.1366505  1.000000000 -0.32109061 -0.27544085\n",
       "AGST        -0.24691585  0.6595629 -0.321090611  1.00000000 -0.06449593\n",
       "HarvestRain  0.02800907 -0.5633219 -0.275440854 -0.06449593  1.00000000\n",
       "Age         -1.00000000  0.4477679 -0.016970024  0.24691585 -0.02800907\n",
       "FrancePop    0.99448510 -0.4668616 -0.001621627 -0.25916227  0.04126439\n",
       "                    Age    FrancePop\n",
       "Year        -1.00000000  0.994485097\n",
       "Price        0.44776786 -0.466861641\n",
       "WinterRain  -0.01697002 -0.001621627\n",
       "AGST         0.24691585 -0.259162274\n",
       "HarvestRain -0.02800907  0.041264394\n",
       "Age          1.00000000 -0.994485097\n",
       "FrancePop   -0.99448510  1.000000000"
      ]
     },
     "execution_count": 19,
     "metadata": {},
     "output_type": "execute_result"
    }
   ],
   "source": [
    "cor(wine)"
   ]
  },
  {
   "cell_type": "code",
   "execution_count": 20,
   "metadata": {
    "collapsed": false
   },
   "outputs": [
    {
     "data": {
      "text/plain": [
       "\n",
       "Call:\n",
       "lm(formula = Price ~ AGST + HarvestRain + WinterRain, data = wine)\n",
       "\n",
       "Residuals:\n",
       "     Min       1Q   Median       3Q      Max \n",
       "-0.67472 -0.12958  0.01973  0.20751  0.63846 \n",
       "\n",
       "Coefficients:\n",
       "              Estimate Std. Error t value Pr(>|t|)    \n",
       "(Intercept) -4.3016263  2.0366743  -2.112 0.046831 *  \n",
       "AGST         0.6810242  0.1117011   6.097 4.75e-06 ***\n",
       "HarvestRain -0.0039481  0.0009987  -3.953 0.000726 ***\n",
       "WinterRain   0.0011765  0.0005920   1.987 0.060097 .  \n",
       "---\n",
       "Signif. codes:  0 ‘***’ 0.001 ‘**’ 0.01 ‘*’ 0.05 ‘.’ 0.1 ‘ ’ 1\n",
       "\n",
       "Residual standard error: 0.345 on 21 degrees of freedom\n",
       "Multiple R-squared:  0.7537,\tAdjusted R-squared:  0.7185 \n",
       "F-statistic: 21.42 on 3 and 21 DF,  p-value: 1.359e-06\n"
      ]
     },
     "execution_count": 20,
     "metadata": {},
     "output_type": "execute_result"
    }
   ],
   "source": [
    "model5 = lm(Price ~ AGST + HarvestRain + WinterRain, data=wine)\n",
    "summary(model5)"
   ]
  },
  {
   "cell_type": "markdown",
   "metadata": {},
   "source": [
    "Do we have any other highly-correlated independent\n",
    "variables?\n",
    "\n",
    "There is no definitive cut-off value\n",
    "for what makes a correlation too high.\n",
    "But typically, **a correlation greater than 0.7\n",
    "or less than -0.7 is cause for concern.**\n",
    "If you look back at all of the correlations we computed\n",
    "for our data set, you can see that it doesn't\n",
    "look like we have any other highly-correlated independent\n",
    "variables.\n",
    "\n",
    "So we'll stick with model4 for the rest\n",
    "of this lecture, the model that uses AGST, HarvestRain,\n",
    "WinterRain, and Age as the independent variables."
   ]
  },
  {
   "cell_type": "markdown",
   "metadata": {},
   "source": [
    "## Making predictions: "
   ]
  },
  {
   "cell_type": "code",
   "execution_count": 21,
   "metadata": {
    "collapsed": true
   },
   "outputs": [],
   "source": [
    "wineTest = read.csv('data/wine_test.csv')"
   ]
  },
  {
   "cell_type": "code",
   "execution_count": 22,
   "metadata": {
    "collapsed": false
   },
   "outputs": [
    {
     "name": "stdout",
     "output_type": "stream",
     "text": [
      "'data.frame':\t2 obs. of  7 variables:\n",
      " $ Year       : int  1979 1980\n",
      " $ Price      : num  6.95 6.5\n",
      " $ WinterRain : int  717 578\n",
      " $ AGST       : num  16.2 16\n",
      " $ HarvestRain: int  122 74\n",
      " $ Age        : int  4 3\n",
      " $ FrancePop  : num  54836 55110\n"
     ]
    }
   ],
   "source": [
    "str(wineTest)"
   ]
  },
  {
   "cell_type": "code",
   "execution_count": 23,
   "metadata": {
    "collapsed": true
   },
   "outputs": [],
   "source": [
    "predictTest = predict(model4, newdata=wineTest)"
   ]
  },
  {
   "cell_type": "code",
   "execution_count": 24,
   "metadata": {
    "collapsed": false
   },
   "outputs": [
    {
     "data": {
      "text/html": [
       "<dl class=dl-horizontal>\n",
       "\t<dt>1</dt>\n",
       "\t\t<dd>6.76892462968129</dd>\n",
       "\t<dt>2</dt>\n",
       "\t\t<dd>6.68491040269209</dd>\n",
       "</dl>\n"
      ],
      "text/latex": [
       "\\begin{description*}\n",
       "\\item[1] 6.76892462968129\n",
       "\\item[2] 6.68491040269209\n",
       "\\end{description*}\n"
      ],
      "text/markdown": [
       "1\n",
       ":   6.768924629681292\n",
       ":   6.68491040269209\n",
       "\n"
      ],
      "text/plain": [
       "       1        2 \n",
       "6.768925 6.684910 "
      ]
     },
     "execution_count": 24,
     "metadata": {},
     "output_type": "execute_result"
    }
   ],
   "source": [
    "predictTest"
   ]
  },
  {
   "cell_type": "code",
   "execution_count": 27,
   "metadata": {
    "collapsed": false
   },
   "outputs": [
    {
     "data": {
      "text/html": [
       "0.794427760263299"
      ],
      "text/latex": [
       "0.794427760263299"
      ],
      "text/markdown": [
       "0.794427760263299"
      ],
      "text/plain": [
       "[1] 0.7944278"
      ]
     },
     "execution_count": 27,
     "metadata": {},
     "output_type": "execute_result"
    }
   ],
   "source": [
    "SSE = sum((wineTest$Price - predictTest)^2)\n",
    "SST = sum((wineTest$Price - mean(wine$Price))^2)\n",
    "1 - SSE/SST #R^2"
   ]
  },
  {
   "cell_type": "markdown",
   "metadata": {
    "collapsed": true
   },
   "source": [
    "# Note on R2, SSE, SST:"
   ]
  },
  {
   "cell_type": "markdown",
   "metadata": {},
   "source": [
    "## For train:"
   ]
  },
  {
   "cell_type": "code",
   "execution_count": null,
   "metadata": {
    "collapsed": false
   },
   "outputs": [],
   "source": [
    "SSE = sum((Train$label - predict(model, newdata = Train))^2)\n",
    "SST = sum((Train$label - mean(Train$label))^2)\n",
    "1 - SSE/SST #R^2"
   ]
  },
  {
   "cell_type": "markdown",
   "metadata": {},
   "source": [
    "## For test:"
   ]
  },
  {
   "cell_type": "code",
   "execution_count": null,
   "metadata": {
    "collapsed": true
   },
   "outputs": [],
   "source": [
    "SSE = sum((Test$label - predict(model, newdata = Test))^2)\n",
    "SST = sum((Test$label - mean(Train$label))^2)\n",
    "1 - SSE/SST #R^2"
   ]
  }
 ],
 "metadata": {
  "kernelspec": {
   "display_name": "R",
   "language": "R",
   "name": "ir"
  },
  "language_info": {
   "codemirror_mode": "r",
   "file_extension": ".r",
   "mimetype": "text/x-r-source",
   "name": "R",
   "pygments_lexer": "r",
   "version": "3.2.3"
  }
 },
 "nbformat": 4,
 "nbformat_minor": 0
}
