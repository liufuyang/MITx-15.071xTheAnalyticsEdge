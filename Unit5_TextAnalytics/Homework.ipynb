{
 "cells": [
  {
   "cell_type": "markdown",
   "metadata": {},
   "source": [
    "# DETECTING VANDALISM ON WIKIPEDIA\n",
    "\n",
    "One of the consequences of being editable by anyone is that some people vandalize pages. This can take the form of removing content, adding promotional or inappropriate content, or more subtle shifts that change the meaning of the article. With this many articles and edits per day it is difficult for humans to detect all instances of vandalism and revert (undo) them. As a result, Wikipedia uses bots - computer programs that automatically revert edits that look like vandalism. In this assignment we will attempt to develop a vandalism detector that uses machine learning to distinguish between a valid edit and vandalism.\n",
    "\n",
    "The data for this problem is based on the revision history of the page Language. Wikipedia provides a history for each page that consists of the state of the page at each revision. Rather than manually considering each revision, a script was run that checked whether edits stayed or were reverted. If a change was eventually reverted then that revision is marked as vandalism. This may result in some misclassifications, but the script performs well enough for our needs.\n",
    "\n",
    "As a result of this preprocessing, some common processing tasks have already been done, including lower-casing and punctuation removal. The columns in the dataset are:\n",
    "\n",
    "* Vandal = 1 if this edit was vandalism, 0 if not.\n",
    "* Minor = 1 if the user marked this edit as a \"minor edit\", 0 if not.\n",
    "* Loggedin = 1 if the user made this edit while using a Wikipedia account, 0 if they did not.\n",
    "* Added = The unique words added.\n",
    "* Removed = The unique words removed.\n",
    "\n",
    "Notice the repeated use of unique. The data we have available is not the traditional bag of words - rather it is the set of words that were removed or added. For example, if a word was removed multiple times in a revision it will only appear one time in the \"Removed\" column."
   ]
  },
  {
   "cell_type": "code",
   "execution_count": 33,
   "metadata": {
    "collapsed": true
   },
   "outputs": [],
   "source": [
    "wiki = read.csv('data/wiki.csv', stringsAsFactors=FALSE)"
   ]
  },
  {
   "cell_type": "code",
   "execution_count": 34,
   "metadata": {
    "collapsed": true
   },
   "outputs": [],
   "source": [
    "wiki$Vandal = as.factor(wiki$Vandal)"
   ]
  },
  {
   "cell_type": "code",
   "execution_count": 35,
   "metadata": {
    "collapsed": false
   },
   "outputs": [
    {
     "name": "stdout",
     "output_type": "stream",
     "text": [
      "'data.frame':\t3876 obs. of  7 variables:\n",
      " $ X.1     : int  1 2 3 4 5 6 7 8 9 10 ...\n",
      " $ X       : int  1 2 3 4 5 6 7 8 9 10 ...\n",
      " $ Vandal  : Factor w/ 2 levels \"0\",\"1\": 1 1 1 1 1 1 1 1 1 1 ...\n",
      " $ Minor   : int  1 1 0 1 1 0 0 0 1 0 ...\n",
      " $ Loggedin: int  1 1 1 0 1 1 1 1 1 0 ...\n",
      " $ Added   : chr  \"  represent psycholinguisticspsycholinguistics orthographyorthography help text all actions through human ethnologue relationsh\"| __truncated__ \" website external links\" \" \" \" afghanistan used iran mostly that farsiis is countries some xmlspacepreservepersian parts tajikestan region\" ...\n",
      " $ Removed : chr  \" \" \" talklanguagetalk\" \" regarded as technologytechnologies human first\" \"  represent psycholinguisticspsycholinguistics orthographyorthography help all actions through ethnologue relationships linguis\"| __truncated__ ...\n"
     ]
    }
   ],
   "source": [
    "str(wiki)"
   ]
  },
  {
   "cell_type": "code",
   "execution_count": 36,
   "metadata": {
    "collapsed": false
   },
   "outputs": [
    {
     "data": {
      "text/plain": [
       "\n",
       "   0    1 \n",
       "2061 1815 "
      ]
     },
     "execution_count": 36,
     "metadata": {},
     "output_type": "execute_result"
    }
   ],
   "source": [
    "table(wiki$Vandal)"
   ]
  },
  {
   "cell_type": "markdown",
   "metadata": {},
   "source": [
    "## Pre-Processing"
   ]
  },
  {
   "cell_type": "code",
   "execution_count": 37,
   "metadata": {
    "collapsed": false
   },
   "outputs": [],
   "source": [
    "library(tm)\n",
    "corpusAdded = Corpus(VectorSource(wiki$Added))"
   ]
  },
  {
   "cell_type": "code",
   "execution_count": 38,
   "metadata": {
    "collapsed": true
   },
   "outputs": [],
   "source": [
    "corpusAdded = tm_map(corpusAdded, removeWords, stopwords('english'))"
   ]
  },
  {
   "cell_type": "code",
   "execution_count": 39,
   "metadata": {
    "collapsed": true
   },
   "outputs": [],
   "source": [
    "corpusAdded = tm_map(corpusAdded, stemDocument)"
   ]
  },
  {
   "cell_type": "code",
   "execution_count": 40,
   "metadata": {
    "collapsed": true
   },
   "outputs": [],
   "source": [
    "dtmAdded = DocumentTermMatrix(corpusAdded)"
   ]
  },
  {
   "cell_type": "code",
   "execution_count": 41,
   "metadata": {
    "collapsed": false
   },
   "outputs": [
    {
     "data": {
      "text/html": [
       "174"
      ],
      "text/latex": [
       "174"
      ],
      "text/markdown": [
       "174"
      ],
      "text/plain": [
       "[1] 174"
      ]
     },
     "execution_count": 41,
     "metadata": {},
     "output_type": "execute_result"
    }
   ],
   "source": [
    "length(stopwords(\"english\"))"
   ]
  },
  {
   "cell_type": "code",
   "execution_count": 42,
   "metadata": {
    "collapsed": false
   },
   "outputs": [
    {
     "data": {
      "text/plain": [
       "<<DocumentTermMatrix (documents: 3876, terms: 6675)>>\n",
       "Non-/sparse entries: 15368/25856932\n",
       "Sparsity           : 100%\n",
       "Maximal term length: 784\n",
       "Weighting          : term frequency (tf)"
      ]
     },
     "execution_count": 42,
     "metadata": {},
     "output_type": "execute_result"
    }
   ],
   "source": [
    "dtmAdded"
   ]
  },
  {
   "cell_type": "code",
   "execution_count": 43,
   "metadata": {
    "collapsed": true
   },
   "outputs": [],
   "source": [
    "sparseAdded = removeSparseTerms(dtmAdded, 0.997)"
   ]
  },
  {
   "cell_type": "code",
   "execution_count": 44,
   "metadata": {
    "collapsed": false
   },
   "outputs": [
    {
     "data": {
      "text/plain": [
       "<<DocumentTermMatrix (documents: 3876, terms: 166)>>\n",
       "Non-/sparse entries: 2681/640735\n",
       "Sparsity           : 100%\n",
       "Maximal term length: 28\n",
       "Weighting          : term frequency (tf)"
      ]
     },
     "execution_count": 44,
     "metadata": {},
     "output_type": "execute_result"
    }
   ],
   "source": [
    "sparseAdded"
   ]
  },
  {
   "cell_type": "code",
   "execution_count": 45,
   "metadata": {
    "collapsed": true
   },
   "outputs": [],
   "source": [
    "wordsAdded = as.data.frame(as.matrix(sparseAdded))"
   ]
  },
  {
   "cell_type": "code",
   "execution_count": 46,
   "metadata": {
    "collapsed": true
   },
   "outputs": [],
   "source": [
    "colnames(wordsAdded) = paste(\"A\", colnames(wordsAdded))"
   ]
  },
  {
   "cell_type": "markdown",
   "metadata": {},
   "source": [
    "### For removed:"
   ]
  },
  {
   "cell_type": "code",
   "execution_count": 47,
   "metadata": {
    "collapsed": false
   },
   "outputs": [],
   "source": [
    "corpusRemoved = Corpus(VectorSource(wiki$Removed))\n",
    "corpusRemoved = tm_map(corpusRemoved, removeWords, stopwords('english'))\n",
    "corpusRemoved = tm_map(corpusRemoved, stemDocument)\n",
    "dtmRemoved = DocumentTermMatrix(corpusRemoved)\n",
    "sparseRemoved = removeSparseTerms(dtmRemoved, 0.997)\n",
    "wordsRemoved = as.data.frame(as.matrix(sparseRemoved))\n",
    "colnames(wordsRemoved) = paste(\"R\", colnames(wordsRemoved))"
   ]
  },
  {
   "cell_type": "code",
   "execution_count": null,
   "metadata": {
    "collapsed": false
   },
   "outputs": [],
   "source": []
  },
  {
   "cell_type": "code",
   "execution_count": 50,
   "metadata": {
    "collapsed": true
   },
   "outputs": [],
   "source": [
    "wikiWords = cbind(wordsAdded, wordsRemoved)"
   ]
  },
  {
   "cell_type": "code",
   "execution_count": 51,
   "metadata": {
    "collapsed": true
   },
   "outputs": [],
   "source": [
    "wikiWords$Vandal = wiki$Vandal"
   ]
  },
  {
   "cell_type": "markdown",
   "metadata": {},
   "source": [
    "## Train Test Split:"
   ]
  },
  {
   "cell_type": "code",
   "execution_count": 52,
   "metadata": {
    "collapsed": true
   },
   "outputs": [],
   "source": [
    "library(caTools)\n",
    "set.seed(123)\n",
    "spl = sample.split(wikiWords$Vandal, 0.7)\n",
    "train = subset(wikiWords, spl == TRUE)\n",
    "test = subset(wikiWords, spl == FALSE)"
   ]
  },
  {
   "cell_type": "code",
   "execution_count": 54,
   "metadata": {
    "collapsed": false
   },
   "outputs": [
    {
     "data": {
      "text/plain": [
       "\n",
       "  0   1 \n",
       "618 545 "
      ]
     },
     "execution_count": 54,
     "metadata": {},
     "output_type": "execute_result"
    }
   ],
   "source": [
    "# ACC baseline:\n",
    "table(test$Vandal)"
   ]
  },
  {
   "cell_type": "code",
   "execution_count": 56,
   "metadata": {
    "collapsed": false
   },
   "outputs": [
    {
     "data": {
      "text/html": [
       "0.531384350816853"
      ],
      "text/latex": [
       "0.531384350816853"
      ],
      "text/markdown": [
       "0.531384350816853"
      ],
      "text/plain": [
       "[1] 0.5313844"
      ]
     },
     "execution_count": 56,
     "metadata": {},
     "output_type": "execute_result"
    }
   ],
   "source": [
    "618/(618+545)"
   ]
  },
  {
   "cell_type": "markdown",
   "metadata": {},
   "source": [
    "## CART model:"
   ]
  },
  {
   "cell_type": "code",
   "execution_count": 57,
   "metadata": {
    "collapsed": true
   },
   "outputs": [],
   "source": [
    "library(rpart)\n",
    "library(rpart.plot)\n",
    "wikiCART = rpart(Vandal ~., data=train, method=\"class\")"
   ]
  },
  {
   "cell_type": "code",
   "execution_count": 58,
   "metadata": {
    "collapsed": true
   },
   "outputs": [],
   "source": [
    "pred = predict(wikiCART, newdata = test, type='class')"
   ]
  },
  {
   "cell_type": "code",
   "execution_count": 60,
   "metadata": {
    "collapsed": false
   },
   "outputs": [
    {
     "data": {
      "text/plain": [
       "   pred\n",
       "      0   1\n",
       "  0 618   0\n",
       "  1 533  12"
      ]
     },
     "execution_count": 60,
     "metadata": {},
     "output_type": "execute_result"
    }
   ],
   "source": [
    "table(test$Vandal, pred)"
   ]
  },
  {
   "cell_type": "code",
   "execution_count": 61,
   "metadata": {
    "collapsed": false
   },
   "outputs": [
    {
     "data": {
      "text/html": [
       "0.541702493551161"
      ],
      "text/latex": [
       "0.541702493551161"
      ],
      "text/markdown": [
       "0.541702493551161"
      ],
      "text/plain": [
       "[1] 0.5417025"
      ]
     },
     "execution_count": 61,
     "metadata": {},
     "output_type": "execute_result"
    }
   ],
   "source": [
    "t = table(test$Vandal, pred)\n",
    "sum(diag(t))/sum(t)"
   ]
  },
  {
   "cell_type": "code",
   "execution_count": 62,
   "metadata": {
    "collapsed": false
   },
   "outputs": [
    {
     "data": {
      "image/png": "[encoded data removed]",
      "image/svg+xml": [
       "<?xml version=\"1.0\" encoding=\"UTF-8\"?>\n",
       "<svg xmlns=\"http://www.w3.org/2000/svg\" xmlns:xlink=\"http://www.w3.org/1999/xlink\" width=\"504pt\" height=\"504pt\" viewBox=\"0 0 504 504\" version=\"1.1\">\n",
       "<defs>\n",
       "<g>\n",
       "<symbol overflow=\"visible\" id=\"glyph0-0\">\n",
       "<path style=\"stroke:none;\" d=\"M 0.90625 0 L 0.90625 -8.640625 L 7.859375 -8.640625 L 7.859375 0 Z M 6.78125 -1.078125 L 6.78125 -7.5625 L 1.984375 -7.5625 L 1.984375 -1.078125 Z \"/>\n",
       "</symbol>\n",
       "<symbol overflow=\"visible\" id=\"glyph0-1\">\n",
       "<path style=\"stroke:none;\" d=\"M 2.71875 -7.140625 L 2.71875 -4.8125 L 4.765625 -4.8125 C 5.171875 -4.8125 5.472656 -4.859375 5.671875 -4.953125 C 6.035156 -5.117188 6.21875 -5.445312 6.21875 -5.9375 C 6.21875 -6.457031 6.046875 -6.804688 5.703125 -6.984375 C 5.503906 -7.085938 5.207031 -7.140625 4.8125 -7.140625 Z M 5.1875 -8.640625 C 5.789062 -8.628906 6.253906 -8.550781 6.578125 -8.40625 C 6.910156 -8.269531 7.191406 -8.070312 7.421875 -7.8125 C 7.609375 -7.59375 7.753906 -7.347656 7.859375 -7.078125 C 7.972656 -6.816406 8.03125 -6.515625 8.03125 -6.171875 C 8.03125 -5.765625 7.925781 -5.363281 7.71875 -4.96875 C 7.507812 -4.570312 7.164062 -4.289062 6.6875 -4.125 C 7.09375 -3.96875 7.375 -3.738281 7.53125 -3.4375 C 7.695312 -3.144531 7.78125 -2.695312 7.78125 -2.09375 L 7.78125 -1.515625 C 7.78125 -1.117188 7.796875 -0.847656 7.828125 -0.703125 C 7.878906 -0.484375 7.988281 -0.320312 8.15625 -0.21875 L 8.15625 0 L 6.171875 0 C 6.117188 -0.1875 6.082031 -0.34375 6.0625 -0.46875 C 6.007812 -0.707031 5.984375 -0.953125 5.984375 -1.203125 L 5.96875 -2.015625 C 5.957031 -2.566406 5.851562 -2.929688 5.65625 -3.109375 C 5.46875 -3.296875 5.109375 -3.390625 4.578125 -3.390625 L 2.71875 -3.390625 L 2.71875 0 L 0.953125 0 L 0.953125 -8.640625 Z \"/>\n",
       "</symbol>\n",
       "<symbol overflow=\"visible\" id=\"glyph0-2\">\n",
       "<path style=\"stroke:none;\" d=\"\"/>\n",
       "</symbol>\n",
       "<symbol overflow=\"visible\" id=\"glyph0-3\">\n",
       "<path style=\"stroke:none;\" d=\"M 0.125 -5.140625 L 0.125 -6.328125 L 1.015625 -6.328125 L 1.015625 -8.109375 L 2.671875 -8.109375 L 2.671875 -6.328125 L 3.703125 -6.328125 L 3.703125 -5.140625 L 2.671875 -5.140625 L 2.671875 -1.765625 C 2.671875 -1.503906 2.703125 -1.335938 2.765625 -1.265625 C 2.828125 -1.203125 3.03125 -1.171875 3.375 -1.171875 C 3.425781 -1.171875 3.476562 -1.171875 3.53125 -1.171875 C 3.59375 -1.179688 3.648438 -1.1875 3.703125 -1.1875 L 3.703125 0.0625 L 2.90625 0.09375 C 2.125 0.113281 1.585938 -0.0234375 1.296875 -0.328125 C 1.109375 -0.515625 1.015625 -0.804688 1.015625 -1.203125 L 1.015625 -5.140625 Z \"/>\n",
       "</symbol>\n",
       "<symbol overflow=\"visible\" id=\"glyph0-4\">\n",
       "<path style=\"stroke:none;\" d=\"M 4.296875 -6.546875 C 4.691406 -6.546875 5.050781 -6.476562 5.375 -6.34375 C 5.695312 -6.207031 5.960938 -6 6.171875 -5.71875 C 6.347656 -5.476562 6.453125 -5.234375 6.484375 -4.984375 C 6.523438 -4.734375 6.546875 -4.320312 6.546875 -3.75 L 6.546875 0 L 4.84375 0 L 4.84375 -3.890625 C 4.84375 -4.234375 4.785156 -4.507812 4.671875 -4.71875 C 4.515625 -5.007812 4.222656 -5.15625 3.796875 -5.15625 C 3.359375 -5.15625 3.023438 -5.007812 2.796875 -4.71875 C 2.566406 -4.425781 2.453125 -4.003906 2.453125 -3.453125 L 2.453125 0 L 0.796875 0 L 0.796875 -8.609375 L 2.453125 -8.609375 L 2.453125 -5.5625 C 2.691406 -5.925781 2.972656 -6.179688 3.296875 -6.328125 C 3.617188 -6.472656 3.953125 -6.546875 4.296875 -6.546875 Z \"/>\n",
       "</symbol>\n",
       "<symbol overflow=\"visible\" id=\"glyph0-5\">\n",
       "<path style=\"stroke:none;\" d=\"M 3.640625 -1.171875 C 4.128906 -1.171875 4.503906 -1.34375 4.765625 -1.6875 C 5.023438 -2.039062 5.15625 -2.539062 5.15625 -3.1875 C 5.15625 -3.820312 5.023438 -4.3125 4.765625 -4.65625 C 4.503906 -5.007812 4.128906 -5.1875 3.640625 -5.1875 C 3.148438 -5.1875 2.773438 -5.007812 2.515625 -4.65625 C 2.253906 -4.3125 2.125 -3.820312 2.125 -3.1875 C 2.125 -2.539062 2.253906 -2.039062 2.515625 -1.6875 C 2.773438 -1.34375 3.148438 -1.171875 3.640625 -1.171875 Z M 6.921875 -3.1875 C 6.921875 -2.25 6.648438 -1.445312 6.109375 -0.78125 C 5.566406 -0.113281 4.75 0.21875 3.65625 0.21875 C 2.550781 0.21875 1.726562 -0.113281 1.1875 -0.78125 C 0.65625 -1.445312 0.390625 -2.25 0.390625 -3.1875 C 0.390625 -4.101562 0.65625 -4.898438 1.1875 -5.578125 C 1.726562 -6.253906 2.550781 -6.59375 3.65625 -6.59375 C 4.75 -6.59375 5.566406 -6.253906 6.109375 -5.578125 C 6.648438 -4.898438 6.921875 -4.101562 6.921875 -3.1875 Z M 3.65625 -6.5625 Z \"/>\n",
       "</symbol>\n",
       "<symbol overflow=\"visible\" id=\"glyph0-6\">\n",
       "<path style=\"stroke:none;\" d=\"M 2.4375 -6.390625 L 2.4375 -2.53125 C 2.4375 -2.175781 2.484375 -1.90625 2.578125 -1.71875 C 2.722656 -1.394531 3.019531 -1.234375 3.46875 -1.234375 C 4.039062 -1.234375 4.429688 -1.460938 4.640625 -1.921875 C 4.753906 -2.171875 4.8125 -2.5 4.8125 -2.90625 L 4.8125 -6.390625 L 6.5 -6.390625 L 6.5 0 L 4.875 0 L 4.875 -0.90625 C 4.863281 -0.882812 4.828125 -0.820312 4.765625 -0.71875 C 4.703125 -0.625 4.625 -0.539062 4.53125 -0.46875 C 4.269531 -0.238281 4.015625 -0.0820312 3.765625 0 C 3.523438 0.09375 3.242188 0.140625 2.921875 0.140625 C 1.972656 0.140625 1.335938 -0.195312 1.015625 -0.875 C 0.828125 -1.25 0.734375 -1.800781 0.734375 -2.53125 L 0.734375 -6.390625 Z M 3.609375 -6.5625 Z \"/>\n",
       "</symbol>\n",
       "<symbol overflow=\"visible\" id=\"glyph0-7\">\n",
       "<path style=\"stroke:none;\" d=\"M 2.078125 -2.046875 C 2.117188 -1.742188 2.195312 -1.53125 2.3125 -1.40625 C 2.519531 -1.1875 2.898438 -1.078125 3.453125 -1.078125 C 3.785156 -1.078125 4.046875 -1.125 4.234375 -1.21875 C 4.429688 -1.3125 4.53125 -1.457031 4.53125 -1.65625 C 4.53125 -1.84375 4.453125 -1.988281 4.296875 -2.09375 C 4.140625 -2.1875 3.5625 -2.351562 2.5625 -2.59375 C 1.832031 -2.769531 1.320312 -2.992188 1.03125 -3.265625 C 0.726562 -3.523438 0.578125 -3.90625 0.578125 -4.40625 C 0.578125 -5 0.804688 -5.503906 1.265625 -5.921875 C 1.734375 -6.347656 2.390625 -6.5625 3.234375 -6.5625 C 4.023438 -6.5625 4.671875 -6.398438 5.171875 -6.078125 C 5.679688 -5.765625 5.972656 -5.21875 6.046875 -4.4375 L 4.375 -4.4375 C 4.351562 -4.65625 4.289062 -4.828125 4.1875 -4.953125 C 4.007812 -5.179688 3.695312 -5.296875 3.25 -5.296875 C 2.882812 -5.296875 2.625 -5.238281 2.46875 -5.125 C 2.320312 -5.007812 2.25 -4.875 2.25 -4.71875 C 2.25 -4.53125 2.328125 -4.394531 2.484375 -4.3125 C 2.648438 -4.21875 3.234375 -4.0625 4.234375 -3.84375 C 4.898438 -3.6875 5.394531 -3.453125 5.71875 -3.140625 C 6.050781 -2.816406 6.21875 -2.414062 6.21875 -1.9375 C 6.21875 -1.300781 5.984375 -0.78125 5.515625 -0.375 C 5.046875 0.0195312 4.316406 0.21875 3.328125 0.21875 C 2.328125 0.21875 1.585938 0.00390625 1.109375 -0.421875 C 0.628906 -0.847656 0.390625 -1.390625 0.390625 -2.046875 Z M 3.359375 -6.5625 Z \"/>\n",
       "</symbol>\n",
       "<symbol overflow=\"visible\" id=\"glyph0-8\">\n",
       "<path style=\"stroke:none;\" d=\"M 4.296875 -3.109375 C 4.191406 -3.035156 4.085938 -2.976562 3.984375 -2.9375 C 3.878906 -2.90625 3.734375 -2.867188 3.546875 -2.828125 L 3.171875 -2.765625 C 2.816406 -2.703125 2.5625 -2.625 2.40625 -2.53125 C 2.144531 -2.375 2.015625 -2.140625 2.015625 -1.828125 C 2.015625 -1.535156 2.09375 -1.328125 2.25 -1.203125 C 2.414062 -1.078125 2.613281 -1.015625 2.84375 -1.015625 C 3.195312 -1.015625 3.523438 -1.117188 3.828125 -1.328125 C 4.128906 -1.535156 4.285156 -1.921875 4.296875 -2.484375 Z M 3.28125 -3.890625 C 3.59375 -3.921875 3.816406 -3.96875 3.953125 -4.03125 C 4.191406 -4.132812 4.3125 -4.289062 4.3125 -4.5 C 4.3125 -4.769531 4.21875 -4.953125 4.03125 -5.046875 C 3.851562 -5.148438 3.585938 -5.203125 3.234375 -5.203125 C 2.835938 -5.203125 2.554688 -5.101562 2.390625 -4.90625 C 2.273438 -4.757812 2.195312 -4.5625 2.15625 -4.3125 L 0.546875 -4.3125 C 0.585938 -4.875 0.742188 -5.335938 1.015625 -5.703125 C 1.460938 -6.265625 2.222656 -6.546875 3.296875 -6.546875 C 3.992188 -6.546875 4.613281 -6.40625 5.15625 -6.125 C 5.695312 -5.84375 5.96875 -5.316406 5.96875 -4.546875 L 5.96875 -1.625 C 5.96875 -1.414062 5.972656 -1.171875 5.984375 -0.890625 C 5.992188 -0.671875 6.023438 -0.519531 6.078125 -0.4375 C 6.140625 -0.363281 6.222656 -0.300781 6.328125 -0.25 L 6.328125 0 L 4.515625 0 C 4.460938 -0.125 4.425781 -0.242188 4.40625 -0.359375 C 4.382812 -0.472656 4.367188 -0.601562 4.359375 -0.75 C 4.128906 -0.5 3.863281 -0.285156 3.5625 -0.109375 C 3.207031 0.0976562 2.800781 0.203125 2.34375 0.203125 C 1.769531 0.203125 1.289062 0.0351562 0.90625 -0.296875 C 0.53125 -0.628906 0.34375 -1.097656 0.34375 -1.703125 C 0.34375 -2.484375 0.644531 -3.050781 1.25 -3.40625 C 1.582031 -3.59375 2.070312 -3.726562 2.71875 -3.8125 Z M 3.375 -6.5625 Z \"/>\n",
       "</symbol>\n",
       "<symbol overflow=\"visible\" id=\"glyph0-9\">\n",
       "<path style=\"stroke:none;\" d=\"M 0.140625 -3.921875 L 7.03125 -6.546875 L 7.03125 -4.921875 L 2.109375 -3.171875 L 7.03125 -1.4375 L 7.03125 0.203125 L 0.140625 -2.421875 Z \"/>\n",
       "</symbol>\n",
       "<symbol overflow=\"visible\" id=\"glyph0-10\">\n",
       "<path style=\"stroke:none;\" d=\"M 2.078125 -4.171875 C 2.078125 -3.191406 2.15625 -2.441406 2.3125 -1.921875 C 2.476562 -1.410156 2.8125 -1.15625 3.3125 -1.15625 C 3.800781 -1.15625 4.125 -1.410156 4.28125 -1.921875 C 4.4375 -2.441406 4.515625 -3.191406 4.515625 -4.171875 C 4.515625 -5.191406 4.4375 -5.945312 4.28125 -6.4375 C 4.125 -6.925781 3.800781 -7.171875 3.3125 -7.171875 C 2.8125 -7.171875 2.476562 -6.925781 2.3125 -6.4375 C 2.15625 -5.945312 2.078125 -5.191406 2.078125 -4.171875 Z M 3.3125 -8.5625 C 4.382812 -8.5625 5.140625 -8.175781 5.578125 -7.40625 C 6.015625 -6.644531 6.234375 -5.566406 6.234375 -4.171875 C 6.234375 -2.765625 6.015625 -1.679688 5.578125 -0.921875 C 5.140625 -0.160156 4.382812 0.21875 3.3125 0.21875 C 2.226562 0.21875 1.46875 -0.160156 1.03125 -0.921875 C 0.59375 -1.679688 0.375 -2.765625 0.375 -4.171875 C 0.375 -5.566406 0.59375 -6.644531 1.03125 -7.40625 C 1.46875 -8.175781 2.226562 -8.5625 3.3125 -8.5625 Z \"/>\n",
       "</symbol>\n",
       "<symbol overflow=\"visible\" id=\"glyph0-11\">\n",
       "<path style=\"stroke:none;\" d=\"M 0.75 -1.75 L 2.53125 -1.75 L 2.53125 0 L 0.75 0 Z \"/>\n",
       "</symbol>\n",
       "<symbol overflow=\"visible\" id=\"glyph0-12\">\n",
       "<path style=\"stroke:none;\" d=\"M 1.984375 -2.28125 C 2.046875 -1.914062 2.171875 -1.632812 2.359375 -1.4375 C 2.546875 -1.238281 2.820312 -1.140625 3.1875 -1.140625 C 3.59375 -1.140625 3.90625 -1.285156 4.125 -1.578125 C 4.34375 -1.867188 4.453125 -2.234375 4.453125 -2.671875 C 4.453125 -3.109375 4.347656 -3.472656 4.140625 -3.765625 C 3.941406 -4.066406 3.628906 -4.21875 3.203125 -4.21875 C 2.992188 -4.21875 2.816406 -4.191406 2.671875 -4.140625 C 2.410156 -4.046875 2.210938 -3.875 2.078125 -3.625 L 0.578125 -3.6875 L 1.171875 -8.390625 L 5.859375 -8.390625 L 5.859375 -6.96875 L 2.390625 -6.96875 L 2.078125 -5.109375 C 2.335938 -5.273438 2.539062 -5.382812 2.6875 -5.4375 C 2.925781 -5.53125 3.21875 -5.578125 3.5625 -5.578125 C 4.269531 -5.578125 4.882812 -5.335938 5.40625 -4.859375 C 5.925781 -4.390625 6.1875 -3.707031 6.1875 -2.8125 C 6.1875 -2.019531 5.9375 -1.316406 5.4375 -0.703125 C 4.9375 -0.0859375 4.179688 0.21875 3.171875 0.21875 C 2.367188 0.21875 1.707031 0.00390625 1.1875 -0.421875 C 0.664062 -0.859375 0.375 -1.476562 0.3125 -2.28125 Z \"/>\n",
       "</symbol>\n",
       "<symbol overflow=\"visible\" id=\"glyph0-13\">\n",
       "<path style=\"stroke:none;\" d=\"M 4.25 -6.546875 C 4.28125 -6.546875 4.304688 -6.539062 4.328125 -6.53125 C 4.347656 -6.53125 4.394531 -6.53125 4.46875 -6.53125 L 4.46875 -4.8125 C 4.363281 -4.820312 4.269531 -4.828125 4.1875 -4.828125 C 4.101562 -4.835938 4.035156 -4.84375 3.984375 -4.84375 C 3.316406 -4.84375 2.867188 -4.625 2.640625 -4.1875 C 2.503906 -3.945312 2.4375 -3.566406 2.4375 -3.046875 L 2.4375 0 L 0.765625 0 L 0.765625 -6.390625 L 2.359375 -6.390625 L 2.359375 -5.28125 C 2.617188 -5.695312 2.84375 -5.984375 3.03125 -6.140625 C 3.34375 -6.410156 3.75 -6.546875 4.25 -6.546875 Z \"/>\n",
       "</symbol>\n",
       "<symbol overflow=\"visible\" id=\"glyph0-14\">\n",
       "<path style=\"stroke:none;\" d=\"M 4.234375 -6.53125 C 5.066406 -6.53125 5.722656 -6.226562 6.203125 -5.625 C 6.679688 -5.019531 6.921875 -4.238281 6.921875 -3.28125 C 6.921875 -2.28125 6.6875 -1.453125 6.21875 -0.796875 C 5.75 -0.148438 5.09375 0.171875 4.25 0.171875 C 3.71875 0.171875 3.296875 0.0664062 2.984375 -0.140625 C 2.785156 -0.265625 2.578125 -0.484375 2.359375 -0.796875 L 2.359375 0 L 0.71875 0 L 0.71875 -8.625 L 2.390625 -8.625 L 2.390625 -5.5625 C 2.597656 -5.851562 2.828125 -6.078125 3.078125 -6.234375 C 3.378906 -6.429688 3.765625 -6.53125 4.234375 -6.53125 Z M 3.796875 -1.203125 C 4.234375 -1.203125 4.566406 -1.375 4.796875 -1.71875 C 5.035156 -2.070312 5.15625 -2.53125 5.15625 -3.09375 C 5.15625 -3.550781 5.097656 -3.925781 4.984375 -4.21875 C 4.765625 -4.78125 4.351562 -5.0625 3.75 -5.0625 C 3.144531 -5.0625 2.734375 -4.789062 2.515625 -4.25 C 2.390625 -3.945312 2.328125 -3.566406 2.328125 -3.109375 C 2.328125 -2.554688 2.445312 -2.097656 2.6875 -1.734375 C 2.9375 -1.378906 3.304688 -1.203125 3.796875 -1.203125 Z \"/>\n",
       "</symbol>\n",
       "<symbol overflow=\"visible\" id=\"glyph0-15\">\n",
       "<path style=\"stroke:none;\" d=\"M 2.5 -7.15625 L 0.796875 -7.15625 L 0.796875 -8.6875 L 2.5 -8.6875 Z M 0.796875 -6.390625 L 2.5 -6.390625 L 2.5 0 L 0.796875 0 Z \"/>\n",
       "</symbol>\n",
       "<symbol overflow=\"visible\" id=\"glyph1-0\">\n",
       "<path style=\"stroke:none;\" d=\"M 0.390625 0 L 0.390625 -8.609375 L 7.21875 -8.609375 L 7.21875 0 Z M 6.140625 -1.078125 L 6.140625 -7.53125 L 1.46875 -7.53125 L 1.46875 -1.078125 Z \"/>\n",
       "</symbol>\n",
       "<symbol overflow=\"visible\" id=\"glyph1-1\">\n",
       "<path style=\"stroke:none;\" d=\"M 3.25 -8.390625 C 4.332031 -8.390625 5.117188 -7.941406 5.609375 -7.046875 C 5.984375 -6.359375 6.171875 -5.410156 6.171875 -4.203125 C 6.171875 -3.066406 6 -2.125 5.65625 -1.375 C 5.164062 -0.300781 4.359375 0.234375 3.234375 0.234375 C 2.234375 0.234375 1.484375 -0.203125 0.984375 -1.078125 C 0.578125 -1.816406 0.375 -2.800781 0.375 -4.03125 C 0.375 -4.976562 0.5 -5.796875 0.75 -6.484375 C 1.207031 -7.753906 2.039062 -8.390625 3.25 -8.390625 Z M 3.234375 -0.734375 C 3.785156 -0.734375 4.222656 -0.972656 4.546875 -1.453125 C 4.867188 -1.941406 5.03125 -2.847656 5.03125 -4.171875 C 5.03125 -5.117188 4.910156 -5.898438 4.671875 -6.515625 C 4.441406 -7.128906 3.988281 -7.4375 3.3125 -7.4375 C 2.6875 -7.4375 2.226562 -7.144531 1.9375 -6.5625 C 1.65625 -5.976562 1.515625 -5.117188 1.515625 -3.984375 C 1.515625 -3.128906 1.609375 -2.441406 1.796875 -1.921875 C 2.078125 -1.128906 2.554688 -0.734375 3.234375 -0.734375 Z \"/>\n",
       "</symbol>\n",
       "<symbol overflow=\"visible\" id=\"glyph1-2\">\n",
       "<path style=\"stroke:none;\" d=\"M 1.15625 -5.9375 L 1.15625 -6.75 C 1.914062 -6.820312 2.441406 -6.945312 2.734375 -7.125 C 3.035156 -7.300781 3.265625 -7.710938 3.421875 -8.359375 L 4.25 -8.359375 L 4.25 0 L 3.125 0 L 3.125 -5.9375 Z \"/>\n",
       "</symbol>\n",
       "<symbol overflow=\"visible\" id=\"glyph2-0\">\n",
       "<path style=\"stroke:none;\" d=\"M 0.3125 0 L 0.3125 -6.875 L 5.765625 -6.875 L 5.765625 0 Z M 4.90625 -0.859375 L 4.90625 -6.015625 L 1.171875 -6.015625 L 1.171875 -0.859375 Z \"/>\n",
       "</symbol>\n",
       "<symbol overflow=\"visible\" id=\"glyph2-1\">\n",
       "<path style=\"stroke:none;\" d=\"M 3.75 -5.015625 L 4.6875 -5.015625 C 4.5625 -4.691406 4.296875 -3.957031 3.890625 -2.8125 C 3.585938 -1.945312 3.332031 -1.242188 3.125 -0.703125 C 2.632812 0.578125 2.289062 1.359375 2.09375 1.640625 C 1.894531 1.921875 1.550781 2.0625 1.0625 2.0625 C 0.945312 2.0625 0.851562 2.054688 0.78125 2.046875 C 0.71875 2.035156 0.640625 2.015625 0.546875 1.984375 L 0.546875 1.21875 C 0.691406 1.257812 0.796875 1.285156 0.859375 1.296875 C 0.929688 1.304688 0.992188 1.3125 1.046875 1.3125 C 1.203125 1.3125 1.316406 1.285156 1.390625 1.234375 C 1.460938 1.179688 1.523438 1.117188 1.578125 1.046875 C 1.585938 1.015625 1.640625 0.882812 1.734375 0.65625 C 1.835938 0.425781 1.910156 0.253906 1.953125 0.140625 L 0.09375 -5.015625 L 1.046875 -5.015625 L 2.40625 -0.9375 Z M 2.390625 -5.140625 Z \"/>\n",
       "</symbol>\n",
       "<symbol overflow=\"visible\" id=\"glyph2-2\">\n",
       "<path style=\"stroke:none;\" d=\"M 2.703125 -5.125 C 3.054688 -5.125 3.398438 -5.039062 3.734375 -4.875 C 4.078125 -4.707031 4.332031 -4.492188 4.5 -4.234375 C 4.675781 -3.972656 4.789062 -3.675781 4.84375 -3.34375 C 4.894531 -3.113281 4.921875 -2.742188 4.921875 -2.234375 L 1.234375 -2.234375 C 1.253906 -1.722656 1.375 -1.3125 1.59375 -1 C 1.820312 -0.695312 2.171875 -0.546875 2.640625 -0.546875 C 3.085938 -0.546875 3.441406 -0.691406 3.703125 -0.984375 C 3.847656 -1.148438 3.953125 -1.347656 4.015625 -1.578125 L 4.84375 -1.578125 C 4.820312 -1.390625 4.75 -1.179688 4.625 -0.953125 C 4.507812 -0.734375 4.375 -0.550781 4.21875 -0.40625 C 3.957031 -0.15625 3.640625 0.015625 3.265625 0.109375 C 3.054688 0.148438 2.828125 0.171875 2.578125 0.171875 C 1.953125 0.171875 1.421875 -0.0507812 0.984375 -0.5 C 0.554688 -0.957031 0.34375 -1.59375 0.34375 -2.40625 C 0.34375 -3.21875 0.5625 -3.875 1 -4.375 C 1.4375 -4.875 2.003906 -5.125 2.703125 -5.125 Z M 4.046875 -2.90625 C 4.015625 -3.269531 3.9375 -3.5625 3.8125 -3.78125 C 3.582031 -4.1875 3.195312 -4.390625 2.65625 -4.390625 C 2.269531 -4.390625 1.941406 -4.25 1.671875 -3.96875 C 1.410156 -3.695312 1.273438 -3.34375 1.265625 -2.90625 Z M 2.625 -5.140625 Z \"/>\n",
       "</symbol>\n",
       "<symbol overflow=\"visible\" id=\"glyph2-3\">\n",
       "<path style=\"stroke:none;\" d=\"M 1.125 -1.578125 C 1.144531 -1.296875 1.210938 -1.078125 1.328125 -0.921875 C 1.546875 -0.648438 1.914062 -0.515625 2.4375 -0.515625 C 2.75 -0.515625 3.019531 -0.582031 3.25 -0.71875 C 3.488281 -0.851562 3.609375 -1.066406 3.609375 -1.359375 C 3.609375 -1.566406 3.515625 -1.726562 3.328125 -1.84375 C 3.203125 -1.914062 2.960938 -1.992188 2.609375 -2.078125 L 1.9375 -2.25 C 1.507812 -2.351562 1.195312 -2.472656 1 -2.609375 C 0.632812 -2.835938 0.453125 -3.15625 0.453125 -3.5625 C 0.453125 -4.03125 0.617188 -4.410156 0.953125 -4.703125 C 1.296875 -4.992188 1.757812 -5.140625 2.34375 -5.140625 C 3.09375 -5.140625 3.640625 -4.921875 3.984375 -4.484375 C 4.191406 -4.203125 4.289062 -3.898438 4.28125 -3.578125 L 3.484375 -3.578125 C 3.472656 -3.765625 3.40625 -3.9375 3.28125 -4.09375 C 3.09375 -4.3125 2.757812 -4.421875 2.28125 -4.421875 C 1.957031 -4.421875 1.710938 -4.359375 1.546875 -4.234375 C 1.390625 -4.117188 1.3125 -3.960938 1.3125 -3.765625 C 1.3125 -3.546875 1.414062 -3.367188 1.625 -3.234375 C 1.75 -3.160156 1.9375 -3.09375 2.1875 -3.03125 L 2.734375 -2.890625 C 3.347656 -2.742188 3.753906 -2.601562 3.953125 -2.46875 C 4.285156 -2.25 4.453125 -1.910156 4.453125 -1.453125 C 4.453125 -1.003906 4.28125 -0.617188 3.9375 -0.296875 C 3.601562 0.0234375 3.085938 0.1875 2.390625 0.1875 C 1.648438 0.1875 1.125 0.0195312 0.8125 -0.3125 C 0.5 -0.65625 0.332031 -1.078125 0.3125 -1.578125 Z M 2.359375 -5.140625 Z \"/>\n",
       "</symbol>\n",
       "<symbol overflow=\"visible\" id=\"glyph2-4\">\n",
       "<path style=\"stroke:none;\" d=\"M 0.625 -5.015625 L 1.421875 -5.015625 L 1.421875 -4.3125 C 1.660156 -4.601562 1.910156 -4.8125 2.171875 -4.9375 C 2.441406 -5.0625 2.738281 -5.125 3.0625 -5.125 C 3.769531 -5.125 4.25 -4.878906 4.5 -4.390625 C 4.632812 -4.117188 4.703125 -3.726562 4.703125 -3.21875 L 4.703125 0 L 3.84375 0 L 3.84375 -3.15625 C 3.84375 -3.46875 3.800781 -3.71875 3.71875 -3.90625 C 3.5625 -4.21875 3.289062 -4.375 2.90625 -4.375 C 2.695312 -4.375 2.53125 -4.351562 2.40625 -4.3125 C 2.175781 -4.238281 1.972656 -4.097656 1.796875 -3.890625 C 1.660156 -3.734375 1.570312 -3.566406 1.53125 -3.390625 C 1.488281 -3.210938 1.46875 -2.957031 1.46875 -2.625 L 1.46875 0 L 0.625 0 Z M 2.59375 -5.140625 Z \"/>\n",
       "</symbol>\n",
       "<symbol overflow=\"visible\" id=\"glyph2-5\">\n",
       "<path style=\"stroke:none;\" d=\"M 2.609375 -0.546875 C 3.171875 -0.546875 3.554688 -0.753906 3.765625 -1.171875 C 3.972656 -1.597656 4.078125 -2.070312 4.078125 -2.59375 C 4.078125 -3.0625 4 -3.441406 3.84375 -3.734375 C 3.601562 -4.191406 3.195312 -4.421875 2.625 -4.421875 C 2.101562 -4.421875 1.722656 -4.222656 1.484375 -3.828125 C 1.253906 -3.441406 1.140625 -2.96875 1.140625 -2.40625 C 1.140625 -1.875 1.253906 -1.429688 1.484375 -1.078125 C 1.722656 -0.722656 2.097656 -0.546875 2.609375 -0.546875 Z M 2.640625 -5.15625 C 3.285156 -5.15625 3.832031 -4.941406 4.28125 -4.515625 C 4.726562 -4.085938 4.953125 -3.453125 4.953125 -2.609375 C 4.953125 -1.804688 4.753906 -1.140625 4.359375 -0.609375 C 3.960938 -0.078125 3.351562 0.1875 2.53125 0.1875 C 1.84375 0.1875 1.296875 -0.046875 0.890625 -0.515625 C 0.484375 -0.984375 0.28125 -1.613281 0.28125 -2.40625 C 0.28125 -3.238281 0.492188 -3.90625 0.921875 -4.40625 C 1.347656 -4.90625 1.921875 -5.15625 2.640625 -5.15625 Z M 2.609375 -5.140625 Z \"/>\n",
       "</symbol>\n",
       "</g>\n",
       "</defs>\n",
       "<g id=\"surface1\">\n",
       "<rect x=\"0\" y=\"0\" width=\"504\" height=\"504\" style=\"fill:rgb(100%,100%,100%);fill-opacity:1;stroke:none;\"/>\n",
       "<path style=\"fill:none;stroke-width:0.75;stroke-linecap:butt;stroke-linejoin:round;stroke:rgb(0%,0%,0%);stroke-opacity:1;stroke-miterlimit:10;\" d=\"M 217.628906 252.042969 L 268.039062 193.269531 L 280.644531 193.269531 \"/>\n",
       "<path style=\"fill:none;stroke-width:0.75;stroke-linecap:butt;stroke-linejoin:round;stroke:rgb(0%,0%,0%);stroke-opacity:1;stroke-miterlimit:10;\" d=\"M 160.339844 300.753906 L 206.171875 253.472656 L 217.628906 253.472656 \"/>\n",
       "<path style=\"fill:none;stroke-width:0.75;stroke-linecap:butt;stroke-linejoin:round;stroke:rgb(0%,0%,0%);stroke-opacity:1;stroke-miterlimit:10;\" d=\"M 274.914062 300.753906 L 229.085938 253.472656 L 217.628906 253.472656 \"/>\n",
       "<path style=\"fill:none;stroke-width:0.75;stroke-linecap:butt;stroke-linejoin:round;stroke:rgb(0%,0%,0%);stroke-opacity:1;stroke-miterlimit:10;\" d=\"M 343.660156 240.550781 L 293.246094 193.269531 L 280.644531 193.269531 \"/>\n",
       "<path style=\" stroke:none;fill-rule:nonzero;fill:rgb(100%,100%,100%);fill-opacity:1;\" d=\"M 234.796875 197.578125 L 234.796875 180.34375 L 326.488281 180.34375 L 326.488281 197.578125 Z \"/>\n",
       "<path style=\" stroke:none;fill-rule:nonzero;fill:rgb(100%,100%,100%);fill-opacity:1;\" d=\"M 176.113281 257.78125 L 176.113281 240.550781 L 259.140625 240.550781 L 259.140625 257.78125 Z \"/>\n",
       "<g style=\"fill:rgb(0%,0%,0%);fill-opacity:1;\">\n",
       "  <use xlink:href=\"#glyph0-1\" x=\"239.800781\" y=\"193.171875\"/>\n",
       "  <use xlink:href=\"#glyph0-2\" x=\"248.466797\" y=\"193.171875\"/>\n",
       "  <use xlink:href=\"#glyph0-3\" x=\"251.800781\" y=\"193.171875\"/>\n",
       "  <use xlink:href=\"#glyph0-4\" x=\"255.796875\" y=\"193.171875\"/>\n",
       "  <use xlink:href=\"#glyph0-5\" x=\"263.126953\" y=\"193.171875\"/>\n",
       "  <use xlink:href=\"#glyph0-6\" x=\"270.457031\" y=\"193.171875\"/>\n",
       "  <use xlink:href=\"#glyph0-7\" x=\"277.787109\" y=\"193.171875\"/>\n",
       "  <use xlink:href=\"#glyph0-8\" x=\"284.460938\" y=\"193.171875\"/>\n",
       "  <use xlink:href=\"#glyph0-2\" x=\"291.134766\" y=\"193.171875\"/>\n",
       "  <use xlink:href=\"#glyph0-9\" x=\"294.46875\" y=\"193.171875\"/>\n",
       "  <use xlink:href=\"#glyph0-2\" x=\"301.476562\" y=\"193.171875\"/>\n",
       "  <use xlink:href=\"#glyph0-10\" x=\"304.810547\" y=\"193.171875\"/>\n",
       "  <use xlink:href=\"#glyph0-11\" x=\"311.484375\" y=\"193.171875\"/>\n",
       "  <use xlink:href=\"#glyph0-12\" x=\"314.818359\" y=\"193.171875\"/>\n",
       "</g>\n",
       "<g style=\"fill:rgb(0%,0%,0%);fill-opacity:1;\">\n",
       "  <use xlink:href=\"#glyph0-1\" x=\"181.113281\" y=\"253.398438\"/>\n",
       "  <use xlink:href=\"#glyph0-2\" x=\"189.779297\" y=\"253.398438\"/>\n",
       "  <use xlink:href=\"#glyph0-8\" x=\"193.113281\" y=\"253.398438\"/>\n",
       "  <use xlink:href=\"#glyph0-13\" x=\"199.787109\" y=\"253.398438\"/>\n",
       "  <use xlink:href=\"#glyph0-14\" x=\"204.457031\" y=\"253.398438\"/>\n",
       "  <use xlink:href=\"#glyph0-15\" x=\"211.787109\" y=\"253.398438\"/>\n",
       "  <use xlink:href=\"#glyph0-3\" x=\"215.121094\" y=\"253.398438\"/>\n",
       "  <use xlink:href=\"#glyph0-13\" x=\"219.117188\" y=\"253.398438\"/>\n",
       "  <use xlink:href=\"#glyph0-2\" x=\"223.787109\" y=\"253.398438\"/>\n",
       "  <use xlink:href=\"#glyph0-9\" x=\"227.121094\" y=\"253.398438\"/>\n",
       "  <use xlink:href=\"#glyph0-2\" x=\"234.128906\" y=\"253.398438\"/>\n",
       "  <use xlink:href=\"#glyph0-10\" x=\"237.462891\" y=\"253.398438\"/>\n",
       "  <use xlink:href=\"#glyph0-11\" x=\"244.136719\" y=\"253.398438\"/>\n",
       "  <use xlink:href=\"#glyph0-12\" x=\"247.470703\" y=\"253.398438\"/>\n",
       "</g>\n",
       "<path style=\"fill-rule:nonzero;fill:rgb(100%,100%,100%);fill-opacity:1;stroke-width:0.75;stroke-linecap:round;stroke-linejoin:round;stroke:rgb(0%,0%,0%);stroke-opacity:1;stroke-miterlimit:10;\" d=\"M 152.007812 306.230469 L 152.289062 304.8125 L 153.125 303.492188 L 154.449219 302.359375 L 156.171875 301.488281 L 158.183594 300.941406 L 160.339844 300.753906 L 162.496094 300.941406 L 164.507812 301.488281 L 166.234375 302.359375 L 167.558594 303.492188 L 168.390625 304.8125 L 168.675781 306.230469 L 168.675781 312.507812 L 168.390625 313.925781 L 167.558594 315.246094 L 166.234375 316.382812 L 164.507812 317.253906 L 162.496094 317.800781 L 160.339844 317.984375 L 158.183594 317.800781 L 156.171875 317.253906 L 154.449219 316.382812 L 153.125 315.246094 L 152.289062 313.925781 L 152.007812 312.507812 Z \"/>\n",
       "<path style=\"fill-rule:nonzero;fill:rgb(100%,100%,100%);fill-opacity:1;stroke-width:0.75;stroke-linecap:round;stroke-linejoin:round;stroke:rgb(0%,0%,0%);stroke-opacity:1;stroke-miterlimit:10;\" d=\"M 266.582031 306.230469 L 266.863281 304.8125 L 267.699219 303.492188 L 269.023438 302.359375 L 270.746094 301.488281 L 272.757812 300.941406 L 274.914062 300.753906 L 277.070312 300.941406 L 279.082031 301.488281 L 280.808594 302.359375 L 282.132812 303.492188 L 282.964844 304.8125 L 283.25 306.230469 L 283.25 312.507812 L 282.964844 313.925781 L 282.132812 315.246094 L 280.808594 316.382812 L 279.082031 317.253906 L 277.070312 317.800781 L 274.914062 317.984375 L 272.757812 317.800781 L 270.746094 317.253906 L 269.023438 316.382812 L 267.699219 315.246094 L 266.863281 313.925781 L 266.582031 312.507812 Z \"/>\n",
       "<path style=\"fill-rule:nonzero;fill:rgb(100%,100%,100%);fill-opacity:1;stroke-width:0.75;stroke-linecap:round;stroke-linejoin:round;stroke:rgb(0%,0%,0%);stroke-opacity:1;stroke-miterlimit:10;\" d=\"M 335.324219 246.027344 L 335.609375 244.609375 L 336.441406 243.289062 L 337.765625 242.152344 L 339.492188 241.285156 L 341.503906 240.734375 L 343.660156 240.550781 L 345.816406 240.734375 L 347.828125 241.285156 L 349.550781 242.152344 L 350.875 243.289062 L 351.710938 244.609375 L 351.992188 246.027344 L 351.992188 252.304688 L 351.710938 253.722656 L 350.875 255.042969 L 349.550781 256.175781 L 347.828125 257.046875 L 345.816406 257.59375 L 343.660156 257.78125 L 341.503906 257.59375 L 339.492188 257.046875 L 337.765625 256.175781 L 336.441406 255.042969 L 335.609375 253.722656 L 335.324219 252.304688 Z \"/>\n",
       "<g style=\"fill:rgb(0%,0%,0%);fill-opacity:1;\">\n",
       "  <use xlink:href=\"#glyph1-1\" x=\"157.003906\" y=\"313.449219\"/>\n",
       "</g>\n",
       "<g style=\"fill:rgb(0%,0%,0%);fill-opacity:1;\">\n",
       "  <use xlink:href=\"#glyph1-2\" x=\"271.578125\" y=\"313.550781\"/>\n",
       "</g>\n",
       "<g style=\"fill:rgb(0%,0%,0%);fill-opacity:1;\">\n",
       "  <use xlink:href=\"#glyph1-2\" x=\"340.324219\" y=\"253.34375\"/>\n",
       "</g>\n",
       "<path style=\"fill-rule:nonzero;fill:rgb(100%,100%,100%);fill-opacity:1;stroke-width:0.75;stroke-linecap:round;stroke-linejoin:round;stroke:rgb(0%,0%,0%);stroke-opacity:1;stroke-miterlimit:10;\" d=\"M 207.148438 188.421875 L 207.203125 188.003906 L 207.367188 187.613281 L 207.621094 187.28125 L 207.957031 187.023438 L 208.347656 186.863281 L 208.765625 186.808594 L 228.574219 186.808594 L 228.992188 186.863281 L 229.382812 187.023438 L 229.714844 187.28125 L 229.972656 187.613281 L 230.132812 188.003906 L 230.191406 188.421875 L 230.191406 198.117188 L 230.132812 198.535156 L 229.972656 198.921875 L 229.714844 199.257812 L 229.382812 199.515625 L 228.992188 199.675781 L 228.574219 199.730469 L 208.765625 199.730469 L 208.347656 199.675781 L 207.957031 199.515625 L 207.621094 199.257812 L 207.367188 198.921875 L 207.203125 198.535156 L 207.148438 198.117188 Z \"/>\n",
       "<path style=\"fill-rule:nonzero;fill:rgb(100%,100%,100%);fill-opacity:1;stroke-width:0.75;stroke-linecap:round;stroke-linejoin:round;stroke:rgb(0%,0%,0%);stroke-opacity:1;stroke-miterlimit:10;\" d=\"M 331.097656 188.421875 L 331.152344 188.003906 L 331.3125 187.613281 L 331.570312 187.28125 L 331.90625 187.023438 L 332.296875 186.863281 L 332.714844 186.808594 L 352.523438 186.808594 L 352.941406 186.863281 L 353.328125 187.023438 L 353.664062 187.28125 L 353.921875 187.613281 L 354.082031 188.003906 L 354.136719 188.421875 L 354.136719 198.117188 L 354.082031 198.535156 L 353.921875 198.921875 L 353.664062 199.257812 L 353.328125 199.515625 L 352.941406 199.675781 L 352.523438 199.730469 L 332.714844 199.730469 L 332.296875 199.675781 L 331.90625 199.515625 L 331.570312 199.257812 L 331.3125 198.921875 L 331.152344 198.535156 L 331.097656 198.117188 Z \"/>\n",
       "<g style=\"fill:rgb(0%,0%,0%);fill-opacity:1;\">\n",
       "  <use xlink:href=\"#glyph2-1\" x=\"211.203125\" y=\"195.886719\"/>\n",
       "  <use xlink:href=\"#glyph2-2\" x=\"216\" y=\"195.886719\"/>\n",
       "  <use xlink:href=\"#glyph2-3\" x=\"221.335587\" y=\"195.886719\"/>\n",
       "</g>\n",
       "<g style=\"fill:rgb(0%,0%,0%);fill-opacity:1;\">\n",
       "  <use xlink:href=\"#glyph2-4\" x=\"337.28125\" y=\"195.753906\"/>\n",
       "  <use xlink:href=\"#glyph2-5\" x=\"342.616837\" y=\"195.753906\"/>\n",
       "</g>\n",
       "</g>\n",
       "</svg>\n"
      ],
      "text/plain": [
       "plot without title"
      ]
     },
     "metadata": {
      "image/svg+xml": {
       "isolated": true
      }
     },
     "output_type": "display_data"
    }
   ],
   "source": [
    "prp(wikiCART)"
   ]
  },
  {
   "cell_type": "markdown",
   "metadata": {},
   "source": [
    "# Problem-specific Knowledge\n",
    "\n",
    "We weren't able to improve on the baseline using the raw textual information. More specifically, the words themselves were not useful. There are other options though, and in this section we will try two techniques - identifying a key class of words, and counting words.\n",
    "\n",
    "The key class of words we will use are website addresses. \"Website addresses\" (also known as URLs - Uniform Resource Locators) are comprised of two main parts. An example would be \"http://www.google.com\". The first part is the protocol, which is usually \"http\" (HyperText Transfer Protocol). The second part is the address of the site, e.g. \"www.google.com\". We have stripped all punctuation so links to websites appear in the data as one word, e.g. \"httpwwwgooglecom\". We hypothesize that given that a lot of vandalism seems to be adding links to promotional or irrelevant websites, the presence of a web address is a sign of vandalism.\n",
    "\n",
    "We can search for the presence of a web address in the words added by searching for \"http\" in the Added column. The grepl function returns TRUE if a string is found in another string, e.g.\n",
    "\n",
    "grepl(\"cat\",\"dogs and cats\",fixed=TRUE) # TRUE\n",
    "\n",
    "grepl(\"cat\",\"dogs and rats\",fixed=TRUE) # FALSE\n",
    "\n",
    "Create a copy of your dataframe from the previous question:\n",
    "\n",
    "wikiWords2 = wikiWords\n",
    "\n",
    "Make a new column in wikiWords2 that is 1 if \"http\" was in Added:\n",
    "\n",
    "wikiWords2\\$HTTP = ifelse(grepl(\"http\",wiki\\$Added,fixed=TRUE), 1, 0)\n",
    "\n",
    "Based on this new column, how many revisions added a link?"
   ]
  },
  {
   "cell_type": "code",
   "execution_count": 63,
   "metadata": {
    "collapsed": true
   },
   "outputs": [],
   "source": [
    "wikiWords2 = wikiWords\n",
    "wikiWords2$HTTP = ifelse(grepl(\"http\",wiki$Added,fixed=TRUE), 1, 0)"
   ]
  },
  {
   "cell_type": "code",
   "execution_count": 66,
   "metadata": {
    "collapsed": false
   },
   "outputs": [
    {
     "data": {
      "text/plain": [
       "\n",
       "   0    1 \n",
       "3659  217 "
      ]
     },
     "execution_count": 66,
     "metadata": {},
     "output_type": "execute_result"
    }
   ],
   "source": [
    "table(wikiWords2$HTTP)"
   ]
  },
  {
   "cell_type": "code",
   "execution_count": 67,
   "metadata": {
    "collapsed": true
   },
   "outputs": [],
   "source": [
    "wikiTrain2 = subset(wikiWords2, spl==TRUE)\n",
    "\n",
    "wikiTest2 = subset(wikiWords2, spl==FALSE)"
   ]
  },
  {
   "cell_type": "code",
   "execution_count": 68,
   "metadata": {
    "collapsed": true
   },
   "outputs": [],
   "source": [
    "wikiCART2 = rpart(Vandal ~., data=wikiTrain2, method=\"class\")"
   ]
  },
  {
   "cell_type": "code",
   "execution_count": 69,
   "metadata": {
    "collapsed": true
   },
   "outputs": [],
   "source": [
    "pred2 = predict(wikiCART2, newdata = wikiTest2, type='class')"
   ]
  },
  {
   "cell_type": "code",
   "execution_count": 70,
   "metadata": {
    "collapsed": false
   },
   "outputs": [
    {
     "data": {
      "text/html": [
       "0.572656921754084"
      ],
      "text/latex": [
       "0.572656921754084"
      ],
      "text/markdown": [
       "0.572656921754084"
      ],
      "text/plain": [
       "[1] 0.5726569"
      ]
     },
     "execution_count": 70,
     "metadata": {},
     "output_type": "execute_result"
    }
   ],
   "source": [
    "t = table(wikiTest2$Vandal, pred2)\n",
    "sum(diag(t))/sum(t)"
   ]
  },
  {
   "cell_type": "markdown",
   "metadata": {},
   "source": [
    "Another possibility is that the number of words added and removed is predictive, perhaps more so than the actual words themselves. We already have a word count available in the form of the document-term matrices (DTMs).\n",
    "\n",
    "Sum the rows of dtmAdded and dtmRemoved and add them as new variables in your data frame wikiWords2 (called NumWordsAdded and NumWordsRemoved) by using the following commands:"
   ]
  },
  {
   "cell_type": "code",
   "execution_count": 71,
   "metadata": {
    "collapsed": true
   },
   "outputs": [],
   "source": [
    "wikiWords2$NumWordsAdded = rowSums(as.matrix(dtmAdded))\n",
    "wikiWords2$NumWordsRemoved = rowSums(as.matrix(dtmRemoved))"
   ]
  },
  {
   "cell_type": "code",
   "execution_count": 73,
   "metadata": {
    "collapsed": false
   },
   "outputs": [
    {
     "data": {
      "text/html": [
       "4.0500515995872"
      ],
      "text/latex": [
       "4.0500515995872"
      ],
      "text/markdown": [
       "4.0500515995872"
      ],
      "text/plain": [
       "[1] 4.050052"
      ]
     },
     "execution_count": 73,
     "metadata": {},
     "output_type": "execute_result"
    }
   ],
   "source": [
    "mean(wikiWords2$NumWordsAdded)"
   ]
  },
  {
   "cell_type": "code",
   "execution_count": 74,
   "metadata": {
    "collapsed": false
   },
   "outputs": [
    {
     "data": {
      "text/html": [
       "0.655202063628547"
      ],
      "text/latex": [
       "0.655202063628547"
      ],
      "text/markdown": [
       "0.655202063628547"
      ],
      "text/plain": [
       "[1] 0.6552021"
      ]
     },
     "execution_count": 74,
     "metadata": {},
     "output_type": "execute_result"
    }
   ],
   "source": [
    "wikiTrain2 = subset(wikiWords2, spl==TRUE)\n",
    "\n",
    "wikiTest2 = subset(wikiWords2, spl==FALSE)\n",
    "wikiCART2 = rpart(Vandal ~., data=wikiTrain2, method=\"class\")\n",
    "pred2 = predict(wikiCART2, newdata = wikiTest2, type='class')\n",
    "t = table(wikiTest2$Vandal, pred2)\n",
    "sum(diag(t))/sum(t)"
   ]
  },
  {
   "cell_type": "markdown",
   "metadata": {},
   "source": [
    "## Using Non-Textual Data\n",
    "\n",
    "We have two pieces of \"metadata\" (data about data) that we haven't yet used. Make a copy of wikiWords2, and call it wikiWords3:"
   ]
  },
  {
   "cell_type": "code",
   "execution_count": 75,
   "metadata": {
    "collapsed": true
   },
   "outputs": [],
   "source": [
    "wikiWords3 = wikiWords2"
   ]
  },
  {
   "cell_type": "markdown",
   "metadata": {},
   "source": [
    "Then add the two original variables Minor and Loggedin to this new data frame:"
   ]
  },
  {
   "cell_type": "code",
   "execution_count": 76,
   "metadata": {
    "collapsed": true
   },
   "outputs": [],
   "source": [
    "wikiWords3$Minor = wiki$Minor\n",
    "\n",
    "wikiWords3$Loggedin = wiki$Loggedin"
   ]
  },
  {
   "cell_type": "code",
   "execution_count": 77,
   "metadata": {
    "collapsed": false
   },
   "outputs": [
    {
     "data": {
      "text/html": [
       "0.718830610490112"
      ],
      "text/latex": [
       "0.718830610490112"
      ],
      "text/markdown": [
       "0.718830610490112"
      ],
      "text/plain": [
       "[1] 0.7188306"
      ]
     },
     "execution_count": 77,
     "metadata": {},
     "output_type": "execute_result"
    }
   ],
   "source": [
    "wikiTrain3 = subset(wikiWords3, spl==TRUE)\n",
    "wikiTest3 = subset(wikiWords3, spl==FALSE)\n",
    "wikiCART3 = rpart(Vandal ~., data=wikiTrain3, method=\"class\")\n",
    "pred3 = predict(wikiCART3, newdata = wikiTest3, type='class')\n",
    "t = table(wikiTest3$Vandal, pred3)\n",
    "sum(diag(t))/sum(t)"
   ]
  },
  {
   "cell_type": "code",
   "execution_count": 78,
   "metadata": {
    "collapsed": false
   },
   "outputs": [
    {
     "data": {
      "image/png": "[encoded data removed]",
      "image/svg+xml": [
       "<?xml version=\"1.0\" encoding=\"UTF-8\"?>\n",
       "<svg xmlns=\"http://www.w3.org/2000/svg\" xmlns:xlink=\"http://www.w3.org/1999/xlink\" width=\"504pt\" height=\"504pt\" viewBox=\"0 0 504 504\" version=\"1.1\">\n",
       "<defs>\n",
       "<g>\n",
       "<symbol overflow=\"visible\" id=\"glyph0-0\">\n",
       "<path style=\"stroke:none;\" d=\"M 0.90625 0 L 0.90625 -8.640625 L 7.859375 -8.640625 L 7.859375 0 Z M 6.78125 -1.078125 L 6.78125 -7.5625 L 1.984375 -7.5625 L 1.984375 -1.078125 Z \"/>\n",
       "</symbol>\n",
       "<symbol overflow=\"visible\" id=\"glyph0-1\">\n",
       "<path style=\"stroke:none;\" d=\"M 0.921875 -8.640625 L 2.71875 -8.640625 L 2.71875 -1.546875 L 7 -1.546875 L 7 0 L 0.921875 0 Z \"/>\n",
       "</symbol>\n",
       "<symbol overflow=\"visible\" id=\"glyph0-2\">\n",
       "<path style=\"stroke:none;\" d=\"M 3.640625 -1.171875 C 4.128906 -1.171875 4.503906 -1.34375 4.765625 -1.6875 C 5.023438 -2.039062 5.15625 -2.539062 5.15625 -3.1875 C 5.15625 -3.820312 5.023438 -4.3125 4.765625 -4.65625 C 4.503906 -5.007812 4.128906 -5.1875 3.640625 -5.1875 C 3.148438 -5.1875 2.773438 -5.007812 2.515625 -4.65625 C 2.253906 -4.3125 2.125 -3.820312 2.125 -3.1875 C 2.125 -2.539062 2.253906 -2.039062 2.515625 -1.6875 C 2.773438 -1.34375 3.148438 -1.171875 3.640625 -1.171875 Z M 6.921875 -3.1875 C 6.921875 -2.25 6.648438 -1.445312 6.109375 -0.78125 C 5.566406 -0.113281 4.75 0.21875 3.65625 0.21875 C 2.550781 0.21875 1.726562 -0.113281 1.1875 -0.78125 C 0.65625 -1.445312 0.390625 -2.25 0.390625 -3.1875 C 0.390625 -4.101562 0.65625 -4.898438 1.1875 -5.578125 C 1.726562 -6.253906 2.550781 -6.59375 3.65625 -6.59375 C 4.75 -6.59375 5.566406 -6.253906 6.109375 -5.578125 C 6.648438 -4.898438 6.921875 -4.101562 6.921875 -3.1875 Z M 3.65625 -6.5625 Z \"/>\n",
       "</symbol>\n",
       "<symbol overflow=\"visible\" id=\"glyph0-3\">\n",
       "<path style=\"stroke:none;\" d=\"M 3.515625 -1.375 C 3.910156 -1.375 4.242188 -1.519531 4.515625 -1.8125 C 4.785156 -2.101562 4.921875 -2.570312 4.921875 -3.21875 C 4.921875 -3.820312 4.789062 -4.28125 4.53125 -4.59375 C 4.28125 -4.914062 3.9375 -5.078125 3.5 -5.078125 C 2.914062 -5.078125 2.515625 -4.800781 2.296875 -4.25 C 2.171875 -3.957031 2.109375 -3.597656 2.109375 -3.171875 C 2.109375 -2.796875 2.171875 -2.46875 2.296875 -2.1875 C 2.523438 -1.644531 2.929688 -1.375 3.515625 -1.375 Z M 3.109375 -6.546875 C 3.429688 -6.546875 3.707031 -6.492188 3.9375 -6.390625 C 4.34375 -6.222656 4.671875 -5.914062 4.921875 -5.46875 L 4.921875 -6.390625 L 6.546875 -6.390625 L 6.546875 -0.328125 C 6.546875 0.492188 6.410156 1.113281 6.140625 1.53125 C 5.660156 2.25 4.742188 2.609375 3.390625 2.609375 C 2.578125 2.609375 1.910156 2.445312 1.390625 2.125 C 0.878906 1.8125 0.597656 1.335938 0.546875 0.703125 L 2.359375 0.703125 C 2.398438 0.890625 2.472656 1.03125 2.578125 1.125 C 2.765625 1.269531 3.070312 1.34375 3.5 1.34375 C 4.09375 1.34375 4.492188 1.144531 4.703125 0.75 C 4.835938 0.488281 4.90625 0.0507812 4.90625 -0.5625 L 4.90625 -0.96875 C 4.738281 -0.695312 4.566406 -0.492188 4.390625 -0.359375 C 4.054688 -0.0976562 3.625 0.03125 3.09375 0.03125 C 2.269531 0.03125 1.613281 -0.253906 1.125 -0.828125 C 0.632812 -1.410156 0.390625 -2.191406 0.390625 -3.171875 C 0.390625 -4.117188 0.625 -4.914062 1.09375 -5.5625 C 1.570312 -6.21875 2.242188 -6.546875 3.109375 -6.546875 Z M 3.640625 -6.5625 Z \"/>\n",
       "</symbol>\n",
       "<symbol overflow=\"visible\" id=\"glyph0-4\">\n",
       "<path style=\"stroke:none;\" d=\"M 3.296875 -5.1875 C 2.910156 -5.1875 2.609375 -5.0625 2.390625 -4.8125 C 2.179688 -4.570312 2.050781 -4.242188 2 -3.828125 L 4.59375 -3.828125 C 4.5625 -4.273438 4.425781 -4.613281 4.1875 -4.84375 C 3.945312 -5.070312 3.648438 -5.1875 3.296875 -5.1875 Z M 3.296875 -6.5625 C 3.828125 -6.5625 4.304688 -6.457031 4.734375 -6.25 C 5.160156 -6.050781 5.515625 -5.738281 5.796875 -5.3125 C 6.046875 -4.9375 6.207031 -4.5 6.28125 -4 C 6.320312 -3.707031 6.335938 -3.285156 6.328125 -2.734375 L 1.953125 -2.734375 C 1.984375 -2.085938 2.1875 -1.640625 2.5625 -1.390625 C 2.789062 -1.222656 3.066406 -1.140625 3.390625 -1.140625 C 3.734375 -1.140625 4.015625 -1.238281 4.234375 -1.4375 C 4.347656 -1.539062 4.453125 -1.6875 4.546875 -1.875 L 6.25 -1.875 C 6.207031 -1.5 6.007812 -1.113281 5.65625 -0.71875 C 5.101562 -0.09375 4.335938 0.21875 3.359375 0.21875 C 2.546875 0.21875 1.828125 -0.0390625 1.203125 -0.5625 C 0.585938 -1.09375 0.28125 -1.945312 0.28125 -3.125 C 0.28125 -4.226562 0.554688 -5.078125 1.109375 -5.671875 C 1.671875 -6.265625 2.398438 -6.5625 3.296875 -6.5625 Z M 3.421875 -6.5625 Z \"/>\n",
       "</symbol>\n",
       "<symbol overflow=\"visible\" id=\"glyph0-5\">\n",
       "<path style=\"stroke:none;\" d=\"M 3.140625 -6.546875 C 3.523438 -6.546875 3.867188 -6.457031 4.171875 -6.28125 C 4.472656 -6.113281 4.71875 -5.878906 4.90625 -5.578125 L 4.90625 -8.625 L 6.59375 -8.625 L 6.59375 0 L 4.96875 0 L 4.96875 -0.890625 C 4.726562 -0.503906 4.457031 -0.222656 4.15625 -0.046875 C 3.851562 0.117188 3.472656 0.203125 3.015625 0.203125 C 2.273438 0.203125 1.648438 -0.0976562 1.140625 -0.703125 C 0.628906 -1.304688 0.375 -2.082031 0.375 -3.03125 C 0.375 -4.125 0.625 -4.984375 1.125 -5.609375 C 1.625 -6.234375 2.296875 -6.546875 3.140625 -6.546875 Z M 3.5 -1.203125 C 3.96875 -1.203125 4.328125 -1.378906 4.578125 -1.734375 C 4.828125 -2.085938 4.953125 -2.539062 4.953125 -3.09375 C 4.953125 -3.875 4.753906 -4.4375 4.359375 -4.78125 C 4.109375 -4.976562 3.828125 -5.078125 3.515625 -5.078125 C 3.023438 -5.078125 2.664062 -4.890625 2.4375 -4.515625 C 2.207031 -4.148438 2.09375 -3.695312 2.09375 -3.15625 C 2.09375 -2.5625 2.207031 -2.085938 2.4375 -1.734375 C 2.675781 -1.378906 3.03125 -1.203125 3.5 -1.203125 Z \"/>\n",
       "</symbol>\n",
       "<symbol overflow=\"visible\" id=\"glyph0-6\">\n",
       "<path style=\"stroke:none;\" d=\"M 2.5 -7.15625 L 0.796875 -7.15625 L 0.796875 -8.6875 L 2.5 -8.6875 Z M 0.796875 -6.390625 L 2.5 -6.390625 L 2.5 0 L 0.796875 0 Z \"/>\n",
       "</symbol>\n",
       "<symbol overflow=\"visible\" id=\"glyph0-7\">\n",
       "<path style=\"stroke:none;\" d=\"M 4.3125 -6.546875 C 4.976562 -6.546875 5.519531 -6.367188 5.9375 -6.015625 C 6.351562 -5.671875 6.5625 -5.097656 6.5625 -4.296875 L 6.5625 0 L 4.859375 0 L 4.859375 -3.890625 C 4.859375 -4.222656 4.8125 -4.476562 4.71875 -4.65625 C 4.5625 -4.988281 4.25 -5.15625 3.78125 -5.15625 C 3.21875 -5.15625 2.832031 -4.914062 2.625 -4.4375 C 2.507812 -4.175781 2.453125 -3.847656 2.453125 -3.453125 L 2.453125 0 L 0.796875 0 L 0.796875 -6.375 L 2.40625 -6.375 L 2.40625 -5.4375 C 2.613281 -5.769531 2.816406 -6.007812 3.015625 -6.15625 C 3.359375 -6.414062 3.789062 -6.546875 4.3125 -6.546875 Z M 3.703125 -6.5625 Z \"/>\n",
       "</symbol>\n",
       "<symbol overflow=\"visible\" id=\"glyph0-8\">\n",
       "<path style=\"stroke:none;\" d=\"\"/>\n",
       "</symbol>\n",
       "<symbol overflow=\"visible\" id=\"glyph0-9\">\n",
       "<path style=\"stroke:none;\" d=\"M 7.03125 -2.421875 L 0.140625 0.203125 L 0.140625 -1.4375 L 5.0625 -3.171875 L 0.140625 -4.921875 L 0.140625 -6.546875 L 7.03125 -3.921875 Z \"/>\n",
       "</symbol>\n",
       "<symbol overflow=\"visible\" id=\"glyph0-10\">\n",
       "<path style=\"stroke:none;\" d=\"M 6.78125 -5.3125 L 6.78125 -3.78125 L 0.421875 -3.78125 L 0.421875 -5.3125 Z M 6.78125 -2.578125 L 6.78125 -1.03125 L 0.421875 -1.03125 L 0.421875 -2.578125 Z \"/>\n",
       "</symbol>\n",
       "<symbol overflow=\"visible\" id=\"glyph0-11\">\n",
       "<path style=\"stroke:none;\" d=\"M 2.078125 -4.171875 C 2.078125 -3.191406 2.15625 -2.441406 2.3125 -1.921875 C 2.476562 -1.410156 2.8125 -1.15625 3.3125 -1.15625 C 3.800781 -1.15625 4.125 -1.410156 4.28125 -1.921875 C 4.4375 -2.441406 4.515625 -3.191406 4.515625 -4.171875 C 4.515625 -5.191406 4.4375 -5.945312 4.28125 -6.4375 C 4.125 -6.925781 3.800781 -7.171875 3.3125 -7.171875 C 2.8125 -7.171875 2.476562 -6.925781 2.3125 -6.4375 C 2.15625 -5.945312 2.078125 -5.191406 2.078125 -4.171875 Z M 3.3125 -8.5625 C 4.382812 -8.5625 5.140625 -8.175781 5.578125 -7.40625 C 6.015625 -6.644531 6.234375 -5.566406 6.234375 -4.171875 C 6.234375 -2.765625 6.015625 -1.679688 5.578125 -0.921875 C 5.140625 -0.160156 4.382812 0.21875 3.3125 0.21875 C 2.226562 0.21875 1.46875 -0.160156 1.03125 -0.921875 C 0.59375 -1.679688 0.375 -2.765625 0.375 -4.171875 C 0.375 -5.566406 0.59375 -6.644531 1.03125 -7.40625 C 1.46875 -8.175781 2.226562 -8.5625 3.3125 -8.5625 Z \"/>\n",
       "</symbol>\n",
       "<symbol overflow=\"visible\" id=\"glyph0-12\">\n",
       "<path style=\"stroke:none;\" d=\"M 0.75 -1.75 L 2.53125 -1.75 L 2.53125 0 L 0.75 0 Z \"/>\n",
       "</symbol>\n",
       "<symbol overflow=\"visible\" id=\"glyph0-13\">\n",
       "<path style=\"stroke:none;\" d=\"M 1.984375 -2.28125 C 2.046875 -1.914062 2.171875 -1.632812 2.359375 -1.4375 C 2.546875 -1.238281 2.820312 -1.140625 3.1875 -1.140625 C 3.59375 -1.140625 3.90625 -1.285156 4.125 -1.578125 C 4.34375 -1.867188 4.453125 -2.234375 4.453125 -2.671875 C 4.453125 -3.109375 4.347656 -3.472656 4.140625 -3.765625 C 3.941406 -4.066406 3.628906 -4.21875 3.203125 -4.21875 C 2.992188 -4.21875 2.816406 -4.191406 2.671875 -4.140625 C 2.410156 -4.046875 2.210938 -3.875 2.078125 -3.625 L 0.578125 -3.6875 L 1.171875 -8.390625 L 5.859375 -8.390625 L 5.859375 -6.96875 L 2.390625 -6.96875 L 2.078125 -5.109375 C 2.335938 -5.273438 2.539062 -5.382812 2.6875 -5.4375 C 2.925781 -5.53125 3.21875 -5.578125 3.5625 -5.578125 C 4.269531 -5.578125 4.882812 -5.335938 5.40625 -4.859375 C 5.925781 -4.390625 6.1875 -3.707031 6.1875 -2.8125 C 6.1875 -2.019531 5.9375 -1.316406 5.4375 -0.703125 C 4.9375 -0.0859375 4.179688 0.21875 3.171875 0.21875 C 2.367188 0.21875 1.707031 0.00390625 1.1875 -0.421875 C 0.664062 -0.859375 0.375 -1.476562 0.3125 -2.28125 Z \"/>\n",
       "</symbol>\n",
       "<symbol overflow=\"visible\" id=\"glyph0-14\">\n",
       "<path style=\"stroke:none;\" d=\"M 0.890625 -8.640625 L 2.78125 -8.640625 L 6.21875 -2.609375 L 6.21875 -8.640625 L 7.90625 -8.640625 L 7.90625 0 L 6.09375 0 L 2.5625 -6.140625 L 2.5625 0 L 0.890625 0 Z M 4.453125 -8.65625 Z \"/>\n",
       "</symbol>\n",
       "<symbol overflow=\"visible\" id=\"glyph0-15\">\n",
       "<path style=\"stroke:none;\" d=\"M 2.4375 -6.390625 L 2.4375 -2.53125 C 2.4375 -2.175781 2.484375 -1.90625 2.578125 -1.71875 C 2.722656 -1.394531 3.019531 -1.234375 3.46875 -1.234375 C 4.039062 -1.234375 4.429688 -1.460938 4.640625 -1.921875 C 4.753906 -2.171875 4.8125 -2.5 4.8125 -2.90625 L 4.8125 -6.390625 L 6.5 -6.390625 L 6.5 0 L 4.875 0 L 4.875 -0.90625 C 4.863281 -0.882812 4.828125 -0.820312 4.765625 -0.71875 C 4.703125 -0.625 4.625 -0.539062 4.53125 -0.46875 C 4.269531 -0.238281 4.015625 -0.0820312 3.765625 0 C 3.523438 0.09375 3.242188 0.140625 2.921875 0.140625 C 1.972656 0.140625 1.335938 -0.195312 1.015625 -0.875 C 0.828125 -1.25 0.734375 -1.800781 0.734375 -2.53125 L 0.734375 -6.390625 Z M 3.609375 -6.5625 Z \"/>\n",
       "</symbol>\n",
       "<symbol overflow=\"visible\" id=\"glyph0-16\">\n",
       "<path style=\"stroke:none;\" d=\"M 7.921875 -6.53125 C 8.203125 -6.53125 8.476562 -6.472656 8.75 -6.359375 C 9.019531 -6.253906 9.269531 -6.066406 9.5 -5.796875 C 9.675781 -5.566406 9.796875 -5.289062 9.859375 -4.96875 C 9.898438 -4.75 9.921875 -4.4375 9.921875 -4.03125 L 9.90625 0 L 8.1875 0 L 8.1875 -4.0625 C 8.1875 -4.3125 8.148438 -4.515625 8.078125 -4.671875 C 7.929688 -4.960938 7.65625 -5.109375 7.25 -5.109375 C 6.789062 -5.109375 6.472656 -4.914062 6.296875 -4.53125 C 6.210938 -4.332031 6.171875 -4.085938 6.171875 -3.796875 L 6.171875 0 L 4.484375 0 L 4.484375 -3.796875 C 4.484375 -4.179688 4.441406 -4.457031 4.359375 -4.625 C 4.222656 -4.9375 3.953125 -5.09375 3.546875 -5.09375 C 3.066406 -5.09375 2.742188 -4.9375 2.578125 -4.625 C 2.484375 -4.445312 2.4375 -4.1875 2.4375 -3.84375 L 2.4375 0 L 0.75 0 L 0.75 -6.375 L 2.375 -6.375 L 2.375 -5.4375 C 2.582031 -5.769531 2.773438 -6.007812 2.953125 -6.15625 C 3.285156 -6.40625 3.707031 -6.53125 4.21875 -6.53125 C 4.707031 -6.53125 5.101562 -6.421875 5.40625 -6.203125 C 5.644531 -6.003906 5.828125 -5.75 5.953125 -5.4375 C 6.171875 -5.8125 6.441406 -6.085938 6.765625 -6.265625 C 7.109375 -6.441406 7.492188 -6.53125 7.921875 -6.53125 Z \"/>\n",
       "</symbol>\n",
       "<symbol overflow=\"visible\" id=\"glyph0-17\">\n",
       "<path style=\"stroke:none;\" d=\"M 2.09375 -8.640625 L 3.234375 -3.6875 L 3.484375 -2.3125 L 3.734375 -3.65625 L 4.703125 -8.640625 L 6.609375 -8.640625 L 7.640625 -3.6875 L 7.90625 -2.3125 L 8.15625 -3.640625 L 9.3125 -8.640625 L 11.15625 -8.640625 L 8.71875 0 L 7 0 L 5.953125 -5.046875 L 5.65625 -6.71875 L 5.34375 -5.046875 L 4.296875 0 L 2.625 0 L 0.171875 -8.640625 Z \"/>\n",
       "</symbol>\n",
       "<symbol overflow=\"visible\" id=\"glyph0-18\">\n",
       "<path style=\"stroke:none;\" d=\"M 4.25 -6.546875 C 4.28125 -6.546875 4.304688 -6.539062 4.328125 -6.53125 C 4.347656 -6.53125 4.394531 -6.53125 4.46875 -6.53125 L 4.46875 -4.8125 C 4.363281 -4.820312 4.269531 -4.828125 4.1875 -4.828125 C 4.101562 -4.835938 4.035156 -4.84375 3.984375 -4.84375 C 3.316406 -4.84375 2.867188 -4.625 2.640625 -4.1875 C 2.503906 -3.945312 2.4375 -3.566406 2.4375 -3.046875 L 2.4375 0 L 0.765625 0 L 0.765625 -6.390625 L 2.359375 -6.390625 L 2.359375 -5.28125 C 2.617188 -5.695312 2.84375 -5.984375 3.03125 -6.140625 C 3.34375 -6.410156 3.75 -6.546875 4.25 -6.546875 Z \"/>\n",
       "</symbol>\n",
       "<symbol overflow=\"visible\" id=\"glyph0-19\">\n",
       "<path style=\"stroke:none;\" d=\"M 2.078125 -2.046875 C 2.117188 -1.742188 2.195312 -1.53125 2.3125 -1.40625 C 2.519531 -1.1875 2.898438 -1.078125 3.453125 -1.078125 C 3.785156 -1.078125 4.046875 -1.125 4.234375 -1.21875 C 4.429688 -1.3125 4.53125 -1.457031 4.53125 -1.65625 C 4.53125 -1.84375 4.453125 -1.988281 4.296875 -2.09375 C 4.140625 -2.1875 3.5625 -2.351562 2.5625 -2.59375 C 1.832031 -2.769531 1.320312 -2.992188 1.03125 -3.265625 C 0.726562 -3.523438 0.578125 -3.90625 0.578125 -4.40625 C 0.578125 -5 0.804688 -5.503906 1.265625 -5.921875 C 1.734375 -6.347656 2.390625 -6.5625 3.234375 -6.5625 C 4.023438 -6.5625 4.671875 -6.398438 5.171875 -6.078125 C 5.679688 -5.765625 5.972656 -5.21875 6.046875 -4.4375 L 4.375 -4.4375 C 4.351562 -4.65625 4.289062 -4.828125 4.1875 -4.953125 C 4.007812 -5.179688 3.695312 -5.296875 3.25 -5.296875 C 2.882812 -5.296875 2.625 -5.238281 2.46875 -5.125 C 2.320312 -5.007812 2.25 -4.875 2.25 -4.71875 C 2.25 -4.53125 2.328125 -4.394531 2.484375 -4.3125 C 2.648438 -4.21875 3.234375 -4.0625 4.234375 -3.84375 C 4.898438 -3.6875 5.394531 -3.453125 5.71875 -3.140625 C 6.050781 -2.816406 6.21875 -2.414062 6.21875 -1.9375 C 6.21875 -1.300781 5.984375 -0.78125 5.515625 -0.375 C 5.046875 0.0195312 4.316406 0.21875 3.328125 0.21875 C 2.328125 0.21875 1.585938 0.00390625 1.109375 -0.421875 C 0.628906 -0.847656 0.390625 -1.390625 0.390625 -2.046875 Z M 3.359375 -6.5625 Z \"/>\n",
       "</symbol>\n",
       "<symbol overflow=\"visible\" id=\"glyph0-20\">\n",
       "<path style=\"stroke:none;\" d=\"M 3.28125 -3.265625 L 5.46875 -3.265625 L 4.390625 -6.65625 Z M 3.390625 -8.640625 L 5.421875 -8.640625 L 8.484375 0 L 6.53125 0 L 5.96875 -1.78125 L 2.796875 -1.78125 L 2.1875 0 L 0.3125 0 Z M 4.390625 -8.640625 Z \"/>\n",
       "</symbol>\n",
       "<symbol overflow=\"visible\" id=\"glyph0-21\">\n",
       "<path style=\"stroke:none;\" d=\"M 0.140625 -3.921875 L 7.03125 -6.546875 L 7.03125 -4.921875 L 2.109375 -3.171875 L 7.03125 -1.4375 L 7.03125 0.203125 L 0.140625 -2.421875 Z \"/>\n",
       "</symbol>\n",
       "<symbol overflow=\"visible\" id=\"glyph0-22\">\n",
       "<path style=\"stroke:none;\" d=\"M 2.71875 -7.140625 L 2.71875 -4.8125 L 4.765625 -4.8125 C 5.171875 -4.8125 5.472656 -4.859375 5.671875 -4.953125 C 6.035156 -5.117188 6.21875 -5.445312 6.21875 -5.9375 C 6.21875 -6.457031 6.046875 -6.804688 5.703125 -6.984375 C 5.503906 -7.085938 5.207031 -7.140625 4.8125 -7.140625 Z M 5.1875 -8.640625 C 5.789062 -8.628906 6.253906 -8.550781 6.578125 -8.40625 C 6.910156 -8.269531 7.191406 -8.070312 7.421875 -7.8125 C 7.609375 -7.59375 7.753906 -7.347656 7.859375 -7.078125 C 7.972656 -6.816406 8.03125 -6.515625 8.03125 -6.171875 C 8.03125 -5.765625 7.925781 -5.363281 7.71875 -4.96875 C 7.507812 -4.570312 7.164062 -4.289062 6.6875 -4.125 C 7.09375 -3.96875 7.375 -3.738281 7.53125 -3.4375 C 7.695312 -3.144531 7.78125 -2.695312 7.78125 -2.09375 L 7.78125 -1.515625 C 7.78125 -1.117188 7.796875 -0.847656 7.828125 -0.703125 C 7.878906 -0.484375 7.988281 -0.320312 8.15625 -0.21875 L 8.15625 0 L 6.171875 0 C 6.117188 -0.1875 6.082031 -0.34375 6.0625 -0.46875 C 6.007812 -0.707031 5.984375 -0.953125 5.984375 -1.203125 L 5.96875 -2.015625 C 5.957031 -2.566406 5.851562 -2.929688 5.65625 -3.109375 C 5.46875 -3.296875 5.109375 -3.390625 4.578125 -3.390625 L 2.71875 -3.390625 L 2.71875 0 L 0.953125 0 L 0.953125 -8.640625 Z \"/>\n",
       "</symbol>\n",
       "<symbol overflow=\"visible\" id=\"glyph0-23\">\n",
       "<path style=\"stroke:none;\" d=\"M 0.828125 -5.859375 L 0.828125 -7 C 1.359375 -7.019531 1.726562 -7.054688 1.9375 -7.109375 C 2.269531 -7.179688 2.546875 -7.328125 2.765625 -7.546875 C 2.910156 -7.703125 3.019531 -7.90625 3.09375 -8.15625 C 3.132812 -8.3125 3.15625 -8.425781 3.15625 -8.5 L 4.546875 -8.5 L 4.546875 0 L 2.828125 0 L 2.828125 -5.859375 Z \"/>\n",
       "</symbol>\n",
       "<symbol overflow=\"visible\" id=\"glyph0-24\">\n",
       "<path style=\"stroke:none;\" d=\"M 0.375 0 C 0.394531 -0.613281 0.523438 -1.171875 0.765625 -1.671875 C 1.003906 -2.234375 1.566406 -2.832031 2.453125 -3.46875 C 3.222656 -4.019531 3.722656 -4.414062 3.953125 -4.65625 C 4.296875 -5.019531 4.46875 -5.425781 4.46875 -5.875 C 4.46875 -6.226562 4.367188 -6.523438 4.171875 -6.765625 C 3.972656 -7.003906 3.6875 -7.125 3.3125 -7.125 C 2.8125 -7.125 2.46875 -6.9375 2.28125 -6.5625 C 2.175781 -6.34375 2.113281 -5.992188 2.09375 -5.515625 L 0.46875 -5.515625 C 0.5 -6.234375 0.628906 -6.816406 0.859375 -7.265625 C 1.304688 -8.109375 2.097656 -8.53125 3.234375 -8.53125 C 4.128906 -8.53125 4.84375 -8.28125 5.375 -7.78125 C 5.90625 -7.289062 6.171875 -6.632812 6.171875 -5.8125 C 6.171875 -5.1875 5.984375 -4.628906 5.609375 -4.140625 C 5.367188 -3.816406 4.96875 -3.453125 4.40625 -3.046875 L 3.734375 -2.578125 C 3.316406 -2.285156 3.03125 -2.070312 2.875 -1.9375 C 2.71875 -1.800781 2.585938 -1.644531 2.484375 -1.46875 L 6.1875 -1.46875 L 6.1875 0 Z \"/>\n",
       "</symbol>\n",
       "<symbol overflow=\"visible\" id=\"glyph1-0\">\n",
       "<path style=\"stroke:none;\" d=\"M 0.390625 0 L 0.390625 -8.609375 L 7.21875 -8.609375 L 7.21875 0 Z M 6.140625 -1.078125 L 6.140625 -7.53125 L 1.46875 -7.53125 L 1.46875 -1.078125 Z \"/>\n",
       "</symbol>\n",
       "<symbol overflow=\"visible\" id=\"glyph1-1\">\n",
       "<path style=\"stroke:none;\" d=\"M 3.25 -8.390625 C 4.332031 -8.390625 5.117188 -7.941406 5.609375 -7.046875 C 5.984375 -6.359375 6.171875 -5.410156 6.171875 -4.203125 C 6.171875 -3.066406 6 -2.125 5.65625 -1.375 C 5.164062 -0.300781 4.359375 0.234375 3.234375 0.234375 C 2.234375 0.234375 1.484375 -0.203125 0.984375 -1.078125 C 0.578125 -1.816406 0.375 -2.800781 0.375 -4.03125 C 0.375 -4.976562 0.5 -5.796875 0.75 -6.484375 C 1.207031 -7.753906 2.039062 -8.390625 3.25 -8.390625 Z M 3.234375 -0.734375 C 3.785156 -0.734375 4.222656 -0.972656 4.546875 -1.453125 C 4.867188 -1.941406 5.03125 -2.847656 5.03125 -4.171875 C 5.03125 -5.117188 4.910156 -5.898438 4.671875 -6.515625 C 4.441406 -7.128906 3.988281 -7.4375 3.3125 -7.4375 C 2.6875 -7.4375 2.226562 -7.144531 1.9375 -6.5625 C 1.65625 -5.976562 1.515625 -5.117188 1.515625 -3.984375 C 1.515625 -3.128906 1.609375 -2.441406 1.796875 -1.921875 C 2.078125 -1.128906 2.554688 -0.734375 3.234375 -0.734375 Z \"/>\n",
       "</symbol>\n",
       "<symbol overflow=\"visible\" id=\"glyph1-2\">\n",
       "<path style=\"stroke:none;\" d=\"M 1.15625 -5.9375 L 1.15625 -6.75 C 1.914062 -6.820312 2.441406 -6.945312 2.734375 -7.125 C 3.035156 -7.300781 3.265625 -7.710938 3.421875 -8.359375 L 4.25 -8.359375 L 4.25 0 L 3.125 0 L 3.125 -5.9375 Z \"/>\n",
       "</symbol>\n",
       "<symbol overflow=\"visible\" id=\"glyph2-0\">\n",
       "<path style=\"stroke:none;\" d=\"M 0.3125 0 L 0.3125 -6.875 L 5.765625 -6.875 L 5.765625 0 Z M 4.90625 -0.859375 L 4.90625 -6.015625 L 1.171875 -6.015625 L 1.171875 -0.859375 Z \"/>\n",
       "</symbol>\n",
       "<symbol overflow=\"visible\" id=\"glyph2-1\">\n",
       "<path style=\"stroke:none;\" d=\"M 3.75 -5.015625 L 4.6875 -5.015625 C 4.5625 -4.691406 4.296875 -3.957031 3.890625 -2.8125 C 3.585938 -1.945312 3.332031 -1.242188 3.125 -0.703125 C 2.632812 0.578125 2.289062 1.359375 2.09375 1.640625 C 1.894531 1.921875 1.550781 2.0625 1.0625 2.0625 C 0.945312 2.0625 0.851562 2.054688 0.78125 2.046875 C 0.71875 2.035156 0.640625 2.015625 0.546875 1.984375 L 0.546875 1.21875 C 0.691406 1.257812 0.796875 1.285156 0.859375 1.296875 C 0.929688 1.304688 0.992188 1.3125 1.046875 1.3125 C 1.203125 1.3125 1.316406 1.285156 1.390625 1.234375 C 1.460938 1.179688 1.523438 1.117188 1.578125 1.046875 C 1.585938 1.015625 1.640625 0.882812 1.734375 0.65625 C 1.835938 0.425781 1.910156 0.253906 1.953125 0.140625 L 0.09375 -5.015625 L 1.046875 -5.015625 L 2.40625 -0.9375 Z M 2.390625 -5.140625 Z \"/>\n",
       "</symbol>\n",
       "<symbol overflow=\"visible\" id=\"glyph2-2\">\n",
       "<path style=\"stroke:none;\" d=\"M 2.703125 -5.125 C 3.054688 -5.125 3.398438 -5.039062 3.734375 -4.875 C 4.078125 -4.707031 4.332031 -4.492188 4.5 -4.234375 C 4.675781 -3.972656 4.789062 -3.675781 4.84375 -3.34375 C 4.894531 -3.113281 4.921875 -2.742188 4.921875 -2.234375 L 1.234375 -2.234375 C 1.253906 -1.722656 1.375 -1.3125 1.59375 -1 C 1.820312 -0.695312 2.171875 -0.546875 2.640625 -0.546875 C 3.085938 -0.546875 3.441406 -0.691406 3.703125 -0.984375 C 3.847656 -1.148438 3.953125 -1.347656 4.015625 -1.578125 L 4.84375 -1.578125 C 4.820312 -1.390625 4.75 -1.179688 4.625 -0.953125 C 4.507812 -0.734375 4.375 -0.550781 4.21875 -0.40625 C 3.957031 -0.15625 3.640625 0.015625 3.265625 0.109375 C 3.054688 0.148438 2.828125 0.171875 2.578125 0.171875 C 1.953125 0.171875 1.421875 -0.0507812 0.984375 -0.5 C 0.554688 -0.957031 0.34375 -1.59375 0.34375 -2.40625 C 0.34375 -3.21875 0.5625 -3.875 1 -4.375 C 1.4375 -4.875 2.003906 -5.125 2.703125 -5.125 Z M 4.046875 -2.90625 C 4.015625 -3.269531 3.9375 -3.5625 3.8125 -3.78125 C 3.582031 -4.1875 3.195312 -4.390625 2.65625 -4.390625 C 2.269531 -4.390625 1.941406 -4.25 1.671875 -3.96875 C 1.410156 -3.695312 1.273438 -3.34375 1.265625 -2.90625 Z M 2.625 -5.140625 Z \"/>\n",
       "</symbol>\n",
       "<symbol overflow=\"visible\" id=\"glyph2-3\">\n",
       "<path style=\"stroke:none;\" d=\"M 1.125 -1.578125 C 1.144531 -1.296875 1.210938 -1.078125 1.328125 -0.921875 C 1.546875 -0.648438 1.914062 -0.515625 2.4375 -0.515625 C 2.75 -0.515625 3.019531 -0.582031 3.25 -0.71875 C 3.488281 -0.851562 3.609375 -1.066406 3.609375 -1.359375 C 3.609375 -1.566406 3.515625 -1.726562 3.328125 -1.84375 C 3.203125 -1.914062 2.960938 -1.992188 2.609375 -2.078125 L 1.9375 -2.25 C 1.507812 -2.351562 1.195312 -2.472656 1 -2.609375 C 0.632812 -2.835938 0.453125 -3.15625 0.453125 -3.5625 C 0.453125 -4.03125 0.617188 -4.410156 0.953125 -4.703125 C 1.296875 -4.992188 1.757812 -5.140625 2.34375 -5.140625 C 3.09375 -5.140625 3.640625 -4.921875 3.984375 -4.484375 C 4.191406 -4.203125 4.289062 -3.898438 4.28125 -3.578125 L 3.484375 -3.578125 C 3.472656 -3.765625 3.40625 -3.9375 3.28125 -4.09375 C 3.09375 -4.3125 2.757812 -4.421875 2.28125 -4.421875 C 1.957031 -4.421875 1.710938 -4.359375 1.546875 -4.234375 C 1.390625 -4.117188 1.3125 -3.960938 1.3125 -3.765625 C 1.3125 -3.546875 1.414062 -3.367188 1.625 -3.234375 C 1.75 -3.160156 1.9375 -3.09375 2.1875 -3.03125 L 2.734375 -2.890625 C 3.347656 -2.742188 3.753906 -2.601562 3.953125 -2.46875 C 4.285156 -2.25 4.453125 -1.910156 4.453125 -1.453125 C 4.453125 -1.003906 4.28125 -0.617188 3.9375 -0.296875 C 3.601562 0.0234375 3.085938 0.1875 2.390625 0.1875 C 1.648438 0.1875 1.125 0.0195312 0.8125 -0.3125 C 0.5 -0.65625 0.332031 -1.078125 0.3125 -1.578125 Z M 2.359375 -5.140625 Z \"/>\n",
       "</symbol>\n",
       "<symbol overflow=\"visible\" id=\"glyph2-4\">\n",
       "<path style=\"stroke:none;\" d=\"M 0.625 -5.015625 L 1.421875 -5.015625 L 1.421875 -4.3125 C 1.660156 -4.601562 1.910156 -4.8125 2.171875 -4.9375 C 2.441406 -5.0625 2.738281 -5.125 3.0625 -5.125 C 3.769531 -5.125 4.25 -4.878906 4.5 -4.390625 C 4.632812 -4.117188 4.703125 -3.726562 4.703125 -3.21875 L 4.703125 0 L 3.84375 0 L 3.84375 -3.15625 C 3.84375 -3.46875 3.800781 -3.71875 3.71875 -3.90625 C 3.5625 -4.21875 3.289062 -4.375 2.90625 -4.375 C 2.695312 -4.375 2.53125 -4.351562 2.40625 -4.3125 C 2.175781 -4.238281 1.972656 -4.097656 1.796875 -3.890625 C 1.660156 -3.734375 1.570312 -3.566406 1.53125 -3.390625 C 1.488281 -3.210938 1.46875 -2.957031 1.46875 -2.625 L 1.46875 0 L 0.625 0 Z M 2.59375 -5.140625 Z \"/>\n",
       "</symbol>\n",
       "<symbol overflow=\"visible\" id=\"glyph2-5\">\n",
       "<path style=\"stroke:none;\" d=\"M 2.609375 -0.546875 C 3.171875 -0.546875 3.554688 -0.753906 3.765625 -1.171875 C 3.972656 -1.597656 4.078125 -2.070312 4.078125 -2.59375 C 4.078125 -3.0625 4 -3.441406 3.84375 -3.734375 C 3.601562 -4.191406 3.195312 -4.421875 2.625 -4.421875 C 2.101562 -4.421875 1.722656 -4.222656 1.484375 -3.828125 C 1.253906 -3.441406 1.140625 -2.96875 1.140625 -2.40625 C 1.140625 -1.875 1.253906 -1.429688 1.484375 -1.078125 C 1.722656 -0.722656 2.097656 -0.546875 2.609375 -0.546875 Z M 2.640625 -5.15625 C 3.285156 -5.15625 3.832031 -4.941406 4.28125 -4.515625 C 4.726562 -4.085938 4.953125 -3.453125 4.953125 -2.609375 C 4.953125 -1.804688 4.753906 -1.140625 4.359375 -0.609375 C 3.960938 -0.078125 3.351562 0.1875 2.53125 0.1875 C 1.84375 0.1875 1.296875 -0.046875 0.890625 -0.515625 C 0.484375 -0.984375 0.28125 -1.613281 0.28125 -2.40625 C 0.28125 -3.238281 0.492188 -3.90625 0.921875 -4.40625 C 1.347656 -4.90625 1.921875 -5.15625 2.640625 -5.15625 Z M 2.609375 -5.140625 Z \"/>\n",
       "</symbol>\n",
       "</g>\n",
       "</defs>\n",
       "<g id=\"surface6\">\n",
       "<rect x=\"0\" y=\"0\" width=\"504\" height=\"504\" style=\"fill:rgb(100%,100%,100%);fill-opacity:1;stroke:none;\"/>\n",
       "<path style=\"fill:none;stroke-width:0.75;stroke-linecap:butt;stroke-linejoin:round;stroke:rgb(0%,0%,0%);stroke-opacity:1;stroke-miterlimit:10;\" d=\"M 160.339844 211.957031 L 209.371094 166.351562 L 221.632812 166.351562 \"/>\n",
       "<path style=\"fill:none;stroke-width:0.75;stroke-linecap:butt;stroke-linejoin:round;stroke:rgb(0%,0%,0%);stroke-opacity:1;stroke-miterlimit:10;\" d=\"M 282.921875 223.453125 L 233.890625 166.351562 L 221.632812 166.351562 \"/>\n",
       "<path style=\"fill:none;stroke-width:0.75;stroke-linecap:butt;stroke-linejoin:round;stroke:rgb(0%,0%,0%);stroke-opacity:1;stroke-miterlimit:10;\" d=\"M 222.183594 281.984375 L 270.773438 224.882812 L 282.921875 224.882812 \"/>\n",
       "<path style=\"fill:none;stroke-width:0.75;stroke-linecap:butt;stroke-linejoin:round;stroke:rgb(0%,0%,0%);stroke-opacity:1;stroke-miterlimit:10;\" d=\"M 166.964844 329.023438 L 211.140625 283.414062 L 222.183594 283.414062 \"/>\n",
       "<path style=\"fill:none;stroke-width:0.75;stroke-linecap:butt;stroke-linejoin:round;stroke:rgb(0%,0%,0%);stroke-opacity:1;stroke-miterlimit:10;\" d=\"M 277.398438 329.023438 L 233.226562 283.414062 L 222.183594 283.414062 \"/>\n",
       "<path style=\"fill:none;stroke-width:0.75;stroke-linecap:butt;stroke-linejoin:round;stroke:rgb(0%,0%,0%);stroke-opacity:1;stroke-miterlimit:10;\" d=\"M 343.660156 270.492188 L 295.070312 224.882812 L 282.921875 224.882812 \"/>\n",
       "<path style=\" stroke:none;fill-rule:nonzero;fill:rgb(100%,100%,100%);fill-opacity:1;\" d=\"M 170.890625 170.660156 L 170.890625 153.425781 L 272.371094 153.425781 L 272.371094 170.660156 Z \"/>\n",
       "<path style=\" stroke:none;fill-rule:nonzero;fill:rgb(100%,100%,100%);fill-opacity:1;\" d=\"M 226.894531 229.191406 L 226.894531 211.957031 L 338.949219 211.957031 L 338.949219 229.191406 Z \"/>\n",
       "<path style=\" stroke:none;fill-rule:nonzero;fill:rgb(100%,100%,100%);fill-opacity:1;\" d=\"M 167.824219 287.722656 L 167.824219 270.492188 L 276.542969 270.492188 L 276.542969 287.722656 Z \"/>\n",
       "<g style=\"fill:rgb(0%,0%,0%);fill-opacity:1;\">\n",
       "  <use xlink:href=\"#glyph0-1\" x=\"175.957031\" y=\"165.082031\"/>\n",
       "  <use xlink:href=\"#glyph0-2\" x=\"183.287109\" y=\"165.082031\"/>\n",
       "  <use xlink:href=\"#glyph0-3\" x=\"190.617188\" y=\"165.082031\"/>\n",
       "  <use xlink:href=\"#glyph0-3\" x=\"197.947266\" y=\"165.082031\"/>\n",
       "  <use xlink:href=\"#glyph0-4\" x=\"205.277344\" y=\"165.082031\"/>\n",
       "  <use xlink:href=\"#glyph0-5\" x=\"211.951172\" y=\"165.082031\"/>\n",
       "  <use xlink:href=\"#glyph0-6\" x=\"219.28125\" y=\"165.082031\"/>\n",
       "  <use xlink:href=\"#glyph0-7\" x=\"222.615234\" y=\"165.082031\"/>\n",
       "  <use xlink:href=\"#glyph0-8\" x=\"229.945312\" y=\"165.082031\"/>\n",
       "  <use xlink:href=\"#glyph0-9\" x=\"233.279297\" y=\"165.082031\"/>\n",
       "  <use xlink:href=\"#glyph0-10\" x=\"240.287109\" y=\"165.082031\"/>\n",
       "  <use xlink:href=\"#glyph0-8\" x=\"247.294922\" y=\"165.082031\"/>\n",
       "  <use xlink:href=\"#glyph0-11\" x=\"250.628906\" y=\"165.082031\"/>\n",
       "  <use xlink:href=\"#glyph0-12\" x=\"257.302734\" y=\"165.082031\"/>\n",
       "  <use xlink:href=\"#glyph0-13\" x=\"260.636719\" y=\"165.082031\"/>\n",
       "</g>\n",
       "<g style=\"fill:rgb(0%,0%,0%);fill-opacity:1;\">\n",
       "  <use xlink:href=\"#glyph0-14\" x=\"231.414062\" y=\"224.792969\"/>\n",
       "  <use xlink:href=\"#glyph0-15\" x=\"240.080078\" y=\"224.792969\"/>\n",
       "  <use xlink:href=\"#glyph0-16\" x=\"247.410156\" y=\"224.792969\"/>\n",
       "  <use xlink:href=\"#glyph0-17\" x=\"258.080078\" y=\"224.792969\"/>\n",
       "  <use xlink:href=\"#glyph0-2\" x=\"269.40625\" y=\"224.792969\"/>\n",
       "  <use xlink:href=\"#glyph0-18\" x=\"276.736328\" y=\"224.792969\"/>\n",
       "  <use xlink:href=\"#glyph0-5\" x=\"281.40625\" y=\"224.792969\"/>\n",
       "  <use xlink:href=\"#glyph0-19\" x=\"288.736328\" y=\"224.792969\"/>\n",
       "  <use xlink:href=\"#glyph0-20\" x=\"295.410156\" y=\"224.792969\"/>\n",
       "  <use xlink:href=\"#glyph0-8\" x=\"304.076172\" y=\"224.792969\"/>\n",
       "  <use xlink:href=\"#glyph0-21\" x=\"307.410156\" y=\"224.792969\"/>\n",
       "  <use xlink:href=\"#glyph0-8\" x=\"314.417969\" y=\"224.792969\"/>\n",
       "  <use xlink:href=\"#glyph0-11\" x=\"317.751953\" y=\"224.792969\"/>\n",
       "  <use xlink:href=\"#glyph0-12\" x=\"324.425781\" y=\"224.792969\"/>\n",
       "  <use xlink:href=\"#glyph0-13\" x=\"327.759766\" y=\"224.792969\"/>\n",
       "</g>\n",
       "<g style=\"fill:rgb(0%,0%,0%);fill-opacity:1;\">\n",
       "  <use xlink:href=\"#glyph0-14\" x=\"172.339844\" y=\"283.324219\"/>\n",
       "  <use xlink:href=\"#glyph0-15\" x=\"181.005859\" y=\"283.324219\"/>\n",
       "  <use xlink:href=\"#glyph0-16\" x=\"188.335938\" y=\"283.324219\"/>\n",
       "  <use xlink:href=\"#glyph0-17\" x=\"199.005859\" y=\"283.324219\"/>\n",
       "  <use xlink:href=\"#glyph0-2\" x=\"210.332031\" y=\"283.324219\"/>\n",
       "  <use xlink:href=\"#glyph0-18\" x=\"217.662109\" y=\"283.324219\"/>\n",
       "  <use xlink:href=\"#glyph0-5\" x=\"222.332031\" y=\"283.324219\"/>\n",
       "  <use xlink:href=\"#glyph0-19\" x=\"229.662109\" y=\"283.324219\"/>\n",
       "  <use xlink:href=\"#glyph0-22\" x=\"236.335938\" y=\"283.324219\"/>\n",
       "  <use xlink:href=\"#glyph0-8\" x=\"245.001953\" y=\"283.324219\"/>\n",
       "  <use xlink:href=\"#glyph0-21\" x=\"248.335938\" y=\"283.324219\"/>\n",
       "  <use xlink:href=\"#glyph0-8\" x=\"255.34375\" y=\"283.324219\"/>\n",
       "  <use xlink:href=\"#glyph0-23\" x=\"258.677734\" y=\"283.324219\"/>\n",
       "  <use xlink:href=\"#glyph0-24\" x=\"265.351562\" y=\"283.324219\"/>\n",
       "</g>\n",
       "<path style=\"fill-rule:nonzero;fill:rgb(100%,100%,100%);fill-opacity:1;stroke-width:0.75;stroke-linecap:round;stroke-linejoin:round;stroke:rgb(0%,0%,0%);stroke-opacity:1;stroke-miterlimit:10;\" d=\"M 152.007812 219.945312 L 152.289062 217.878906 L 153.125 215.953125 L 154.449219 214.296875 L 156.171875 213.027344 L 158.183594 212.230469 L 160.339844 211.957031 L 162.496094 212.230469 L 164.507812 213.027344 L 166.234375 214.296875 L 167.558594 215.953125 L 168.390625 217.878906 L 168.675781 219.945312 L 168.675781 221.203125 L 168.390625 223.269531 L 167.558594 225.199219 L 166.234375 226.851562 L 164.507812 228.121094 L 162.496094 228.917969 L 160.339844 229.191406 L 158.183594 228.917969 L 156.171875 228.121094 L 154.449219 226.851562 L 153.125 225.199219 L 152.289062 223.269531 L 152.007812 221.203125 Z \"/>\n",
       "<path style=\"fill-rule:nonzero;fill:rgb(100%,100%,100%);fill-opacity:1;stroke-width:0.75;stroke-linecap:round;stroke-linejoin:round;stroke:rgb(0%,0%,0%);stroke-opacity:1;stroke-miterlimit:10;\" d=\"M 158.632812 337.011719 L 158.917969 334.941406 L 159.75 333.015625 L 161.074219 331.363281 L 162.800781 330.09375 L 164.808594 329.296875 L 166.964844 329.023438 L 169.125 329.296875 L 171.132812 330.09375 L 172.859375 331.363281 L 174.183594 333.015625 L 175.015625 334.941406 L 175.300781 337.011719 L 175.300781 338.269531 L 175.015625 340.335938 L 174.183594 342.261719 L 172.859375 343.917969 L 171.132812 345.183594 L 169.125 345.984375 L 166.964844 346.253906 L 164.808594 345.984375 L 162.800781 345.183594 L 161.074219 343.917969 L 159.75 342.261719 L 158.917969 340.335938 L 158.632812 338.269531 Z \"/>\n",
       "<path style=\"fill-rule:nonzero;fill:rgb(100%,100%,100%);fill-opacity:1;stroke-width:0.75;stroke-linecap:round;stroke-linejoin:round;stroke:rgb(0%,0%,0%);stroke-opacity:1;stroke-miterlimit:10;\" d=\"M 269.066406 337.011719 L 269.347656 334.941406 L 270.183594 333.015625 L 271.507812 331.363281 L 273.234375 330.09375 L 275.242188 329.296875 L 277.398438 329.023438 L 279.554688 329.296875 L 281.566406 330.09375 L 283.292969 331.363281 L 284.617188 333.015625 L 285.449219 334.941406 L 285.734375 337.011719 L 285.734375 338.269531 L 285.449219 340.335938 L 284.617188 342.261719 L 283.292969 343.917969 L 281.566406 345.183594 L 279.554688 345.984375 L 277.398438 346.253906 L 275.242188 345.984375 L 273.234375 345.183594 L 271.507812 343.917969 L 270.183594 342.261719 L 269.347656 340.335938 L 269.066406 338.269531 Z \"/>\n",
       "<path style=\"fill-rule:nonzero;fill:rgb(100%,100%,100%);fill-opacity:1;stroke-width:0.75;stroke-linecap:round;stroke-linejoin:round;stroke:rgb(0%,0%,0%);stroke-opacity:1;stroke-miterlimit:10;\" d=\"M 335.324219 278.476562 L 335.609375 276.410156 L 336.441406 274.484375 L 337.765625 272.832031 L 339.492188 271.5625 L 341.503906 270.761719 L 343.660156 270.492188 L 345.816406 270.761719 L 347.828125 271.5625 L 349.550781 272.832031 L 350.875 274.484375 L 351.710938 276.410156 L 351.992188 278.476562 L 351.992188 279.738281 L 351.710938 281.804688 L 350.875 283.730469 L 349.550781 285.382812 L 347.828125 286.652344 L 345.816406 287.449219 L 343.660156 287.722656 L 341.503906 287.449219 L 339.492188 286.652344 L 337.765625 285.382812 L 336.441406 283.730469 L 335.609375 281.804688 L 335.324219 279.738281 Z \"/>\n",
       "<g style=\"fill:rgb(0%,0%,0%);fill-opacity:1;\">\n",
       "  <use xlink:href=\"#glyph1-1\" x=\"157.003906\" y=\"224.652344\"/>\n",
       "</g>\n",
       "<g style=\"fill:rgb(0%,0%,0%);fill-opacity:1;\">\n",
       "  <use xlink:href=\"#glyph1-1\" x=\"163.628906\" y=\"341.71875\"/>\n",
       "</g>\n",
       "<g style=\"fill:rgb(0%,0%,0%);fill-opacity:1;\">\n",
       "  <use xlink:href=\"#glyph1-2\" x=\"274.0625\" y=\"341.820312\"/>\n",
       "</g>\n",
       "<g style=\"fill:rgb(0%,0%,0%);fill-opacity:1;\">\n",
       "  <use xlink:href=\"#glyph1-2\" x=\"340.324219\" y=\"283.285156\"/>\n",
       "</g>\n",
       "<path style=\"fill-rule:nonzero;fill:rgb(100%,100%,100%);fill-opacity:1;stroke-width:0.75;stroke-linecap:round;stroke-linejoin:round;stroke:rgb(0%,0%,0%);stroke-opacity:1;stroke-miterlimit:10;\" d=\"M 143.242188 161.503906 L 143.296875 161.085938 L 143.457031 160.695312 L 143.714844 160.363281 L 144.046875 160.105469 L 144.4375 159.945312 L 144.855469 159.890625 L 164.664062 159.890625 L 165.082031 159.945312 L 165.472656 160.105469 L 165.808594 160.363281 L 166.066406 160.695312 L 166.226562 161.085938 L 166.28125 161.503906 L 166.28125 171.195312 L 166.226562 171.617188 L 166.066406 172.003906 L 165.808594 172.339844 L 165.472656 172.597656 L 165.082031 172.757812 L 164.664062 172.8125 L 144.855469 172.8125 L 144.4375 172.757812 L 144.046875 172.597656 L 143.714844 172.339844 L 143.457031 172.003906 L 143.296875 171.617188 L 143.242188 171.195312 Z \"/>\n",
       "<path style=\"fill-rule:nonzero;fill:rgb(100%,100%,100%);fill-opacity:1;stroke-width:0.75;stroke-linecap:round;stroke-linejoin:round;stroke:rgb(0%,0%,0%);stroke-opacity:1;stroke-miterlimit:10;\" d=\"M 276.980469 161.503906 L 277.035156 161.085938 L 277.199219 160.695312 L 277.453125 160.363281 L 277.789062 160.105469 L 278.179688 159.945312 L 278.597656 159.890625 L 298.40625 159.890625 L 298.824219 159.945312 L 299.214844 160.105469 L 299.546875 160.363281 L 299.804688 160.695312 L 299.964844 161.085938 L 300.019531 161.503906 L 300.019531 171.195312 L 299.964844 171.617188 L 299.804688 172.003906 L 299.546875 172.339844 L 299.214844 172.597656 L 298.824219 172.757812 L 298.40625 172.8125 L 278.597656 172.8125 L 278.179688 172.757812 L 277.789062 172.597656 L 277.453125 172.339844 L 277.199219 172.003906 L 277.035156 171.617188 L 276.980469 171.195312 Z \"/>\n",
       "<g style=\"fill:rgb(0%,0%,0%);fill-opacity:1;\">\n",
       "  <use xlink:href=\"#glyph2-1\" x=\"147.296875\" y=\"168.964844\"/>\n",
       "  <use xlink:href=\"#glyph2-2\" x=\"152.09375\" y=\"168.964844\"/>\n",
       "  <use xlink:href=\"#glyph2-3\" x=\"157.429337\" y=\"168.964844\"/>\n",
       "</g>\n",
       "<g style=\"fill:rgb(0%,0%,0%);fill-opacity:1;\">\n",
       "  <use xlink:href=\"#glyph2-4\" x=\"283.164062\" y=\"168.835938\"/>\n",
       "  <use xlink:href=\"#glyph2-5\" x=\"288.499649\" y=\"168.835938\"/>\n",
       "</g>\n",
       "</g>\n",
       "</svg>\n"
      ],
      "text/plain": [
       "plot without title"
      ]
     },
     "metadata": {
      "image/svg+xml": {
       "isolated": true
      }
     },
     "output_type": "display_data"
    }
   ],
   "source": [
    "prp(wikiCART3)"
   ]
  },
  {
   "cell_type": "markdown",
   "metadata": {},
   "source": [
    "# AUTOMATING REVIEWS IN MEDICINE"
   ]
  },
  {
   "cell_type": "code",
   "execution_count": 79,
   "metadata": {
    "collapsed": true
   },
   "outputs": [],
   "source": [
    "clinical = read.csv('data/clinical_trial.csv', stringsAsFactors=FALSE)"
   ]
  },
  {
   "cell_type": "code",
   "execution_count": 80,
   "metadata": {
    "collapsed": false
   },
   "outputs": [
    {
     "name": "stdout",
     "output_type": "stream",
     "text": [
      "'data.frame':\t1860 obs. of  3 variables:\n",
      " $ title   : chr  \"Treatment of Hodgkin's disease and other cancers with 1,3-bis(2-chloroethyl)-1-nitrosourea (BCNU; NSC-409962).\" \"Cell mediated immune status in malignancy--pretherapy and post-therapy assessment.\" \"Neoadjuvant vinorelbine-capecitabine versus docetaxel-doxorubicin-cyclophosphamide in early nonresponsive breast cancer: phase \"| __truncated__ \"Randomized phase 3 trial of fluorouracil, epirubicin, and cyclophosphamide alone or followed by Paclitaxel for early breast can\"| __truncated__ ...\n",
      " $ abstract: chr  \"\" \"Twenty-eight cases of malignancies of different kinds were studied to assess T-cell activity and population before and after in\"| __truncated__ \"BACKGROUND: Among breast cancer patients, nonresponse to initial neoadjuvant chemotherapy is associated with unfavorable outcom\"| __truncated__ \"BACKGROUND: Taxanes are among the most active drugs for the treatment of metastatic breast cancer, and, as a consequence, they \"| __truncated__ ...\n",
      " $ trial   : int  1 0 1 1 1 0 1 0 0 0 ...\n"
     ]
    }
   ],
   "source": [
    "str(clinical)"
   ]
  },
  {
   "cell_type": "markdown",
   "metadata": {},
   "source": [
    "** How many characters are there in the longest abstract? (Longest here is defined as the abstract with the largest number of characters.)**"
   ]
  },
  {
   "cell_type": "code",
   "execution_count": 83,
   "metadata": {
    "collapsed": false
   },
   "outputs": [
    {
     "data": {
      "text/plain": [
       "   Min. 1st Qu.  Median    Mean 3rd Qu.    Max. \n",
       "      0    1195    1583    1480    1820    3708 "
      ]
     },
     "execution_count": 83,
     "metadata": {},
     "output_type": "execute_result"
    }
   ],
   "source": [
    "summary(nchar(clinical$abstract))"
   ]
  },
  {
   "cell_type": "markdown",
   "metadata": {},
   "source": [
    "**How many search results provided no abstract? (HINT: A search result provided no abstract if the number of characters in the abstract field is zero.)**"
   ]
  },
  {
   "cell_type": "code",
   "execution_count": 84,
   "metadata": {
    "collapsed": false
   },
   "outputs": [
    {
     "data": {
      "text/html": [
       "112"
      ],
      "text/latex": [
       "112"
      ],
      "text/markdown": [
       "112"
      ],
      "text/plain": [
       "[1] 112"
      ]
     },
     "execution_count": 84,
     "metadata": {},
     "output_type": "execute_result"
    }
   ],
   "source": [
    "sum(nchar(clinical$abstract)==0)"
   ]
  },
  {
   "cell_type": "code",
   "execution_count": 85,
   "metadata": {
    "collapsed": false
   },
   "outputs": [
    {
     "data": {
      "text/html": [
       "1258"
      ],
      "text/latex": [
       "1258"
      ],
      "text/markdown": [
       "1258"
      ],
      "text/plain": [
       "[1] 1258"
      ]
     },
     "execution_count": 85,
     "metadata": {},
     "output_type": "execute_result"
    }
   ],
   "source": [
    "which.min(nchar(clinical$title))"
   ]
  },
  {
   "cell_type": "code",
   "execution_count": 86,
   "metadata": {
    "collapsed": false
   },
   "outputs": [
    {
     "data": {
      "text/html": [
       "'A decade of letrozole: FACE.'"
      ],
      "text/latex": [
       "'A decade of letrozole: FACE.'"
      ],
      "text/markdown": [
       "'A decade of letrozole: FACE.'"
      ],
      "text/plain": [
       "[1] \"A decade of letrozole: FACE.\""
      ]
     },
     "execution_count": 86,
     "metadata": {},
     "output_type": "execute_result"
    }
   ],
   "source": [
    "clinical$title[1258]"
   ]
  },
  {
   "cell_type": "markdown",
   "metadata": {},
   "source": [
    "## Pre-Processing"
   ]
  },
  {
   "cell_type": "code",
   "execution_count": 87,
   "metadata": {
    "collapsed": true
   },
   "outputs": [],
   "source": [
    "corpusTitle = Corpus(VectorSource(clinical$title))\n",
    "corpusAbstract = Corpus(VectorSource(clinical$abstract))"
   ]
  },
  {
   "cell_type": "code",
   "execution_count": 88,
   "metadata": {
    "collapsed": true
   },
   "outputs": [],
   "source": [
    "corpusTitle = tm_map(corpusTitle, tolower)\n",
    "corpusTitle = tm_map(corpusTitle, PlainTextDocument)\n",
    "corpusAbstract = tm_map(corpusAbstract, tolower)\n",
    "corpusAbstract = tm_map(corpusAbstract, PlainTextDocument)"
   ]
  },
  {
   "cell_type": "code",
   "execution_count": 89,
   "metadata": {
    "collapsed": true
   },
   "outputs": [],
   "source": [
    "corpusTitle = tm_map(corpusTitle, removePunctuation)\n",
    "corpusAbstract = tm_map(corpusAbstract, removePunctuation)"
   ]
  },
  {
   "cell_type": "code",
   "execution_count": 90,
   "metadata": {
    "collapsed": true
   },
   "outputs": [],
   "source": [
    "corpusTitle = tm_map(corpusTitle, removeWords, stopwords('english'))\n",
    "corpusAbstract = tm_map(corpusAbstract, removeWords, stopwords('english'))"
   ]
  },
  {
   "cell_type": "code",
   "execution_count": 91,
   "metadata": {
    "collapsed": true
   },
   "outputs": [],
   "source": [
    "corpusTitle = tm_map(corpusTitle, stemDocument)\n",
    "corpusAbstract = tm_map(corpusAbstract, stemDocument)"
   ]
  },
  {
   "cell_type": "code",
   "execution_count": 113,
   "metadata": {
    "collapsed": true
   },
   "outputs": [],
   "source": [
    "dtmTitle = DocumentTermMatrix(corpusTitle)\n",
    "dtmAbstract = DocumentTermMatrix(corpusAbstract)"
   ]
  },
  {
   "cell_type": "code",
   "execution_count": 114,
   "metadata": {
    "collapsed": false
   },
   "outputs": [],
   "source": [
    "dtmTitle = removeSparseTerms(dtmTitle, 0.95)\n",
    "dtmAbstract = removeSparseTerms(dtmAbstract, 0.95)"
   ]
  },
  {
   "cell_type": "code",
   "execution_count": 115,
   "metadata": {
    "collapsed": true
   },
   "outputs": [],
   "source": [
    "dtmTitle = as.data.frame(as.matrix(dtmTitle))\n",
    "dtmAbstract = as.data.frame(as.matrix(dtmAbstract))"
   ]
  },
  {
   "cell_type": "code",
   "execution_count": 102,
   "metadata": {
    "collapsed": false
   },
   "outputs": [
    {
     "name": "stdout",
     "output_type": "stream",
     "text": [
      "'data.frame':\t1860 obs. of  31 variables:\n",
      " $ adjuv          : num  0 0 0 0 0 0 0 0 1 0 ...\n",
      " $ advanc         : num  0 0 0 0 0 0 1 0 0 0 ...\n",
      " $ breast         : num  0 0 1 1 1 1 0 1 1 1 ...\n",
      " $ cancer         : num  1 0 1 1 1 1 0 1 1 2 ...\n",
      " $ chemotherapi   : num  0 0 0 0 1 1 0 0 0 0 ...\n",
      " $ clinic         : num  0 0 0 0 0 0 0 0 0 0 ...\n",
      " $ combin         : num  0 0 0 0 1 0 1 0 0 0 ...\n",
      " $ compar         : num  0 0 0 0 0 0 0 0 0 0 ...\n",
      " $ cyclophosphamid: num  0 0 0 1 0 0 0 0 0 0 ...\n",
      " $ docetaxel      : num  0 0 0 0 0 0 0 0 0 0 ...\n",
      " $ doxorubicin    : num  0 0 0 0 0 0 0 0 0 0 ...\n",
      " $ earli          : num  0 0 1 1 0 0 0 1 0 0 ...\n",
      " $ effect         : num  0 0 0 0 1 0 0 1 0 1 ...\n",
      " $ group          : num  0 0 0 0 0 0 0 0 1 1 ...\n",
      " $ iii            : num  0 0 1 0 0 0 0 0 0 1 ...\n",
      " $ metastat       : num  0 0 0 0 1 0 0 0 0 0 ...\n",
      " $ patient        : num  0 0 0 0 1 0 1 0 1 1 ...\n",
      " $ phase          : num  0 0 1 1 0 0 0 0 0 1 ...\n",
      " $ plus           : num  0 0 0 0 0 0 0 0 0 0 ...\n",
      " $ postmenopaus   : num  0 0 0 0 0 0 0 1 1 0 ...\n",
      " $ random         : num  0 0 1 1 1 0 0 0 0 1 ...\n",
      " $ randomis       : num  0 0 0 0 0 0 0 1 1 0 ...\n",
      " $ respons        : num  0 0 0 0 0 1 0 0 0 0 ...\n",
      " $ result         : num  0 0 0 0 0 0 0 0 0 0 ...\n",
      " $ studi          : num  0 0 0 0 0 0 0 1 0 0 ...\n",
      " $ tamoxifen      : num  0 0 0 0 0 0 0 2 1 0 ...\n",
      " $ therapi        : num  0 0 0 0 0 0 0 0 0 0 ...\n",
      " $ treatment      : num  1 0 0 0 1 0 0 0 0 1 ...\n",
      " $ trial          : num  0 0 1 1 1 0 0 1 1 1 ...\n",
      " $ versus         : num  0 0 1 0 0 0 0 1 0 0 ...\n",
      " $ women          : num  0 0 0 0 0 0 0 1 0 0 ...\n"
     ]
    }
   ],
   "source": [
    "str(dtmTitle)"
   ]
  },
  {
   "cell_type": "code",
   "execution_count": 101,
   "metadata": {
    "collapsed": false
   },
   "outputs": [
    {
     "name": "stdout",
     "output_type": "stream",
     "text": [
      "'data.frame':\t1860 obs. of  335 variables:\n",
      " $ 0001           : num  0 0 0 0 0 7 0 0 0 0 ...\n",
      " $ 001            : num  0 0 0 1 0 0 0 1 0 0 ...\n",
      " $ 005            : num  0 0 0 0 0 0 0 0 0 0 ...\n",
      " $ 100            : num  0 1 0 0 0 0 0 0 0 0 ...\n",
      " $ 500            : num  0 0 1 0 2 0 0 0 0 0 ...\n",
      " $ 5fluorouracil  : num  0 0 0 0 0 1 0 0 0 0 ...\n",
      " $ accord         : num  0 0 0 0 0 0 0 0 0 0 ...\n",
      " $ achiev         : num  0 0 0 0 0 0 1 0 1 0 ...\n",
      " $ activ          : num  0 2 0 1 0 0 1 0 0 0 ...\n",
      " $ addit          : num  0 0 2 0 0 0 0 0 0 0 ...\n",
      " $ adjuv          : num  0 0 0 2 0 1 0 2 4 0 ...\n",
      " $ administ       : num  0 0 0 0 0 0 1 0 0 0 ...\n",
      " $ administr      : num  0 0 0 0 0 0 0 0 0 0 ...\n",
      " $ advanc         : num  0 0 0 0 0 0 1 0 0 0 ...\n",
      " $ advers         : num  0 0 0 0 0 0 0 0 0 4 ...\n",
      " $ age            : num  0 0 0 1 0 0 0 0 0 0 ...\n",
      " $ agent          : num  0 0 0 0 1 0 1 0 0 0 ...\n",
      " $ aim            : num  0 0 0 0 0 1 0 0 0 0 ...\n",
      " $ alon           : num  0 0 0 0 0 0 0 0 3 0 ...\n",
      " $ also           : num  0 0 0 1 0 0 0 0 2 0 ...\n",
      " $ although       : num  0 0 0 0 0 0 0 0 0 0 ...\n",
      " $ among          : num  0 0 2 4 0 0 0 0 1 0 ...\n",
      " $ analys         : num  0 0 0 0 0 0 0 0 0 0 ...\n",
      " $ analysi        : num  0 0 0 2 0 0 0 1 0 0 ...\n",
      " $ analyz         : num  0 0 0 1 0 0 0 0 0 0 ...\n",
      " $ andor          : num  0 0 0 0 0 0 0 0 0 0 ...\n",
      " $ anthracyclin   : num  0 0 0 0 0 0 0 0 0 0 ...\n",
      " $ appear         : num  0 0 0 0 0 0 0 0 0 0 ...\n",
      " $ arm            : num  0 0 7 4 2 0 0 1 0 1 ...\n",
      " $ aromatas       : num  0 0 0 0 0 0 0 1 0 0 ...\n",
      " $ assess         : num  0 2 1 2 0 1 0 0 0 3 ...\n",
      " $ assign         : num  0 0 2 1 0 0 0 1 1 1 ...\n",
      " $ associ         : num  0 0 1 3 0 2 0 1 2 0 ...\n",
      " $ avail          : num  0 0 0 0 0 0 0 0 0 0 ...\n",
      " $ axillari       : num  0 0 0 1 0 0 0 0 1 0 ...\n",
      " $ background     : num  0 0 1 1 1 0 0 1 1 0 ...\n",
      " $ base           : num  0 0 0 0 0 0 0 0 0 0 ...\n",
      " $ baselin        : num  0 0 0 0 0 0 0 0 0 1 ...\n",
      " $ benefit        : num  0 0 0 0 2 0 0 1 1 0 ...\n",
      " $ better         : num  0 0 1 0 1 1 0 0 0 0 ...\n",
      " $ bone           : num  0 0 0 0 0 0 0 0 0 0 ...\n",
      " $ breast         : num  0 2 3 3 3 4 2 2 2 3 ...\n",
      " $ can            : num  0 0 0 0 0 0 0 0 1 0 ...\n",
      " $ cancer         : num  0 0 2 3 3 3 2 2 3 0 ...\n",
      " $ carcinoma      : num  0 5 0 0 0 0 0 0 0 2 ...\n",
      " $ case           : num  0 11 0 0 1 0 0 0 0 0 ...\n",
      " $ caus           : num  0 0 0 0 0 0 0 1 0 0 ...\n",
      " $ cell           : num  0 3 0 0 0 1 0 0 0 0 ...\n",
      " $ chang          : num  0 0 1 0 0 0 0 0 0 0 ...\n",
      " $ characterist   : num  0 0 0 0 0 0 0 0 0 0 ...\n",
      " $ chemotherapi   : num  0 0 1 2 3 5 2 0 1 0 ...\n",
      " $ clinic         : num  0 1 0 1 0 0 0 0 0 0 ...\n",
      " $ cmf            : num  0 0 0 0 0 0 0 0 0 0 ...\n",
      " $ combin         : num  0 0 0 0 6 0 2 0 1 0 ...\n",
      " $ common         : num  0 0 0 0 0 0 0 0 0 3 ...\n",
      " $ compar         : num  0 0 1 2 0 0 0 1 1 1 ...\n",
      " $ comparison     : num  0 0 0 0 0 0 0 0 0 0 ...\n",
      " $ complet        : num  0 0 3 0 1 1 1 2 0 0 ...\n",
      " $ conclus        : num  0 0 1 0 1 0 0 0 0 0 ...\n",
      " $ conduct        : num  0 0 0 0 0 0 0 0 0 0 ...\n",
      " $ confid         : num  0 0 1 1 0 0 0 0 0 0 ...\n",
      " $ confirm        : num  0 0 0 0 0 0 0 0 0 0 ...\n",
      " $ consid         : num  0 0 0 0 0 0 0 0 0 0 ...\n",
      " $ consist        : num  0 1 0 0 0 0 0 0 0 0 ...\n",
      " $ continu        : num  0 0 2 0 1 0 0 2 0 0 ...\n",
      " $ control        : num  0 1 0 0 0 0 0 0 1 0 ...\n",
      " $ correl         : num  0 0 0 0 0 2 0 0 0 0 ...\n",
      " $ cours          : num  0 0 0 0 0 0 0 0 0 0 ...\n",
      " $ cycl           : num  0 0 6 0 2 0 1 0 0 0 ...\n",
      " $ cyclophosphamid: num  0 0 1 1 1 1 3 0 0 0 ...\n",
      " $ daili          : num  0 0 0 0 0 0 1 0 1 2 ...\n",
      " $ data           : num  0 0 0 0 0 0 0 0 0 0 ...\n",
      " $ day            : num  0 0 1 0 0 0 3 0 0 0 ...\n",
      " $ death          : num  0 0 0 2 0 0 0 0 1 0 ...\n",
      " $ decreas        : num  0 0 1 0 0 0 0 0 1 0 ...\n",
      " $ defin          : num  0 0 2 0 0 0 0 0 0 0 ...\n",
      " $ demonstr       : num  0 0 1 0 0 0 0 0 0 0 ...\n",
      " $ design         : num  0 0 0 0 0 0 0 0 0 0 ...\n",
      " $ detect         : num  0 0 0 0 1 0 0 0 0 0 ...\n",
      " $ determin       : num  0 0 0 0 1 1 1 0 0 0 ...\n",
      " $ develop        : num  0 0 0 0 0 0 0 0 0 0 ...\n",
      " $ dfs            : num  0 0 0 3 0 0 0 0 0 0 ...\n",
      " $ differ         : num  0 1 2 1 3 0 0 1 0 1 ...\n",
      " $ diseas         : num  0 1 0 1 3 0 0 1 0 0 ...\n",
      " $ diseasefre     : num  0 0 0 1 0 2 0 0 3 0 ...\n",
      " $ distant        : num  0 0 0 0 0 0 0 0 1 0 ...\n",
      " $ docetaxel      : num  0 0 1 0 0 0 3 0 0 0 ...\n",
      " $ dose           : num  0 0 0 0 0 0 4 0 0 0 ...\n",
      " $ doubleblind    : num  0 0 0 0 0 0 0 0 0 1 ...\n",
      " $ doxorubicin    : num  0 0 1 0 0 1 0 0 0 0 ...\n",
      " $ drug           : num  0 0 0 1 0 0 0 0 0 0 ...\n",
      " $ due            : num  0 0 0 0 0 0 0 1 0 0 ...\n",
      " $ durat          : num  0 0 0 0 1 0 0 0 0 0 ...\n",
      " $ earli          : num  0 0 0 0 0 0 0 2 0 0 ...\n",
      " $ effect         : num  0 0 2 0 0 1 0 2 0 1 ...\n",
      " $ efficaci       : num  0 0 1 0 0 0 0 0 0 0 ...\n",
      " $ eight          : num  0 0 0 0 0 0 0 0 0 0 ...\n",
      " $ either         : num  0 0 0 0 1 0 0 0 0 0 ...\n",
      " $ elig           : num  0 0 0 1 0 0 0 0 0 0 ...\n",
      "  [list output truncated]\n"
     ]
    }
   ],
   "source": [
    "str(dtmAbstract)"
   ]
  },
  {
   "cell_type": "code",
   "execution_count": 104,
   "metadata": {
    "collapsed": false
   },
   "outputs": [],
   "source": [
    "x = colSums(dtmAbstract)"
   ]
  },
  {
   "cell_type": "code",
   "execution_count": 105,
   "metadata": {
    "collapsed": false
   },
   "outputs": [
    {
     "data": {
      "text/html": [
       "<strong>patient:</strong> 212"
      ],
      "text/latex": [
       "\\textbf{patient:} 212"
      ],
      "text/markdown": [
       "**patient:** 212"
      ],
      "text/plain": [
       "patient \n",
       "    212 "
      ]
     },
     "execution_count": 105,
     "metadata": {},
     "output_type": "execute_result"
    }
   ],
   "source": [
    "which.max(x)"
   ]
  },
  {
   "cell_type": "code",
   "execution_count": 106,
   "metadata": {
    "collapsed": false
   },
   "outputs": [
    {
     "data": {
      "text/html": [
       "<strong>patient:</strong> 8381"
      ],
      "text/latex": [
       "\\textbf{patient:} 8381"
      ],
      "text/markdown": [
       "**patient:** 8381"
      ],
      "text/plain": [
       "patient \n",
       "   8381 "
      ]
     },
     "execution_count": 106,
     "metadata": {},
     "output_type": "execute_result"
    }
   ],
   "source": [
    "x[212]"
   ]
  },
  {
   "cell_type": "code",
   "execution_count": 116,
   "metadata": {
    "collapsed": true
   },
   "outputs": [],
   "source": [
    "colnames(dtmTitle) = paste0(\"T\", colnames(dtmTitle))\n",
    "\n",
    "colnames(dtmAbstract) = paste0(\"A\", colnames(dtmAbstract))"
   ]
  },
  {
   "cell_type": "code",
   "execution_count": 117,
   "metadata": {
    "collapsed": false
   },
   "outputs": [
    {
     "name": "stderr",
     "output_type": "stream",
     "text": [
      "Warning message:\n",
      "In data.row.names(row.names, rowsi, i): some row.names duplicated: 2,3,4,5,6,7,8,9,10,11,12,13,14,15,16,17,18,19,20,21,22,23,24,25,26,27,28,29,30,31,32,33,34,35,36,37,38,39,40,41,42,43,44,45,46,47,48,49,50,51,52,53,54,55,56,57,58,59,60,61,62,63,64,65,66,67,68,69,70,71,72,73,74,75,76,77,78,79,80,81,82,83,84,85,86,87,88,89,90,91,92,93,94,95,96,97,98,99,100,101,102,103,104,105,106,107,108,109,110,111,112,113,114,115,116,117,118,119,120,121,122,123,124,125,126,127,128,129,130,131,132,133,134,135,136,137,138,139,140,141,142,143,144,145,146,147,148,149,150,151,152,153,154,155,156,157,158,159,160,161,162,163,164,165,166,167,168,169,170,171,172,173,174,175,176,177,178,179,180,181,182,183,184,185,186,187,188,189,190,191,192,193,194,195,196,197,198,199,200,201,202,203,204,205,206,207,208,209,210,211,212,213,214,215,216,217,218,219,220,221,222,223,224,225,226,227,228,229,230,231,232,233,234,235,236,237,238,239,240,241,242,243,244,245,246,247,248,249,250,251,252,253,254,255,256,257,258,259,260,261,262,263,264,265,266,267,268,269,270,271,272,273,274,275,276,277,278,279,280,281,282,283,284,285,286,287,288,289,290,291,292,293,294,295,296,297,298,299,300,301,302,303,304,305,306,307,308,309,310,311,312,313,314,315,316,317,318,319,320,321,322,323,324,325,326,327,328,329,330,331,332,333,334,335,336,337,338,339,340,341,342,343,344,345,346,347,348,349,350,351,352,353,354,355,356,357,358,359,360,361,362,363,364,365,366,367,368,369,370,371,372,373,374,375,376,377,378,379,380,381,382,383,384,385,386,387,388,389,390,391,392,393,394,395,396,397,398,399,400,401,402,403,404,405,406,407,408,409,410,411,412,413,414,415,416,417,418,419,420,421,422,423,424,425,426,427,428,429,430,431,432,433,434,435,436,437,438,439,440,441,442,443,444,445,446,447,448,449,450,451,452,453,454,455,456,457,458,459,460,461,462,463,464,465,466,467,468,469,470,471,472,473,474,475,476,477,478,479,480,481,482,483,484,485,486,487,488,489,490,491,492,493,494,495,496,497,498,499,500,501,502,503,504,505,506,507,508,509,510,511,512,513,514,515,516,517,518,519,520,521,522,523,524,525,526,527,528,529,530,531,532,533,534,535,536,537,538,539,540,541,542,543,544,545,546,547,548,549,550,551,552,553,554,555,556,557,558,559,560,561,562,563,564,565,566,567,568,569,570,571,572,573,574,575,576,577,578,579,580,581,582,583,584,585,586,587,588,589,590,591,592,593,594,595,596,597,598,599,600,601,602,603,604,605,606,607,608,609,610,611,612,613,614,615,616,617,618,619,620,621,622,623,624,625,626,627,628,629,630,631,632,633,634,635,636,637,638,639,640,641,642,643,644,645,646,647,648,649,650,651,652,653,654,655,656,657,658,659,660,661,662,663,664,665,666,667,668,669,670,671,672,673,674,675,676,677,678,679,680,681,682,683,684,685,686,687,688,689,690,691,692,693,694,695,696,697,698,699,700,701,702,703,704,705,706,707,708,709,710,711,712,713,714,715,716,717,718,719,720,721,722,723,724,725,726,727,728,729,730,731,732,733,734,735,736,737,738,739,740,741,742,743,744,745,746,747,748,749,750,751,752,753,754,755,756,757,758,759,760,761,762,763,764,765,766,767,768,769,770,771,772,773,774,775,776,777,778,779,780,781,782,783,784,785,786,787,788,789,790,791,792,793,794,795,796,797,798,799,800,801,802,803,804,805,806,807,808,809,810,811,812,813,814,815,816,817,818,819,820,821,822,823,824,825,826,827,828,829,830,831,832,833,834,835,836,837,838,839,840,841,842,843,844,845,846,847,848,849,850,851,852,853,854,855,856,857,858,859,860,861,862,863,864,865,866,867,868,869,870,871,872,873,874,875,876,877,878,879,880,881,882,883,884,885,886,887,888,889,890,891,892,893,894,895,896,897,898,899,900,901,902,903,904,905,906,907,908,909,910,911,912,913,914,915,916,917,918,919,920,921,922,923,924,925,926,927,928,929,930,931,932,933,934,935,936,937,938,939,940,941,942,943,944,945,946,947,948,949,950,951,952,953,954,955,956,957,958,959,960,961,962,963,964,965,966,967,968,969,970,971,972,973,974,975,976,977,978,979,980,981,982,983,984,985,986,987,988,989,990,991,992,993,994,995,996,997,998,999,1000,1001,1002,1003,1004,1005,1006,1007,1008,1009,1010,1011,1012,1013,1014,1015,1016,1017,1018,1019,1020,1021,1022,1023,1024,1025,1026,1027,1028,1029,1030,1031,1032,1033,1034,1035,1036,1037,1038,1039,1040,1041,1042,1043,1044,1045,1046,1047,1048,1049,1050,1051,1052,1053,1054,1055,1056,1057,1058,1059,1060,1061,1062,1063,1064,1065,1066,1067,1068,1069,1070,1071,1072,1073,1074,1075,1076,1077,1078,1079,1080,1081,1082,1083,1084,1085,1086,1087,1088,1089,1090,1091,1092,1093,1094,1095,1096,1097,1098,1099,1100,1101,1102,1103,1104,1105,1106,1107,1108,1109,1110,1111,1112,1113,1114,1115,1116,1117,1118,1119,1120,1121,1122,1123,1124,1125,1126,1127,1128,1129,1130,1131,1132,1133,1134,1135,1136,1137,1138,1139,1140,1141,1142,1143,1144,1145,1146,1147,1148,1149,1150,1151,1152,1153,1154,1155,1156,1157,1158,1159,1160,1161,1162,1163,1164,1165,1166,1167,1168,1169,1170,1171,1172,1173,1174,1175,1176,1177,1178,1179,1180,1181,1182,1183,1184,1185,1186,1187,1188,1189,1190,1191,1192,1193,1194,1195,1196,1197,1198,1199,1200,1201,1202,1203,1204,1205,1206,1207,1208,1209,1210,1211,1212,1213,1214,1215,1216,1217,1218,1219,1220,1221,1222,1223,1224,1225,1226,1227,1228,1229,1230,1231,1232,1233,1234,1235,1236,1237,1238,1239,1240,1241,1242,1243,1244,1245,1246,1247,1248,1249,1250,1251,1252,1253,1254,1255,1256,1257,1258,1259,1260,1261,1262,1263,1264,1265,1266,1267,1268,1269,1270,1271,1272,1273,1274,1275,1276,1277,1278,1279,1280,1281,1282,1283,1284,1285,1286,1287,1288,1289,1290,1291,1292,1293,1294,1295,1296,1297,1298,1299,1300,1301,1302,1303,1304,1305,1306,1307,1308,1309,1310,1311,1312,1313,1314,1315,1316,1317,1318,1319,1320,1321,1322,1323,1324,1325,1326,1327,1328,1329,1330,1331,1332,1333,1334,1335,1336,1337,1338,1339,1340,1341,1342,1343,1344,1345,1346,1347,1348,1349,1350,1351,1352,1353,1354,1355,1356,1357,1358,1359,1360,1361,1362,1363,1364,1365,1366,1367,1368,1369,1370,1371,1372,1373,1374,1375,1376,1377,1378,1379,1380,1381,1382,1383,1384,1385,1386,1387,1388,1389,1390,1391,1392,1393,1394,1395,1396,1397,1398,1399,1400,1401,1402,1403,1404,1405,1406,1407,1408,1409,1410,1411,1412,1413,1414,1415,1416,1417,1418,1419,1420,1421,1422,1423,1424,1425,1426,1427,1428,1429,1430,1431,1432,1433,1434,1435,1436,1437,1438,1439,1440,1441,1442,1443,1444,1445,1446,1447,1448,1449,1450,1451,1452,1453,1454,1455,1456,1457,1458,1459,1460,1461,1462,1463,1464,1465,1466,1467,1468,1469,1470,1471,1472,1473,1474,1475,1476,1477,1478,1479,1480,1481,1482,1483,1484,1485,1486,1487,1488,1489,1490,1491,1492,1493,1494,1495,1496,1497,1498,1499,1500,1501,1502,1503,1504,1505,1506,1507,1508,1509,1510,1511,1512,1513,1514,1515,1516,1517,1518,1519,1520,1521,1522,1523,1524,1525,1526,1527,1528,1529,1530,1531,1532,1533,1534,1535,1536,1537,1538,1539,1540,1541,1542,1543,1544,1545,1546,1547,1548,1549,1550,1551,1552,1553,1554,1555,1556,1557,1558,1559,1560,1561,1562,1563,1564,1565,1566,1567,1568,1569,1570,1571,1572,1573,1574,1575,1576,1577,1578,1579,1580,1581,1582,1583,1584,1585,1586,1587,1588,1589,1590,1591,1592,1593,1594,1595,1596,1597,1598,1599,1600,1601,1602,1603,1604,1605,1606,1607,1608,1609,1610,1611,1612,1613,1614,1615,1616,1617,1618,1619,1620,1621,1622,1623,1624,1625,1626,1627,1628,1629,1630,1631,1632,1633,1634,1635,1636,1637,1638,1639,1640,1641,1642,1643,1644,1645,1646,1647,1648,1649,1650,1651,1652,1653,1654,1655,1656,1657,1658,1659,1660,1661,1662,1663,1664,1665,1666,1667,1668,1669,1670,1671,1672,1673,1674,1675,1676,1677,1678,1679,1680,1681,1682,1683,1684,1685,1686,1687,1688,1689,1690,1691,1692,1693,1694,1695,1696,1697,1698,1699,1700,1701,1702,1703,1704,1705,1706,1707,1708,1709,1710,1711,1712,1713,1714,1715,1716,1717,1718,1719,1720,1721,1722,1723,1724,1725,1726,1727,1728,1729,1730,1731,1732,1733,1734,1735,1736,1737,1738,1739,1740,1741,1742,1743,1744,1745,1746,1747,1748,1749,1750,1751,1752,1753,1754,1755,1756,1757,1758,1759,1760,1761,1762,1763,1764,1765,1766,1767,1768,1769,1770,1771,1772,1773,1774,1775,1776,1777,1778,1779,1780,1781,1782,1783,1784,1785,1786,1787,1788,1789,1790,1791,1792,1793,1794,1795,1796,1797,1798,1799,1800,1801,1802,1803,1804,1805,1806,1807,1808,1809,1810,1811,1812,1813,1814,1815,1816,1817,1818,1819,1820,1821,1822,1823,1824,1825,1826,1827,1828,1829,1830,1831,1832,1833,1834,1835,1836,1837,1838,1839,1840,1841,1842,1843,1844,1845,1846,1847,1848,1849,1850,1851,1852,1853,1854,18Warning message:\n",
      "In data.row.names(row.names, rowsi, i): some row.names duplicated: 2,3,4,5,6,7,8,9,10,11,12,13,14,15,16,17,18,19,20,21,22,23,24,25,26,27,28,29,30,31,32,33,34,35,36,37,38,39,40,41,42,43,44,45,46,47,48,49,50,51,52,53,54,55,56,57,58,59,60,61,62,63,64,65,66,67,68,69,70,71,72,73,74,75,76,77,78,79,80,81,82,83,84,85,86,87,88,89,90,91,92,93,94,95,96,97,98,99,100,101,102,103,104,105,106,107,108,109,110,111,112,113,114,115,116,117,118,119,120,121,122,123,124,125,126,127,128,129,130,131,132,133,134,135,136,137,138,139,140,141,142,143,144,145,146,147,148,149,150,151,152,153,154,155,156,157,158,159,160,161,162,163,164,165,166,167,168,169,170,171,172,173,174,175,176,177,178,179,180,181,182,183,184,185,186,187,188,189,190,191,192,193,194,195,196,197,198,199,200,201,202,203,204,205,206,207,208,209,210,211,212,213,214,215,216,217,218,219,220,221,222,223,224,225,226,227,228,229,230,231,232,233,234,235,236,237,238,239,240,241,242,243,244,245,246,247,248,249,250,251,252,253,254,255,256,257,258,259,260,261,262,263,264,265,266,267,268,269,270,271,272,273,274,275,276,277,278,279,280,281,282,283,284,285,286,287,288,289,290,291,292,293,294,295,296,297,298,299,300,301,302,303,304,305,306,307,308,309,310,311,312,313,314,315,316,317,318,319,320,321,322,323,324,325,326,327,328,329,330,331,332,333,334,335,336,337,338,339,340,341,342,343,344,345,346,347,348,349,350,351,352,353,354,355,356,357,358,359,360,361,362,363,364,365,366,367,368,369,370,371,372,373,374,375,376,377,378,379,380,381,382,383,384,385,386,387,388,389,390,391,392,393,394,395,396,397,398,399,400,401,402,403,404,405,406,407,408,409,410,411,412,413,414,415,416,417,418,419,420,421,422,423,424,425,426,427,428,429,430,431,432,433,434,435,436,437,438,439,440,441,442,443,444,445,446,447,448,449,450,451,452,453,454,455,456,457,458,459,460,461,462,463,464,465,466,467,468,469,470,471,472,473,474,475,476,477,478,479,480,481,482,483,484,485,486,487,488,489,490,491,492,493,494,495,496,497,498,499,500,501,502,503,504,505,506,507,508,509,510,511,512,513,514,515,516,517,518,519,520,521,522,523,524,525,526,527,528,529,530,531,532,533,534,535,536,537,538,539,540,541,542,543,544,545,546,547,548,549,550,551,552,553,554,555,556,557,558,559,560,561,562,563,564,565,566,567,568,569,570,571,572,573,574,575,576,577,578,579,580,581,582,583,584,585,586,587,588,589,590,591,592,593,594,595,596,597,598,599,600,601,602,603,604,605,606,607,608,609,610,611,612,613,614,615,616,617,618,619,620,621,622,623,624,625,626,627,628,629,630,631,632,633,634,635,636,637,638,639,640,641,642,643,644,645,646,647,648,649,650,651,652,653,654,655,656,657,658,659,660,661,662,663,664,665,666,667,668,669,670,671,672,673,674,675,676,677,678,679,680,681,682,683,684,685,686,687,688,689,690,691,692,693,694,695,696,697,698,699,700,701,702,703,704,705,706,707,708,709,710,711,712,713,714,715,716,717,718,719,720,721,722,723,724,725,726,727,728,729,730,731,732,733,734,735,736,737,738,739,740,741,742,743,744,745,746,747,748,749,750,751,752,753,754,755,756,757,758,759,760,761,762,763,764,765,766,767,768,769,770,771,772,773,774,775,776,777,778,779,780,781,782,783,784,785,786,787,788,789,790,791,792,793,794,795,796,797,798,799,800,801,802,803,804,805,806,807,808,809,810,811,812,813,814,815,816,817,818,819,820,821,822,823,824,825,826,827,828,829,830,831,832,833,834,835,836,837,838,839,840,841,842,843,844,845,846,847,848,849,850,851,852,853,854,855,856,857,858,859,860,861,862,863,864,865,866,867,868,869,870,871,872,873,874,875,876,877,878,879,880,881,882,883,884,885,886,887,888,889,890,891,892,893,894,895,896,897,898,899,900,901,902,903,904,905,906,907,908,909,910,911,912,913,914,915,916,917,918,919,920,921,922,923,924,925,926,927,928,929,930,931,932,933,934,935,936,937,938,939,940,941,942,943,944,945,946,947,948,949,950,951,952,953,954,955,956,957,958,959,960,961,962,963,964,965,966,967,968,969,970,971,972,973,974,975,976,977,978,979,980,981,982,983,984,985,986,987,988,989,990,991,992,993,994,995,996,997,998,999,1000,1001,1002,1003,1004,1005,1006,1007,1008,1009,1010,1011,1012,1013,1014,1015,1016,1017,1018,1019,1020,1021,1022,1023,1024,1025,1026,1027,1028,1029,1030,1031,1032,1033,1034,1035,1036,1037,1038,1039,1040,1041,1042,1043,1044,1045,1046,1047,1048,1049,1050,1051,1052,1053,1054,1055,1056,1057,1058,1059,1060,1061,1062,1063,1064,1065,1066,1067,1068,1069,1070,1071,1072,1073,1074,1075,1076,1077,1078,1079,1080,1081,1082,1083,1084,1085,1086,1087,1088,1089,1090,1091,1092,1093,1094,1095,1096,1097,1098,1099,1100,1101,1102,1103,1104,1105,1106,1107,1108,1109,1110,1111,1112,1113,1114,1115,1116,1117,1118,1119,1120,1121,1122,1123,1124,1125,1126,1127,1128,1129,1130,1131,1132,1133,1134,1135,1136,1137,1138,1139,1140,1141,1142,1143,1144,1145,1146,1147,1148,1149,1150,1151,1152,1153,1154,1155,1156,1157,1158,1159,1160,1161,1162,1163,1164,1165,1166,1167,1168,1169,1170,1171,1172,1173,1174,1175,1176,1177,1178,1179,1180,1181,1182,1183,1184,1185,1186,1187,1188,1189,1190,1191,1192,1193,1194,1195,1196,1197,1198,1199,1200,1201,1202,1203,1204,1205,1206,1207,1208,1209,1210,1211,1212,1213,1214,1215,1216,1217,1218,1219,1220,1221,1222,1223,1224,1225,1226,1227,1228,1229,1230,1231,1232,1233,1234,1235,1236,1237,1238,1239,1240,1241,1242,1243,1244,1245,1246,1247,1248,1249,1250,1251,1252,1253,1254,1255,1256,1257,1258,1259,1260,1261,1262,1263,1264,1265,1266,1267,1268,1269,1270,1271,1272,1273,1274,1275,1276,1277,1278,1279,1280,1281,1282,1283,1284,1285,1286,1287,1288,1289,1290,1291,1292,1293,1294,1295,1296,1297,1298,1299,1300,1301,1302,1303,1304,1305,1306,1307,1308,1309,1310,1311,1312,1313,1314,1315,1316,1317,1318,1319,1320,1321,1322,1323,1324,1325,1326,1327,1328,1329,1330,1331,1332,1333,1334,1335,1336,1337,1338,1339,1340,1341,1342,1343,1344,1345,1346,1347,1348,1349,1350,1351,1352,1353,1354,1355,1356,1357,1358,1359,1360,1361,1362,1363,1364,1365,1366,1367,1368,1369,1370,1371,1372,1373,1374,1375,1376,1377,1378,1379,1380,1381,1382,1383,1384,1385,1386,1387,1388,1389,1390,1391,1392,1393,1394,1395,1396,1397,1398,1399,1400,1401,1402,1403,1404,1405,1406,1407,1408,1409,1410,1411,1412,1413,1414,1415,1416,1417,1418,1419,1420,1421,1422,1423,1424,1425,1426,1427,1428,1429,1430,1431,1432,1433,1434,1435,1436,1437,1438,1439,1440,1441,1442,1443,1444,1445,1446,1447,1448,1449,1450,1451,1452,1453,1454,1455,1456,1457,1458,1459,1460,1461,1462,1463,1464,1465,1466,1467,1468,1469,1470,1471,1472,1473,1474,1475,1476,1477,1478,1479,1480,1481,1482,1483,1484,1485,1486,1487,1488,1489,1490,1491,1492,1493,1494,1495,1496,1497,1498,1499,1500,1501,1502,1503,1504,1505,1506,1507,1508,1509,1510,1511,1512,1513,1514,1515,1516,1517,1518,1519,1520,1521,1522,1523,1524,1525,1526,1527,1528,1529,1530,1531,1532,1533,1534,1535,1536,1537,1538,1539,1540,1541,1542,1543,1544,1545,1546,1547,1548,1549,1550,1551,1552,1553,1554,1555,1556,1557,1558,1559,1560,1561,1562,1563,1564,1565,1566,1567,1568,1569,1570,1571,1572,1573,1574,1575,1576,1577,1578,1579,1580,1581,1582,1583,1584,1585,1586,1587,1588,1589,1590,1591,1592,1593,1594,1595,1596,1597,1598,1599,1600,1601,1602,1603,1604,1605,1606,1607,1608,1609,1610,1611,1612,1613,1614,1615,1616,1617,1618,1619,1620,1621,1622,1623,1624,1625,1626,1627,1628,1629,1630,1631,1632,1633,1634,1635,1636,1637,1638,1639,1640,1641,1642,1643,1644,1645,1646,1647,1648,1649,1650,1651,1652,1653,1654,1655,1656,1657,1658,1659,1660,1661,1662,1663,1664,1665,1666,1667,1668,1669,1670,1671,1672,1673,1674,1675,1676,1677,1678,1679,1680,1681,1682,1683,1684,1685,1686,1687,1688,1689,1690,1691,1692,1693,1694,1695,1696,1697,1698,1699,1700,1701,1702,1703,1704,1705,1706,1707,1708,1709,1710,1711,1712,1713,1714,1715,1716,1717,1718,1719,1720,1721,1722,1723,1724,1725,1726,1727,1728,1729,1730,1731,1732,1733,1734,1735,1736,1737,1738,1739,1740,1741,1742,1743,1744,1745,1746,1747,1748,1749,1750,1751,1752,1753,1754,1755,1756,1757,1758,1759,1760,1761,1762,1763,1764,1765,1766,1767,1768,1769,1770,1771,1772,1773,1774,1775,1776,1777,1778,1779,1780,1781,1782,1783,1784,1785,1786,1787,1788,1789,1790,1791,1792,1793,1794,1795,1796,1797,1798,1799,1800,1801,1802,1803,1804,1805,1806,1807,1808,1809,1810,1811,1812,1813,1814,1815,1816,1817,1818,1819,1820,1821,1822,1823,1824,1825,1826,1827,1828,1829,1830,1831,1832,1833,1834,1835,1836,1837,1838,1839,1840,1841,1842,1843,1844,1845,1846,1847,1848,1849,1850,1851,1852,1853,1854,18"
     ]
    }
   ],
   "source": [
    "dtm = cbind(dtmTitle, dtmAbstract)"
   ]
  },
  {
   "cell_type": "code",
   "execution_count": 132,
   "metadata": {
    "collapsed": true
   },
   "outputs": [],
   "source": [
    "dtm$trial = clinical$trial"
   ]
  },
  {
   "cell_type": "code",
   "execution_count": 133,
   "metadata": {
    "collapsed": false
   },
   "outputs": [
    {
     "name": "stdout",
     "output_type": "stream",
     "text": [
      "'data.frame':\t1860 obs. of  367 variables:\n",
      " $ Tadjuv          : num  0 0 0 0 0 0 0 0 1 0 ...\n",
      " $ Tadvanc         : num  0 0 0 0 0 0 1 0 0 0 ...\n",
      " $ Tbreast         : num  0 0 1 1 1 1 0 1 1 1 ...\n",
      " $ Tcancer         : num  1 0 1 1 1 1 0 1 1 2 ...\n",
      " $ Tchemotherapi   : num  0 0 0 0 1 1 0 0 0 0 ...\n",
      " $ Tclinic         : num  0 0 0 0 0 0 0 0 0 0 ...\n",
      " $ Tcombin         : num  0 0 0 0 1 0 1 0 0 0 ...\n",
      " $ Tcompar         : num  0 0 0 0 0 0 0 0 0 0 ...\n",
      " $ Tcyclophosphamid: num  0 0 0 1 0 0 0 0 0 0 ...\n",
      " $ Tdocetaxel      : num  0 0 0 0 0 0 0 0 0 0 ...\n",
      " $ Tdoxorubicin    : num  0 0 0 0 0 0 0 0 0 0 ...\n",
      " $ Tearli          : num  0 0 1 1 0 0 0 1 0 0 ...\n",
      " $ Teffect         : num  0 0 0 0 1 0 0 1 0 1 ...\n",
      " $ Tgroup          : num  0 0 0 0 0 0 0 0 1 1 ...\n",
      " $ Tiii            : num  0 0 1 0 0 0 0 0 0 1 ...\n",
      " $ Tmetastat       : num  0 0 0 0 1 0 0 0 0 0 ...\n",
      " $ Tpatient        : num  0 0 0 0 1 0 1 0 1 1 ...\n",
      " $ Tphase          : num  0 0 1 1 0 0 0 0 0 1 ...\n",
      " $ Tplus           : num  0 0 0 0 0 0 0 0 0 0 ...\n",
      " $ Tpostmenopaus   : num  0 0 0 0 0 0 0 1 1 0 ...\n",
      " $ Trandom         : num  0 0 1 1 1 0 0 0 0 1 ...\n",
      " $ Trandomis       : num  0 0 0 0 0 0 0 1 1 0 ...\n",
      " $ Trespons        : num  0 0 0 0 0 1 0 0 0 0 ...\n",
      " $ Tresult         : num  0 0 0 0 0 0 0 0 0 0 ...\n",
      " $ Tstudi          : num  0 0 0 0 0 0 0 1 0 0 ...\n",
      " $ Ttamoxifen      : num  0 0 0 0 0 0 0 2 1 0 ...\n",
      " $ Ttherapi        : num  0 0 0 0 0 0 0 0 0 0 ...\n",
      " $ Ttreatment      : num  1 0 0 0 1 0 0 0 0 1 ...\n",
      " $ Ttrial          : num  0 0 1 1 1 0 0 1 1 1 ...\n",
      " $ Tversus         : num  0 0 1 0 0 0 0 1 0 0 ...\n",
      " $ Twomen          : num  0 0 0 0 0 0 0 1 0 0 ...\n",
      " $ A0001           : num  0 0 0 0 0 7 0 0 0 0 ...\n",
      " $ A001            : num  0 0 0 1 0 0 0 1 0 0 ...\n",
      " $ A005            : num  0 0 0 0 0 0 0 0 0 0 ...\n",
      " $ A100            : num  0 1 0 0 0 0 0 0 0 0 ...\n",
      " $ A500            : num  0 0 1 0 2 0 0 0 0 0 ...\n",
      " $ A5fluorouracil  : num  0 0 0 0 0 1 0 0 0 0 ...\n",
      " $ Aaccord         : num  0 0 0 0 0 0 0 0 0 0 ...\n",
      " $ Aachiev         : num  0 0 0 0 0 0 1 0 1 0 ...\n",
      " $ Aactiv          : num  0 2 0 1 0 0 1 0 0 0 ...\n",
      " $ Aaddit          : num  0 0 2 0 0 0 0 0 0 0 ...\n",
      " $ Aadjuv          : num  0 0 0 2 0 1 0 2 4 0 ...\n",
      " $ Aadminist       : num  0 0 0 0 0 0 1 0 0 0 ...\n",
      " $ Aadministr      : num  0 0 0 0 0 0 0 0 0 0 ...\n",
      " $ Aadvanc         : num  0 0 0 0 0 0 1 0 0 0 ...\n",
      " $ Aadvers         : num  0 0 0 0 0 0 0 0 0 4 ...\n",
      " $ Aage            : num  0 0 0 1 0 0 0 0 0 0 ...\n",
      " $ Aagent          : num  0 0 0 0 1 0 1 0 0 0 ...\n",
      " $ Aaim            : num  0 0 0 0 0 1 0 0 0 0 ...\n",
      " $ Aalon           : num  0 0 0 0 0 0 0 0 3 0 ...\n",
      " $ Aalso           : num  0 0 0 1 0 0 0 0 2 0 ...\n",
      " $ Aalthough       : num  0 0 0 0 0 0 0 0 0 0 ...\n",
      " $ Aamong          : num  0 0 2 4 0 0 0 0 1 0 ...\n",
      " $ Aanalys         : num  0 0 0 0 0 0 0 0 0 0 ...\n",
      " $ Aanalysi        : num  0 0 0 2 0 0 0 1 0 0 ...\n",
      " $ Aanalyz         : num  0 0 0 1 0 0 0 0 0 0 ...\n",
      " $ Aandor          : num  0 0 0 0 0 0 0 0 0 0 ...\n",
      " $ Aanthracyclin   : num  0 0 0 0 0 0 0 0 0 0 ...\n",
      " $ Aappear         : num  0 0 0 0 0 0 0 0 0 0 ...\n",
      " $ Aarm            : num  0 0 7 4 2 0 0 1 0 1 ...\n",
      " $ Aaromatas       : num  0 0 0 0 0 0 0 1 0 0 ...\n",
      " $ Aassess         : num  0 2 1 2 0 1 0 0 0 3 ...\n",
      " $ Aassign         : num  0 0 2 1 0 0 0 1 1 1 ...\n",
      " $ Aassoci         : num  0 0 1 3 0 2 0 1 2 0 ...\n",
      " $ Aavail          : num  0 0 0 0 0 0 0 0 0 0 ...\n",
      " $ Aaxillari       : num  0 0 0 1 0 0 0 0 1 0 ...\n",
      " $ Abackground     : num  0 0 1 1 1 0 0 1 1 0 ...\n",
      " $ Abase           : num  0 0 0 0 0 0 0 0 0 0 ...\n",
      " $ Abaselin        : num  0 0 0 0 0 0 0 0 0 1 ...\n",
      " $ Abenefit        : num  0 0 0 0 2 0 0 1 1 0 ...\n",
      " $ Abetter         : num  0 0 1 0 1 1 0 0 0 0 ...\n",
      " $ Abone           : num  0 0 0 0 0 0 0 0 0 0 ...\n",
      " $ Abreast         : num  0 2 3 3 3 4 2 2 2 3 ...\n",
      " $ Acan            : num  0 0 0 0 0 0 0 0 1 0 ...\n",
      " $ Acancer         : num  0 0 2 3 3 3 2 2 3 0 ...\n",
      " $ Acarcinoma      : num  0 5 0 0 0 0 0 0 0 2 ...\n",
      " $ Acase           : num  0 11 0 0 1 0 0 0 0 0 ...\n",
      " $ Acaus           : num  0 0 0 0 0 0 0 1 0 0 ...\n",
      " $ Acell           : num  0 3 0 0 0 1 0 0 0 0 ...\n",
      " $ Achang          : num  0 0 1 0 0 0 0 0 0 0 ...\n",
      " $ Acharacterist   : num  0 0 0 0 0 0 0 0 0 0 ...\n",
      " $ Achemotherapi   : num  0 0 1 2 3 5 2 0 1 0 ...\n",
      " $ Aclinic         : num  0 1 0 1 0 0 0 0 0 0 ...\n",
      " $ Acmf            : num  0 0 0 0 0 0 0 0 0 0 ...\n",
      " $ Acombin         : num  0 0 0 0 6 0 2 0 1 0 ...\n",
      " $ Acommon         : num  0 0 0 0 0 0 0 0 0 3 ...\n",
      " $ Acompar         : num  0 0 1 2 0 0 0 1 1 1 ...\n",
      " $ Acomparison     : num  0 0 0 0 0 0 0 0 0 0 ...\n",
      " $ Acomplet        : num  0 0 3 0 1 1 1 2 0 0 ...\n",
      " $ Aconclus        : num  0 0 1 0 1 0 0 0 0 0 ...\n",
      " $ Aconduct        : num  0 0 0 0 0 0 0 0 0 0 ...\n",
      " $ Aconfid         : num  0 0 1 1 0 0 0 0 0 0 ...\n",
      " $ Aconfirm        : num  0 0 0 0 0 0 0 0 0 0 ...\n",
      " $ Aconsid         : num  0 0 0 0 0 0 0 0 0 0 ...\n",
      " $ Aconsist        : num  0 1 0 0 0 0 0 0 0 0 ...\n",
      " $ Acontinu        : num  0 0 2 0 1 0 0 2 0 0 ...\n",
      " $ Acontrol        : num  0 1 0 0 0 0 0 0 1 0 ...\n",
      " $ Acorrel         : num  0 0 0 0 0 2 0 0 0 0 ...\n",
      " $ Acours          : num  0 0 0 0 0 0 0 0 0 0 ...\n",
      "  [list output truncated]\n"
     ]
    }
   ],
   "source": [
    "str(dtm)"
   ]
  },
  {
   "cell_type": "code",
   "execution_count": 134,
   "metadata": {
    "collapsed": false
   },
   "outputs": [],
   "source": [
    "set.seed(144)\n",
    "spl = sample.split(dtm$trial, SplitRatio = 0.7)\n",
    "train = subset(dtm, spl == TRUE)\n",
    "test = subset(dtm, spl == FALSE)"
   ]
  },
  {
   "cell_type": "code",
   "execution_count": 135,
   "metadata": {
    "collapsed": false
   },
   "outputs": [
    {
     "data": {
      "text/plain": [
       "\n",
       "  0   1 \n",
       "313 245 "
      ]
     },
     "execution_count": 135,
     "metadata": {},
     "output_type": "execute_result"
    }
   ],
   "source": [
    "# Acc test:\n",
    "table(test$trial)"
   ]
  },
  {
   "cell_type": "code",
   "execution_count": 136,
   "metadata": {
    "collapsed": false
   },
   "outputs": [
    {
     "data": {
      "text/html": [
       "0.560931899641577"
      ],
      "text/latex": [
       "0.560931899641577"
      ],
      "text/markdown": [
       "0.560931899641577"
      ],
      "text/plain": [
       "[1] 0.5609319"
      ]
     },
     "execution_count": 136,
     "metadata": {},
     "output_type": "execute_result"
    }
   ],
   "source": [
    "313/(313+245)"
   ]
  },
  {
   "cell_type": "code",
   "execution_count": 158,
   "metadata": {
    "collapsed": false
   },
   "outputs": [
    {
     "data": {
      "text/html": [
       "0.758064516129032"
      ],
      "text/latex": [
       "0.758064516129032"
      ],
      "text/markdown": [
       "0.758064516129032"
      ],
      "text/plain": [
       "[1] 0.7580645"
      ]
     },
     "execution_count": 158,
     "metadata": {},
     "output_type": "execute_result"
    }
   ],
   "source": [
    "dtmCART = rpart(trial ~., data=train, method=\"class\")\n",
    "pred = predict(dtmCART, newdata = test, type='class')\n",
    "t = table(test$trial, pred)\n",
    "sum(diag(t))/sum(t)"
   ]
  },
  {
   "cell_type": "code",
   "execution_count": 138,
   "metadata": {
    "collapsed": false
   },
   "outputs": [
    {
     "data": {
      "image/png": "[encoded data removed]",
      "image/svg+xml": [
       "<?xml version=\"1.0\" encoding=\"UTF-8\"?>\n",
       "<svg xmlns=\"http://www.w3.org/2000/svg\" xmlns:xlink=\"http://www.w3.org/1999/xlink\" width=\"504pt\" height=\"504pt\" viewBox=\"0 0 504 504\" version=\"1.1\">\n",
       "<defs>\n",
       "<g>\n",
       "<symbol overflow=\"visible\" id=\"glyph0-0\">\n",
       "<path style=\"stroke:none;\" d=\"M 0.90625 0 L 0.90625 -8.640625 L 7.859375 -8.640625 L 7.859375 0 Z M 6.78125 -1.078125 L 6.78125 -7.5625 L 1.984375 -7.5625 L 1.984375 -1.078125 Z \"/>\n",
       "</symbol>\n",
       "<symbol overflow=\"visible\" id=\"glyph0-1\">\n",
       "<path style=\"stroke:none;\" d=\"M 7.1875 -8.640625 L 7.1875 -7.109375 L 4.609375 -7.109375 L 4.609375 0 L 2.796875 0 L 2.796875 -7.109375 L 0.1875 -7.109375 L 0.1875 -8.640625 Z \"/>\n",
       "</symbol>\n",
       "<symbol overflow=\"visible\" id=\"glyph0-2\">\n",
       "<path style=\"stroke:none;\" d=\"M 5.1875 -3.1875 C 5.1875 -3.6875 5.070312 -4.125 4.84375 -4.5 C 4.613281 -4.875 4.25 -5.0625 3.75 -5.0625 C 3.144531 -5.0625 2.726562 -4.773438 2.5 -4.203125 C 2.382812 -3.898438 2.328125 -3.515625 2.328125 -3.046875 C 2.328125 -2.304688 2.523438 -1.785156 2.921875 -1.484375 C 3.148438 -1.304688 3.425781 -1.21875 3.75 -1.21875 C 4.21875 -1.21875 4.570312 -1.394531 4.8125 -1.75 C 5.0625 -2.113281 5.1875 -2.59375 5.1875 -3.1875 Z M 4.234375 -6.53125 C 4.972656 -6.53125 5.601562 -6.253906 6.125 -5.703125 C 6.644531 -5.148438 6.90625 -4.34375 6.90625 -3.28125 C 6.90625 -2.15625 6.648438 -1.296875 6.140625 -0.703125 C 5.640625 -0.109375 4.988281 0.1875 4.1875 0.1875 C 3.675781 0.1875 3.253906 0.0546875 2.921875 -0.203125 C 2.742188 -0.335938 2.566406 -0.539062 2.390625 -0.8125 L 2.390625 2.515625 L 0.734375 2.515625 L 0.734375 -6.390625 L 2.328125 -6.390625 L 2.328125 -5.4375 C 2.515625 -5.71875 2.707031 -5.9375 2.90625 -6.09375 C 3.28125 -6.382812 3.722656 -6.53125 4.234375 -6.53125 Z \"/>\n",
       "</symbol>\n",
       "<symbol overflow=\"visible\" id=\"glyph0-3\">\n",
       "<path style=\"stroke:none;\" d=\"M 4.296875 -6.546875 C 4.691406 -6.546875 5.050781 -6.476562 5.375 -6.34375 C 5.695312 -6.207031 5.960938 -6 6.171875 -5.71875 C 6.347656 -5.476562 6.453125 -5.234375 6.484375 -4.984375 C 6.523438 -4.734375 6.546875 -4.320312 6.546875 -3.75 L 6.546875 0 L 4.84375 0 L 4.84375 -3.890625 C 4.84375 -4.234375 4.785156 -4.507812 4.671875 -4.71875 C 4.515625 -5.007812 4.222656 -5.15625 3.796875 -5.15625 C 3.359375 -5.15625 3.023438 -5.007812 2.796875 -4.71875 C 2.566406 -4.425781 2.453125 -4.003906 2.453125 -3.453125 L 2.453125 0 L 0.796875 0 L 0.796875 -8.609375 L 2.453125 -8.609375 L 2.453125 -5.5625 C 2.691406 -5.925781 2.972656 -6.179688 3.296875 -6.328125 C 3.617188 -6.472656 3.953125 -6.546875 4.296875 -6.546875 Z \"/>\n",
       "</symbol>\n",
       "<symbol overflow=\"visible\" id=\"glyph0-4\">\n",
       "<path style=\"stroke:none;\" d=\"M 4.296875 -3.109375 C 4.191406 -3.035156 4.085938 -2.976562 3.984375 -2.9375 C 3.878906 -2.90625 3.734375 -2.867188 3.546875 -2.828125 L 3.171875 -2.765625 C 2.816406 -2.703125 2.5625 -2.625 2.40625 -2.53125 C 2.144531 -2.375 2.015625 -2.140625 2.015625 -1.828125 C 2.015625 -1.535156 2.09375 -1.328125 2.25 -1.203125 C 2.414062 -1.078125 2.613281 -1.015625 2.84375 -1.015625 C 3.195312 -1.015625 3.523438 -1.117188 3.828125 -1.328125 C 4.128906 -1.535156 4.285156 -1.921875 4.296875 -2.484375 Z M 3.28125 -3.890625 C 3.59375 -3.921875 3.816406 -3.96875 3.953125 -4.03125 C 4.191406 -4.132812 4.3125 -4.289062 4.3125 -4.5 C 4.3125 -4.769531 4.21875 -4.953125 4.03125 -5.046875 C 3.851562 -5.148438 3.585938 -5.203125 3.234375 -5.203125 C 2.835938 -5.203125 2.554688 -5.101562 2.390625 -4.90625 C 2.273438 -4.757812 2.195312 -4.5625 2.15625 -4.3125 L 0.546875 -4.3125 C 0.585938 -4.875 0.742188 -5.335938 1.015625 -5.703125 C 1.460938 -6.265625 2.222656 -6.546875 3.296875 -6.546875 C 3.992188 -6.546875 4.613281 -6.40625 5.15625 -6.125 C 5.695312 -5.84375 5.96875 -5.316406 5.96875 -4.546875 L 5.96875 -1.625 C 5.96875 -1.414062 5.972656 -1.171875 5.984375 -0.890625 C 5.992188 -0.671875 6.023438 -0.519531 6.078125 -0.4375 C 6.140625 -0.363281 6.222656 -0.300781 6.328125 -0.25 L 6.328125 0 L 4.515625 0 C 4.460938 -0.125 4.425781 -0.242188 4.40625 -0.359375 C 4.382812 -0.472656 4.367188 -0.601562 4.359375 -0.75 C 4.128906 -0.5 3.863281 -0.285156 3.5625 -0.109375 C 3.207031 0.0976562 2.800781 0.203125 2.34375 0.203125 C 1.769531 0.203125 1.289062 0.0351562 0.90625 -0.296875 C 0.53125 -0.628906 0.34375 -1.097656 0.34375 -1.703125 C 0.34375 -2.484375 0.644531 -3.050781 1.25 -3.40625 C 1.582031 -3.59375 2.070312 -3.726562 2.71875 -3.8125 Z M 3.375 -6.5625 Z \"/>\n",
       "</symbol>\n",
       "<symbol overflow=\"visible\" id=\"glyph0-5\">\n",
       "<path style=\"stroke:none;\" d=\"M 2.078125 -2.046875 C 2.117188 -1.742188 2.195312 -1.53125 2.3125 -1.40625 C 2.519531 -1.1875 2.898438 -1.078125 3.453125 -1.078125 C 3.785156 -1.078125 4.046875 -1.125 4.234375 -1.21875 C 4.429688 -1.3125 4.53125 -1.457031 4.53125 -1.65625 C 4.53125 -1.84375 4.453125 -1.988281 4.296875 -2.09375 C 4.140625 -2.1875 3.5625 -2.351562 2.5625 -2.59375 C 1.832031 -2.769531 1.320312 -2.992188 1.03125 -3.265625 C 0.726562 -3.523438 0.578125 -3.90625 0.578125 -4.40625 C 0.578125 -5 0.804688 -5.503906 1.265625 -5.921875 C 1.734375 -6.347656 2.390625 -6.5625 3.234375 -6.5625 C 4.023438 -6.5625 4.671875 -6.398438 5.171875 -6.078125 C 5.679688 -5.765625 5.972656 -5.21875 6.046875 -4.4375 L 4.375 -4.4375 C 4.351562 -4.65625 4.289062 -4.828125 4.1875 -4.953125 C 4.007812 -5.179688 3.695312 -5.296875 3.25 -5.296875 C 2.882812 -5.296875 2.625 -5.238281 2.46875 -5.125 C 2.320312 -5.007812 2.25 -4.875 2.25 -4.71875 C 2.25 -4.53125 2.328125 -4.394531 2.484375 -4.3125 C 2.648438 -4.21875 3.234375 -4.0625 4.234375 -3.84375 C 4.898438 -3.6875 5.394531 -3.453125 5.71875 -3.140625 C 6.050781 -2.816406 6.21875 -2.414062 6.21875 -1.9375 C 6.21875 -1.300781 5.984375 -0.78125 5.515625 -0.375 C 5.046875 0.0195312 4.316406 0.21875 3.328125 0.21875 C 2.328125 0.21875 1.585938 0.00390625 1.109375 -0.421875 C 0.628906 -0.847656 0.390625 -1.390625 0.390625 -2.046875 Z M 3.359375 -6.5625 Z \"/>\n",
       "</symbol>\n",
       "<symbol overflow=\"visible\" id=\"glyph0-6\">\n",
       "<path style=\"stroke:none;\" d=\"M 3.296875 -5.1875 C 2.910156 -5.1875 2.609375 -5.0625 2.390625 -4.8125 C 2.179688 -4.570312 2.050781 -4.242188 2 -3.828125 L 4.59375 -3.828125 C 4.5625 -4.273438 4.425781 -4.613281 4.1875 -4.84375 C 3.945312 -5.070312 3.648438 -5.1875 3.296875 -5.1875 Z M 3.296875 -6.5625 C 3.828125 -6.5625 4.304688 -6.457031 4.734375 -6.25 C 5.160156 -6.050781 5.515625 -5.738281 5.796875 -5.3125 C 6.046875 -4.9375 6.207031 -4.5 6.28125 -4 C 6.320312 -3.707031 6.335938 -3.285156 6.328125 -2.734375 L 1.953125 -2.734375 C 1.984375 -2.085938 2.1875 -1.640625 2.5625 -1.390625 C 2.789062 -1.222656 3.066406 -1.140625 3.390625 -1.140625 C 3.734375 -1.140625 4.015625 -1.238281 4.234375 -1.4375 C 4.347656 -1.539062 4.453125 -1.6875 4.546875 -1.875 L 6.25 -1.875 C 6.207031 -1.5 6.007812 -1.113281 5.65625 -0.71875 C 5.101562 -0.09375 4.335938 0.21875 3.359375 0.21875 C 2.546875 0.21875 1.828125 -0.0390625 1.203125 -0.5625 C 0.585938 -1.09375 0.28125 -1.945312 0.28125 -3.125 C 0.28125 -4.226562 0.554688 -5.078125 1.109375 -5.671875 C 1.671875 -6.265625 2.398438 -6.5625 3.296875 -6.5625 Z M 3.421875 -6.5625 Z \"/>\n",
       "</symbol>\n",
       "<symbol overflow=\"visible\" id=\"glyph0-7\">\n",
       "<path style=\"stroke:none;\" d=\"\"/>\n",
       "</symbol>\n",
       "<symbol overflow=\"visible\" id=\"glyph0-8\">\n",
       "<path style=\"stroke:none;\" d=\"M 0.140625 -3.921875 L 7.03125 -6.546875 L 7.03125 -4.921875 L 2.109375 -3.171875 L 7.03125 -1.4375 L 7.03125 0.203125 L 0.140625 -2.421875 Z \"/>\n",
       "</symbol>\n",
       "<symbol overflow=\"visible\" id=\"glyph0-9\">\n",
       "<path style=\"stroke:none;\" d=\"M 2.078125 -4.171875 C 2.078125 -3.191406 2.15625 -2.441406 2.3125 -1.921875 C 2.476562 -1.410156 2.8125 -1.15625 3.3125 -1.15625 C 3.800781 -1.15625 4.125 -1.410156 4.28125 -1.921875 C 4.4375 -2.441406 4.515625 -3.191406 4.515625 -4.171875 C 4.515625 -5.191406 4.4375 -5.945312 4.28125 -6.4375 C 4.125 -6.925781 3.800781 -7.171875 3.3125 -7.171875 C 2.8125 -7.171875 2.476562 -6.925781 2.3125 -6.4375 C 2.15625 -5.945312 2.078125 -5.191406 2.078125 -4.171875 Z M 3.3125 -8.5625 C 4.382812 -8.5625 5.140625 -8.175781 5.578125 -7.40625 C 6.015625 -6.644531 6.234375 -5.566406 6.234375 -4.171875 C 6.234375 -2.765625 6.015625 -1.679688 5.578125 -0.921875 C 5.140625 -0.160156 4.382812 0.21875 3.3125 0.21875 C 2.226562 0.21875 1.46875 -0.160156 1.03125 -0.921875 C 0.59375 -1.679688 0.375 -2.765625 0.375 -4.171875 C 0.375 -5.566406 0.59375 -6.644531 1.03125 -7.40625 C 1.46875 -8.175781 2.226562 -8.5625 3.3125 -8.5625 Z \"/>\n",
       "</symbol>\n",
       "<symbol overflow=\"visible\" id=\"glyph0-10\">\n",
       "<path style=\"stroke:none;\" d=\"M 0.75 -1.75 L 2.53125 -1.75 L 2.53125 0 L 0.75 0 Z \"/>\n",
       "</symbol>\n",
       "<symbol overflow=\"visible\" id=\"glyph0-11\">\n",
       "<path style=\"stroke:none;\" d=\"M 1.984375 -2.28125 C 2.046875 -1.914062 2.171875 -1.632812 2.359375 -1.4375 C 2.546875 -1.238281 2.820312 -1.140625 3.1875 -1.140625 C 3.59375 -1.140625 3.90625 -1.285156 4.125 -1.578125 C 4.34375 -1.867188 4.453125 -2.234375 4.453125 -2.671875 C 4.453125 -3.109375 4.347656 -3.472656 4.140625 -3.765625 C 3.941406 -4.066406 3.628906 -4.21875 3.203125 -4.21875 C 2.992188 -4.21875 2.816406 -4.191406 2.671875 -4.140625 C 2.410156 -4.046875 2.210938 -3.875 2.078125 -3.625 L 0.578125 -3.6875 L 1.171875 -8.390625 L 5.859375 -8.390625 L 5.859375 -6.96875 L 2.390625 -6.96875 L 2.078125 -5.109375 C 2.335938 -5.273438 2.539062 -5.382812 2.6875 -5.4375 C 2.925781 -5.53125 3.21875 -5.578125 3.5625 -5.578125 C 4.269531 -5.578125 4.882812 -5.335938 5.40625 -4.859375 C 5.925781 -4.390625 6.1875 -3.707031 6.1875 -2.8125 C 6.1875 -2.019531 5.9375 -1.316406 5.4375 -0.703125 C 4.9375 -0.0859375 4.179688 0.21875 3.171875 0.21875 C 2.367188 0.21875 1.707031 0.00390625 1.1875 -0.421875 C 0.664062 -0.859375 0.375 -1.476562 0.3125 -2.28125 Z \"/>\n",
       "</symbol>\n",
       "<symbol overflow=\"visible\" id=\"glyph0-12\">\n",
       "<path style=\"stroke:none;\" d=\"M 3.28125 -3.265625 L 5.46875 -3.265625 L 4.390625 -6.65625 Z M 3.390625 -8.640625 L 5.421875 -8.640625 L 8.484375 0 L 6.53125 0 L 5.96875 -1.78125 L 2.796875 -1.78125 L 2.1875 0 L 0.3125 0 Z M 4.390625 -8.640625 Z \"/>\n",
       "</symbol>\n",
       "<symbol overflow=\"visible\" id=\"glyph0-13\">\n",
       "<path style=\"stroke:none;\" d=\"M 0.125 -5.140625 L 0.125 -6.328125 L 1.015625 -6.328125 L 1.015625 -8.109375 L 2.671875 -8.109375 L 2.671875 -6.328125 L 3.703125 -6.328125 L 3.703125 -5.140625 L 2.671875 -5.140625 L 2.671875 -1.765625 C 2.671875 -1.503906 2.703125 -1.335938 2.765625 -1.265625 C 2.828125 -1.203125 3.03125 -1.171875 3.375 -1.171875 C 3.425781 -1.171875 3.476562 -1.171875 3.53125 -1.171875 C 3.59375 -1.179688 3.648438 -1.1875 3.703125 -1.1875 L 3.703125 0.0625 L 2.90625 0.09375 C 2.125 0.113281 1.585938 -0.0234375 1.296875 -0.328125 C 1.109375 -0.515625 1.015625 -0.804688 1.015625 -1.203125 L 1.015625 -5.140625 Z \"/>\n",
       "</symbol>\n",
       "<symbol overflow=\"visible\" id=\"glyph0-14\">\n",
       "<path style=\"stroke:none;\" d=\"M 3.640625 -1.171875 C 4.128906 -1.171875 4.503906 -1.34375 4.765625 -1.6875 C 5.023438 -2.039062 5.15625 -2.539062 5.15625 -3.1875 C 5.15625 -3.820312 5.023438 -4.3125 4.765625 -4.65625 C 4.503906 -5.007812 4.128906 -5.1875 3.640625 -5.1875 C 3.148438 -5.1875 2.773438 -5.007812 2.515625 -4.65625 C 2.253906 -4.3125 2.125 -3.820312 2.125 -3.1875 C 2.125 -2.539062 2.253906 -2.039062 2.515625 -1.6875 C 2.773438 -1.34375 3.148438 -1.171875 3.640625 -1.171875 Z M 6.921875 -3.1875 C 6.921875 -2.25 6.648438 -1.445312 6.109375 -0.78125 C 5.566406 -0.113281 4.75 0.21875 3.65625 0.21875 C 2.550781 0.21875 1.726562 -0.113281 1.1875 -0.78125 C 0.65625 -1.445312 0.390625 -2.25 0.390625 -3.1875 C 0.390625 -4.101562 0.65625 -4.898438 1.1875 -5.578125 C 1.726562 -6.253906 2.550781 -6.59375 3.65625 -6.59375 C 4.75 -6.59375 5.566406 -6.253906 6.109375 -5.578125 C 6.648438 -4.898438 6.921875 -4.101562 6.921875 -3.1875 Z M 3.65625 -6.5625 Z \"/>\n",
       "</symbol>\n",
       "<symbol overflow=\"visible\" id=\"glyph0-15\">\n",
       "<path style=\"stroke:none;\" d=\"M 0.15625 0 L 2.328125 -3.234375 L 0.25 -6.375 L 2.296875 -6.375 L 3.359375 -4.53125 L 4.40625 -6.375 L 6.390625 -6.375 L 4.296875 -3.265625 L 6.46875 0 L 4.390625 0 L 3.28125 -1.921875 L 2.1875 0 Z \"/>\n",
       "</symbol>\n",
       "<symbol overflow=\"visible\" id=\"glyph0-16\">\n",
       "<path style=\"stroke:none;\" d=\"M 2.5 -7.15625 L 0.796875 -7.15625 L 0.796875 -8.6875 L 2.5 -8.6875 Z M 0.796875 -6.390625 L 2.5 -6.390625 L 2.5 0 L 0.796875 0 Z \"/>\n",
       "</symbol>\n",
       "<symbol overflow=\"visible\" id=\"glyph0-17\">\n",
       "<path style=\"stroke:none;\" d=\"M 4.59375 -4.09375 C 4.5625 -4.332031 4.484375 -4.546875 4.359375 -4.734375 C 4.171875 -4.992188 3.878906 -5.125 3.484375 -5.125 C 2.921875 -5.125 2.535156 -4.847656 2.328125 -4.296875 C 2.210938 -3.992188 2.15625 -3.597656 2.15625 -3.109375 C 2.15625 -2.640625 2.210938 -2.257812 2.328125 -1.96875 C 2.523438 -1.4375 2.898438 -1.171875 3.453125 -1.171875 C 3.835938 -1.171875 4.113281 -1.273438 4.28125 -1.484375 C 4.445312 -1.703125 4.546875 -1.976562 4.578125 -2.3125 L 6.28125 -2.3125 C 6.25 -1.800781 6.066406 -1.320312 5.734375 -0.875 C 5.210938 -0.144531 4.4375 0.21875 3.40625 0.21875 C 2.382812 0.21875 1.628906 -0.0820312 1.140625 -0.6875 C 0.660156 -1.300781 0.421875 -2.09375 0.421875 -3.0625 C 0.421875 -4.164062 0.6875 -5.019531 1.21875 -5.625 C 1.75 -6.238281 2.488281 -6.546875 3.4375 -6.546875 C 4.238281 -6.546875 4.894531 -6.363281 5.40625 -6 C 5.914062 -5.644531 6.21875 -5.007812 6.3125 -4.09375 Z M 3.46875 -6.5625 Z \"/>\n",
       "</symbol>\n",
       "<symbol overflow=\"visible\" id=\"glyph0-18\">\n",
       "<path style=\"stroke:none;\" d=\"M 2.4375 -6.390625 L 2.4375 -2.53125 C 2.4375 -2.175781 2.484375 -1.90625 2.578125 -1.71875 C 2.722656 -1.394531 3.019531 -1.234375 3.46875 -1.234375 C 4.039062 -1.234375 4.429688 -1.460938 4.640625 -1.921875 C 4.753906 -2.171875 4.8125 -2.5 4.8125 -2.90625 L 4.8125 -6.390625 L 6.5 -6.390625 L 6.5 0 L 4.875 0 L 4.875 -0.90625 C 4.863281 -0.882812 4.828125 -0.820312 4.765625 -0.71875 C 4.703125 -0.625 4.625 -0.539062 4.53125 -0.46875 C 4.269531 -0.238281 4.015625 -0.0820312 3.765625 0 C 3.523438 0.09375 3.242188 0.140625 2.921875 0.140625 C 1.972656 0.140625 1.335938 -0.195312 1.015625 -0.875 C 0.828125 -1.25 0.734375 -1.800781 0.734375 -2.53125 L 0.734375 -6.390625 Z M 3.609375 -6.5625 Z \"/>\n",
       "</symbol>\n",
       "<symbol overflow=\"visible\" id=\"glyph0-19\">\n",
       "<path style=\"stroke:none;\" d=\"M 4.25 -6.546875 C 4.28125 -6.546875 4.304688 -6.539062 4.328125 -6.53125 C 4.347656 -6.53125 4.394531 -6.53125 4.46875 -6.53125 L 4.46875 -4.8125 C 4.363281 -4.820312 4.269531 -4.828125 4.1875 -4.828125 C 4.101562 -4.835938 4.035156 -4.84375 3.984375 -4.84375 C 3.316406 -4.84375 2.867188 -4.625 2.640625 -4.1875 C 2.503906 -3.945312 2.4375 -3.566406 2.4375 -3.046875 L 2.4375 0 L 0.765625 0 L 0.765625 -6.390625 L 2.359375 -6.390625 L 2.359375 -5.28125 C 2.617188 -5.695312 2.84375 -5.984375 3.03125 -6.140625 C 3.34375 -6.410156 3.75 -6.546875 4.25 -6.546875 Z \"/>\n",
       "</symbol>\n",
       "<symbol overflow=\"visible\" id=\"glyph0-20\">\n",
       "<path style=\"stroke:none;\" d=\"M 4.71875 -6.390625 L 6.515625 -6.390625 L 4.203125 0 L 2.4375 0 L 0.15625 -6.390625 L 2.03125 -6.390625 L 3.359375 -1.671875 Z \"/>\n",
       "</symbol>\n",
       "<symbol overflow=\"visible\" id=\"glyph0-21\">\n",
       "<path style=\"stroke:none;\" d=\"M 3.140625 -6.546875 C 3.523438 -6.546875 3.867188 -6.457031 4.171875 -6.28125 C 4.472656 -6.113281 4.71875 -5.878906 4.90625 -5.578125 L 4.90625 -8.625 L 6.59375 -8.625 L 6.59375 0 L 4.96875 0 L 4.96875 -0.890625 C 4.726562 -0.503906 4.457031 -0.222656 4.15625 -0.046875 C 3.851562 0.117188 3.472656 0.203125 3.015625 0.203125 C 2.273438 0.203125 1.648438 -0.0976562 1.140625 -0.703125 C 0.628906 -1.304688 0.375 -2.082031 0.375 -3.03125 C 0.375 -4.125 0.625 -4.984375 1.125 -5.609375 C 1.625 -6.234375 2.296875 -6.546875 3.140625 -6.546875 Z M 3.5 -1.203125 C 3.96875 -1.203125 4.328125 -1.378906 4.578125 -1.734375 C 4.828125 -2.085938 4.953125 -2.539062 4.953125 -3.09375 C 4.953125 -3.875 4.753906 -4.4375 4.359375 -4.78125 C 4.109375 -4.976562 3.828125 -5.078125 3.515625 -5.078125 C 3.023438 -5.078125 2.664062 -4.890625 2.4375 -4.515625 C 2.207031 -4.148438 2.09375 -3.695312 2.09375 -3.15625 C 2.09375 -2.5625 2.207031 -2.085938 2.4375 -1.734375 C 2.675781 -1.378906 3.03125 -1.203125 3.5 -1.203125 Z \"/>\n",
       "</symbol>\n",
       "<symbol overflow=\"visible\" id=\"glyph0-22\">\n",
       "<path style=\"stroke:none;\" d=\"M 7.03125 -2.421875 L 0.140625 0.203125 L 0.140625 -1.4375 L 5.0625 -3.171875 L 0.140625 -4.921875 L 0.140625 -6.546875 L 7.03125 -3.921875 Z \"/>\n",
       "</symbol>\n",
       "<symbol overflow=\"visible\" id=\"glyph0-23\">\n",
       "<path style=\"stroke:none;\" d=\"M 6.78125 -5.3125 L 6.78125 -3.78125 L 0.421875 -3.78125 L 0.421875 -5.3125 Z M 6.78125 -2.578125 L 6.78125 -1.03125 L 0.421875 -1.03125 L 0.421875 -2.578125 Z \"/>\n",
       "</symbol>\n",
       "<symbol overflow=\"visible\" id=\"glyph0-24\">\n",
       "<path style=\"stroke:none;\" d=\"M 1.03125 1.21875 L 1.25 1.234375 C 1.414062 1.242188 1.570312 1.238281 1.71875 1.21875 C 1.863281 1.195312 1.988281 1.148438 2.09375 1.078125 C 2.1875 1.015625 2.273438 0.878906 2.359375 0.671875 C 2.441406 0.460938 2.476562 0.332031 2.46875 0.28125 L 0.125 -6.390625 L 1.984375 -6.390625 L 3.375 -1.671875 L 4.6875 -6.390625 L 6.46875 -6.390625 L 4.28125 -0.109375 C 3.851562 1.109375 3.515625 1.859375 3.265625 2.140625 C 3.023438 2.429688 2.535156 2.578125 1.796875 2.578125 C 1.648438 2.578125 1.53125 2.578125 1.4375 2.578125 C 1.351562 2.578125 1.21875 2.570312 1.03125 2.5625 Z M 3.296875 -6.5625 Z \"/>\n",
       "</symbol>\n",
       "<symbol overflow=\"visible\" id=\"glyph0-25\">\n",
       "<path style=\"stroke:none;\" d=\"M 2.484375 0 L 0.8125 0 L 0.8125 -8.640625 L 2.484375 -8.640625 Z \"/>\n",
       "</symbol>\n",
       "<symbol overflow=\"visible\" id=\"glyph0-26\">\n",
       "<path style=\"stroke:none;\" d=\"M 3.140625 -8.71875 C 3.242188 -8.71875 3.335938 -8.710938 3.421875 -8.703125 C 3.503906 -8.703125 3.625 -8.695312 3.78125 -8.6875 L 3.78125 -7.328125 C 3.6875 -7.335938 3.523438 -7.34375 3.296875 -7.34375 C 3.078125 -7.351562 2.925781 -7.304688 2.84375 -7.203125 C 2.757812 -7.109375 2.71875 -7 2.71875 -6.875 C 2.71875 -6.75 2.71875 -6.566406 2.71875 -6.328125 L 3.8125 -6.328125 L 3.8125 -5.15625 L 2.71875 -5.15625 L 2.71875 0 L 1.0625 0 L 1.0625 -5.15625 L 0.125 -5.15625 L 0.125 -6.328125 L 1.03125 -6.328125 L 1.03125 -6.734375 C 1.03125 -7.421875 1.148438 -7.894531 1.390625 -8.15625 C 1.628906 -8.53125 2.210938 -8.71875 3.140625 -8.71875 Z \"/>\n",
       "</symbol>\n",
       "<symbol overflow=\"visible\" id=\"glyph0-27\">\n",
       "<path style=\"stroke:none;\" d=\"M 4.3125 -6.546875 C 4.976562 -6.546875 5.519531 -6.367188 5.9375 -6.015625 C 6.351562 -5.671875 6.5625 -5.097656 6.5625 -4.296875 L 6.5625 0 L 4.859375 0 L 4.859375 -3.890625 C 4.859375 -4.222656 4.8125 -4.476562 4.71875 -4.65625 C 4.5625 -4.988281 4.25 -5.15625 3.78125 -5.15625 C 3.21875 -5.15625 2.832031 -4.914062 2.625 -4.4375 C 2.507812 -4.175781 2.453125 -3.847656 2.453125 -3.453125 L 2.453125 0 L 0.796875 0 L 0.796875 -6.375 L 2.40625 -6.375 L 2.40625 -5.4375 C 2.613281 -5.769531 2.816406 -6.007812 3.015625 -6.15625 C 3.359375 -6.414062 3.789062 -6.546875 4.3125 -6.546875 Z M 3.703125 -6.5625 Z \"/>\n",
       "</symbol>\n",
       "<symbol overflow=\"visible\" id=\"glyph0-28\">\n",
       "<path style=\"stroke:none;\" d=\"M 3.515625 -1.375 C 3.910156 -1.375 4.242188 -1.519531 4.515625 -1.8125 C 4.785156 -2.101562 4.921875 -2.570312 4.921875 -3.21875 C 4.921875 -3.820312 4.789062 -4.28125 4.53125 -4.59375 C 4.28125 -4.914062 3.9375 -5.078125 3.5 -5.078125 C 2.914062 -5.078125 2.515625 -4.800781 2.296875 -4.25 C 2.171875 -3.957031 2.109375 -3.597656 2.109375 -3.171875 C 2.109375 -2.796875 2.171875 -2.46875 2.296875 -2.1875 C 2.523438 -1.644531 2.929688 -1.375 3.515625 -1.375 Z M 3.109375 -6.546875 C 3.429688 -6.546875 3.707031 -6.492188 3.9375 -6.390625 C 4.34375 -6.222656 4.671875 -5.914062 4.921875 -5.46875 L 4.921875 -6.390625 L 6.546875 -6.390625 L 6.546875 -0.328125 C 6.546875 0.492188 6.410156 1.113281 6.140625 1.53125 C 5.660156 2.25 4.742188 2.609375 3.390625 2.609375 C 2.578125 2.609375 1.910156 2.445312 1.390625 2.125 C 0.878906 1.8125 0.597656 1.335938 0.546875 0.703125 L 2.359375 0.703125 C 2.398438 0.890625 2.472656 1.03125 2.578125 1.125 C 2.765625 1.269531 3.070312 1.34375 3.5 1.34375 C 4.09375 1.34375 4.492188 1.144531 4.703125 0.75 C 4.835938 0.488281 4.90625 0.0507812 4.90625 -0.5625 L 4.90625 -0.96875 C 4.738281 -0.695312 4.566406 -0.492188 4.390625 -0.359375 C 4.054688 -0.0976562 3.625 0.03125 3.09375 0.03125 C 2.269531 0.03125 1.613281 -0.253906 1.125 -0.828125 C 0.632812 -1.410156 0.390625 -2.191406 0.390625 -3.171875 C 0.390625 -4.117188 0.625 -4.914062 1.09375 -5.5625 C 1.570312 -6.21875 2.242188 -6.546875 3.109375 -6.546875 Z M 3.640625 -6.5625 Z \"/>\n",
       "</symbol>\n",
       "<symbol overflow=\"visible\" id=\"glyph0-29\">\n",
       "<path style=\"stroke:none;\" d=\"M 4.234375 -6.53125 C 5.066406 -6.53125 5.722656 -6.226562 6.203125 -5.625 C 6.679688 -5.019531 6.921875 -4.238281 6.921875 -3.28125 C 6.921875 -2.28125 6.6875 -1.453125 6.21875 -0.796875 C 5.75 -0.148438 5.09375 0.171875 4.25 0.171875 C 3.71875 0.171875 3.296875 0.0664062 2.984375 -0.140625 C 2.785156 -0.265625 2.578125 -0.484375 2.359375 -0.796875 L 2.359375 0 L 0.71875 0 L 0.71875 -8.625 L 2.390625 -8.625 L 2.390625 -5.5625 C 2.597656 -5.851562 2.828125 -6.078125 3.078125 -6.234375 C 3.378906 -6.429688 3.765625 -6.53125 4.234375 -6.53125 Z M 3.796875 -1.203125 C 4.234375 -1.203125 4.566406 -1.375 4.796875 -1.71875 C 5.035156 -2.070312 5.15625 -2.53125 5.15625 -3.09375 C 5.15625 -3.550781 5.097656 -3.925781 4.984375 -4.21875 C 4.765625 -4.78125 4.351562 -5.0625 3.75 -5.0625 C 3.144531 -5.0625 2.734375 -4.789062 2.515625 -4.25 C 2.390625 -3.945312 2.328125 -3.566406 2.328125 -3.109375 C 2.328125 -2.554688 2.445312 -2.097656 2.6875 -1.734375 C 2.9375 -1.378906 3.304688 -1.203125 3.796875 -1.203125 Z \"/>\n",
       "</symbol>\n",
       "<symbol overflow=\"visible\" id=\"glyph1-0\">\n",
       "<path style=\"stroke:none;\" d=\"M 0.390625 0 L 0.390625 -8.609375 L 7.21875 -8.609375 L 7.21875 0 Z M 6.140625 -1.078125 L 6.140625 -7.53125 L 1.46875 -7.53125 L 1.46875 -1.078125 Z \"/>\n",
       "</symbol>\n",
       "<symbol overflow=\"visible\" id=\"glyph1-1\">\n",
       "<path style=\"stroke:none;\" d=\"M 3.25 -8.390625 C 4.332031 -8.390625 5.117188 -7.941406 5.609375 -7.046875 C 5.984375 -6.359375 6.171875 -5.410156 6.171875 -4.203125 C 6.171875 -3.066406 6 -2.125 5.65625 -1.375 C 5.164062 -0.300781 4.359375 0.234375 3.234375 0.234375 C 2.234375 0.234375 1.484375 -0.203125 0.984375 -1.078125 C 0.578125 -1.816406 0.375 -2.800781 0.375 -4.03125 C 0.375 -4.976562 0.5 -5.796875 0.75 -6.484375 C 1.207031 -7.753906 2.039062 -8.390625 3.25 -8.390625 Z M 3.234375 -0.734375 C 3.785156 -0.734375 4.222656 -0.972656 4.546875 -1.453125 C 4.867188 -1.941406 5.03125 -2.847656 5.03125 -4.171875 C 5.03125 -5.117188 4.910156 -5.898438 4.671875 -6.515625 C 4.441406 -7.128906 3.988281 -7.4375 3.3125 -7.4375 C 2.6875 -7.4375 2.226562 -7.144531 1.9375 -6.5625 C 1.65625 -5.976562 1.515625 -5.117188 1.515625 -3.984375 C 1.515625 -3.128906 1.609375 -2.441406 1.796875 -1.921875 C 2.078125 -1.128906 2.554688 -0.734375 3.234375 -0.734375 Z \"/>\n",
       "</symbol>\n",
       "<symbol overflow=\"visible\" id=\"glyph1-2\">\n",
       "<path style=\"stroke:none;\" d=\"M 1.15625 -5.9375 L 1.15625 -6.75 C 1.914062 -6.820312 2.441406 -6.945312 2.734375 -7.125 C 3.035156 -7.300781 3.265625 -7.710938 3.421875 -8.359375 L 4.25 -8.359375 L 4.25 0 L 3.125 0 L 3.125 -5.9375 Z \"/>\n",
       "</symbol>\n",
       "<symbol overflow=\"visible\" id=\"glyph2-0\">\n",
       "<path style=\"stroke:none;\" d=\"M 0.3125 0 L 0.3125 -6.875 L 5.765625 -6.875 L 5.765625 0 Z M 4.90625 -0.859375 L 4.90625 -6.015625 L 1.171875 -6.015625 L 1.171875 -0.859375 Z \"/>\n",
       "</symbol>\n",
       "<symbol overflow=\"visible\" id=\"glyph2-1\">\n",
       "<path style=\"stroke:none;\" d=\"M 3.75 -5.015625 L 4.6875 -5.015625 C 4.5625 -4.691406 4.296875 -3.957031 3.890625 -2.8125 C 3.585938 -1.945312 3.332031 -1.242188 3.125 -0.703125 C 2.632812 0.578125 2.289062 1.359375 2.09375 1.640625 C 1.894531 1.921875 1.550781 2.0625 1.0625 2.0625 C 0.945312 2.0625 0.851562 2.054688 0.78125 2.046875 C 0.71875 2.035156 0.640625 2.015625 0.546875 1.984375 L 0.546875 1.21875 C 0.691406 1.257812 0.796875 1.285156 0.859375 1.296875 C 0.929688 1.304688 0.992188 1.3125 1.046875 1.3125 C 1.203125 1.3125 1.316406 1.285156 1.390625 1.234375 C 1.460938 1.179688 1.523438 1.117188 1.578125 1.046875 C 1.585938 1.015625 1.640625 0.882812 1.734375 0.65625 C 1.835938 0.425781 1.910156 0.253906 1.953125 0.140625 L 0.09375 -5.015625 L 1.046875 -5.015625 L 2.40625 -0.9375 Z M 2.390625 -5.140625 Z \"/>\n",
       "</symbol>\n",
       "<symbol overflow=\"visible\" id=\"glyph2-2\">\n",
       "<path style=\"stroke:none;\" d=\"M 2.703125 -5.125 C 3.054688 -5.125 3.398438 -5.039062 3.734375 -4.875 C 4.078125 -4.707031 4.332031 -4.492188 4.5 -4.234375 C 4.675781 -3.972656 4.789062 -3.675781 4.84375 -3.34375 C 4.894531 -3.113281 4.921875 -2.742188 4.921875 -2.234375 L 1.234375 -2.234375 C 1.253906 -1.722656 1.375 -1.3125 1.59375 -1 C 1.820312 -0.695312 2.171875 -0.546875 2.640625 -0.546875 C 3.085938 -0.546875 3.441406 -0.691406 3.703125 -0.984375 C 3.847656 -1.148438 3.953125 -1.347656 4.015625 -1.578125 L 4.84375 -1.578125 C 4.820312 -1.390625 4.75 -1.179688 4.625 -0.953125 C 4.507812 -0.734375 4.375 -0.550781 4.21875 -0.40625 C 3.957031 -0.15625 3.640625 0.015625 3.265625 0.109375 C 3.054688 0.148438 2.828125 0.171875 2.578125 0.171875 C 1.953125 0.171875 1.421875 -0.0507812 0.984375 -0.5 C 0.554688 -0.957031 0.34375 -1.59375 0.34375 -2.40625 C 0.34375 -3.21875 0.5625 -3.875 1 -4.375 C 1.4375 -4.875 2.003906 -5.125 2.703125 -5.125 Z M 4.046875 -2.90625 C 4.015625 -3.269531 3.9375 -3.5625 3.8125 -3.78125 C 3.582031 -4.1875 3.195312 -4.390625 2.65625 -4.390625 C 2.269531 -4.390625 1.941406 -4.25 1.671875 -3.96875 C 1.410156 -3.695312 1.273438 -3.34375 1.265625 -2.90625 Z M 2.625 -5.140625 Z \"/>\n",
       "</symbol>\n",
       "<symbol overflow=\"visible\" id=\"glyph2-3\">\n",
       "<path style=\"stroke:none;\" d=\"M 1.125 -1.578125 C 1.144531 -1.296875 1.210938 -1.078125 1.328125 -0.921875 C 1.546875 -0.648438 1.914062 -0.515625 2.4375 -0.515625 C 2.75 -0.515625 3.019531 -0.582031 3.25 -0.71875 C 3.488281 -0.851562 3.609375 -1.066406 3.609375 -1.359375 C 3.609375 -1.566406 3.515625 -1.726562 3.328125 -1.84375 C 3.203125 -1.914062 2.960938 -1.992188 2.609375 -2.078125 L 1.9375 -2.25 C 1.507812 -2.351562 1.195312 -2.472656 1 -2.609375 C 0.632812 -2.835938 0.453125 -3.15625 0.453125 -3.5625 C 0.453125 -4.03125 0.617188 -4.410156 0.953125 -4.703125 C 1.296875 -4.992188 1.757812 -5.140625 2.34375 -5.140625 C 3.09375 -5.140625 3.640625 -4.921875 3.984375 -4.484375 C 4.191406 -4.203125 4.289062 -3.898438 4.28125 -3.578125 L 3.484375 -3.578125 C 3.472656 -3.765625 3.40625 -3.9375 3.28125 -4.09375 C 3.09375 -4.3125 2.757812 -4.421875 2.28125 -4.421875 C 1.957031 -4.421875 1.710938 -4.359375 1.546875 -4.234375 C 1.390625 -4.117188 1.3125 -3.960938 1.3125 -3.765625 C 1.3125 -3.546875 1.414062 -3.367188 1.625 -3.234375 C 1.75 -3.160156 1.9375 -3.09375 2.1875 -3.03125 L 2.734375 -2.890625 C 3.347656 -2.742188 3.753906 -2.601562 3.953125 -2.46875 C 4.285156 -2.25 4.453125 -1.910156 4.453125 -1.453125 C 4.453125 -1.003906 4.28125 -0.617188 3.9375 -0.296875 C 3.601562 0.0234375 3.085938 0.1875 2.390625 0.1875 C 1.648438 0.1875 1.125 0.0195312 0.8125 -0.3125 C 0.5 -0.65625 0.332031 -1.078125 0.3125 -1.578125 Z M 2.359375 -5.140625 Z \"/>\n",
       "</symbol>\n",
       "<symbol overflow=\"visible\" id=\"glyph2-4\">\n",
       "<path style=\"stroke:none;\" d=\"M 0.625 -5.015625 L 1.421875 -5.015625 L 1.421875 -4.3125 C 1.660156 -4.601562 1.910156 -4.8125 2.171875 -4.9375 C 2.441406 -5.0625 2.738281 -5.125 3.0625 -5.125 C 3.769531 -5.125 4.25 -4.878906 4.5 -4.390625 C 4.632812 -4.117188 4.703125 -3.726562 4.703125 -3.21875 L 4.703125 0 L 3.84375 0 L 3.84375 -3.15625 C 3.84375 -3.46875 3.800781 -3.71875 3.71875 -3.90625 C 3.5625 -4.21875 3.289062 -4.375 2.90625 -4.375 C 2.695312 -4.375 2.53125 -4.351562 2.40625 -4.3125 C 2.175781 -4.238281 1.972656 -4.097656 1.796875 -3.890625 C 1.660156 -3.734375 1.570312 -3.566406 1.53125 -3.390625 C 1.488281 -3.210938 1.46875 -2.957031 1.46875 -2.625 L 1.46875 0 L 0.625 0 Z M 2.59375 -5.140625 Z \"/>\n",
       "</symbol>\n",
       "<symbol overflow=\"visible\" id=\"glyph2-5\">\n",
       "<path style=\"stroke:none;\" d=\"M 2.609375 -0.546875 C 3.171875 -0.546875 3.554688 -0.753906 3.765625 -1.171875 C 3.972656 -1.597656 4.078125 -2.070312 4.078125 -2.59375 C 4.078125 -3.0625 4 -3.441406 3.84375 -3.734375 C 3.601562 -4.191406 3.195312 -4.421875 2.625 -4.421875 C 2.101562 -4.421875 1.722656 -4.222656 1.484375 -3.828125 C 1.253906 -3.441406 1.140625 -2.96875 1.140625 -2.40625 C 1.140625 -1.875 1.253906 -1.429688 1.484375 -1.078125 C 1.722656 -0.722656 2.097656 -0.546875 2.609375 -0.546875 Z M 2.640625 -5.15625 C 3.285156 -5.15625 3.832031 -4.941406 4.28125 -4.515625 C 4.726562 -4.085938 4.953125 -3.453125 4.953125 -2.609375 C 4.953125 -1.804688 4.753906 -1.140625 4.359375 -0.609375 C 3.960938 -0.078125 3.351562 0.1875 2.53125 0.1875 C 1.84375 0.1875 1.296875 -0.046875 0.890625 -0.515625 C 0.484375 -0.984375 0.28125 -1.613281 0.28125 -2.40625 C 0.28125 -3.238281 0.492188 -3.90625 0.921875 -4.40625 C 1.347656 -4.90625 1.921875 -5.15625 2.640625 -5.15625 Z M 2.609375 -5.140625 Z \"/>\n",
       "</symbol>\n",
       "</g>\n",
       "</defs>\n",
       "<g id=\"surface11\">\n",
       "<rect x=\"0\" y=\"0\" width=\"504\" height=\"504\" style=\"fill:rgb(100%,100%,100%);fill-opacity:1;stroke:none;\"/>\n",
       "<path style=\"fill:none;stroke-width:0.75;stroke-linecap:butt;stroke-linejoin:round;stroke:rgb(0%,0%,0%);stroke-opacity:1;stroke-miterlimit:10;\" d=\"M 184.878906 118.429688 L 278.78125 65.128906 L 302.257812 65.128906 \"/>\n",
       "<path style=\"fill:none;stroke-width:0.75;stroke-linecap:butt;stroke-linejoin:round;stroke:rgb(0%,0%,0%);stroke-opacity:1;stroke-miterlimit:10;\" d=\"M 89.160156 173.160156 L 165.734375 119.859375 L 184.878906 119.859375 \"/>\n",
       "<path style=\"fill:none;stroke-width:0.75;stroke-linecap:butt;stroke-linejoin:round;stroke:rgb(0%,0%,0%);stroke-opacity:1;stroke-miterlimit:10;\" d=\"M 41.183594 216.398438 L 79.566406 174.589844 L 89.160156 174.589844 \"/>\n",
       "<path style=\"fill:none;stroke-width:0.75;stroke-linecap:butt;stroke-linejoin:round;stroke:rgb(0%,0%,0%);stroke-opacity:1;stroke-miterlimit:10;\" d=\"M 137.140625 227.894531 L 98.757812 174.589844 L 89.160156 174.589844 \"/>\n",
       "<path style=\"fill:none;stroke-width:0.75;stroke-linecap:butt;stroke-linejoin:round;stroke:rgb(0%,0%,0%);stroke-opacity:1;stroke-miterlimit:10;\" d=\"M 89.164062 271.128906 L 127.542969 229.324219 L 137.140625 229.324219 \"/>\n",
       "<path style=\"fill:none;stroke-width:0.75;stroke-linecap:butt;stroke-linejoin:round;stroke:rgb(0%,0%,0%);stroke-opacity:1;stroke-miterlimit:10;\" d=\"M 185.113281 282.625 L 146.734375 229.324219 L 137.140625 229.324219 \"/>\n",
       "<path style=\"fill:none;stroke-width:0.75;stroke-linecap:butt;stroke-linejoin:round;stroke:rgb(0%,0%,0%);stroke-opacity:1;stroke-miterlimit:10;\" d=\"M 137.183594 337.355469 L 175.527344 284.054688 L 185.113281 284.054688 \"/>\n",
       "<path style=\"fill:none;stroke-width:0.75;stroke-linecap:butt;stroke-linejoin:round;stroke:rgb(0%,0%,0%);stroke-opacity:1;stroke-miterlimit:10;\" d=\"M 89.683594 392.085938 L 127.683594 338.785156 L 137.183594 338.785156 \"/>\n",
       "<path style=\"fill:none;stroke-width:0.75;stroke-linecap:butt;stroke-linejoin:round;stroke:rgb(0%,0%,0%);stroke-opacity:1;stroke-miterlimit:10;\" d=\"M 46.503906 435.324219 L 81.046875 393.515625 L 89.683594 393.515625 \"/>\n",
       "<path style=\"fill:none;stroke-width:0.75;stroke-linecap:butt;stroke-linejoin:round;stroke:rgb(0%,0%,0%);stroke-opacity:1;stroke-miterlimit:10;\" d=\"M 132.863281 435.324219 L 98.320312 393.515625 L 89.683594 393.515625 \"/>\n",
       "<path style=\"fill:none;stroke-width:0.75;stroke-linecap:butt;stroke-linejoin:round;stroke:rgb(0%,0%,0%);stroke-opacity:1;stroke-miterlimit:10;\" d=\"M 184.679688 380.59375 L 146.683594 338.785156 L 137.183594 338.785156 \"/>\n",
       "<path style=\"fill:none;stroke-width:0.75;stroke-linecap:butt;stroke-linejoin:round;stroke:rgb(0%,0%,0%);stroke-opacity:1;stroke-miterlimit:10;\" d=\"M 233.042969 325.863281 L 194.699219 284.054688 L 185.113281 284.054688 \"/>\n",
       "<path style=\"fill:none;stroke-width:0.75;stroke-linecap:butt;stroke-linejoin:round;stroke:rgb(0%,0%,0%);stroke-opacity:1;stroke-miterlimit:10;\" d=\"M 280.59375 173.160156 L 204.019531 119.859375 L 184.878906 119.859375 \"/>\n",
       "<path style=\"fill:none;stroke-width:0.75;stroke-linecap:butt;stroke-linejoin:round;stroke:rgb(0%,0%,0%);stroke-opacity:1;stroke-miterlimit:10;\" d=\"M 233.09375 216.398438 L 271.09375 174.589844 L 280.59375 174.589844 \"/>\n",
       "<path style=\"fill:none;stroke-width:0.75;stroke-linecap:butt;stroke-linejoin:round;stroke:rgb(0%,0%,0%);stroke-opacity:1;stroke-miterlimit:10;\" d=\"M 328.09375 227.894531 L 290.09375 174.589844 L 280.59375 174.589844 \"/>\n",
       "<path style=\"fill:none;stroke-width:0.75;stroke-linecap:butt;stroke-linejoin:round;stroke:rgb(0%,0%,0%);stroke-opacity:1;stroke-miterlimit:10;\" d=\"M 284.914062 271.128906 L 319.457031 229.324219 L 328.09375 229.324219 \"/>\n",
       "<path style=\"fill:none;stroke-width:0.75;stroke-linecap:butt;stroke-linejoin:round;stroke:rgb(0%,0%,0%);stroke-opacity:1;stroke-miterlimit:10;\" d=\"M 371.273438 271.128906 L 336.730469 229.324219 L 328.09375 229.324219 \"/>\n",
       "<path style=\"fill:none;stroke-width:0.75;stroke-linecap:butt;stroke-linejoin:round;stroke:rgb(0%,0%,0%);stroke-opacity:1;stroke-miterlimit:10;\" d=\"M 419.636719 118.429688 L 325.734375 65.128906 L 302.257812 65.128906 \"/>\n",
       "<path style=\"fill:none;stroke-width:0.75;stroke-linecap:butt;stroke-linejoin:round;stroke:rgb(0%,0%,0%);stroke-opacity:1;stroke-miterlimit:10;\" d=\"M 376.457031 161.667969 L 411 119.859375 L 419.636719 119.859375 \"/>\n",
       "<path style=\"fill:none;stroke-width:0.75;stroke-linecap:butt;stroke-linejoin:round;stroke:rgb(0%,0%,0%);stroke-opacity:1;stroke-miterlimit:10;\" d=\"M 462.816406 161.667969 L 428.273438 119.859375 L 419.636719 119.859375 \"/>\n",
       "<path style=\" stroke:none;fill-rule:nonzero;fill:rgb(100%,100%,100%);fill-opacity:1;\" d=\"M 261.074219 69.4375 L 261.074219 52.203125 L 343.441406 52.203125 L 343.441406 69.4375 Z \"/>\n",
       "<path style=\" stroke:none;fill-rule:nonzero;fill:rgb(100%,100%,100%);fill-opacity:1;\" d=\"M 146.542969 124.167969 L 146.542969 106.9375 L 223.210938 106.9375 L 223.210938 124.167969 Z \"/>\n",
       "<path style=\" stroke:none;fill-rule:nonzero;fill:rgb(100%,100%,100%);fill-opacity:1;\" d=\"M 46.914062 178.898438 L 46.914062 161.667969 L 131.40625 161.667969 L 131.40625 178.898438 Z \"/>\n",
       "<path style=\" stroke:none;fill-rule:nonzero;fill:rgb(100%,100%,100%);fill-opacity:1;\" d=\"M 89.121094 233.632812 L 89.121094 216.398438 L 185.15625 216.398438 L 185.15625 233.632812 Z \"/>\n",
       "<path style=\" stroke:none;fill-rule:nonzero;fill:rgb(100%,100%,100%);fill-opacity:1;\" d=\"M 149.105469 288.363281 L 149.105469 271.128906 L 221.121094 271.128906 L 221.121094 288.363281 Z \"/>\n",
       "<path style=\" stroke:none;fill-rule:nonzero;fill:rgb(100%,100%,100%);fill-opacity:1;\" d=\"M 97.671875 343.09375 L 97.671875 325.863281 L 176.691406 325.863281 L 176.691406 343.09375 Z \"/>\n",
       "<path style=\" stroke:none;fill-rule:nonzero;fill:rgb(100%,100%,100%);fill-opacity:1;\" d=\"M 46.164062 397.824219 L 46.164062 380.59375 L 133.203125 380.59375 L 133.203125 397.824219 Z \"/>\n",
       "<path style=\" stroke:none;fill-rule:nonzero;fill:rgb(100%,100%,100%);fill-opacity:1;\" d=\"M 236.242188 178.898438 L 236.242188 161.667969 L 324.945312 161.667969 L 324.945312 178.898438 Z \"/>\n",
       "<path style=\" stroke:none;fill-rule:nonzero;fill:rgb(100%,100%,100%);fill-opacity:1;\" d=\"M 282.46875 233.632812 L 282.46875 216.398438 L 373.71875 216.398438 L 373.71875 233.632812 Z \"/>\n",
       "<path style=\" stroke:none;fill-rule:nonzero;fill:rgb(100%,100%,100%);fill-opacity:1;\" d=\"M 377.785156 124.167969 L 377.785156 106.9375 L 461.484375 106.9375 L 461.484375 124.167969 Z \"/>\n",
       "<g style=\"fill:rgb(0%,0%,0%);fill-opacity:1;\">\n",
       "  <use xlink:href=\"#glyph0-1\" x=\"266.074219\" y=\"63.882812\"/>\n",
       "  <use xlink:href=\"#glyph0-2\" x=\"273.404297\" y=\"63.882812\"/>\n",
       "  <use xlink:href=\"#glyph0-3\" x=\"280.734375\" y=\"63.882812\"/>\n",
       "  <use xlink:href=\"#glyph0-4\" x=\"288.064453\" y=\"63.882812\"/>\n",
       "  <use xlink:href=\"#glyph0-5\" x=\"294.738281\" y=\"63.882812\"/>\n",
       "  <use xlink:href=\"#glyph0-6\" x=\"301.412109\" y=\"63.882812\"/>\n",
       "  <use xlink:href=\"#glyph0-7\" x=\"308.085938\" y=\"63.882812\"/>\n",
       "  <use xlink:href=\"#glyph0-8\" x=\"311.419922\" y=\"63.882812\"/>\n",
       "  <use xlink:href=\"#glyph0-7\" x=\"318.427734\" y=\"63.882812\"/>\n",
       "  <use xlink:href=\"#glyph0-9\" x=\"321.761719\" y=\"63.882812\"/>\n",
       "  <use xlink:href=\"#glyph0-10\" x=\"328.435547\" y=\"63.882812\"/>\n",
       "  <use xlink:href=\"#glyph0-11\" x=\"331.769531\" y=\"63.882812\"/>\n",
       "</g>\n",
       "<g style=\"fill:rgb(0%,0%,0%);fill-opacity:1;\">\n",
       "  <use xlink:href=\"#glyph0-12\" x=\"151.363281\" y=\"119.785156\"/>\n",
       "  <use xlink:href=\"#glyph0-13\" x=\"160.029297\" y=\"119.785156\"/>\n",
       "  <use xlink:href=\"#glyph0-14\" x=\"164.025391\" y=\"119.785156\"/>\n",
       "  <use xlink:href=\"#glyph0-15\" x=\"171.355469\" y=\"119.785156\"/>\n",
       "  <use xlink:href=\"#glyph0-16\" x=\"178.029297\" y=\"119.785156\"/>\n",
       "  <use xlink:href=\"#glyph0-17\" x=\"181.363281\" y=\"119.785156\"/>\n",
       "  <use xlink:href=\"#glyph0-7\" x=\"188.037109\" y=\"119.785156\"/>\n",
       "  <use xlink:href=\"#glyph0-8\" x=\"191.371094\" y=\"119.785156\"/>\n",
       "  <use xlink:href=\"#glyph0-7\" x=\"198.378906\" y=\"119.785156\"/>\n",
       "  <use xlink:href=\"#glyph0-9\" x=\"201.712891\" y=\"119.785156\"/>\n",
       "  <use xlink:href=\"#glyph0-10\" x=\"208.386719\" y=\"119.785156\"/>\n",
       "  <use xlink:href=\"#glyph0-11\" x=\"211.720703\" y=\"119.785156\"/>\n",
       "</g>\n",
       "<g style=\"fill:rgb(0%,0%,0%);fill-opacity:1;\">\n",
       "  <use xlink:href=\"#glyph0-12\" x=\"51.972656\" y=\"174.519531\"/>\n",
       "  <use xlink:href=\"#glyph0-5\" x=\"60.638672\" y=\"174.519531\"/>\n",
       "  <use xlink:href=\"#glyph0-18\" x=\"67.3125\" y=\"174.519531\"/>\n",
       "  <use xlink:href=\"#glyph0-19\" x=\"74.642578\" y=\"174.519531\"/>\n",
       "  <use xlink:href=\"#glyph0-20\" x=\"79.3125\" y=\"174.519531\"/>\n",
       "  <use xlink:href=\"#glyph0-16\" x=\"85.986328\" y=\"174.519531\"/>\n",
       "  <use xlink:href=\"#glyph0-20\" x=\"89.320312\" y=\"174.519531\"/>\n",
       "  <use xlink:href=\"#glyph0-7\" x=\"95.994141\" y=\"174.519531\"/>\n",
       "  <use xlink:href=\"#glyph0-8\" x=\"99.328125\" y=\"174.519531\"/>\n",
       "  <use xlink:href=\"#glyph0-7\" x=\"106.335938\" y=\"174.519531\"/>\n",
       "  <use xlink:href=\"#glyph0-9\" x=\"109.669922\" y=\"174.519531\"/>\n",
       "  <use xlink:href=\"#glyph0-10\" x=\"116.34375\" y=\"174.519531\"/>\n",
       "  <use xlink:href=\"#glyph0-11\" x=\"119.677734\" y=\"174.519531\"/>\n",
       "</g>\n",
       "<g style=\"fill:rgb(0%,0%,0%);fill-opacity:1;\">\n",
       "  <use xlink:href=\"#glyph0-12\" x=\"94.121094\" y=\"228.101562\"/>\n",
       "  <use xlink:href=\"#glyph0-2\" x=\"102.787109\" y=\"228.101562\"/>\n",
       "  <use xlink:href=\"#glyph0-19\" x=\"110.117188\" y=\"228.101562\"/>\n",
       "  <use xlink:href=\"#glyph0-6\" x=\"114.787109\" y=\"228.101562\"/>\n",
       "  <use xlink:href=\"#glyph0-21\" x=\"121.460938\" y=\"228.101562\"/>\n",
       "  <use xlink:href=\"#glyph0-16\" x=\"128.791016\" y=\"228.101562\"/>\n",
       "  <use xlink:href=\"#glyph0-17\" x=\"132.125\" y=\"228.101562\"/>\n",
       "  <use xlink:href=\"#glyph0-13\" x=\"138.798828\" y=\"228.101562\"/>\n",
       "  <use xlink:href=\"#glyph0-7\" x=\"142.794922\" y=\"228.101562\"/>\n",
       "  <use xlink:href=\"#glyph0-22\" x=\"146.128906\" y=\"228.101562\"/>\n",
       "  <use xlink:href=\"#glyph0-23\" x=\"153.136719\" y=\"228.101562\"/>\n",
       "  <use xlink:href=\"#glyph0-7\" x=\"160.144531\" y=\"228.101562\"/>\n",
       "  <use xlink:href=\"#glyph0-9\" x=\"163.478516\" y=\"228.101562\"/>\n",
       "  <use xlink:href=\"#glyph0-10\" x=\"170.152344\" y=\"228.101562\"/>\n",
       "  <use xlink:href=\"#glyph0-11\" x=\"173.486328\" y=\"228.101562\"/>\n",
       "</g>\n",
       "<g style=\"fill:rgb(0%,0%,0%);fill-opacity:1;\">\n",
       "  <use xlink:href=\"#glyph0-12\" x=\"153.925781\" y=\"282.777344\"/>\n",
       "  <use xlink:href=\"#glyph0-17\" x=\"162.591797\" y=\"282.777344\"/>\n",
       "  <use xlink:href=\"#glyph0-24\" x=\"169.265625\" y=\"282.777344\"/>\n",
       "  <use xlink:href=\"#glyph0-17\" x=\"175.939453\" y=\"282.777344\"/>\n",
       "  <use xlink:href=\"#glyph0-25\" x=\"182.613281\" y=\"282.777344\"/>\n",
       "  <use xlink:href=\"#glyph0-7\" x=\"185.947266\" y=\"282.777344\"/>\n",
       "  <use xlink:href=\"#glyph0-8\" x=\"189.28125\" y=\"282.777344\"/>\n",
       "  <use xlink:href=\"#glyph0-7\" x=\"196.289062\" y=\"282.777344\"/>\n",
       "  <use xlink:href=\"#glyph0-9\" x=\"199.623047\" y=\"282.777344\"/>\n",
       "  <use xlink:href=\"#glyph0-10\" x=\"206.296875\" y=\"282.777344\"/>\n",
       "  <use xlink:href=\"#glyph0-11\" x=\"209.630859\" y=\"282.777344\"/>\n",
       "</g>\n",
       "<g style=\"fill:rgb(0%,0%,0%);fill-opacity:1;\">\n",
       "  <use xlink:href=\"#glyph0-12\" x=\"102.671875\" y=\"338.6875\"/>\n",
       "  <use xlink:href=\"#glyph0-21\" x=\"111.337891\" y=\"338.6875\"/>\n",
       "  <use xlink:href=\"#glyph0-18\" x=\"118.667969\" y=\"338.6875\"/>\n",
       "  <use xlink:href=\"#glyph0-19\" x=\"125.998047\" y=\"338.6875\"/>\n",
       "  <use xlink:href=\"#glyph0-4\" x=\"130.667969\" y=\"338.6875\"/>\n",
       "  <use xlink:href=\"#glyph0-13\" x=\"137.341797\" y=\"338.6875\"/>\n",
       "  <use xlink:href=\"#glyph0-7\" x=\"141.337891\" y=\"338.6875\"/>\n",
       "  <use xlink:href=\"#glyph0-8\" x=\"144.671875\" y=\"338.6875\"/>\n",
       "  <use xlink:href=\"#glyph0-7\" x=\"151.679688\" y=\"338.6875\"/>\n",
       "  <use xlink:href=\"#glyph0-9\" x=\"155.013672\" y=\"338.6875\"/>\n",
       "  <use xlink:href=\"#glyph0-10\" x=\"161.6875\" y=\"338.6875\"/>\n",
       "  <use xlink:href=\"#glyph0-11\" x=\"165.021484\" y=\"338.6875\"/>\n",
       "</g>\n",
       "<g style=\"fill:rgb(0%,0%,0%);fill-opacity:1;\">\n",
       "  <use xlink:href=\"#glyph0-12\" x=\"51.160156\" y=\"393.460938\"/>\n",
       "  <use xlink:href=\"#glyph0-6\" x=\"59.826172\" y=\"393.460938\"/>\n",
       "  <use xlink:href=\"#glyph0-26\" x=\"66.5\" y=\"393.460938\"/>\n",
       "  <use xlink:href=\"#glyph0-26\" x=\"70.496094\" y=\"393.460938\"/>\n",
       "  <use xlink:href=\"#glyph0-16\" x=\"74.492188\" y=\"393.460938\"/>\n",
       "  <use xlink:href=\"#glyph0-17\" x=\"77.826172\" y=\"393.460938\"/>\n",
       "  <use xlink:href=\"#glyph0-4\" x=\"84.5\" y=\"393.460938\"/>\n",
       "  <use xlink:href=\"#glyph0-17\" x=\"91.173828\" y=\"393.460938\"/>\n",
       "  <use xlink:href=\"#glyph0-7\" x=\"97.847656\" y=\"393.460938\"/>\n",
       "  <use xlink:href=\"#glyph0-8\" x=\"101.181641\" y=\"393.460938\"/>\n",
       "  <use xlink:href=\"#glyph0-7\" x=\"108.189453\" y=\"393.460938\"/>\n",
       "  <use xlink:href=\"#glyph0-9\" x=\"111.523438\" y=\"393.460938\"/>\n",
       "  <use xlink:href=\"#glyph0-10\" x=\"118.197266\" y=\"393.460938\"/>\n",
       "  <use xlink:href=\"#glyph0-11\" x=\"121.53125\" y=\"393.460938\"/>\n",
       "</g>\n",
       "<g style=\"fill:rgb(0%,0%,0%);fill-opacity:1;\">\n",
       "  <use xlink:href=\"#glyph0-12\" x=\"241.238281\" y=\"174.496094\"/>\n",
       "  <use xlink:href=\"#glyph0-19\" x=\"249.904297\" y=\"174.496094\"/>\n",
       "  <use xlink:href=\"#glyph0-6\" x=\"254.574219\" y=\"174.496094\"/>\n",
       "  <use xlink:href=\"#glyph0-21\" x=\"261.248047\" y=\"174.496094\"/>\n",
       "  <use xlink:href=\"#glyph0-18\" x=\"268.578125\" y=\"174.496094\"/>\n",
       "  <use xlink:href=\"#glyph0-17\" x=\"275.908203\" y=\"174.496094\"/>\n",
       "  <use xlink:href=\"#glyph0-7\" x=\"282.582031\" y=\"174.496094\"/>\n",
       "  <use xlink:href=\"#glyph0-22\" x=\"285.916016\" y=\"174.496094\"/>\n",
       "  <use xlink:href=\"#glyph0-23\" x=\"292.923828\" y=\"174.496094\"/>\n",
       "  <use xlink:href=\"#glyph0-7\" x=\"299.931641\" y=\"174.496094\"/>\n",
       "  <use xlink:href=\"#glyph0-9\" x=\"303.265625\" y=\"174.496094\"/>\n",
       "  <use xlink:href=\"#glyph0-10\" x=\"309.939453\" y=\"174.496094\"/>\n",
       "  <use xlink:href=\"#glyph0-11\" x=\"313.273438\" y=\"174.496094\"/>\n",
       "</g>\n",
       "<g style=\"fill:rgb(0%,0%,0%);fill-opacity:1;\">\n",
       "  <use xlink:href=\"#glyph0-12\" x=\"287.410156\" y=\"228.03125\"/>\n",
       "  <use xlink:href=\"#glyph0-17\" x=\"296.076172\" y=\"228.03125\"/>\n",
       "  <use xlink:href=\"#glyph0-3\" x=\"302.75\" y=\"228.03125\"/>\n",
       "  <use xlink:href=\"#glyph0-4\" x=\"310.080078\" y=\"228.03125\"/>\n",
       "  <use xlink:href=\"#glyph0-27\" x=\"316.753906\" y=\"228.03125\"/>\n",
       "  <use xlink:href=\"#glyph0-28\" x=\"324.083984\" y=\"228.03125\"/>\n",
       "  <use xlink:href=\"#glyph0-7\" x=\"331.414062\" y=\"228.03125\"/>\n",
       "  <use xlink:href=\"#glyph0-22\" x=\"334.748047\" y=\"228.03125\"/>\n",
       "  <use xlink:href=\"#glyph0-23\" x=\"341.755859\" y=\"228.03125\"/>\n",
       "  <use xlink:href=\"#glyph0-7\" x=\"348.763672\" y=\"228.03125\"/>\n",
       "  <use xlink:href=\"#glyph0-9\" x=\"352.097656\" y=\"228.03125\"/>\n",
       "  <use xlink:href=\"#glyph0-10\" x=\"358.771484\" y=\"228.03125\"/>\n",
       "  <use xlink:href=\"#glyph0-11\" x=\"362.105469\" y=\"228.03125\"/>\n",
       "</g>\n",
       "<g style=\"fill:rgb(0%,0%,0%);fill-opacity:1;\">\n",
       "  <use xlink:href=\"#glyph0-1\" x=\"382.785156\" y=\"119.761719\"/>\n",
       "  <use xlink:href=\"#glyph0-29\" x=\"390.115234\" y=\"119.761719\"/>\n",
       "  <use xlink:href=\"#glyph0-19\" x=\"397.445312\" y=\"119.761719\"/>\n",
       "  <use xlink:href=\"#glyph0-6\" x=\"402.115234\" y=\"119.761719\"/>\n",
       "  <use xlink:href=\"#glyph0-4\" x=\"408.789062\" y=\"119.761719\"/>\n",
       "  <use xlink:href=\"#glyph0-5\" x=\"415.462891\" y=\"119.761719\"/>\n",
       "  <use xlink:href=\"#glyph0-13\" x=\"422.136719\" y=\"119.761719\"/>\n",
       "  <use xlink:href=\"#glyph0-7\" x=\"426.132812\" y=\"119.761719\"/>\n",
       "  <use xlink:href=\"#glyph0-8\" x=\"429.466797\" y=\"119.761719\"/>\n",
       "  <use xlink:href=\"#glyph0-7\" x=\"436.474609\" y=\"119.761719\"/>\n",
       "  <use xlink:href=\"#glyph0-9\" x=\"439.808594\" y=\"119.761719\"/>\n",
       "  <use xlink:href=\"#glyph0-10\" x=\"446.482422\" y=\"119.761719\"/>\n",
       "  <use xlink:href=\"#glyph0-11\" x=\"449.816406\" y=\"119.761719\"/>\n",
       "</g>\n",
       "<path style=\"fill-rule:nonzero;fill:rgb(100%,100%,100%);fill-opacity:1;stroke-width:0.75;stroke-linecap:round;stroke-linejoin:round;stroke:rgb(0%,0%,0%);stroke-opacity:1;stroke-miterlimit:10;\" d=\"M 32.847656 223.976562 L 33.132812 222.015625 L 33.964844 220.1875 L 35.289062 218.617188 L 37.015625 217.414062 L 39.027344 216.65625 L 41.183594 216.398438 L 43.339844 216.65625 L 45.351562 217.414062 L 47.078125 218.617188 L 48.402344 220.1875 L 49.234375 222.015625 L 49.515625 223.976562 L 49.515625 226.054688 L 49.234375 228.015625 L 48.402344 229.84375 L 47.078125 231.410156 L 45.351562 232.617188 L 43.339844 233.371094 L 41.183594 233.632812 L 39.027344 233.371094 L 37.015625 232.617188 L 35.289062 231.410156 L 33.964844 229.84375 L 33.132812 228.015625 L 32.847656 226.054688 Z \"/>\n",
       "<path style=\"fill-rule:nonzero;fill:rgb(100%,100%,100%);fill-opacity:1;stroke-width:0.75;stroke-linecap:round;stroke-linejoin:round;stroke:rgb(0%,0%,0%);stroke-opacity:1;stroke-miterlimit:10;\" d=\"M 80.832031 278.707031 L 81.117188 276.746094 L 81.949219 274.917969 L 83.273438 273.351562 L 85 272.144531 L 87.007812 271.390625 L 89.164062 271.128906 L 91.324219 271.390625 L 93.332031 272.144531 L 95.058594 273.351562 L 96.382812 274.917969 L 97.214844 276.746094 L 97.5 278.707031 L 97.5 280.785156 L 97.214844 282.746094 L 96.382812 284.574219 L 95.058594 286.144531 L 93.332031 287.347656 L 91.324219 288.105469 L 89.164062 288.363281 L 87.007812 288.105469 L 85 287.347656 L 83.273438 286.144531 L 81.949219 284.574219 L 81.117188 282.746094 L 80.832031 280.785156 Z \"/>\n",
       "<path style=\"fill-rule:nonzero;fill:rgb(100%,100%,100%);fill-opacity:1;stroke-width:0.75;stroke-linecap:round;stroke-linejoin:round;stroke:rgb(0%,0%,0%);stroke-opacity:1;stroke-miterlimit:10;\" d=\"M 38.167969 442.902344 L 38.453125 440.941406 L 39.285156 439.113281 L 40.609375 437.542969 L 42.335938 436.339844 L 44.347656 435.582031 L 46.503906 435.324219 L 48.660156 435.582031 L 50.671875 436.339844 L 52.394531 437.542969 L 53.722656 439.113281 L 54.554688 440.941406 L 54.835938 442.902344 L 54.835938 444.980469 L 54.554688 446.941406 L 53.722656 448.769531 L 52.394531 450.335938 L 50.671875 451.542969 L 48.660156 452.296875 L 46.503906 452.558594 L 44.347656 452.296875 L 42.335938 451.542969 L 40.609375 450.335938 L 39.285156 448.769531 L 38.453125 446.941406 L 38.167969 444.980469 Z \"/>\n",
       "<path style=\"fill-rule:nonzero;fill:rgb(100%,100%,100%);fill-opacity:1;stroke-width:0.75;stroke-linecap:round;stroke-linejoin:round;stroke:rgb(0%,0%,0%);stroke-opacity:1;stroke-miterlimit:10;\" d=\"M 124.53125 442.902344 L 124.816406 440.941406 L 125.648438 439.113281 L 126.972656 437.542969 L 128.699219 436.339844 L 130.707031 435.582031 L 132.863281 435.324219 L 135.023438 435.582031 L 137.03125 436.339844 L 138.757812 437.542969 L 140.082031 439.113281 L 140.914062 440.941406 L 141.199219 442.902344 L 141.199219 444.980469 L 140.914062 446.941406 L 140.082031 448.769531 L 138.757812 450.335938 L 137.03125 451.542969 L 135.023438 452.296875 L 132.863281 452.558594 L 130.707031 452.296875 L 128.699219 451.542969 L 126.972656 450.335938 L 125.648438 448.769531 L 124.816406 446.941406 L 124.53125 444.980469 Z \"/>\n",
       "<path style=\"fill-rule:nonzero;fill:rgb(100%,100%,100%);fill-opacity:1;stroke-width:0.75;stroke-linecap:round;stroke-linejoin:round;stroke:rgb(0%,0%,0%);stroke-opacity:1;stroke-miterlimit:10;\" d=\"M 176.347656 388.167969 L 176.632812 386.207031 L 177.464844 384.382812 L 178.789062 382.8125 L 180.515625 381.609375 L 182.523438 380.851562 L 184.679688 380.59375 L 186.839844 380.851562 L 188.847656 381.609375 L 190.574219 382.8125 L 191.898438 384.382812 L 192.730469 386.207031 L 193.015625 388.167969 L 193.015625 390.25 L 192.730469 392.210938 L 191.898438 394.039062 L 190.574219 395.605469 L 188.847656 396.808594 L 186.839844 397.566406 L 184.679688 397.824219 L 182.523438 397.566406 L 180.515625 396.808594 L 178.789062 395.605469 L 177.464844 394.039062 L 176.632812 392.210938 L 176.347656 390.25 Z \"/>\n",
       "<path style=\"fill-rule:nonzero;fill:rgb(100%,100%,100%);fill-opacity:1;stroke-width:0.75;stroke-linecap:round;stroke-linejoin:round;stroke:rgb(0%,0%,0%);stroke-opacity:1;stroke-miterlimit:10;\" d=\"M 224.710938 333.4375 L 224.992188 331.476562 L 225.828125 329.648438 L 227.152344 328.082031 L 228.875 326.878906 L 230.886719 326.121094 L 233.042969 325.863281 L 235.199219 326.121094 L 237.210938 326.878906 L 238.9375 328.082031 L 240.261719 329.648438 L 241.09375 331.476562 L 241.378906 333.4375 L 241.378906 335.519531 L 241.09375 337.480469 L 240.261719 339.304688 L 238.9375 340.875 L 237.210938 342.078125 L 235.199219 342.835938 L 233.042969 343.09375 L 230.886719 342.835938 L 228.875 342.078125 L 227.152344 340.875 L 225.828125 339.304688 L 224.992188 337.480469 L 224.710938 335.519531 Z \"/>\n",
       "<path style=\"fill-rule:nonzero;fill:rgb(100%,100%,100%);fill-opacity:1;stroke-width:0.75;stroke-linecap:round;stroke-linejoin:round;stroke:rgb(0%,0%,0%);stroke-opacity:1;stroke-miterlimit:10;\" d=\"M 224.761719 223.976562 L 225.046875 222.015625 L 225.878906 220.1875 L 227.203125 218.617188 L 228.929688 217.414062 L 230.9375 216.65625 L 233.09375 216.398438 L 235.253906 216.65625 L 237.261719 217.414062 L 238.988281 218.617188 L 240.3125 220.1875 L 241.144531 222.015625 L 241.429688 223.976562 L 241.429688 226.054688 L 241.144531 228.015625 L 240.3125 229.84375 L 238.988281 231.410156 L 237.261719 232.617188 L 235.253906 233.371094 L 233.09375 233.632812 L 230.9375 233.371094 L 228.929688 232.617188 L 227.203125 231.410156 L 225.878906 229.84375 L 225.046875 228.015625 L 224.761719 226.054688 Z \"/>\n",
       "<path style=\"fill-rule:nonzero;fill:rgb(100%,100%,100%);fill-opacity:1;stroke-width:0.75;stroke-linecap:round;stroke-linejoin:round;stroke:rgb(0%,0%,0%);stroke-opacity:1;stroke-miterlimit:10;\" d=\"M 276.578125 278.707031 L 276.863281 276.746094 L 277.695312 274.917969 L 279.019531 273.351562 L 280.746094 272.144531 L 282.753906 271.390625 L 284.914062 271.128906 L 287.070312 271.390625 L 289.078125 272.144531 L 290.804688 273.351562 L 292.128906 274.917969 L 292.960938 276.746094 L 293.246094 278.707031 L 293.246094 280.785156 L 292.960938 282.746094 L 292.128906 284.574219 L 290.804688 286.144531 L 289.078125 287.347656 L 287.070312 288.105469 L 284.914062 288.363281 L 282.753906 288.105469 L 280.746094 287.347656 L 279.019531 286.144531 L 277.695312 284.574219 L 276.863281 282.746094 L 276.578125 280.785156 Z \"/>\n",
       "<path style=\"fill-rule:nonzero;fill:rgb(100%,100%,100%);fill-opacity:1;stroke-width:0.75;stroke-linecap:round;stroke-linejoin:round;stroke:rgb(0%,0%,0%);stroke-opacity:1;stroke-miterlimit:10;\" d=\"M 362.941406 278.707031 L 363.222656 276.746094 L 364.054688 274.917969 L 365.378906 273.351562 L 367.105469 272.144531 L 369.117188 271.390625 L 371.273438 271.128906 L 373.429688 271.390625 L 375.441406 272.144531 L 377.167969 273.351562 L 378.492188 274.917969 L 379.324219 276.746094 L 379.609375 278.707031 L 379.609375 280.785156 L 379.324219 282.746094 L 378.492188 284.574219 L 377.167969 286.144531 L 375.441406 287.347656 L 373.429688 288.105469 L 371.273438 288.363281 L 369.117188 288.105469 L 367.105469 287.347656 L 365.378906 286.144531 L 364.054688 284.574219 L 363.222656 282.746094 L 362.941406 280.785156 Z \"/>\n",
       "<path style=\"fill-rule:nonzero;fill:rgb(100%,100%,100%);fill-opacity:1;stroke-width:0.75;stroke-linecap:round;stroke-linejoin:round;stroke:rgb(0%,0%,0%);stroke-opacity:1;stroke-miterlimit:10;\" d=\"M 368.121094 169.242188 L 368.40625 167.28125 L 369.238281 165.457031 L 370.5625 163.886719 L 372.289062 162.683594 L 374.296875 161.925781 L 376.457031 161.667969 L 378.613281 161.925781 L 380.621094 162.683594 L 382.347656 163.886719 L 383.671875 165.457031 L 384.503906 167.28125 L 384.789062 169.242188 L 384.789062 171.324219 L 384.503906 173.285156 L 383.671875 175.113281 L 382.347656 176.679688 L 380.621094 177.882812 L 378.613281 178.640625 L 376.457031 178.898438 L 374.296875 178.640625 L 372.289062 177.882812 L 370.5625 176.679688 L 369.238281 175.113281 L 368.40625 173.285156 L 368.121094 171.324219 Z \"/>\n",
       "<path style=\"fill-rule:nonzero;fill:rgb(100%,100%,100%);fill-opacity:1;stroke-width:0.75;stroke-linecap:round;stroke-linejoin:round;stroke:rgb(0%,0%,0%);stroke-opacity:1;stroke-miterlimit:10;\" d=\"M 454.484375 169.242188 L 454.765625 167.28125 L 455.597656 165.457031 L 456.921875 163.886719 L 458.648438 162.683594 L 460.660156 161.925781 L 462.816406 161.667969 L 464.972656 161.925781 L 466.984375 162.683594 L 468.710938 163.886719 L 470.035156 165.457031 L 470.867188 167.28125 L 471.152344 169.242188 L 471.152344 171.324219 L 470.867188 173.285156 L 470.035156 175.113281 L 468.710938 176.679688 L 466.984375 177.882812 L 464.972656 178.640625 L 462.816406 178.898438 L 460.660156 178.640625 L 458.648438 177.882812 L 456.921875 176.679688 L 455.597656 175.113281 L 454.765625 173.285156 L 454.484375 171.324219 Z \"/>\n",
       "<g style=\"fill:rgb(0%,0%,0%);fill-opacity:1;\">\n",
       "  <use xlink:href=\"#glyph1-1\" x=\"37.847656\" y=\"229.09375\"/>\n",
       "</g>\n",
       "<g style=\"fill:rgb(0%,0%,0%);fill-opacity:1;\">\n",
       "  <use xlink:href=\"#glyph1-1\" x=\"85.828125\" y=\"283.824219\"/>\n",
       "</g>\n",
       "<g style=\"fill:rgb(0%,0%,0%);fill-opacity:1;\">\n",
       "  <use xlink:href=\"#glyph1-1\" x=\"43.167969\" y=\"448.019531\"/>\n",
       "</g>\n",
       "<g style=\"fill:rgb(0%,0%,0%);fill-opacity:1;\">\n",
       "  <use xlink:href=\"#glyph1-2\" x=\"129.527344\" y=\"448.121094\"/>\n",
       "</g>\n",
       "<g style=\"fill:rgb(0%,0%,0%);fill-opacity:1;\">\n",
       "  <use xlink:href=\"#glyph1-2\" x=\"181.34375\" y=\"393.390625\"/>\n",
       "</g>\n",
       "<g style=\"fill:rgb(0%,0%,0%);fill-opacity:1;\">\n",
       "  <use xlink:href=\"#glyph1-2\" x=\"229.707031\" y=\"338.65625\"/>\n",
       "</g>\n",
       "<g style=\"fill:rgb(0%,0%,0%);fill-opacity:1;\">\n",
       "  <use xlink:href=\"#glyph1-1\" x=\"229.757812\" y=\"229.09375\"/>\n",
       "</g>\n",
       "<g style=\"fill:rgb(0%,0%,0%);fill-opacity:1;\">\n",
       "  <use xlink:href=\"#glyph1-1\" x=\"281.578125\" y=\"283.824219\"/>\n",
       "</g>\n",
       "<g style=\"fill:rgb(0%,0%,0%);fill-opacity:1;\">\n",
       "  <use xlink:href=\"#glyph1-2\" x=\"367.9375\" y=\"283.925781\"/>\n",
       "</g>\n",
       "<g style=\"fill:rgb(0%,0%,0%);fill-opacity:1;\">\n",
       "  <use xlink:href=\"#glyph1-1\" x=\"373.121094\" y=\"174.363281\"/>\n",
       "</g>\n",
       "<g style=\"fill:rgb(0%,0%,0%);fill-opacity:1;\">\n",
       "  <use xlink:href=\"#glyph1-2\" x=\"459.480469\" y=\"174.464844\"/>\n",
       "</g>\n",
       "<path style=\"fill-rule:nonzero;fill:rgb(100%,100%,100%);fill-opacity:1;stroke-width:0.75;stroke-linecap:round;stroke-linejoin:round;stroke:rgb(0%,0%,0%);stroke-opacity:1;stroke-miterlimit:10;\" d=\"M 233.425781 60.28125 L 233.480469 59.863281 L 233.640625 59.472656 L 233.898438 59.140625 L 234.234375 58.882812 L 234.621094 58.722656 L 235.039062 58.667969 L 254.847656 58.667969 L 255.265625 58.722656 L 255.65625 58.882812 L 255.992188 59.140625 L 256.25 59.472656 L 256.410156 59.863281 L 256.464844 60.28125 L 256.464844 69.976562 L 256.410156 70.394531 L 256.25 70.78125 L 255.992188 71.117188 L 255.65625 71.375 L 255.265625 71.535156 L 254.847656 71.589844 L 235.039062 71.589844 L 234.621094 71.535156 L 234.234375 71.375 L 233.898438 71.117188 L 233.640625 70.78125 L 233.480469 70.394531 L 233.425781 69.976562 Z \"/>\n",
       "<path style=\"fill-rule:nonzero;fill:rgb(100%,100%,100%);fill-opacity:1;stroke-width:0.75;stroke-linecap:round;stroke-linejoin:round;stroke:rgb(0%,0%,0%);stroke-opacity:1;stroke-miterlimit:10;\" d=\"M 348.050781 60.28125 L 348.105469 59.863281 L 348.265625 59.472656 L 348.523438 59.140625 L 348.855469 58.882812 L 349.246094 58.722656 L 349.664062 58.667969 L 369.472656 58.667969 L 369.890625 58.722656 L 370.28125 58.882812 L 370.617188 59.140625 L 370.871094 59.472656 L 371.035156 59.863281 L 371.089844 60.28125 L 371.089844 69.976562 L 371.035156 70.394531 L 370.871094 70.78125 L 370.617188 71.117188 L 370.28125 71.375 L 369.890625 71.535156 L 369.472656 71.589844 L 349.664062 71.589844 L 349.246094 71.535156 L 348.855469 71.375 L 348.523438 71.117188 L 348.265625 70.78125 L 348.105469 70.394531 L 348.050781 69.976562 Z \"/>\n",
       "<g style=\"fill:rgb(0%,0%,0%);fill-opacity:1;\">\n",
       "  <use xlink:href=\"#glyph2-1\" x=\"237.480469\" y=\"67.746094\"/>\n",
       "  <use xlink:href=\"#glyph2-2\" x=\"242.277344\" y=\"67.746094\"/>\n",
       "  <use xlink:href=\"#glyph2-3\" x=\"247.61293\" y=\"67.746094\"/>\n",
       "</g>\n",
       "<g style=\"fill:rgb(0%,0%,0%);fill-opacity:1;\">\n",
       "  <use xlink:href=\"#glyph2-4\" x=\"354.234375\" y=\"67.613281\"/>\n",
       "  <use xlink:href=\"#glyph2-5\" x=\"359.569962\" y=\"67.613281\"/>\n",
       "</g>\n",
       "</g>\n",
       "</svg>\n"
      ],
      "text/plain": [
       "plot without title"
      ]
     },
     "metadata": {
      "image/svg+xml": {
       "isolated": true
      }
     },
     "output_type": "display_data"
    }
   ],
   "source": [
    "prp(dtmCART)"
   ]
  },
  {
   "cell_type": "code",
   "execution_count": 151,
   "metadata": {
    "collapsed": false
   },
   "outputs": [
    {
     "data": {
      "text/plain": [
       "   Min. 1st Qu.  Median    Mean 3rd Qu.    Max. \n",
       "0.05455 0.13640 0.28750 0.43930 0.78230 0.87190 "
      ]
     },
     "execution_count": 151,
     "metadata": {},
     "output_type": "execute_result"
    }
   ],
   "source": [
    "predT = predict(dtmCART, newdata = train)\n",
    "\n",
    "summary(predT[,2])"
   ]
  },
  {
   "cell_type": "code",
   "execution_count": null,
   "metadata": {
    "collapsed": false
   },
   "outputs": [],
   "source": []
  },
  {
   "cell_type": "code",
   "execution_count": 152,
   "metadata": {
    "collapsed": false
   },
   "outputs": [
    {
     "data": {
      "text/plain": [
       "   \n",
       "    FALSE TRUE\n",
       "  0   631   99\n",
       "  1   131  441"
      ]
     },
     "execution_count": 152,
     "metadata": {},
     "output_type": "execute_result"
    }
   ],
   "source": [
    "table(train$trial, predT[,2] > 0.5)"
   ]
  },
  {
   "cell_type": "code",
   "execution_count": 154,
   "metadata": {
    "collapsed": false
   },
   "outputs": [
    {
     "data": {
      "text/html": [
       "0.823348694316436"
      ],
      "text/latex": [
       "0.823348694316436"
      ],
      "text/markdown": [
       "0.823348694316436"
      ],
      "text/plain": [
       "[1] 0.8233487"
      ]
     },
     "execution_count": 154,
     "metadata": {},
     "output_type": "execute_result"
    }
   ],
   "source": [
    "t = table(train$trial, predT[,2] > 0.5)\n",
    "sum(diag(t))/sum(t)"
   ]
  },
  {
   "cell_type": "code",
   "execution_count": 155,
   "metadata": {
    "collapsed": false
   },
   "outputs": [
    {
     "data": {
      "text/html": [
       "0.770979020979021"
      ],
      "text/latex": [
       "0.770979020979021"
      ],
      "text/markdown": [
       "0.770979020979021"
      ],
      "text/plain": [
       "[1] 0.770979"
      ]
     },
     "execution_count": 155,
     "metadata": {},
     "output_type": "execute_result"
    }
   ],
   "source": [
    "# sensitivity or true positive rate (TPR)\n",
    "# TP/(TP+FN)\n",
    "441/(441+131)"
   ]
  },
  {
   "cell_type": "code",
   "execution_count": 156,
   "metadata": {
    "collapsed": false
   },
   "outputs": [
    {
     "data": {
      "text/html": [
       "0.864383561643836"
      ],
      "text/latex": [
       "0.864383561643836"
      ],
      "text/markdown": [
       "0.864383561643836"
      ],
      "text/plain": [
       "[1] 0.8643836"
      ]
     },
     "execution_count": 156,
     "metadata": {},
     "output_type": "execute_result"
    }
   ],
   "source": [
    "# specificity (SPC) or true negative rate\n",
    "# TN/(TN+FP)\n",
    "631/(631+99)"
   ]
  },
  {
   "cell_type": "code",
   "execution_count": 160,
   "metadata": {
    "collapsed": false
   },
   "outputs": [],
   "source": [
    "library(ROCR)\n",
    "pred = predict(dtmCART, newdata = test)\n",
    "predROCR = prediction(pred[,2], test$trial)"
   ]
  },
  {
   "cell_type": "code",
   "execution_count": 162,
   "metadata": {
    "collapsed": false
   },
   "outputs": [
    {
     "data": {
      "text/html": [
       "<ol>\n",
       "\t<li>0.837106344135098</li>\n",
       "</ol>\n"
      ],
      "text/latex": [
       "\\begin{enumerate}\n",
       "\\item 0.837106344135098\n",
       "\\end{enumerate}\n"
      ],
      "text/markdown": [
       "1. 0.837106344135098\n",
       "\n",
       "\n"
      ],
      "text/plain": [
       "[[1]]\n",
       "[1] 0.8371063\n"
      ]
     },
     "execution_count": 162,
     "metadata": {},
     "output_type": "execute_result"
    },
    {
     "data": {
      "image/png": "[encoded data removed]",
      "image/svg+xml": [
       "<?xml version=\"1.0\" encoding=\"UTF-8\"?>\n",
       "<svg xmlns=\"http://www.w3.org/2000/svg\" xmlns:xlink=\"http://www.w3.org/1999/xlink\" width=\"504pt\" height=\"504pt\" viewBox=\"0 0 504 504\" version=\"1.1\">\n",
       "<defs>\n",
       "<g>\n",
       "<symbol overflow=\"visible\" id=\"glyph0-0\">\n",
       "<path style=\"stroke:none;\" d=\"M 0.390625 0 L 0.390625 -8.609375 L 7.21875 -8.609375 L 7.21875 0 Z M 6.140625 -1.078125 L 6.140625 -7.53125 L 1.46875 -7.53125 L 1.46875 -1.078125 Z \"/>\n",
       "</symbol>\n",
       "<symbol overflow=\"visible\" id=\"glyph0-1\">\n",
       "<path style=\"stroke:none;\" d=\"M 1.03125 -8.609375 L 7 -8.609375 L 7 -7.546875 L 2.1875 -7.546875 L 2.1875 -4.9375 L 6.421875 -4.9375 L 6.421875 -3.921875 L 2.1875 -3.921875 L 2.1875 0 L 1.03125 0 Z \"/>\n",
       "</symbol>\n",
       "<symbol overflow=\"visible\" id=\"glyph0-2\">\n",
       "<path style=\"stroke:none;\" d=\"M 1.578125 -1.671875 C 1.578125 -1.367188 1.6875 -1.128906 1.90625 -0.953125 C 2.132812 -0.773438 2.398438 -0.6875 2.703125 -0.6875 C 3.078125 -0.6875 3.4375 -0.769531 3.78125 -0.9375 C 4.375 -1.226562 4.671875 -1.695312 4.671875 -2.34375 L 4.671875 -3.1875 C 4.535156 -3.113281 4.363281 -3.046875 4.15625 -2.984375 C 3.957031 -2.929688 3.757812 -2.894531 3.5625 -2.875 L 2.9375 -2.796875 C 2.550781 -2.742188 2.257812 -2.660156 2.0625 -2.546875 C 1.738281 -2.367188 1.578125 -2.078125 1.578125 -1.671875 Z M 4.140625 -3.796875 C 4.378906 -3.828125 4.539062 -3.929688 4.625 -4.109375 C 4.664062 -4.203125 4.6875 -4.335938 4.6875 -4.515625 C 4.6875 -4.867188 4.554688 -5.125 4.296875 -5.28125 C 4.046875 -5.445312 3.6875 -5.53125 3.21875 -5.53125 C 2.664062 -5.53125 2.273438 -5.382812 2.046875 -5.09375 C 1.910156 -4.925781 1.820312 -4.679688 1.78125 -4.359375 L 0.796875 -4.359375 C 0.816406 -5.128906 1.066406 -5.664062 1.546875 -5.96875 C 2.035156 -6.269531 2.597656 -6.421875 3.234375 -6.421875 C 3.972656 -6.421875 4.570312 -6.28125 5.03125 -6 C 5.488281 -5.71875 5.71875 -5.28125 5.71875 -4.6875 L 5.71875 -1.078125 C 5.71875 -0.972656 5.738281 -0.882812 5.78125 -0.8125 C 5.832031 -0.75 5.929688 -0.71875 6.078125 -0.71875 C 6.117188 -0.71875 6.164062 -0.71875 6.21875 -0.71875 C 6.28125 -0.726562 6.347656 -0.738281 6.421875 -0.75 L 6.421875 0.03125 C 6.253906 0.0703125 6.125 0.0976562 6.03125 0.109375 C 5.945312 0.128906 5.832031 0.140625 5.6875 0.140625 C 5.320312 0.140625 5.0625 0.0078125 4.90625 -0.25 C 4.8125 -0.382812 4.75 -0.578125 4.71875 -0.828125 C 4.5 -0.546875 4.1875 -0.300781 3.78125 -0.09375 C 3.382812 0.113281 2.945312 0.21875 2.46875 0.21875 C 1.882812 0.21875 1.40625 0.0390625 1.03125 -0.3125 C 0.664062 -0.664062 0.484375 -1.109375 0.484375 -1.640625 C 0.484375 -2.222656 0.664062 -2.675781 1.03125 -3 C 1.394531 -3.320312 1.867188 -3.519531 2.453125 -3.59375 Z M 3.265625 -6.421875 Z \"/>\n",
       "</symbol>\n",
       "<symbol overflow=\"visible\" id=\"glyph0-3\">\n",
       "<path style=\"stroke:none;\" d=\"M 0.796875 -8.609375 L 1.859375 -8.609375 L 1.859375 0 L 0.796875 0 Z \"/>\n",
       "</symbol>\n",
       "<symbol overflow=\"visible\" id=\"glyph0-4\">\n",
       "<path style=\"stroke:none;\" d=\"M 1.40625 -1.96875 C 1.4375 -1.613281 1.523438 -1.34375 1.671875 -1.15625 C 1.929688 -0.820312 2.390625 -0.65625 3.046875 -0.65625 C 3.441406 -0.65625 3.785156 -0.738281 4.078125 -0.90625 C 4.378906 -1.070312 4.53125 -1.332031 4.53125 -1.6875 C 4.53125 -1.957031 4.410156 -2.164062 4.171875 -2.3125 C 4.015625 -2.394531 3.710938 -2.492188 3.265625 -2.609375 L 2.421875 -2.8125 C 1.890625 -2.945312 1.5 -3.097656 1.25 -3.265625 C 0.789062 -3.546875 0.5625 -3.941406 0.5625 -4.453125 C 0.5625 -5.046875 0.773438 -5.523438 1.203125 -5.890625 C 1.628906 -6.253906 2.207031 -6.4375 2.9375 -6.4375 C 3.875 -6.4375 4.550781 -6.160156 4.96875 -5.609375 C 5.238281 -5.253906 5.367188 -4.875 5.359375 -4.46875 L 4.359375 -4.46875 C 4.335938 -4.707031 4.253906 -4.925781 4.109375 -5.125 C 3.867188 -5.394531 3.445312 -5.53125 2.84375 -5.53125 C 2.445312 -5.53125 2.144531 -5.453125 1.9375 -5.296875 C 1.738281 -5.148438 1.640625 -4.953125 1.640625 -4.703125 C 1.640625 -4.429688 1.773438 -4.210938 2.046875 -4.046875 C 2.203125 -3.953125 2.429688 -3.867188 2.734375 -3.796875 L 3.421875 -3.625 C 4.179688 -3.4375 4.691406 -3.257812 4.953125 -3.09375 C 5.359375 -2.820312 5.5625 -2.394531 5.5625 -1.8125 C 5.5625 -1.257812 5.347656 -0.78125 4.921875 -0.375 C 4.503906 0.03125 3.863281 0.234375 3 0.234375 C 2.0625 0.234375 1.394531 0.0234375 1 -0.390625 C 0.613281 -0.816406 0.410156 -1.34375 0.390625 -1.96875 Z M 2.953125 -6.421875 Z \"/>\n",
       "</symbol>\n",
       "<symbol overflow=\"visible\" id=\"glyph0-5\">\n",
       "<path style=\"stroke:none;\" d=\"M 3.390625 -6.421875 C 3.835938 -6.421875 4.269531 -6.316406 4.6875 -6.109375 C 5.101562 -5.898438 5.421875 -5.628906 5.640625 -5.296875 C 5.847656 -4.972656 5.988281 -4.601562 6.0625 -4.1875 C 6.125 -3.894531 6.15625 -3.429688 6.15625 -2.796875 L 1.546875 -2.796875 C 1.566406 -2.160156 1.71875 -1.648438 2 -1.265625 C 2.28125 -0.878906 2.71875 -0.6875 3.3125 -0.6875 C 3.863281 -0.6875 4.300781 -0.867188 4.625 -1.234375 C 4.8125 -1.441406 4.945312 -1.6875 5.03125 -1.96875 L 6.0625 -1.96875 C 6.039062 -1.738281 5.953125 -1.484375 5.796875 -1.203125 C 5.640625 -0.921875 5.46875 -0.6875 5.28125 -0.5 C 4.957031 -0.1875 4.554688 0.0195312 4.078125 0.125 C 3.828125 0.1875 3.539062 0.21875 3.21875 0.21875 C 2.4375 0.21875 1.773438 -0.0625 1.234375 -0.625 C 0.691406 -1.195312 0.421875 -1.992188 0.421875 -3.015625 C 0.421875 -4.023438 0.691406 -4.84375 1.234375 -5.46875 C 1.785156 -6.101562 2.503906 -6.421875 3.390625 -6.421875 Z M 5.0625 -3.640625 C 5.019531 -4.097656 4.921875 -4.460938 4.765625 -4.734375 C 4.484375 -5.242188 4.003906 -5.5 3.328125 -5.5 C 2.835938 -5.5 2.425781 -5.320312 2.09375 -4.96875 C 1.769531 -4.625 1.597656 -4.179688 1.578125 -3.640625 Z M 3.28125 -6.421875 Z \"/>\n",
       "</symbol>\n",
       "<symbol overflow=\"visible\" id=\"glyph0-6\">\n",
       "<path style=\"stroke:none;\" d=\"\"/>\n",
       "</symbol>\n",
       "<symbol overflow=\"visible\" id=\"glyph0-7\">\n",
       "<path style=\"stroke:none;\" d=\"M 3.421875 -0.703125 C 3.910156 -0.703125 4.316406 -0.910156 4.640625 -1.328125 C 4.972656 -1.742188 5.140625 -2.359375 5.140625 -3.171875 C 5.140625 -3.671875 5.066406 -4.101562 4.921875 -4.46875 C 4.648438 -5.15625 4.148438 -5.5 3.421875 -5.5 C 2.691406 -5.5 2.191406 -5.132812 1.921875 -4.40625 C 1.773438 -4.019531 1.703125 -3.523438 1.703125 -2.921875 C 1.703125 -2.429688 1.773438 -2.019531 1.921875 -1.6875 C 2.191406 -1.03125 2.691406 -0.703125 3.421875 -0.703125 Z M 0.6875 -6.25 L 1.71875 -6.25 L 1.71875 -5.421875 C 1.925781 -5.703125 2.15625 -5.921875 2.40625 -6.078125 C 2.757812 -6.304688 3.175781 -6.421875 3.65625 -6.421875 C 4.375 -6.421875 4.976562 -6.148438 5.46875 -5.609375 C 5.96875 -5.066406 6.21875 -4.289062 6.21875 -3.28125 C 6.21875 -1.90625 5.859375 -0.925781 5.140625 -0.34375 C 4.691406 0.03125 4.164062 0.21875 3.5625 0.21875 C 3.09375 0.21875 2.695312 0.113281 2.375 -0.09375 C 2.1875 -0.21875 1.976562 -0.421875 1.75 -0.703125 L 1.75 2.5 L 0.6875 2.5 Z \"/>\n",
       "</symbol>\n",
       "<symbol overflow=\"visible\" id=\"glyph0-8\">\n",
       "<path style=\"stroke:none;\" d=\"M 3.265625 -0.6875 C 3.960938 -0.6875 4.441406 -0.945312 4.703125 -1.46875 C 4.960938 -2 5.09375 -2.585938 5.09375 -3.234375 C 5.09375 -3.828125 5 -4.304688 4.8125 -4.671875 C 4.507812 -5.242188 4 -5.53125 3.28125 -5.53125 C 2.632812 -5.53125 2.164062 -5.285156 1.875 -4.796875 C 1.582031 -4.304688 1.4375 -3.710938 1.4375 -3.015625 C 1.4375 -2.347656 1.582031 -1.789062 1.875 -1.34375 C 2.164062 -0.90625 2.628906 -0.6875 3.265625 -0.6875 Z M 3.3125 -6.453125 C 4.113281 -6.453125 4.789062 -6.179688 5.34375 -5.640625 C 5.90625 -5.109375 6.1875 -4.316406 6.1875 -3.265625 C 6.1875 -2.253906 5.941406 -1.414062 5.453125 -0.75 C 4.960938 -0.09375 4.203125 0.234375 3.171875 0.234375 C 2.304688 0.234375 1.617188 -0.0546875 1.109375 -0.640625 C 0.597656 -1.234375 0.34375 -2.019531 0.34375 -3 C 0.34375 -4.050781 0.609375 -4.890625 1.140625 -5.515625 C 1.679688 -6.140625 2.40625 -6.453125 3.3125 -6.453125 Z M 3.265625 -6.421875 Z \"/>\n",
       "</symbol>\n",
       "<symbol overflow=\"visible\" id=\"glyph0-9\">\n",
       "<path style=\"stroke:none;\" d=\"M 0.78125 -6.25 L 1.84375 -6.25 L 1.84375 0 L 0.78125 0 Z M 0.78125 -8.609375 L 1.84375 -8.609375 L 1.84375 -7.40625 L 0.78125 -7.40625 Z \"/>\n",
       "</symbol>\n",
       "<symbol overflow=\"visible\" id=\"glyph0-10\">\n",
       "<path style=\"stroke:none;\" d=\"M 0.984375 -8.03125 L 2.046875 -8.03125 L 2.046875 -6.28125 L 3.046875 -6.28125 L 3.046875 -5.421875 L 2.046875 -5.421875 L 2.046875 -1.3125 C 2.046875 -1.09375 2.125 -0.945312 2.28125 -0.875 C 2.351562 -0.832031 2.488281 -0.8125 2.6875 -0.8125 C 2.738281 -0.8125 2.789062 -0.8125 2.84375 -0.8125 C 2.90625 -0.820312 2.972656 -0.828125 3.046875 -0.828125 L 3.046875 0 C 2.929688 0.03125 2.804688 0.0507812 2.671875 0.0625 C 2.546875 0.0820312 2.40625 0.09375 2.25 0.09375 C 1.757812 0.09375 1.425781 -0.03125 1.25 -0.28125 C 1.070312 -0.53125 0.984375 -0.859375 0.984375 -1.265625 L 0.984375 -5.421875 L 0.140625 -5.421875 L 0.140625 -6.28125 L 0.984375 -6.28125 Z \"/>\n",
       "</symbol>\n",
       "<symbol overflow=\"visible\" id=\"glyph0-11\">\n",
       "<path style=\"stroke:none;\" d=\"M 1.296875 -6.28125 L 2.96875 -1.171875 L 4.71875 -6.28125 L 5.875 -6.28125 L 3.5 0 L 2.375 0 L 0.0625 -6.28125 Z \"/>\n",
       "</symbol>\n",
       "<symbol overflow=\"visible\" id=\"glyph0-12\">\n",
       "<path style=\"stroke:none;\" d=\"M 0.796875 -6.28125 L 1.8125 -6.28125 L 1.8125 -5.1875 C 1.882812 -5.40625 2.082031 -5.664062 2.40625 -5.96875 C 2.726562 -6.269531 3.097656 -6.421875 3.515625 -6.421875 C 3.535156 -6.421875 3.566406 -6.414062 3.609375 -6.40625 C 3.660156 -6.40625 3.742188 -6.398438 3.859375 -6.390625 L 3.859375 -5.28125 C 3.796875 -5.289062 3.738281 -5.296875 3.6875 -5.296875 C 3.632812 -5.296875 3.578125 -5.296875 3.515625 -5.296875 C 2.984375 -5.296875 2.570312 -5.125 2.28125 -4.78125 C 2 -4.445312 1.859375 -4.054688 1.859375 -3.609375 L 1.859375 0 L 0.796875 0 Z \"/>\n",
       "</symbol>\n",
       "<symbol overflow=\"visible\" id=\"glyph0-13\">\n",
       "<path style=\"stroke:none;\" d=\"M 3.25 -8.390625 C 4.332031 -8.390625 5.117188 -7.941406 5.609375 -7.046875 C 5.984375 -6.359375 6.171875 -5.410156 6.171875 -4.203125 C 6.171875 -3.066406 6 -2.125 5.65625 -1.375 C 5.164062 -0.300781 4.359375 0.234375 3.234375 0.234375 C 2.234375 0.234375 1.484375 -0.203125 0.984375 -1.078125 C 0.578125 -1.816406 0.375 -2.800781 0.375 -4.03125 C 0.375 -4.976562 0.5 -5.796875 0.75 -6.484375 C 1.207031 -7.753906 2.039062 -8.390625 3.25 -8.390625 Z M 3.234375 -0.734375 C 3.785156 -0.734375 4.222656 -0.972656 4.546875 -1.453125 C 4.867188 -1.941406 5.03125 -2.847656 5.03125 -4.171875 C 5.03125 -5.117188 4.910156 -5.898438 4.671875 -6.515625 C 4.441406 -7.128906 3.988281 -7.4375 3.3125 -7.4375 C 2.6875 -7.4375 2.226562 -7.144531 1.9375 -6.5625 C 1.65625 -5.976562 1.515625 -5.117188 1.515625 -3.984375 C 1.515625 -3.128906 1.609375 -2.441406 1.796875 -1.921875 C 2.078125 -1.128906 2.554688 -0.734375 3.234375 -0.734375 Z \"/>\n",
       "</symbol>\n",
       "<symbol overflow=\"visible\" id=\"glyph0-14\">\n",
       "<path style=\"stroke:none;\" d=\"M 1.03125 -1.28125 L 2.25 -1.28125 L 2.25 0 L 1.03125 0 Z \"/>\n",
       "</symbol>\n",
       "<symbol overflow=\"visible\" id=\"glyph0-15\">\n",
       "<path style=\"stroke:none;\" d=\"M 0.375 0 C 0.414062 -0.71875 0.566406 -1.34375 0.828125 -1.875 C 1.085938 -2.414062 1.59375 -2.90625 2.34375 -3.34375 L 3.46875 -4 C 3.96875 -4.289062 4.320312 -4.539062 4.53125 -4.75 C 4.851562 -5.070312 5.015625 -5.441406 5.015625 -5.859375 C 5.015625 -6.347656 4.863281 -6.734375 4.5625 -7.015625 C 4.269531 -7.304688 3.882812 -7.453125 3.40625 -7.453125 C 2.675781 -7.453125 2.175781 -7.179688 1.90625 -6.640625 C 1.75 -6.335938 1.664062 -5.929688 1.65625 -5.421875 L 0.578125 -5.421875 C 0.585938 -6.148438 0.722656 -6.742188 0.984375 -7.203125 C 1.441406 -8.015625 2.25 -8.421875 3.40625 -8.421875 C 4.363281 -8.421875 5.0625 -8.160156 5.5 -7.640625 C 5.945312 -7.117188 6.171875 -6.539062 6.171875 -5.90625 C 6.171875 -5.238281 5.9375 -4.664062 5.46875 -4.1875 C 5.195312 -3.90625 4.707031 -3.566406 4 -3.171875 L 3.1875 -2.734375 C 2.8125 -2.523438 2.515625 -2.320312 2.296875 -2.125 C 1.898438 -1.789062 1.648438 -1.414062 1.546875 -1 L 6.140625 -1 L 6.140625 0 Z \"/>\n",
       "</symbol>\n",
       "<symbol overflow=\"visible\" id=\"glyph0-16\">\n",
       "<path style=\"stroke:none;\" d=\"M 3.96875 -2.96875 L 3.96875 -6.78125 L 1.28125 -2.96875 Z M 3.984375 0 L 3.984375 -2.046875 L 0.3125 -2.046875 L 0.3125 -3.078125 L 4.15625 -8.421875 L 5.046875 -8.421875 L 5.046875 -2.96875 L 6.28125 -2.96875 L 6.28125 -2.046875 L 5.046875 -2.046875 L 5.046875 0 Z \"/>\n",
       "</symbol>\n",
       "<symbol overflow=\"visible\" id=\"glyph0-17\">\n",
       "<path style=\"stroke:none;\" d=\"M 3.515625 -8.421875 C 4.453125 -8.421875 5.101562 -8.175781 5.46875 -7.6875 C 5.84375 -7.207031 6.03125 -6.707031 6.03125 -6.1875 L 4.984375 -6.1875 C 4.921875 -6.519531 4.820312 -6.78125 4.6875 -6.96875 C 4.425781 -7.320312 4.039062 -7.5 3.53125 -7.5 C 2.9375 -7.5 2.460938 -7.222656 2.109375 -6.671875 C 1.765625 -6.128906 1.578125 -5.351562 1.546875 -4.34375 C 1.785156 -4.695312 2.085938 -4.960938 2.453125 -5.140625 C 2.785156 -5.296875 3.160156 -5.375 3.578125 -5.375 C 4.285156 -5.375 4.898438 -5.148438 5.421875 -4.703125 C 5.941406 -4.253906 6.203125 -3.582031 6.203125 -2.6875 C 6.203125 -1.925781 5.953125 -1.25 5.453125 -0.65625 C 4.960938 -0.0703125 4.257812 0.21875 3.34375 0.21875 C 2.550781 0.21875 1.867188 -0.078125 1.296875 -0.671875 C 0.734375 -1.273438 0.453125 -2.28125 0.453125 -3.6875 C 0.453125 -4.726562 0.578125 -5.613281 0.828125 -6.34375 C 1.316406 -7.726562 2.210938 -8.421875 3.515625 -8.421875 Z M 3.4375 -0.71875 C 3.988281 -0.71875 4.398438 -0.90625 4.671875 -1.28125 C 4.953125 -1.65625 5.09375 -2.097656 5.09375 -2.609375 C 5.09375 -3.035156 4.96875 -3.441406 4.71875 -3.828125 C 4.476562 -4.210938 4.03125 -4.40625 3.375 -4.40625 C 2.925781 -4.40625 2.53125 -4.253906 2.1875 -3.953125 C 1.84375 -3.660156 1.671875 -3.210938 1.671875 -2.609375 C 1.671875 -2.078125 1.828125 -1.628906 2.140625 -1.265625 C 2.453125 -0.898438 2.882812 -0.71875 3.4375 -0.71875 Z \"/>\n",
       "</symbol>\n",
       "<symbol overflow=\"visible\" id=\"glyph0-18\">\n",
       "<path style=\"stroke:none;\" d=\"M 3.265625 -4.875 C 3.734375 -4.875 4.097656 -5.003906 4.359375 -5.265625 C 4.617188 -5.523438 4.75 -5.832031 4.75 -6.1875 C 4.75 -6.5 4.625 -6.785156 4.375 -7.046875 C 4.125 -7.316406 3.742188 -7.453125 3.234375 -7.453125 C 2.722656 -7.453125 2.351562 -7.316406 2.125 -7.046875 C 1.894531 -6.785156 1.78125 -6.484375 1.78125 -6.140625 C 1.78125 -5.742188 1.925781 -5.429688 2.21875 -5.203125 C 2.519531 -4.984375 2.867188 -4.875 3.265625 -4.875 Z M 3.328125 -0.71875 C 3.816406 -0.71875 4.222656 -0.847656 4.546875 -1.109375 C 4.867188 -1.378906 5.03125 -1.773438 5.03125 -2.296875 C 5.03125 -2.835938 4.863281 -3.25 4.53125 -3.53125 C 4.195312 -3.8125 3.769531 -3.953125 3.25 -3.953125 C 2.75 -3.953125 2.335938 -3.804688 2.015625 -3.515625 C 1.703125 -3.234375 1.546875 -2.835938 1.546875 -2.328125 C 1.546875 -1.890625 1.691406 -1.507812 1.984375 -1.1875 C 2.273438 -0.875 2.722656 -0.71875 3.328125 -0.71875 Z M 1.828125 -4.46875 C 1.535156 -4.59375 1.304688 -4.738281 1.140625 -4.90625 C 0.835938 -5.21875 0.6875 -5.625 0.6875 -6.125 C 0.6875 -6.75 0.910156 -7.285156 1.359375 -7.734375 C 1.816406 -8.191406 2.457031 -8.421875 3.28125 -8.421875 C 4.09375 -8.421875 4.722656 -8.207031 5.171875 -7.78125 C 5.628906 -7.351562 5.859375 -6.859375 5.859375 -6.296875 C 5.859375 -5.773438 5.726562 -5.347656 5.46875 -5.015625 C 5.320312 -4.835938 5.09375 -4.660156 4.78125 -4.484375 C 5.125 -4.328125 5.394531 -4.144531 5.59375 -3.9375 C 5.96875 -3.539062 6.15625 -3.03125 6.15625 -2.40625 C 6.15625 -1.664062 5.90625 -1.039062 5.40625 -0.53125 C 4.914062 -0.0195312 4.21875 0.234375 3.3125 0.234375 C 2.488281 0.234375 1.796875 0.015625 1.234375 -0.421875 C 0.671875 -0.867188 0.390625 -1.515625 0.390625 -2.359375 C 0.390625 -2.847656 0.507812 -3.273438 0.75 -3.640625 C 0.988281 -4.003906 1.347656 -4.28125 1.828125 -4.46875 Z \"/>\n",
       "</symbol>\n",
       "<symbol overflow=\"visible\" id=\"glyph0-19\">\n",
       "<path style=\"stroke:none;\" d=\"M 1.15625 -5.9375 L 1.15625 -6.75 C 1.914062 -6.820312 2.441406 -6.945312 2.734375 -7.125 C 3.035156 -7.300781 3.265625 -7.710938 3.421875 -8.359375 L 4.25 -8.359375 L 4.25 0 L 3.125 0 L 3.125 -5.9375 Z \"/>\n",
       "</symbol>\n",
       "<symbol overflow=\"visible\" id=\"glyph1-0\">\n",
       "<path style=\"stroke:none;\" d=\"M 0 -0.390625 L -8.609375 -0.390625 L -8.609375 -7.21875 L 0 -7.21875 Z M -1.078125 -6.140625 L -7.53125 -6.140625 L -7.53125 -1.46875 L -1.078125 -1.46875 Z \"/>\n",
       "</symbol>\n",
       "<symbol overflow=\"visible\" id=\"glyph1-1\">\n",
       "<path style=\"stroke:none;\" d=\"M -8.609375 -7.171875 L -7.578125 -7.171875 L -7.578125 -4.28125 L 0 -4.28125 L 0 -3.09375 L -7.578125 -3.09375 L -7.578125 -0.1875 L -8.609375 -0.1875 Z \"/>\n",
       "</symbol>\n",
       "<symbol overflow=\"visible\" id=\"glyph1-2\">\n",
       "<path style=\"stroke:none;\" d=\"M -6.28125 -0.796875 L -6.28125 -1.8125 L -5.1875 -1.8125 C -5.40625 -1.882812 -5.664062 -2.082031 -5.96875 -2.40625 C -6.269531 -2.726562 -6.421875 -3.097656 -6.421875 -3.515625 C -6.421875 -3.535156 -6.414062 -3.566406 -6.40625 -3.609375 C -6.40625 -3.660156 -6.398438 -3.742188 -6.390625 -3.859375 L -5.28125 -3.859375 C -5.289062 -3.796875 -5.296875 -3.738281 -5.296875 -3.6875 C -5.296875 -3.632812 -5.296875 -3.578125 -5.296875 -3.515625 C -5.296875 -2.984375 -5.125 -2.570312 -4.78125 -2.28125 C -4.445312 -2 -4.054688 -1.859375 -3.609375 -1.859375 L 0 -1.859375 L 0 -0.796875 Z \"/>\n",
       "</symbol>\n",
       "<symbol overflow=\"visible\" id=\"glyph1-3\">\n",
       "<path style=\"stroke:none;\" d=\"M -6.28125 -1.828125 L -2.109375 -1.828125 C -1.785156 -1.828125 -1.523438 -1.878906 -1.328125 -1.984375 C -0.953125 -2.171875 -0.765625 -2.519531 -0.765625 -3.03125 C -0.765625 -3.757812 -1.09375 -4.257812 -1.75 -4.53125 C -2.101562 -4.675781 -2.582031 -4.75 -3.1875 -4.75 L -6.28125 -4.75 L -6.28125 -5.796875 L 0 -5.796875 L 0 -4.8125 L -0.921875 -4.8125 C -0.679688 -4.675781 -0.484375 -4.507812 -0.328125 -4.3125 C 0.00390625 -3.90625 0.171875 -3.414062 0.171875 -2.84375 C 0.171875 -1.945312 -0.128906 -1.335938 -0.734375 -1.015625 C -1.046875 -0.835938 -1.472656 -0.75 -2.015625 -0.75 L -6.28125 -0.75 Z M -6.421875 -3.28125 Z \"/>\n",
       "</symbol>\n",
       "<symbol overflow=\"visible\" id=\"glyph1-4\">\n",
       "<path style=\"stroke:none;\" d=\"M -6.421875 -3.390625 C -6.421875 -3.835938 -6.316406 -4.269531 -6.109375 -4.6875 C -5.898438 -5.101562 -5.628906 -5.421875 -5.296875 -5.640625 C -4.972656 -5.847656 -4.601562 -5.988281 -4.1875 -6.0625 C -3.894531 -6.125 -3.429688 -6.15625 -2.796875 -6.15625 L -2.796875 -1.546875 C -2.160156 -1.566406 -1.648438 -1.71875 -1.265625 -2 C -0.878906 -2.28125 -0.6875 -2.71875 -0.6875 -3.3125 C -0.6875 -3.863281 -0.867188 -4.300781 -1.234375 -4.625 C -1.441406 -4.8125 -1.6875 -4.945312 -1.96875 -5.03125 L -1.96875 -6.0625 C -1.738281 -6.039062 -1.484375 -5.953125 -1.203125 -5.796875 C -0.921875 -5.640625 -0.6875 -5.46875 -0.5 -5.28125 C -0.1875 -4.957031 0.0195312 -4.554688 0.125 -4.078125 C 0.1875 -3.828125 0.21875 -3.539062 0.21875 -3.21875 C 0.21875 -2.4375 -0.0625 -1.773438 -0.625 -1.234375 C -1.195312 -0.691406 -1.992188 -0.421875 -3.015625 -0.421875 C -4.023438 -0.421875 -4.84375 -0.691406 -5.46875 -1.234375 C -6.101562 -1.785156 -6.421875 -2.503906 -6.421875 -3.390625 Z M -3.640625 -5.0625 C -4.097656 -5.019531 -4.460938 -4.921875 -4.734375 -4.765625 C -5.242188 -4.484375 -5.5 -4.003906 -5.5 -3.328125 C -5.5 -2.835938 -5.320312 -2.425781 -4.96875 -2.09375 C -4.625 -1.769531 -4.179688 -1.597656 -3.640625 -1.578125 Z M -6.421875 -3.28125 Z \"/>\n",
       "</symbol>\n",
       "<symbol overflow=\"visible\" id=\"glyph1-5\">\n",
       "<path style=\"stroke:none;\" d=\"\"/>\n",
       "</symbol>\n",
       "<symbol overflow=\"visible\" id=\"glyph1-6\">\n",
       "<path style=\"stroke:none;\" d=\"M -0.703125 -3.421875 C -0.703125 -3.910156 -0.910156 -4.316406 -1.328125 -4.640625 C -1.742188 -4.972656 -2.359375 -5.140625 -3.171875 -5.140625 C -3.671875 -5.140625 -4.101562 -5.066406 -4.46875 -4.921875 C -5.15625 -4.648438 -5.5 -4.148438 -5.5 -3.421875 C -5.5 -2.691406 -5.132812 -2.191406 -4.40625 -1.921875 C -4.019531 -1.773438 -3.523438 -1.703125 -2.921875 -1.703125 C -2.429688 -1.703125 -2.019531 -1.773438 -1.6875 -1.921875 C -1.03125 -2.191406 -0.703125 -2.691406 -0.703125 -3.421875 Z M -6.25 -0.6875 L -6.25 -1.71875 L -5.421875 -1.71875 C -5.703125 -1.925781 -5.921875 -2.15625 -6.078125 -2.40625 C -6.304688 -2.757812 -6.421875 -3.175781 -6.421875 -3.65625 C -6.421875 -4.375 -6.148438 -4.976562 -5.609375 -5.46875 C -5.066406 -5.96875 -4.289062 -6.21875 -3.28125 -6.21875 C -1.90625 -6.21875 -0.925781 -5.859375 -0.34375 -5.140625 C 0.03125 -4.691406 0.21875 -4.164062 0.21875 -3.5625 C 0.21875 -3.09375 0.113281 -2.695312 -0.09375 -2.375 C -0.21875 -2.1875 -0.421875 -1.976562 -0.703125 -1.75 L 2.5 -1.75 L 2.5 -0.6875 Z \"/>\n",
       "</symbol>\n",
       "<symbol overflow=\"visible\" id=\"glyph1-7\">\n",
       "<path style=\"stroke:none;\" d=\"M -0.6875 -3.265625 C -0.6875 -3.960938 -0.945312 -4.441406 -1.46875 -4.703125 C -2 -4.960938 -2.585938 -5.09375 -3.234375 -5.09375 C -3.828125 -5.09375 -4.304688 -5 -4.671875 -4.8125 C -5.242188 -4.507812 -5.53125 -4 -5.53125 -3.28125 C -5.53125 -2.632812 -5.285156 -2.164062 -4.796875 -1.875 C -4.304688 -1.582031 -3.710938 -1.4375 -3.015625 -1.4375 C -2.347656 -1.4375 -1.789062 -1.582031 -1.34375 -1.875 C -0.90625 -2.164062 -0.6875 -2.628906 -0.6875 -3.265625 Z M -6.453125 -3.3125 C -6.453125 -4.113281 -6.179688 -4.789062 -5.640625 -5.34375 C -5.109375 -5.90625 -4.316406 -6.1875 -3.265625 -6.1875 C -2.253906 -6.1875 -1.414062 -5.941406 -0.75 -5.453125 C -0.09375 -4.960938 0.234375 -4.203125 0.234375 -3.171875 C 0.234375 -2.304688 -0.0546875 -1.617188 -0.640625 -1.109375 C -1.234375 -0.597656 -2.019531 -0.34375 -3 -0.34375 C -4.050781 -0.34375 -4.890625 -0.609375 -5.515625 -1.140625 C -6.140625 -1.679688 -6.453125 -2.40625 -6.453125 -3.3125 Z M -6.421875 -3.265625 Z \"/>\n",
       "</symbol>\n",
       "<symbol overflow=\"visible\" id=\"glyph1-8\">\n",
       "<path style=\"stroke:none;\" d=\"M -1.96875 -1.40625 C -1.613281 -1.4375 -1.34375 -1.523438 -1.15625 -1.671875 C -0.820312 -1.929688 -0.65625 -2.390625 -0.65625 -3.046875 C -0.65625 -3.441406 -0.738281 -3.785156 -0.90625 -4.078125 C -1.070312 -4.378906 -1.332031 -4.53125 -1.6875 -4.53125 C -1.957031 -4.53125 -2.164062 -4.410156 -2.3125 -4.171875 C -2.394531 -4.015625 -2.492188 -3.710938 -2.609375 -3.265625 L -2.8125 -2.421875 C -2.945312 -1.890625 -3.097656 -1.5 -3.265625 -1.25 C -3.546875 -0.789062 -3.941406 -0.5625 -4.453125 -0.5625 C -5.046875 -0.5625 -5.523438 -0.773438 -5.890625 -1.203125 C -6.253906 -1.628906 -6.4375 -2.207031 -6.4375 -2.9375 C -6.4375 -3.875 -6.160156 -4.550781 -5.609375 -4.96875 C -5.253906 -5.238281 -4.875 -5.367188 -4.46875 -5.359375 L -4.46875 -4.359375 C -4.707031 -4.335938 -4.925781 -4.253906 -5.125 -4.109375 C -5.394531 -3.867188 -5.53125 -3.445312 -5.53125 -2.84375 C -5.53125 -2.445312 -5.453125 -2.144531 -5.296875 -1.9375 C -5.148438 -1.738281 -4.953125 -1.640625 -4.703125 -1.640625 C -4.429688 -1.640625 -4.210938 -1.773438 -4.046875 -2.046875 C -3.953125 -2.203125 -3.867188 -2.429688 -3.796875 -2.734375 L -3.625 -3.421875 C -3.4375 -4.179688 -3.257812 -4.691406 -3.09375 -4.953125 C -2.820312 -5.359375 -2.394531 -5.5625 -1.8125 -5.5625 C -1.257812 -5.5625 -0.78125 -5.347656 -0.375 -4.921875 C 0.03125 -4.503906 0.234375 -3.863281 0.234375 -3 C 0.234375 -2.0625 0.0234375 -1.394531 -0.390625 -1 C -0.816406 -0.613281 -1.34375 -0.410156 -1.96875 -0.390625 Z M -6.421875 -2.953125 Z \"/>\n",
       "</symbol>\n",
       "<symbol overflow=\"visible\" id=\"glyph1-9\">\n",
       "<path style=\"stroke:none;\" d=\"M -6.25 -0.78125 L -6.25 -1.84375 L 0 -1.84375 L 0 -0.78125 Z M -8.609375 -0.78125 L -8.609375 -1.84375 L -7.40625 -1.84375 L -7.40625 -0.78125 Z \"/>\n",
       "</symbol>\n",
       "<symbol overflow=\"visible\" id=\"glyph1-10\">\n",
       "<path style=\"stroke:none;\" d=\"M -8.03125 -0.984375 L -8.03125 -2.046875 L -6.28125 -2.046875 L -6.28125 -3.046875 L -5.421875 -3.046875 L -5.421875 -2.046875 L -1.3125 -2.046875 C -1.09375 -2.046875 -0.945312 -2.125 -0.875 -2.28125 C -0.832031 -2.351562 -0.8125 -2.488281 -0.8125 -2.6875 C -0.8125 -2.738281 -0.8125 -2.789062 -0.8125 -2.84375 C -0.820312 -2.90625 -0.828125 -2.972656 -0.828125 -3.046875 L 0 -3.046875 C 0.03125 -2.929688 0.0507812 -2.804688 0.0625 -2.671875 C 0.0820312 -2.546875 0.09375 -2.40625 0.09375 -2.25 C 0.09375 -1.757812 -0.03125 -1.425781 -0.28125 -1.25 C -0.53125 -1.070312 -0.859375 -0.984375 -1.265625 -0.984375 L -5.421875 -0.984375 L -5.421875 -0.140625 L -6.28125 -0.140625 L -6.28125 -0.984375 Z \"/>\n",
       "</symbol>\n",
       "<symbol overflow=\"visible\" id=\"glyph1-11\">\n",
       "<path style=\"stroke:none;\" d=\"M -6.28125 -1.296875 L -1.171875 -2.96875 L -6.28125 -4.71875 L -6.28125 -5.875 L 0 -3.5 L 0 -2.375 L -6.28125 -0.0625 Z \"/>\n",
       "</symbol>\n",
       "<symbol overflow=\"visible\" id=\"glyph1-12\">\n",
       "<path style=\"stroke:none;\" d=\"M -1.671875 -1.578125 C -1.367188 -1.578125 -1.128906 -1.6875 -0.953125 -1.90625 C -0.773438 -2.132812 -0.6875 -2.398438 -0.6875 -2.703125 C -0.6875 -3.078125 -0.769531 -3.4375 -0.9375 -3.78125 C -1.226562 -4.375 -1.695312 -4.671875 -2.34375 -4.671875 L -3.1875 -4.671875 C -3.113281 -4.535156 -3.046875 -4.363281 -2.984375 -4.15625 C -2.929688 -3.957031 -2.894531 -3.757812 -2.875 -3.5625 L -2.796875 -2.9375 C -2.742188 -2.550781 -2.660156 -2.257812 -2.546875 -2.0625 C -2.367188 -1.738281 -2.078125 -1.578125 -1.671875 -1.578125 Z M -3.796875 -4.140625 C -3.828125 -4.378906 -3.929688 -4.539062 -4.109375 -4.625 C -4.203125 -4.664062 -4.335938 -4.6875 -4.515625 -4.6875 C -4.867188 -4.6875 -5.125 -4.554688 -5.28125 -4.296875 C -5.445312 -4.046875 -5.53125 -3.6875 -5.53125 -3.21875 C -5.53125 -2.664062 -5.382812 -2.273438 -5.09375 -2.046875 C -4.925781 -1.910156 -4.679688 -1.820312 -4.359375 -1.78125 L -4.359375 -0.796875 C -5.128906 -0.816406 -5.664062 -1.066406 -5.96875 -1.546875 C -6.269531 -2.035156 -6.421875 -2.597656 -6.421875 -3.234375 C -6.421875 -3.972656 -6.28125 -4.570312 -6 -5.03125 C -5.71875 -5.488281 -5.28125 -5.71875 -4.6875 -5.71875 L -1.078125 -5.71875 C -0.972656 -5.71875 -0.882812 -5.738281 -0.8125 -5.78125 C -0.75 -5.832031 -0.71875 -5.929688 -0.71875 -6.078125 C -0.71875 -6.117188 -0.71875 -6.164062 -0.71875 -6.21875 C -0.726562 -6.28125 -0.738281 -6.347656 -0.75 -6.421875 L 0.03125 -6.421875 C 0.0703125 -6.253906 0.0976562 -6.125 0.109375 -6.03125 C 0.128906 -5.945312 0.140625 -5.832031 0.140625 -5.6875 C 0.140625 -5.320312 0.0078125 -5.0625 -0.25 -4.90625 C -0.382812 -4.8125 -0.578125 -4.75 -0.828125 -4.71875 C -0.546875 -4.5 -0.300781 -4.1875 -0.09375 -3.78125 C 0.113281 -3.382812 0.21875 -2.945312 0.21875 -2.46875 C 0.21875 -1.882812 0.0390625 -1.40625 -0.3125 -1.03125 C -0.664062 -0.664062 -1.109375 -0.484375 -1.640625 -0.484375 C -2.222656 -0.484375 -2.675781 -0.664062 -3 -1.03125 C -3.320312 -1.394531 -3.519531 -1.867188 -3.59375 -2.453125 Z M -6.421875 -3.265625 Z \"/>\n",
       "</symbol>\n",
       "<symbol overflow=\"visible\" id=\"glyph1-13\">\n",
       "<path style=\"stroke:none;\" d=\"M -8.390625 -3.25 C -8.390625 -4.332031 -7.941406 -5.117188 -7.046875 -5.609375 C -6.359375 -5.984375 -5.410156 -6.171875 -4.203125 -6.171875 C -3.066406 -6.171875 -2.125 -6 -1.375 -5.65625 C -0.300781 -5.164062 0.234375 -4.359375 0.234375 -3.234375 C 0.234375 -2.234375 -0.203125 -1.484375 -1.078125 -0.984375 C -1.816406 -0.578125 -2.800781 -0.375 -4.03125 -0.375 C -4.976562 -0.375 -5.796875 -0.5 -6.484375 -0.75 C -7.753906 -1.207031 -8.390625 -2.039062 -8.390625 -3.25 Z M -0.734375 -3.234375 C -0.734375 -3.785156 -0.972656 -4.222656 -1.453125 -4.546875 C -1.941406 -4.867188 -2.847656 -5.03125 -4.171875 -5.03125 C -5.117188 -5.03125 -5.898438 -4.910156 -6.515625 -4.671875 C -7.128906 -4.441406 -7.4375 -3.988281 -7.4375 -3.3125 C -7.4375 -2.6875 -7.144531 -2.226562 -6.5625 -1.9375 C -5.976562 -1.65625 -5.117188 -1.515625 -3.984375 -1.515625 C -3.128906 -1.515625 -2.441406 -1.609375 -1.921875 -1.796875 C -1.128906 -2.078125 -0.734375 -2.554688 -0.734375 -3.234375 Z \"/>\n",
       "</symbol>\n",
       "<symbol overflow=\"visible\" id=\"glyph1-14\">\n",
       "<path style=\"stroke:none;\" d=\"M -1.28125 -1.03125 L -1.28125 -2.25 L 0 -2.25 L 0 -1.03125 Z \"/>\n",
       "</symbol>\n",
       "<symbol overflow=\"visible\" id=\"glyph1-15\">\n",
       "<path style=\"stroke:none;\" d=\"M 0 -0.375 C -0.71875 -0.414062 -1.34375 -0.566406 -1.875 -0.828125 C -2.414062 -1.085938 -2.90625 -1.59375 -3.34375 -2.34375 L -4 -3.46875 C -4.289062 -3.96875 -4.539062 -4.320312 -4.75 -4.53125 C -5.070312 -4.851562 -5.441406 -5.015625 -5.859375 -5.015625 C -6.347656 -5.015625 -6.734375 -4.863281 -7.015625 -4.5625 C -7.304688 -4.269531 -7.453125 -3.882812 -7.453125 -3.40625 C -7.453125 -2.675781 -7.179688 -2.175781 -6.640625 -1.90625 C -6.335938 -1.75 -5.929688 -1.664062 -5.421875 -1.65625 L -5.421875 -0.578125 C -6.148438 -0.585938 -6.742188 -0.722656 -7.203125 -0.984375 C -8.015625 -1.441406 -8.421875 -2.25 -8.421875 -3.40625 C -8.421875 -4.363281 -8.160156 -5.0625 -7.640625 -5.5 C -7.117188 -5.945312 -6.539062 -6.171875 -5.90625 -6.171875 C -5.238281 -6.171875 -4.664062 -5.9375 -4.1875 -5.46875 C -3.90625 -5.195312 -3.566406 -4.707031 -3.171875 -4 L -2.734375 -3.1875 C -2.523438 -2.8125 -2.320312 -2.515625 -2.125 -2.296875 C -1.789062 -1.898438 -1.414062 -1.648438 -1 -1.546875 L -1 -6.140625 L 0 -6.140625 Z \"/>\n",
       "</symbol>\n",
       "<symbol overflow=\"visible\" id=\"glyph1-16\">\n",
       "<path style=\"stroke:none;\" d=\"M -2.96875 -3.96875 L -6.78125 -3.96875 L -2.96875 -1.28125 Z M 0 -3.984375 L -2.046875 -3.984375 L -2.046875 -0.3125 L -3.078125 -0.3125 L -8.421875 -4.15625 L -8.421875 -5.046875 L -2.96875 -5.046875 L -2.96875 -6.28125 L -2.046875 -6.28125 L -2.046875 -5.046875 L 0 -5.046875 Z \"/>\n",
       "</symbol>\n",
       "<symbol overflow=\"visible\" id=\"glyph1-17\">\n",
       "<path style=\"stroke:none;\" d=\"M -8.421875 -3.515625 C -8.421875 -4.453125 -8.175781 -5.101562 -7.6875 -5.46875 C -7.207031 -5.84375 -6.707031 -6.03125 -6.1875 -6.03125 L -6.1875 -4.984375 C -6.519531 -4.921875 -6.78125 -4.820312 -6.96875 -4.6875 C -7.320312 -4.425781 -7.5 -4.039062 -7.5 -3.53125 C -7.5 -2.9375 -7.222656 -2.460938 -6.671875 -2.109375 C -6.128906 -1.765625 -5.351562 -1.578125 -4.34375 -1.546875 C -4.695312 -1.785156 -4.960938 -2.085938 -5.140625 -2.453125 C -5.296875 -2.785156 -5.375 -3.160156 -5.375 -3.578125 C -5.375 -4.285156 -5.148438 -4.898438 -4.703125 -5.421875 C -4.253906 -5.941406 -3.582031 -6.203125 -2.6875 -6.203125 C -1.925781 -6.203125 -1.25 -5.953125 -0.65625 -5.453125 C -0.0703125 -4.960938 0.21875 -4.257812 0.21875 -3.34375 C 0.21875 -2.550781 -0.078125 -1.867188 -0.671875 -1.296875 C -1.273438 -0.734375 -2.28125 -0.453125 -3.6875 -0.453125 C -4.726562 -0.453125 -5.613281 -0.578125 -6.34375 -0.828125 C -7.726562 -1.316406 -8.421875 -2.210938 -8.421875 -3.515625 Z M -0.71875 -3.4375 C -0.71875 -3.988281 -0.90625 -4.398438 -1.28125 -4.671875 C -1.65625 -4.953125 -2.097656 -5.09375 -2.609375 -5.09375 C -3.035156 -5.09375 -3.441406 -4.96875 -3.828125 -4.71875 C -4.210938 -4.476562 -4.40625 -4.03125 -4.40625 -3.375 C -4.40625 -2.925781 -4.253906 -2.53125 -3.953125 -2.1875 C -3.660156 -1.84375 -3.210938 -1.671875 -2.609375 -1.671875 C -2.078125 -1.671875 -1.628906 -1.828125 -1.265625 -2.140625 C -0.898438 -2.453125 -0.71875 -2.882812 -0.71875 -3.4375 Z \"/>\n",
       "</symbol>\n",
       "<symbol overflow=\"visible\" id=\"glyph1-18\">\n",
       "<path style=\"stroke:none;\" d=\"M -4.875 -3.265625 C -4.875 -3.734375 -5.003906 -4.097656 -5.265625 -4.359375 C -5.523438 -4.617188 -5.832031 -4.75 -6.1875 -4.75 C -6.5 -4.75 -6.785156 -4.625 -7.046875 -4.375 C -7.316406 -4.125 -7.453125 -3.742188 -7.453125 -3.234375 C -7.453125 -2.722656 -7.316406 -2.351562 -7.046875 -2.125 C -6.785156 -1.894531 -6.484375 -1.78125 -6.140625 -1.78125 C -5.742188 -1.78125 -5.429688 -1.925781 -5.203125 -2.21875 C -4.984375 -2.519531 -4.875 -2.867188 -4.875 -3.265625 Z M -0.71875 -3.328125 C -0.71875 -3.816406 -0.847656 -4.222656 -1.109375 -4.546875 C -1.378906 -4.867188 -1.773438 -5.03125 -2.296875 -5.03125 C -2.835938 -5.03125 -3.25 -4.863281 -3.53125 -4.53125 C -3.8125 -4.195312 -3.953125 -3.769531 -3.953125 -3.25 C -3.953125 -2.75 -3.804688 -2.335938 -3.515625 -2.015625 C -3.234375 -1.703125 -2.835938 -1.546875 -2.328125 -1.546875 C -1.890625 -1.546875 -1.507812 -1.691406 -1.1875 -1.984375 C -0.875 -2.273438 -0.71875 -2.722656 -0.71875 -3.328125 Z M -4.46875 -1.828125 C -4.59375 -1.535156 -4.738281 -1.304688 -4.90625 -1.140625 C -5.21875 -0.835938 -5.625 -0.6875 -6.125 -0.6875 C -6.75 -0.6875 -7.285156 -0.910156 -7.734375 -1.359375 C -8.191406 -1.816406 -8.421875 -2.457031 -8.421875 -3.28125 C -8.421875 -4.09375 -8.207031 -4.722656 -7.78125 -5.171875 C -7.351562 -5.628906 -6.859375 -5.859375 -6.296875 -5.859375 C -5.773438 -5.859375 -5.347656 -5.726562 -5.015625 -5.46875 C -4.835938 -5.320312 -4.660156 -5.09375 -4.484375 -4.78125 C -4.328125 -5.125 -4.144531 -5.394531 -3.9375 -5.59375 C -3.539062 -5.96875 -3.03125 -6.15625 -2.40625 -6.15625 C -1.664062 -6.15625 -1.039062 -5.90625 -0.53125 -5.40625 C -0.0195312 -4.914062 0.234375 -4.21875 0.234375 -3.3125 C 0.234375 -2.488281 0.015625 -1.796875 -0.421875 -1.234375 C -0.867188 -0.671875 -1.515625 -0.390625 -2.359375 -0.390625 C -2.847656 -0.390625 -3.273438 -0.507812 -3.640625 -0.75 C -4.003906 -0.988281 -4.28125 -1.347656 -4.46875 -1.828125 Z \"/>\n",
       "</symbol>\n",
       "<symbol overflow=\"visible\" id=\"glyph1-19\">\n",
       "<path style=\"stroke:none;\" d=\"M -5.9375 -1.15625 L -6.75 -1.15625 C -6.820312 -1.914062 -6.945312 -2.441406 -7.125 -2.734375 C -7.300781 -3.035156 -7.710938 -3.265625 -8.359375 -3.421875 L -8.359375 -4.25 L 0 -4.25 L 0 -3.125 L -5.9375 -3.125 Z \"/>\n",
       "</symbol>\n",
       "<symbol overflow=\"visible\" id=\"glyph1-20\">\n",
       "<path style=\"stroke:none;\" d=\"M -2.140625 -1.484375 C -1.535156 -1.554688 -1.117188 -1.835938 -0.890625 -2.328125 C -0.773438 -2.578125 -0.71875 -2.863281 -0.71875 -3.1875 C -0.71875 -3.8125 -0.914062 -4.273438 -1.3125 -4.578125 C -1.707031 -4.878906 -2.148438 -5.03125 -2.640625 -5.03125 C -3.222656 -5.03125 -3.675781 -4.847656 -4 -4.484375 C -4.320312 -4.128906 -4.484375 -3.703125 -4.484375 -3.203125 C -4.484375 -2.835938 -4.410156 -2.523438 -4.265625 -2.265625 C -4.128906 -2.003906 -3.9375 -1.785156 -3.6875 -1.609375 L -3.734375 -0.6875 L -8.25 -1.328125 L -8.25 -5.6875 L -7.234375 -5.6875 L -7.234375 -2.125 L -4.90625 -1.765625 C -5.050781 -1.960938 -5.160156 -2.148438 -5.234375 -2.328125 C -5.359375 -2.640625 -5.421875 -3 -5.421875 -3.40625 C -5.421875 -4.175781 -5.171875 -4.828125 -4.671875 -5.359375 C -4.179688 -5.898438 -3.554688 -6.171875 -2.796875 -6.171875 C -2.003906 -6.171875 -1.300781 -5.921875 -0.6875 -5.421875 C -0.0820312 -4.929688 0.21875 -4.148438 0.21875 -3.078125 C 0.21875 -2.398438 0.0234375 -1.796875 -0.359375 -1.265625 C -0.742188 -0.742188 -1.335938 -0.453125 -2.140625 -0.390625 Z \"/>\n",
       "</symbol>\n",
       "<symbol overflow=\"visible\" id=\"glyph1-21\">\n",
       "<path style=\"stroke:none;\" d=\"M 0.234375 -3.125 C 0.234375 -2.125 -0.0351562 -1.398438 -0.578125 -0.953125 C -1.128906 -0.503906 -1.796875 -0.28125 -2.578125 -0.28125 L -2.578125 -1.390625 C -2.035156 -1.429688 -1.640625 -1.53125 -1.390625 -1.6875 C -0.953125 -1.96875 -0.734375 -2.460938 -0.734375 -3.171875 C -0.734375 -3.734375 -0.878906 -4.179688 -1.171875 -4.515625 C -1.472656 -4.847656 -1.859375 -5.015625 -2.328125 -5.015625 C -2.898438 -5.015625 -3.300781 -4.835938 -3.53125 -4.484375 C -3.769531 -4.128906 -3.890625 -3.640625 -3.890625 -3.015625 C -3.890625 -2.941406 -3.882812 -2.867188 -3.875 -2.796875 C -3.875 -2.722656 -3.875 -2.648438 -3.875 -2.578125 L -4.8125 -2.578125 C -4.789062 -2.691406 -4.78125 -2.785156 -4.78125 -2.859375 C -4.78125 -2.929688 -4.78125 -3.007812 -4.78125 -3.09375 C -4.78125 -3.488281 -4.84375 -3.8125 -4.96875 -4.0625 C -5.1875 -4.507812 -5.578125 -4.734375 -6.140625 -4.734375 C -6.554688 -4.734375 -6.875 -4.582031 -7.09375 -4.28125 C -7.320312 -3.988281 -7.4375 -3.644531 -7.4375 -3.25 C -7.4375 -2.550781 -7.203125 -2.066406 -6.734375 -1.796875 C -6.484375 -1.648438 -6.117188 -1.566406 -5.640625 -1.546875 L -5.640625 -0.5 C -6.265625 -0.5 -6.796875 -0.625 -7.234375 -0.875 C -8.015625 -1.300781 -8.40625 -2.054688 -8.40625 -3.140625 C -8.40625 -3.992188 -8.210938 -4.65625 -7.828125 -5.125 C -7.453125 -5.59375 -6.898438 -5.828125 -6.171875 -5.828125 C -5.660156 -5.828125 -5.242188 -5.691406 -4.921875 -5.421875 C -4.722656 -5.242188 -4.566406 -5.019531 -4.453125 -4.75 C -4.328125 -5.1875 -4.09375 -5.53125 -3.75 -5.78125 C -3.40625 -6.03125 -2.984375 -6.15625 -2.484375 -6.15625 C -1.679688 -6.15625 -1.023438 -5.890625 -0.515625 -5.359375 C -0.015625 -4.835938 0.234375 -4.09375 0.234375 -3.125 Z \"/>\n",
       "</symbol>\n",
       "<symbol overflow=\"visible\" id=\"glyph1-22\">\n",
       "<path style=\"stroke:none;\" d=\"M -2.03125 -1.59375 C -1.445312 -1.625 -1.046875 -1.847656 -0.828125 -2.265625 C -0.703125 -2.484375 -0.640625 -2.726562 -0.640625 -3 C -0.640625 -3.5 -0.847656 -3.925781 -1.265625 -4.28125 C -1.691406 -4.632812 -2.546875 -4.890625 -3.828125 -5.046875 C -3.460938 -4.804688 -3.203125 -4.515625 -3.046875 -4.171875 C -2.898438 -3.828125 -2.828125 -3.453125 -2.828125 -3.046875 C -2.828125 -2.242188 -3.078125 -1.601562 -3.578125 -1.125 C -4.085938 -0.65625 -4.738281 -0.421875 -5.53125 -0.421875 C -6.289062 -0.421875 -6.957031 -0.65625 -7.53125 -1.125 C -8.113281 -1.59375 -8.40625 -2.28125 -8.40625 -3.1875 C -8.40625 -4.40625 -7.851562 -5.25 -6.75 -5.71875 C -6.144531 -5.96875 -5.390625 -6.09375 -4.484375 -6.09375 C -3.453125 -6.09375 -2.539062 -5.941406 -1.75 -5.640625 C -0.425781 -5.128906 0.234375 -4.257812 0.234375 -3.03125 C 0.234375 -2.21875 0.0195312 -1.597656 -0.40625 -1.171875 C -0.84375 -0.742188 -1.382812 -0.53125 -2.03125 -0.53125 Z M -3.75 -3.1875 C -3.75 -3.613281 -3.882812 -4 -4.15625 -4.34375 C -4.4375 -4.6875 -4.921875 -4.859375 -5.609375 -4.859375 C -6.222656 -4.859375 -6.679688 -4.703125 -6.984375 -4.390625 C -7.285156 -4.078125 -7.4375 -3.679688 -7.4375 -3.203125 C -7.4375 -2.691406 -7.265625 -2.285156 -6.921875 -1.984375 C -6.578125 -1.679688 -6.113281 -1.53125 -5.53125 -1.53125 C -4.988281 -1.53125 -4.554688 -1.660156 -4.234375 -1.921875 C -3.910156 -2.191406 -3.75 -2.613281 -3.75 -3.1875 Z \"/>\n",
       "</symbol>\n",
       "<symbol overflow=\"visible\" id=\"glyph1-23\">\n",
       "<path style=\"stroke:none;\" d=\"M -8.25 -6.28125 L -7.328125 -6.28125 C -7.066406 -6.007812 -6.613281 -5.648438 -5.96875 -5.203125 C -5.320312 -4.753906 -4.625 -4.359375 -3.875 -4.015625 C -3.132812 -3.671875 -2.46875 -3.410156 -1.875 -3.234375 C -1.488281 -3.128906 -0.863281 -2.984375 0 -2.796875 L 0 -1.640625 C -1.601562 -1.898438 -3.195312 -2.484375 -4.78125 -3.390625 C -5.707031 -3.929688 -6.507812 -4.492188 -7.1875 -5.078125 L -7.1875 -0.4375 L -8.25 -0.4375 Z \"/>\n",
       "</symbol>\n",
       "</g>\n",
       "</defs>\n",
       "<g id=\"surface21\">\n",
       "<rect x=\"0\" y=\"0\" width=\"504\" height=\"504\" style=\"fill:rgb(100%,100%,100%);fill-opacity:1;stroke:none;\"/>\n",
       "<g style=\"fill:rgb(0%,0%,0%);fill-opacity:1;\">\n",
       "  <use xlink:href=\"#glyph0-1\" x=\"217.710938\" y=\"485.28125\"/>\n",
       "  <use xlink:href=\"#glyph0-2\" x=\"225.041016\" y=\"485.28125\"/>\n",
       "  <use xlink:href=\"#glyph0-3\" x=\"231.714844\" y=\"485.28125\"/>\n",
       "  <use xlink:href=\"#glyph0-4\" x=\"234.380859\" y=\"485.28125\"/>\n",
       "  <use xlink:href=\"#glyph0-5\" x=\"240.380859\" y=\"485.28125\"/>\n",
       "  <use xlink:href=\"#glyph0-6\" x=\"247.054688\" y=\"485.28125\"/>\n",
       "  <use xlink:href=\"#glyph0-7\" x=\"250.388672\" y=\"485.28125\"/>\n",
       "  <use xlink:href=\"#glyph0-8\" x=\"257.0625\" y=\"485.28125\"/>\n",
       "  <use xlink:href=\"#glyph0-4\" x=\"263.736328\" y=\"485.28125\"/>\n",
       "  <use xlink:href=\"#glyph0-9\" x=\"269.736328\" y=\"485.28125\"/>\n",
       "  <use xlink:href=\"#glyph0-10\" x=\"272.402344\" y=\"485.28125\"/>\n",
       "  <use xlink:href=\"#glyph0-9\" x=\"275.736328\" y=\"485.28125\"/>\n",
       "  <use xlink:href=\"#glyph0-11\" x=\"278.402344\" y=\"485.28125\"/>\n",
       "  <use xlink:href=\"#glyph0-5\" x=\"284.402344\" y=\"485.28125\"/>\n",
       "  <use xlink:href=\"#glyph0-6\" x=\"291.076172\" y=\"485.28125\"/>\n",
       "  <use xlink:href=\"#glyph0-12\" x=\"294.410156\" y=\"485.28125\"/>\n",
       "  <use xlink:href=\"#glyph0-2\" x=\"298.40625\" y=\"485.28125\"/>\n",
       "  <use xlink:href=\"#glyph0-10\" x=\"305.080078\" y=\"485.28125\"/>\n",
       "  <use xlink:href=\"#glyph0-5\" x=\"308.414062\" y=\"485.28125\"/>\n",
       "</g>\n",
       "<g style=\"fill:rgb(0%,0%,0%);fill-opacity:1;\">\n",
       "  <use xlink:href=\"#glyph1-1\" x=\"12.960938\" y=\"291.152344\"/>\n",
       "  <use xlink:href=\"#glyph1-2\" x=\"12.960938\" y=\"283.822266\"/>\n",
       "  <use xlink:href=\"#glyph1-3\" x=\"12.960938\" y=\"279.826172\"/>\n",
       "  <use xlink:href=\"#glyph1-4\" x=\"12.960938\" y=\"273.152344\"/>\n",
       "  <use xlink:href=\"#glyph1-5\" x=\"12.960938\" y=\"266.478516\"/>\n",
       "  <use xlink:href=\"#glyph1-6\" x=\"12.960938\" y=\"263.144531\"/>\n",
       "  <use xlink:href=\"#glyph1-7\" x=\"12.960938\" y=\"256.470703\"/>\n",
       "  <use xlink:href=\"#glyph1-8\" x=\"12.960938\" y=\"249.796875\"/>\n",
       "  <use xlink:href=\"#glyph1-9\" x=\"12.960938\" y=\"243.796875\"/>\n",
       "  <use xlink:href=\"#glyph1-10\" x=\"12.960938\" y=\"241.130859\"/>\n",
       "  <use xlink:href=\"#glyph1-9\" x=\"12.960938\" y=\"237.796875\"/>\n",
       "  <use xlink:href=\"#glyph1-11\" x=\"12.960938\" y=\"235.130859\"/>\n",
       "  <use xlink:href=\"#glyph1-4\" x=\"12.960938\" y=\"229.130859\"/>\n",
       "  <use xlink:href=\"#glyph1-5\" x=\"12.960938\" y=\"222.457031\"/>\n",
       "  <use xlink:href=\"#glyph1-2\" x=\"12.960938\" y=\"219.123047\"/>\n",
       "  <use xlink:href=\"#glyph1-12\" x=\"12.960938\" y=\"215.126953\"/>\n",
       "  <use xlink:href=\"#glyph1-10\" x=\"12.960938\" y=\"208.453125\"/>\n",
       "  <use xlink:href=\"#glyph1-4\" x=\"12.960938\" y=\"205.119141\"/>\n",
       "</g>\n",
       "<path style=\"fill:none;stroke-width:0.75;stroke-linecap:round;stroke-linejoin:round;stroke:rgb(0%,0%,0%);stroke-opacity:1;stroke-miterlimit:10;\" d=\"M 74.398438 430.558594 L 458.398438 430.558594 \"/>\n",
       "<path style=\"fill:none;stroke-width:0.75;stroke-linecap:round;stroke-linejoin:round;stroke:rgb(0%,0%,0%);stroke-opacity:1;stroke-miterlimit:10;\" d=\"M 74.398438 430.558594 L 74.398438 437.761719 \"/>\n",
       "<path style=\"fill:none;stroke-width:0.75;stroke-linecap:round;stroke-linejoin:round;stroke:rgb(0%,0%,0%);stroke-opacity:1;stroke-miterlimit:10;\" d=\"M 151.199219 430.558594 L 151.199219 437.761719 \"/>\n",
       "<path style=\"fill:none;stroke-width:0.75;stroke-linecap:round;stroke-linejoin:round;stroke:rgb(0%,0%,0%);stroke-opacity:1;stroke-miterlimit:10;\" d=\"M 228 430.558594 L 228 437.761719 \"/>\n",
       "<path style=\"fill:none;stroke-width:0.75;stroke-linecap:round;stroke-linejoin:round;stroke:rgb(0%,0%,0%);stroke-opacity:1;stroke-miterlimit:10;\" d=\"M 304.800781 430.558594 L 304.800781 437.761719 \"/>\n",
       "<path style=\"fill:none;stroke-width:0.75;stroke-linecap:round;stroke-linejoin:round;stroke:rgb(0%,0%,0%);stroke-opacity:1;stroke-miterlimit:10;\" d=\"M 381.601562 430.558594 L 381.601562 437.761719 \"/>\n",
       "<path style=\"fill:none;stroke-width:0.75;stroke-linecap:round;stroke-linejoin:round;stroke:rgb(0%,0%,0%);stroke-opacity:1;stroke-miterlimit:10;\" d=\"M 458.398438 430.558594 L 458.398438 437.761719 \"/>\n",
       "<g style=\"fill:rgb(0%,0%,0%);fill-opacity:1;\">\n",
       "  <use xlink:href=\"#glyph0-13\" x=\"66.058594\" y=\"456.480469\"/>\n",
       "  <use xlink:href=\"#glyph0-14\" x=\"72.732422\" y=\"456.480469\"/>\n",
       "  <use xlink:href=\"#glyph0-13\" x=\"76.066406\" y=\"456.480469\"/>\n",
       "</g>\n",
       "<g style=\"fill:rgb(0%,0%,0%);fill-opacity:1;\">\n",
       "  <use xlink:href=\"#glyph0-13\" x=\"142.859375\" y=\"456.480469\"/>\n",
       "  <use xlink:href=\"#glyph0-14\" x=\"149.533203\" y=\"456.480469\"/>\n",
       "  <use xlink:href=\"#glyph0-15\" x=\"152.867188\" y=\"456.480469\"/>\n",
       "</g>\n",
       "<g style=\"fill:rgb(0%,0%,0%);fill-opacity:1;\">\n",
       "  <use xlink:href=\"#glyph0-13\" x=\"219.660156\" y=\"456.480469\"/>\n",
       "  <use xlink:href=\"#glyph0-14\" x=\"226.333984\" y=\"456.480469\"/>\n",
       "  <use xlink:href=\"#glyph0-16\" x=\"229.667969\" y=\"456.480469\"/>\n",
       "</g>\n",
       "<g style=\"fill:rgb(0%,0%,0%);fill-opacity:1;\">\n",
       "  <use xlink:href=\"#glyph0-13\" x=\"296.460938\" y=\"456.480469\"/>\n",
       "  <use xlink:href=\"#glyph0-14\" x=\"303.134766\" y=\"456.480469\"/>\n",
       "  <use xlink:href=\"#glyph0-17\" x=\"306.46875\" y=\"456.480469\"/>\n",
       "</g>\n",
       "<g style=\"fill:rgb(0%,0%,0%);fill-opacity:1;\">\n",
       "  <use xlink:href=\"#glyph0-13\" x=\"373.261719\" y=\"456.480469\"/>\n",
       "  <use xlink:href=\"#glyph0-14\" x=\"379.935547\" y=\"456.480469\"/>\n",
       "  <use xlink:href=\"#glyph0-18\" x=\"383.269531\" y=\"456.480469\"/>\n",
       "</g>\n",
       "<g style=\"fill:rgb(0%,0%,0%);fill-opacity:1;\">\n",
       "  <use xlink:href=\"#glyph0-19\" x=\"450.058594\" y=\"456.480469\"/>\n",
       "  <use xlink:href=\"#glyph0-14\" x=\"456.732422\" y=\"456.480469\"/>\n",
       "  <use xlink:href=\"#glyph0-13\" x=\"460.066406\" y=\"456.480469\"/>\n",
       "</g>\n",
       "<path style=\"fill:none;stroke-width:0.75;stroke-linecap:round;stroke-linejoin:round;stroke:rgb(0%,0%,0%);stroke-opacity:1;stroke-miterlimit:10;\" d=\"M 59.039062 416.800781 L 59.039062 72.800781 \"/>\n",
       "<path style=\"fill:none;stroke-width:0.75;stroke-linecap:round;stroke-linejoin:round;stroke:rgb(0%,0%,0%);stroke-opacity:1;stroke-miterlimit:10;\" d=\"M 59.039062 416.800781 L 51.839844 416.800781 \"/>\n",
       "<path style=\"fill:none;stroke-width:0.75;stroke-linecap:round;stroke-linejoin:round;stroke:rgb(0%,0%,0%);stroke-opacity:1;stroke-miterlimit:10;\" d=\"M 59.039062 348 L 51.839844 348 \"/>\n",
       "<path style=\"fill:none;stroke-width:0.75;stroke-linecap:round;stroke-linejoin:round;stroke:rgb(0%,0%,0%);stroke-opacity:1;stroke-miterlimit:10;\" d=\"M 59.039062 279.199219 L 51.839844 279.199219 \"/>\n",
       "<path style=\"fill:none;stroke-width:0.75;stroke-linecap:round;stroke-linejoin:round;stroke:rgb(0%,0%,0%);stroke-opacity:1;stroke-miterlimit:10;\" d=\"M 59.039062 210.398438 L 51.839844 210.398438 \"/>\n",
       "<path style=\"fill:none;stroke-width:0.75;stroke-linecap:round;stroke-linejoin:round;stroke:rgb(0%,0%,0%);stroke-opacity:1;stroke-miterlimit:10;\" d=\"M 59.039062 141.601562 L 51.839844 141.601562 \"/>\n",
       "<path style=\"fill:none;stroke-width:0.75;stroke-linecap:round;stroke-linejoin:round;stroke:rgb(0%,0%,0%);stroke-opacity:1;stroke-miterlimit:10;\" d=\"M 59.039062 72.800781 L 51.839844 72.800781 \"/>\n",
       "<g style=\"fill:rgb(0%,0%,0%);fill-opacity:1;\">\n",
       "  <use xlink:href=\"#glyph1-13\" x=\"41.761719\" y=\"425.140625\"/>\n",
       "  <use xlink:href=\"#glyph1-14\" x=\"41.761719\" y=\"418.466797\"/>\n",
       "  <use xlink:href=\"#glyph1-13\" x=\"41.761719\" y=\"415.132812\"/>\n",
       "</g>\n",
       "<g style=\"fill:rgb(0%,0%,0%);fill-opacity:1;\">\n",
       "  <use xlink:href=\"#glyph1-13\" x=\"41.761719\" y=\"356.339844\"/>\n",
       "  <use xlink:href=\"#glyph1-14\" x=\"41.761719\" y=\"349.666016\"/>\n",
       "  <use xlink:href=\"#glyph1-15\" x=\"41.761719\" y=\"346.332031\"/>\n",
       "</g>\n",
       "<g style=\"fill:rgb(0%,0%,0%);fill-opacity:1;\">\n",
       "  <use xlink:href=\"#glyph1-13\" x=\"41.761719\" y=\"287.539062\"/>\n",
       "  <use xlink:href=\"#glyph1-14\" x=\"41.761719\" y=\"280.865234\"/>\n",
       "  <use xlink:href=\"#glyph1-16\" x=\"41.761719\" y=\"277.53125\"/>\n",
       "</g>\n",
       "<g style=\"fill:rgb(0%,0%,0%);fill-opacity:1;\">\n",
       "  <use xlink:href=\"#glyph1-13\" x=\"41.761719\" y=\"218.738281\"/>\n",
       "  <use xlink:href=\"#glyph1-14\" x=\"41.761719\" y=\"212.064453\"/>\n",
       "  <use xlink:href=\"#glyph1-17\" x=\"41.761719\" y=\"208.730469\"/>\n",
       "</g>\n",
       "<g style=\"fill:rgb(0%,0%,0%);fill-opacity:1;\">\n",
       "  <use xlink:href=\"#glyph1-13\" x=\"41.761719\" y=\"149.941406\"/>\n",
       "  <use xlink:href=\"#glyph1-14\" x=\"41.761719\" y=\"143.267578\"/>\n",
       "  <use xlink:href=\"#glyph1-18\" x=\"41.761719\" y=\"139.933594\"/>\n",
       "</g>\n",
       "<g style=\"fill:rgb(0%,0%,0%);fill-opacity:1;\">\n",
       "  <use xlink:href=\"#glyph1-19\" x=\"41.761719\" y=\"81.140625\"/>\n",
       "  <use xlink:href=\"#glyph1-14\" x=\"41.761719\" y=\"74.466797\"/>\n",
       "  <use xlink:href=\"#glyph1-13\" x=\"41.761719\" y=\"71.132812\"/>\n",
       "</g>\n",
       "<path style=\"fill:none;stroke-width:0.75;stroke-linecap:round;stroke-linejoin:round;stroke:rgb(0%,0%,0%);stroke-opacity:1;stroke-miterlimit:10;\" d=\"M 473.761719 416.800781 L 473.761719 72.800781 \"/>\n",
       "<path style=\"fill:none;stroke-width:0.75;stroke-linecap:round;stroke-linejoin:round;stroke:rgb(0%,0%,0%);stroke-opacity:1;stroke-miterlimit:10;\" d=\"M 473.761719 416.800781 L 480.960938 416.800781 \"/>\n",
       "<path style=\"fill:none;stroke-width:0.75;stroke-linecap:round;stroke-linejoin:round;stroke:rgb(0%,0%,0%);stroke-opacity:1;stroke-miterlimit:10;\" d=\"M 473.761719 348 L 480.960938 348 \"/>\n",
       "<path style=\"fill:none;stroke-width:0.75;stroke-linecap:round;stroke-linejoin:round;stroke:rgb(0%,0%,0%);stroke-opacity:1;stroke-miterlimit:10;\" d=\"M 473.761719 279.199219 L 480.960938 279.199219 \"/>\n",
       "<path style=\"fill:none;stroke-width:0.75;stroke-linecap:round;stroke-linejoin:round;stroke:rgb(0%,0%,0%);stroke-opacity:1;stroke-miterlimit:10;\" d=\"M 473.761719 210.398438 L 480.960938 210.398438 \"/>\n",
       "<path style=\"fill:none;stroke-width:0.75;stroke-linecap:round;stroke-linejoin:round;stroke:rgb(0%,0%,0%);stroke-opacity:1;stroke-miterlimit:10;\" d=\"M 473.761719 141.601562 L 480.960938 141.601562 \"/>\n",
       "<path style=\"fill:none;stroke-width:0.75;stroke-linecap:round;stroke-linejoin:round;stroke:rgb(0%,0%,0%);stroke-opacity:1;stroke-miterlimit:10;\" d=\"M 473.761719 72.800781 L 480.960938 72.800781 \"/>\n",
       "<g style=\"fill:rgb(0%,0%,0%);fill-opacity:1;\">\n",
       "  <use xlink:href=\"#glyph1-13\" x=\"499.679688\" y=\"428.480469\"/>\n",
       "  <use xlink:href=\"#glyph1-14\" x=\"499.679688\" y=\"421.806641\"/>\n",
       "  <use xlink:href=\"#glyph1-13\" x=\"499.679688\" y=\"418.472656\"/>\n",
       "  <use xlink:href=\"#glyph1-20\" x=\"499.679688\" y=\"411.798828\"/>\n",
       "</g>\n",
       "<g style=\"fill:rgb(0%,0%,0%);fill-opacity:1;\">\n",
       "  <use xlink:href=\"#glyph1-13\" x=\"499.679688\" y=\"359.679688\"/>\n",
       "  <use xlink:href=\"#glyph1-14\" x=\"499.679688\" y=\"353.005859\"/>\n",
       "  <use xlink:href=\"#glyph1-15\" x=\"499.679688\" y=\"349.671875\"/>\n",
       "  <use xlink:href=\"#glyph1-21\" x=\"499.679688\" y=\"342.998047\"/>\n",
       "</g>\n",
       "<g style=\"fill:rgb(0%,0%,0%);fill-opacity:1;\">\n",
       "  <use xlink:href=\"#glyph1-13\" x=\"499.679688\" y=\"290.878906\"/>\n",
       "  <use xlink:href=\"#glyph1-14\" x=\"499.679688\" y=\"284.205078\"/>\n",
       "  <use xlink:href=\"#glyph1-16\" x=\"499.679688\" y=\"280.871094\"/>\n",
       "  <use xlink:href=\"#glyph1-19\" x=\"499.679688\" y=\"274.197266\"/>\n",
       "</g>\n",
       "<g style=\"fill:rgb(0%,0%,0%);fill-opacity:1;\">\n",
       "  <use xlink:href=\"#glyph1-13\" x=\"499.679688\" y=\"222.078125\"/>\n",
       "  <use xlink:href=\"#glyph1-14\" x=\"499.679688\" y=\"215.404297\"/>\n",
       "  <use xlink:href=\"#glyph1-20\" x=\"499.679688\" y=\"212.070312\"/>\n",
       "  <use xlink:href=\"#glyph1-22\" x=\"499.679688\" y=\"205.396484\"/>\n",
       "</g>\n",
       "<g style=\"fill:rgb(0%,0%,0%);fill-opacity:1;\">\n",
       "  <use xlink:href=\"#glyph1-13\" x=\"499.679688\" y=\"153.28125\"/>\n",
       "  <use xlink:href=\"#glyph1-14\" x=\"499.679688\" y=\"146.607422\"/>\n",
       "  <use xlink:href=\"#glyph1-23\" x=\"499.679688\" y=\"143.273438\"/>\n",
       "  <use xlink:href=\"#glyph1-23\" x=\"499.679688\" y=\"136.599609\"/>\n",
       "</g>\n",
       "<g style=\"fill:rgb(0%,0%,0%);fill-opacity:1;\">\n",
       "  <use xlink:href=\"#glyph1-13\" x=\"499.679688\" y=\"84.480469\"/>\n",
       "  <use xlink:href=\"#glyph1-14\" x=\"499.679688\" y=\"77.806641\"/>\n",
       "  <use xlink:href=\"#glyph1-22\" x=\"499.679688\" y=\"74.472656\"/>\n",
       "  <use xlink:href=\"#glyph1-20\" x=\"499.679688\" y=\"67.798828\"/>\n",
       "</g>\n",
       "<path style=\"fill-rule:nonzero;fill:rgb(100%,1.568627%,0%);fill-opacity:1;stroke-width:0.75;stroke-linecap:round;stroke-linejoin:round;stroke:rgb(100%,1.568627%,0%);stroke-opacity:1;stroke-miterlimit:10;\" d=\"M 469.921875 74.148438 L 473.761719 74.148438 L 473.761719 75.496094 L 469.921875 75.496094 Z \"/>\n",
       "<path style=\"fill-rule:nonzero;fill:rgb(100%,3.137255%,0%);fill-opacity:1;stroke-width:0.75;stroke-linecap:round;stroke-linejoin:round;stroke:rgb(100%,3.137255%,0%);stroke-opacity:1;stroke-miterlimit:10;\" d=\"M 469.921875 75.496094 L 473.761719 75.496094 L 473.761719 76.84375 L 469.921875 76.84375 Z \"/>\n",
       "<path style=\"fill-rule:nonzero;fill:rgb(100%,4.705882%,0%);fill-opacity:1;stroke-width:0.75;stroke-linecap:round;stroke-linejoin:round;stroke:rgb(100%,4.705882%,0%);stroke-opacity:1;stroke-miterlimit:10;\" d=\"M 469.921875 76.847656 L 473.761719 76.847656 L 473.761719 78.195312 L 469.921875 78.195312 Z \"/>\n",
       "<path style=\"fill-rule:nonzero;fill:rgb(100%,6.27451%,0%);fill-opacity:1;stroke-width:0.75;stroke-linecap:round;stroke-linejoin:round;stroke:rgb(100%,6.27451%,0%);stroke-opacity:1;stroke-miterlimit:10;\" d=\"M 469.921875 78.195312 L 473.761719 78.195312 L 473.761719 79.542969 L 469.921875 79.542969 Z \"/>\n",
       "<path style=\"fill-rule:nonzero;fill:rgb(100%,7.843137%,0%);fill-opacity:1;stroke-width:0.75;stroke-linecap:round;stroke-linejoin:round;stroke:rgb(100%,7.843137%,0%);stroke-opacity:1;stroke-miterlimit:10;\" d=\"M 469.921875 79.546875 L 473.761719 79.546875 L 473.761719 80.894531 L 469.921875 80.894531 Z \"/>\n",
       "<path style=\"fill-rule:nonzero;fill:rgb(100%,9.411765%,0%);fill-opacity:1;stroke-width:0.75;stroke-linecap:round;stroke-linejoin:round;stroke:rgb(100%,9.411765%,0%);stroke-opacity:1;stroke-miterlimit:10;\" d=\"M 469.921875 80.894531 L 473.761719 80.894531 L 473.761719 82.242188 L 469.921875 82.242188 Z \"/>\n",
       "<path style=\"fill-rule:nonzero;fill:rgb(100%,10.980392%,0%);fill-opacity:1;stroke-width:0.75;stroke-linecap:round;stroke-linejoin:round;stroke:rgb(100%,10.980392%,0%);stroke-opacity:1;stroke-miterlimit:10;\" d=\"M 469.921875 82.242188 L 473.761719 82.242188 L 473.761719 83.589844 L 469.921875 83.589844 Z \"/>\n",
       "<path style=\"fill-rule:nonzero;fill:rgb(100%,12.54902%,0%);fill-opacity:1;stroke-width:0.75;stroke-linecap:round;stroke-linejoin:round;stroke:rgb(100%,12.54902%,0%);stroke-opacity:1;stroke-miterlimit:10;\" d=\"M 469.921875 83.59375 L 473.761719 83.59375 L 473.761719 84.941406 L 469.921875 84.941406 Z \"/>\n",
       "<path style=\"fill-rule:nonzero;fill:rgb(100%,14.117647%,0%);fill-opacity:1;stroke-width:0.75;stroke-linecap:round;stroke-linejoin:round;stroke:rgb(100%,14.117647%,0%);stroke-opacity:1;stroke-miterlimit:10;\" d=\"M 469.921875 84.941406 L 473.761719 84.941406 L 473.761719 86.289062 L 469.921875 86.289062 Z \"/>\n",
       "<path style=\"fill-rule:nonzero;fill:rgb(100%,15.686275%,0%);fill-opacity:1;stroke-width:0.75;stroke-linecap:round;stroke-linejoin:round;stroke:rgb(100%,15.686275%,0%);stroke-opacity:1;stroke-miterlimit:10;\" d=\"M 469.921875 86.289062 L 473.761719 86.289062 L 473.761719 87.636719 L 469.921875 87.636719 Z \"/>\n",
       "<path style=\"fill-rule:nonzero;fill:rgb(100%,17.254902%,0%);fill-opacity:1;stroke-width:0.75;stroke-linecap:round;stroke-linejoin:round;stroke:rgb(100%,17.254902%,0%);stroke-opacity:1;stroke-miterlimit:10;\" d=\"M 469.921875 87.640625 L 473.761719 87.640625 L 473.761719 88.988281 L 469.921875 88.988281 Z \"/>\n",
       "<path style=\"fill-rule:nonzero;fill:rgb(100%,18.823529%,0%);fill-opacity:1;stroke-width:0.75;stroke-linecap:round;stroke-linejoin:round;stroke:rgb(100%,18.823529%,0%);stroke-opacity:1;stroke-miterlimit:10;\" d=\"M 469.921875 88.988281 L 473.761719 88.988281 L 473.761719 90.335938 L 469.921875 90.335938 Z \"/>\n",
       "<path style=\"fill-rule:nonzero;fill:rgb(100%,20.392157%,0%);fill-opacity:1;stroke-width:0.75;stroke-linecap:round;stroke-linejoin:round;stroke:rgb(100%,20.392157%,0%);stroke-opacity:1;stroke-miterlimit:10;\" d=\"M 469.921875 90.335938 L 473.761719 90.335938 L 473.761719 91.683594 L 469.921875 91.683594 Z \"/>\n",
       "<path style=\"fill-rule:nonzero;fill:rgb(100%,21.960784%,0%);fill-opacity:1;stroke-width:0.75;stroke-linecap:round;stroke-linejoin:round;stroke:rgb(100%,21.960784%,0%);stroke-opacity:1;stroke-miterlimit:10;\" d=\"M 469.921875 91.6875 L 473.761719 91.6875 L 473.761719 93.035156 L 469.921875 93.035156 Z \"/>\n",
       "<path style=\"fill-rule:nonzero;fill:rgb(100%,23.529412%,0%);fill-opacity:1;stroke-width:0.75;stroke-linecap:round;stroke-linejoin:round;stroke:rgb(100%,23.529412%,0%);stroke-opacity:1;stroke-miterlimit:10;\" d=\"M 469.921875 93.035156 L 473.761719 93.035156 L 473.761719 94.382812 L 469.921875 94.382812 Z \"/>\n",
       "<path style=\"fill-rule:nonzero;fill:rgb(100%,25.098039%,0%);fill-opacity:1;stroke-width:0.75;stroke-linecap:round;stroke-linejoin:round;stroke:rgb(100%,25.098039%,0%);stroke-opacity:1;stroke-miterlimit:10;\" d=\"M 469.921875 94.382812 L 473.761719 94.382812 L 473.761719 95.730469 L 469.921875 95.730469 Z \"/>\n",
       "<path style=\"fill-rule:nonzero;fill:rgb(100%,26.666667%,0%);fill-opacity:1;stroke-width:0.75;stroke-linecap:round;stroke-linejoin:round;stroke:rgb(100%,26.666667%,0%);stroke-opacity:1;stroke-miterlimit:10;\" d=\"M 469.921875 95.734375 L 473.761719 95.734375 L 473.761719 97.082031 L 469.921875 97.082031 Z \"/>\n",
       "<path style=\"fill-rule:nonzero;fill:rgb(100%,28.235294%,0%);fill-opacity:1;stroke-width:0.75;stroke-linecap:round;stroke-linejoin:round;stroke:rgb(100%,28.235294%,0%);stroke-opacity:1;stroke-miterlimit:10;\" d=\"M 469.921875 97.082031 L 473.761719 97.082031 L 473.761719 98.429688 L 469.921875 98.429688 Z \"/>\n",
       "<path style=\"fill-rule:nonzero;fill:rgb(100%,29.803922%,0%);fill-opacity:1;stroke-width:0.75;stroke-linecap:round;stroke-linejoin:round;stroke:rgb(100%,29.803922%,0%);stroke-opacity:1;stroke-miterlimit:10;\" d=\"M 469.921875 98.429688 L 473.761719 98.429688 L 473.761719 99.777344 L 469.921875 99.777344 Z \"/>\n",
       "<path style=\"fill-rule:nonzero;fill:rgb(100%,31.372549%,0%);fill-opacity:1;stroke-width:0.75;stroke-linecap:round;stroke-linejoin:round;stroke:rgb(100%,31.372549%,0%);stroke-opacity:1;stroke-miterlimit:10;\" d=\"M 469.921875 99.78125 L 473.761719 99.78125 L 473.761719 101.128906 L 469.921875 101.128906 Z \"/>\n",
       "<path style=\"fill-rule:nonzero;fill:rgb(100%,32.941176%,0%);fill-opacity:1;stroke-width:0.75;stroke-linecap:round;stroke-linejoin:round;stroke:rgb(100%,32.941176%,0%);stroke-opacity:1;stroke-miterlimit:10;\" d=\"M 469.921875 101.128906 L 473.761719 101.128906 L 473.761719 102.476562 L 469.921875 102.476562 Z \"/>\n",
       "<path style=\"fill-rule:nonzero;fill:rgb(100%,34.509804%,0%);fill-opacity:1;stroke-width:0.75;stroke-linecap:round;stroke-linejoin:round;stroke:rgb(100%,34.509804%,0%);stroke-opacity:1;stroke-miterlimit:10;\" d=\"M 469.921875 102.476562 L 473.761719 102.476562 L 473.761719 103.824219 L 469.921875 103.824219 Z \"/>\n",
       "<path style=\"fill-rule:nonzero;fill:rgb(100%,36.078431%,0%);fill-opacity:1;stroke-width:0.75;stroke-linecap:round;stroke-linejoin:round;stroke:rgb(100%,36.078431%,0%);stroke-opacity:1;stroke-miterlimit:10;\" d=\"M 469.921875 103.828125 L 473.761719 103.828125 L 473.761719 105.175781 L 469.921875 105.175781 Z \"/>\n",
       "<path style=\"fill-rule:nonzero;fill:rgb(100%,37.647059%,0%);fill-opacity:1;stroke-width:0.75;stroke-linecap:round;stroke-linejoin:round;stroke:rgb(100%,37.647059%,0%);stroke-opacity:1;stroke-miterlimit:10;\" d=\"M 469.921875 105.175781 L 473.761719 105.175781 L 473.761719 106.523438 L 469.921875 106.523438 Z \"/>\n",
       "<path style=\"fill-rule:nonzero;fill:rgb(100%,39.215686%,0%);fill-opacity:1;stroke-width:0.75;stroke-linecap:round;stroke-linejoin:round;stroke:rgb(100%,39.215686%,0%);stroke-opacity:1;stroke-miterlimit:10;\" d=\"M 469.921875 106.527344 L 473.761719 106.527344 L 473.761719 107.875 L 469.921875 107.875 Z \"/>\n",
       "<path style=\"fill-rule:nonzero;fill:rgb(100%,40.784314%,0%);fill-opacity:1;stroke-width:0.75;stroke-linecap:round;stroke-linejoin:round;stroke:rgb(100%,40.784314%,0%);stroke-opacity:1;stroke-miterlimit:10;\" d=\"M 469.921875 107.875 L 473.761719 107.875 L 473.761719 109.222656 L 469.921875 109.222656 Z \"/>\n",
       "<path style=\"fill-rule:nonzero;fill:rgb(100%,42.352941%,0%);fill-opacity:1;stroke-width:0.75;stroke-linecap:round;stroke-linejoin:round;stroke:rgb(100%,42.352941%,0%);stroke-opacity:1;stroke-miterlimit:10;\" d=\"M 469.921875 109.222656 L 473.761719 109.222656 L 473.761719 110.570312 L 469.921875 110.570312 Z \"/>\n",
       "<path style=\"fill-rule:nonzero;fill:rgb(100%,43.921569%,0%);fill-opacity:1;stroke-width:0.75;stroke-linecap:round;stroke-linejoin:round;stroke:rgb(100%,43.921569%,0%);stroke-opacity:1;stroke-miterlimit:10;\" d=\"M 469.921875 110.574219 L 473.761719 110.574219 L 473.761719 111.921875 L 469.921875 111.921875 Z \"/>\n",
       "<path style=\"fill-rule:nonzero;fill:rgb(100%,45.490196%,0%);fill-opacity:1;stroke-width:0.75;stroke-linecap:round;stroke-linejoin:round;stroke:rgb(100%,45.490196%,0%);stroke-opacity:1;stroke-miterlimit:10;\" d=\"M 469.921875 111.921875 L 473.761719 111.921875 L 473.761719 113.269531 L 469.921875 113.269531 Z \"/>\n",
       "<path style=\"fill-rule:nonzero;fill:rgb(100%,47.058824%,0%);fill-opacity:1;stroke-width:0.75;stroke-linecap:round;stroke-linejoin:round;stroke:rgb(100%,47.058824%,0%);stroke-opacity:1;stroke-miterlimit:10;\" d=\"M 469.921875 113.269531 L 473.761719 113.269531 L 473.761719 114.617188 L 469.921875 114.617188 Z \"/>\n",
       "<path style=\"fill-rule:nonzero;fill:rgb(100%,48.627451%,0%);fill-opacity:1;stroke-width:0.75;stroke-linecap:round;stroke-linejoin:round;stroke:rgb(100%,48.627451%,0%);stroke-opacity:1;stroke-miterlimit:10;\" d=\"M 469.921875 114.621094 L 473.761719 114.621094 L 473.761719 115.96875 L 469.921875 115.96875 Z \"/>\n",
       "<path style=\"fill-rule:nonzero;fill:rgb(100%,50.196078%,0%);fill-opacity:1;stroke-width:0.75;stroke-linecap:round;stroke-linejoin:round;stroke:rgb(100%,50.196078%,0%);stroke-opacity:1;stroke-miterlimit:10;\" d=\"M 469.921875 115.96875 L 473.761719 115.96875 L 473.761719 117.316406 L 469.921875 117.316406 Z \"/>\n",
       "<path style=\"fill-rule:nonzero;fill:rgb(100%,51.764706%,0%);fill-opacity:1;stroke-width:0.75;stroke-linecap:round;stroke-linejoin:round;stroke:rgb(100%,51.764706%,0%);stroke-opacity:1;stroke-miterlimit:10;\" d=\"M 469.921875 117.316406 L 473.761719 117.316406 L 473.761719 118.664062 L 469.921875 118.664062 Z \"/>\n",
       "<path style=\"fill-rule:nonzero;fill:rgb(100%,53.333333%,0%);fill-opacity:1;stroke-width:0.75;stroke-linecap:round;stroke-linejoin:round;stroke:rgb(100%,53.333333%,0%);stroke-opacity:1;stroke-miterlimit:10;\" d=\"M 469.921875 118.667969 L 473.761719 118.667969 L 473.761719 120.015625 L 469.921875 120.015625 Z \"/>\n",
       "<path style=\"fill-rule:nonzero;fill:rgb(100%,54.901961%,0%);fill-opacity:1;stroke-width:0.75;stroke-linecap:round;stroke-linejoin:round;stroke:rgb(100%,54.901961%,0%);stroke-opacity:1;stroke-miterlimit:10;\" d=\"M 469.921875 120.015625 L 473.761719 120.015625 L 473.761719 121.363281 L 469.921875 121.363281 Z \"/>\n",
       "<path style=\"fill-rule:nonzero;fill:rgb(100%,56.470588%,0%);fill-opacity:1;stroke-width:0.75;stroke-linecap:round;stroke-linejoin:round;stroke:rgb(100%,56.470588%,0%);stroke-opacity:1;stroke-miterlimit:10;\" d=\"M 469.921875 121.363281 L 473.761719 121.363281 L 473.761719 122.710938 L 469.921875 122.710938 Z \"/>\n",
       "<path style=\"fill-rule:nonzero;fill:rgb(100%,58.039216%,0%);fill-opacity:1;stroke-width:0.75;stroke-linecap:round;stroke-linejoin:round;stroke:rgb(100%,58.039216%,0%);stroke-opacity:1;stroke-miterlimit:10;\" d=\"M 469.921875 122.714844 L 473.761719 122.714844 L 473.761719 124.0625 L 469.921875 124.0625 Z \"/>\n",
       "<path style=\"fill-rule:nonzero;fill:rgb(100%,59.607843%,0%);fill-opacity:1;stroke-width:0.75;stroke-linecap:round;stroke-linejoin:round;stroke:rgb(100%,59.607843%,0%);stroke-opacity:1;stroke-miterlimit:10;\" d=\"M 469.921875 124.0625 L 473.761719 124.0625 L 473.761719 125.410156 L 469.921875 125.410156 Z \"/>\n",
       "<path style=\"fill-rule:nonzero;fill:rgb(100%,61.176471%,0%);fill-opacity:1;stroke-width:0.75;stroke-linecap:round;stroke-linejoin:round;stroke:rgb(100%,61.176471%,0%);stroke-opacity:1;stroke-miterlimit:10;\" d=\"M 469.921875 125.410156 L 473.761719 125.410156 L 473.761719 126.757812 L 469.921875 126.757812 Z \"/>\n",
       "<path style=\"fill-rule:nonzero;fill:rgb(100%,62.745098%,0%);fill-opacity:1;stroke-width:0.75;stroke-linecap:round;stroke-linejoin:round;stroke:rgb(100%,62.745098%,0%);stroke-opacity:1;stroke-miterlimit:10;\" d=\"M 469.921875 126.761719 L 473.761719 126.761719 L 473.761719 128.109375 L 469.921875 128.109375 Z \"/>\n",
       "<path style=\"fill-rule:nonzero;fill:rgb(100%,64.313725%,0%);fill-opacity:1;stroke-width:0.75;stroke-linecap:round;stroke-linejoin:round;stroke:rgb(100%,64.313725%,0%);stroke-opacity:1;stroke-miterlimit:10;\" d=\"M 469.921875 128.109375 L 473.761719 128.109375 L 473.761719 129.457031 L 469.921875 129.457031 Z \"/>\n",
       "<path style=\"fill-rule:nonzero;fill:rgb(100%,65.882353%,0%);fill-opacity:1;stroke-width:0.75;stroke-linecap:round;stroke-linejoin:round;stroke:rgb(100%,65.882353%,0%);stroke-opacity:1;stroke-miterlimit:10;\" d=\"M 469.921875 129.457031 L 473.761719 129.457031 L 473.761719 130.804688 L 469.921875 130.804688 Z \"/>\n",
       "<path style=\"fill-rule:nonzero;fill:rgb(100%,67.45098%,0%);fill-opacity:1;stroke-width:0.75;stroke-linecap:round;stroke-linejoin:round;stroke:rgb(100%,67.45098%,0%);stroke-opacity:1;stroke-miterlimit:10;\" d=\"M 469.921875 130.808594 L 473.761719 130.808594 L 473.761719 132.15625 L 469.921875 132.15625 Z \"/>\n",
       "<path style=\"fill-rule:nonzero;fill:rgb(100%,69.019608%,0%);fill-opacity:1;stroke-width:0.75;stroke-linecap:round;stroke-linejoin:round;stroke:rgb(100%,69.019608%,0%);stroke-opacity:1;stroke-miterlimit:10;\" d=\"M 469.921875 132.15625 L 473.761719 132.15625 L 473.761719 133.503906 L 469.921875 133.503906 Z \"/>\n",
       "<path style=\"fill-rule:nonzero;fill:rgb(100%,70.588235%,0%);fill-opacity:1;stroke-width:0.75;stroke-linecap:round;stroke-linejoin:round;stroke:rgb(100%,70.588235%,0%);stroke-opacity:1;stroke-miterlimit:10;\" d=\"M 469.921875 133.507812 L 473.761719 133.507812 L 473.761719 134.855469 L 469.921875 134.855469 Z \"/>\n",
       "<path style=\"fill-rule:nonzero;fill:rgb(100%,72.156863%,0%);fill-opacity:1;stroke-width:0.75;stroke-linecap:round;stroke-linejoin:round;stroke:rgb(100%,72.156863%,0%);stroke-opacity:1;stroke-miterlimit:10;\" d=\"M 469.921875 134.855469 L 473.761719 134.855469 L 473.761719 136.203125 L 469.921875 136.203125 Z \"/>\n",
       "<path style=\"fill-rule:nonzero;fill:rgb(100%,73.72549%,0%);fill-opacity:1;stroke-width:0.75;stroke-linecap:round;stroke-linejoin:round;stroke:rgb(100%,73.72549%,0%);stroke-opacity:1;stroke-miterlimit:10;\" d=\"M 469.921875 136.203125 L 473.761719 136.203125 L 473.761719 137.550781 L 469.921875 137.550781 Z \"/>\n",
       "<path style=\"fill-rule:nonzero;fill:rgb(100%,75.294118%,0%);fill-opacity:1;stroke-width:0.75;stroke-linecap:round;stroke-linejoin:round;stroke:rgb(100%,75.294118%,0%);stroke-opacity:1;stroke-miterlimit:10;\" d=\"M 469.921875 137.554688 L 473.761719 137.554688 L 473.761719 138.902344 L 469.921875 138.902344 Z \"/>\n",
       "<path style=\"fill-rule:nonzero;fill:rgb(100%,76.862745%,0%);fill-opacity:1;stroke-width:0.75;stroke-linecap:round;stroke-linejoin:round;stroke:rgb(100%,76.862745%,0%);stroke-opacity:1;stroke-miterlimit:10;\" d=\"M 469.921875 138.902344 L 473.761719 138.902344 L 473.761719 140.25 L 469.921875 140.25 Z \"/>\n",
       "<path style=\"fill-rule:nonzero;fill:rgb(100%,78.431373%,0%);fill-opacity:1;stroke-width:0.75;stroke-linecap:round;stroke-linejoin:round;stroke:rgb(100%,78.431373%,0%);stroke-opacity:1;stroke-miterlimit:10;\" d=\"M 469.921875 140.25 L 473.761719 140.25 L 473.761719 141.597656 L 469.921875 141.597656 Z \"/>\n",
       "<path style=\"fill-rule:nonzero;fill:rgb(100%,80%,0%);fill-opacity:1;stroke-width:0.75;stroke-linecap:round;stroke-linejoin:round;stroke:rgb(100%,80%,0%);stroke-opacity:1;stroke-miterlimit:10;\" d=\"M 469.921875 141.601562 L 473.761719 141.601562 L 473.761719 142.949219 L 469.921875 142.949219 Z \"/>\n",
       "<path style=\"fill-rule:nonzero;fill:rgb(100%,81.568627%,0%);fill-opacity:1;stroke-width:0.75;stroke-linecap:round;stroke-linejoin:round;stroke:rgb(100%,81.568627%,0%);stroke-opacity:1;stroke-miterlimit:10;\" d=\"M 469.921875 142.949219 L 473.761719 142.949219 L 473.761719 144.296875 L 469.921875 144.296875 Z \"/>\n",
       "<path style=\"fill-rule:nonzero;fill:rgb(100%,83.137255%,0%);fill-opacity:1;stroke-width:0.75;stroke-linecap:round;stroke-linejoin:round;stroke:rgb(100%,83.137255%,0%);stroke-opacity:1;stroke-miterlimit:10;\" d=\"M 469.921875 144.296875 L 473.761719 144.296875 L 473.761719 145.644531 L 469.921875 145.644531 Z \"/>\n",
       "<path style=\"fill-rule:nonzero;fill:rgb(100%,84.705882%,0%);fill-opacity:1;stroke-width:0.75;stroke-linecap:round;stroke-linejoin:round;stroke:rgb(100%,84.705882%,0%);stroke-opacity:1;stroke-miterlimit:10;\" d=\"M 469.921875 145.648438 L 473.761719 145.648438 L 473.761719 146.996094 L 469.921875 146.996094 Z \"/>\n",
       "<path style=\"fill-rule:nonzero;fill:rgb(100%,86.27451%,0%);fill-opacity:1;stroke-width:0.75;stroke-linecap:round;stroke-linejoin:round;stroke:rgb(100%,86.27451%,0%);stroke-opacity:1;stroke-miterlimit:10;\" d=\"M 469.921875 146.996094 L 473.761719 146.996094 L 473.761719 148.34375 L 469.921875 148.34375 Z \"/>\n",
       "<path style=\"fill-rule:nonzero;fill:rgb(100%,87.843137%,0%);fill-opacity:1;stroke-width:0.75;stroke-linecap:round;stroke-linejoin:round;stroke:rgb(100%,87.843137%,0%);stroke-opacity:1;stroke-miterlimit:10;\" d=\"M 469.921875 148.34375 L 473.761719 148.34375 L 473.761719 149.691406 L 469.921875 149.691406 Z \"/>\n",
       "<path style=\"fill-rule:nonzero;fill:rgb(100%,89.411765%,0%);fill-opacity:1;stroke-width:0.75;stroke-linecap:round;stroke-linejoin:round;stroke:rgb(100%,89.411765%,0%);stroke-opacity:1;stroke-miterlimit:10;\" d=\"M 469.921875 149.695312 L 473.761719 149.695312 L 473.761719 151.042969 L 469.921875 151.042969 Z \"/>\n",
       "<path style=\"fill-rule:nonzero;fill:rgb(100%,90.980392%,0%);fill-opacity:1;stroke-width:0.75;stroke-linecap:round;stroke-linejoin:round;stroke:rgb(100%,90.980392%,0%);stroke-opacity:1;stroke-miterlimit:10;\" d=\"M 469.921875 151.042969 L 473.761719 151.042969 L 473.761719 152.390625 L 469.921875 152.390625 Z \"/>\n",
       "<path style=\"fill-rule:nonzero;fill:rgb(100%,92.54902%,0%);fill-opacity:1;stroke-width:0.75;stroke-linecap:round;stroke-linejoin:round;stroke:rgb(100%,92.54902%,0%);stroke-opacity:1;stroke-miterlimit:10;\" d=\"M 469.921875 152.390625 L 473.761719 152.390625 L 473.761719 153.738281 L 469.921875 153.738281 Z \"/>\n",
       "<path style=\"fill-rule:nonzero;fill:rgb(100%,94.117647%,0%);fill-opacity:1;stroke-width:0.75;stroke-linecap:round;stroke-linejoin:round;stroke:rgb(100%,94.117647%,0%);stroke-opacity:1;stroke-miterlimit:10;\" d=\"M 469.921875 153.742188 L 473.761719 153.742188 L 473.761719 155.089844 L 469.921875 155.089844 Z \"/>\n",
       "<path style=\"fill-rule:nonzero;fill:rgb(100%,95.686275%,0%);fill-opacity:1;stroke-width:0.75;stroke-linecap:round;stroke-linejoin:round;stroke:rgb(100%,95.686275%,0%);stroke-opacity:1;stroke-miterlimit:10;\" d=\"M 469.921875 155.089844 L 473.761719 155.089844 L 473.761719 156.4375 L 469.921875 156.4375 Z \"/>\n",
       "<path style=\"fill-rule:nonzero;fill:rgb(100%,97.254902%,0%);fill-opacity:1;stroke-width:0.75;stroke-linecap:round;stroke-linejoin:round;stroke:rgb(100%,97.254902%,0%);stroke-opacity:1;stroke-miterlimit:10;\" d=\"M 469.921875 156.4375 L 473.761719 156.4375 L 473.761719 157.785156 L 469.921875 157.785156 Z \"/>\n",
       "<path style=\"fill-rule:nonzero;fill:rgb(100%,98.823529%,0%);fill-opacity:1;stroke-width:0.75;stroke-linecap:round;stroke-linejoin:round;stroke:rgb(100%,98.823529%,0%);stroke-opacity:1;stroke-miterlimit:10;\" d=\"M 469.921875 157.789062 L 473.761719 157.789062 L 473.761719 159.136719 L 469.921875 159.136719 Z \"/>\n",
       "<path style=\"fill-rule:nonzero;fill:rgb(99.607843%,100%,0%);fill-opacity:1;stroke-width:0.75;stroke-linecap:round;stroke-linejoin:round;stroke:rgb(99.607843%,100%,0%);stroke-opacity:1;stroke-miterlimit:10;\" d=\"M 469.921875 159.136719 L 473.761719 159.136719 L 473.761719 160.484375 L 469.921875 160.484375 Z \"/>\n",
       "<path style=\"fill-rule:nonzero;fill:rgb(98.039216%,100%,0%);fill-opacity:1;stroke-width:0.75;stroke-linecap:round;stroke-linejoin:round;stroke:rgb(98.039216%,100%,0%);stroke-opacity:1;stroke-miterlimit:10;\" d=\"M 469.921875 160.484375 L 473.761719 160.484375 L 473.761719 161.832031 L 469.921875 161.832031 Z \"/>\n",
       "<path style=\"fill-rule:nonzero;fill:rgb(96.470588%,100%,0%);fill-opacity:1;stroke-width:0.75;stroke-linecap:round;stroke-linejoin:round;stroke:rgb(96.470588%,100%,0%);stroke-opacity:1;stroke-miterlimit:10;\" d=\"M 469.921875 161.835938 L 473.761719 161.835938 L 473.761719 163.183594 L 469.921875 163.183594 Z \"/>\n",
       "<path style=\"fill-rule:nonzero;fill:rgb(94.901961%,100%,0%);fill-opacity:1;stroke-width:0.75;stroke-linecap:round;stroke-linejoin:round;stroke:rgb(94.901961%,100%,0%);stroke-opacity:1;stroke-miterlimit:10;\" d=\"M 469.921875 163.183594 L 473.761719 163.183594 L 473.761719 164.53125 L 469.921875 164.53125 Z \"/>\n",
       "<path style=\"fill-rule:nonzero;fill:rgb(93.333333%,100%,0%);fill-opacity:1;stroke-width:0.75;stroke-linecap:round;stroke-linejoin:round;stroke:rgb(93.333333%,100%,0%);stroke-opacity:1;stroke-miterlimit:10;\" d=\"M 469.921875 164.535156 L 473.761719 164.535156 L 473.761719 165.882812 L 469.921875 165.882812 Z \"/>\n",
       "<path style=\"fill-rule:nonzero;fill:rgb(91.764706%,100%,0%);fill-opacity:1;stroke-width:0.75;stroke-linecap:round;stroke-linejoin:round;stroke:rgb(91.764706%,100%,0%);stroke-opacity:1;stroke-miterlimit:10;\" d=\"M 469.921875 165.882812 L 473.761719 165.882812 L 473.761719 167.230469 L 469.921875 167.230469 Z \"/>\n",
       "<path style=\"fill-rule:nonzero;fill:rgb(90.196078%,100%,0%);fill-opacity:1;stroke-width:0.75;stroke-linecap:round;stroke-linejoin:round;stroke:rgb(90.196078%,100%,0%);stroke-opacity:1;stroke-miterlimit:10;\" d=\"M 469.921875 167.230469 L 473.761719 167.230469 L 473.761719 168.578125 L 469.921875 168.578125 Z \"/>\n",
       "<path style=\"fill-rule:nonzero;fill:rgb(88.627451%,100%,0%);fill-opacity:1;stroke-width:0.75;stroke-linecap:round;stroke-linejoin:round;stroke:rgb(88.627451%,100%,0%);stroke-opacity:1;stroke-miterlimit:10;\" d=\"M 469.921875 168.582031 L 473.761719 168.582031 L 473.761719 169.929688 L 469.921875 169.929688 Z \"/>\n",
       "<path style=\"fill-rule:nonzero;fill:rgb(87.058824%,100%,0%);fill-opacity:1;stroke-width:0.75;stroke-linecap:round;stroke-linejoin:round;stroke:rgb(87.058824%,100%,0%);stroke-opacity:1;stroke-miterlimit:10;\" d=\"M 469.921875 169.929688 L 473.761719 169.929688 L 473.761719 171.277344 L 469.921875 171.277344 Z \"/>\n",
       "<path style=\"fill-rule:nonzero;fill:rgb(85.490196%,100%,0%);fill-opacity:1;stroke-width:0.75;stroke-linecap:round;stroke-linejoin:round;stroke:rgb(85.490196%,100%,0%);stroke-opacity:1;stroke-miterlimit:10;\" d=\"M 469.921875 171.277344 L 473.761719 171.277344 L 473.761719 172.625 L 469.921875 172.625 Z \"/>\n",
       "<path style=\"fill-rule:nonzero;fill:rgb(83.921569%,100%,0%);fill-opacity:1;stroke-width:0.75;stroke-linecap:round;stroke-linejoin:round;stroke:rgb(83.921569%,100%,0%);stroke-opacity:1;stroke-miterlimit:10;\" d=\"M 469.921875 172.628906 L 473.761719 172.628906 L 473.761719 173.976562 L 469.921875 173.976562 Z \"/>\n",
       "<path style=\"fill-rule:nonzero;fill:rgb(82.352941%,100%,0%);fill-opacity:1;stroke-width:0.75;stroke-linecap:round;stroke-linejoin:round;stroke:rgb(82.352941%,100%,0%);stroke-opacity:1;stroke-miterlimit:10;\" d=\"M 469.921875 173.976562 L 473.761719 173.976562 L 473.761719 175.324219 L 469.921875 175.324219 Z \"/>\n",
       "<path style=\"fill-rule:nonzero;fill:rgb(80.784314%,100%,0%);fill-opacity:1;stroke-width:0.75;stroke-linecap:round;stroke-linejoin:round;stroke:rgb(80.784314%,100%,0%);stroke-opacity:1;stroke-miterlimit:10;\" d=\"M 469.921875 175.324219 L 473.761719 175.324219 L 473.761719 176.671875 L 469.921875 176.671875 Z \"/>\n",
       "<path style=\"fill-rule:nonzero;fill:rgb(79.215686%,100%,0%);fill-opacity:1;stroke-width:0.75;stroke-linecap:round;stroke-linejoin:round;stroke:rgb(79.215686%,100%,0%);stroke-opacity:1;stroke-miterlimit:10;\" d=\"M 469.921875 176.675781 L 473.761719 176.675781 L 473.761719 178.023438 L 469.921875 178.023438 Z \"/>\n",
       "<path style=\"fill-rule:nonzero;fill:rgb(77.647059%,100%,0%);fill-opacity:1;stroke-width:0.75;stroke-linecap:round;stroke-linejoin:round;stroke:rgb(77.647059%,100%,0%);stroke-opacity:1;stroke-miterlimit:10;\" d=\"M 469.921875 178.023438 L 473.761719 178.023438 L 473.761719 179.371094 L 469.921875 179.371094 Z \"/>\n",
       "<path style=\"fill-rule:nonzero;fill:rgb(76.078431%,100%,0%);fill-opacity:1;stroke-width:0.75;stroke-linecap:round;stroke-linejoin:round;stroke:rgb(76.078431%,100%,0%);stroke-opacity:1;stroke-miterlimit:10;\" d=\"M 469.921875 179.371094 L 473.761719 179.371094 L 473.761719 180.71875 L 469.921875 180.71875 Z \"/>\n",
       "<path style=\"fill-rule:nonzero;fill:rgb(74.509804%,100%,0%);fill-opacity:1;stroke-width:0.75;stroke-linecap:round;stroke-linejoin:round;stroke:rgb(74.509804%,100%,0%);stroke-opacity:1;stroke-miterlimit:10;\" d=\"M 469.921875 180.722656 L 473.761719 180.722656 L 473.761719 182.070312 L 469.921875 182.070312 Z \"/>\n",
       "<path style=\"fill-rule:nonzero;fill:rgb(72.941176%,100%,0%);fill-opacity:1;stroke-width:0.75;stroke-linecap:round;stroke-linejoin:round;stroke:rgb(72.941176%,100%,0%);stroke-opacity:1;stroke-miterlimit:10;\" d=\"M 469.921875 182.070312 L 473.761719 182.070312 L 473.761719 183.417969 L 469.921875 183.417969 Z \"/>\n",
       "<path style=\"fill-rule:nonzero;fill:rgb(71.372549%,100%,0%);fill-opacity:1;stroke-width:0.75;stroke-linecap:round;stroke-linejoin:round;stroke:rgb(71.372549%,100%,0%);stroke-opacity:1;stroke-miterlimit:10;\" d=\"M 469.921875 183.417969 L 473.761719 183.417969 L 473.761719 184.765625 L 469.921875 184.765625 Z \"/>\n",
       "<path style=\"fill-rule:nonzero;fill:rgb(69.803922%,100%,0%);fill-opacity:1;stroke-width:0.75;stroke-linecap:round;stroke-linejoin:round;stroke:rgb(69.803922%,100%,0%);stroke-opacity:1;stroke-miterlimit:10;\" d=\"M 469.921875 184.769531 L 473.761719 184.769531 L 473.761719 186.117188 L 469.921875 186.117188 Z \"/>\n",
       "<path style=\"fill-rule:nonzero;fill:rgb(68.235294%,100%,0%);fill-opacity:1;stroke-width:0.75;stroke-linecap:round;stroke-linejoin:round;stroke:rgb(68.235294%,100%,0%);stroke-opacity:1;stroke-miterlimit:10;\" d=\"M 469.921875 186.117188 L 473.761719 186.117188 L 473.761719 187.464844 L 469.921875 187.464844 Z \"/>\n",
       "<path style=\"fill-rule:nonzero;fill:rgb(66.666667%,100%,0%);fill-opacity:1;stroke-width:0.75;stroke-linecap:round;stroke-linejoin:round;stroke:rgb(66.666667%,100%,0%);stroke-opacity:1;stroke-miterlimit:10;\" d=\"M 469.921875 187.464844 L 473.761719 187.464844 L 473.761719 188.8125 L 469.921875 188.8125 Z \"/>\n",
       "<path style=\"fill-rule:nonzero;fill:rgb(65.098039%,100%,0%);fill-opacity:1;stroke-width:0.75;stroke-linecap:round;stroke-linejoin:round;stroke:rgb(65.098039%,100%,0%);stroke-opacity:1;stroke-miterlimit:10;\" d=\"M 469.921875 188.816406 L 473.761719 188.816406 L 473.761719 190.164062 L 469.921875 190.164062 Z \"/>\n",
       "<path style=\"fill-rule:nonzero;fill:rgb(63.529412%,100%,0%);fill-opacity:1;stroke-width:0.75;stroke-linecap:round;stroke-linejoin:round;stroke:rgb(63.529412%,100%,0%);stroke-opacity:1;stroke-miterlimit:10;\" d=\"M 469.921875 190.164062 L 473.761719 190.164062 L 473.761719 191.511719 L 469.921875 191.511719 Z \"/>\n",
       "<path style=\"fill-rule:nonzero;fill:rgb(61.960784%,100%,0%);fill-opacity:1;stroke-width:0.75;stroke-linecap:round;stroke-linejoin:round;stroke:rgb(61.960784%,100%,0%);stroke-opacity:1;stroke-miterlimit:10;\" d=\"M 469.921875 191.515625 L 473.761719 191.515625 L 473.761719 192.863281 L 469.921875 192.863281 Z \"/>\n",
       "<path style=\"fill-rule:nonzero;fill:rgb(60.392157%,100%,0%);fill-opacity:1;stroke-width:0.75;stroke-linecap:round;stroke-linejoin:round;stroke:rgb(60.392157%,100%,0%);stroke-opacity:1;stroke-miterlimit:10;\" d=\"M 469.921875 192.863281 L 473.761719 192.863281 L 473.761719 194.210938 L 469.921875 194.210938 Z \"/>\n",
       "<path style=\"fill-rule:nonzero;fill:rgb(58.823529%,100%,0%);fill-opacity:1;stroke-width:0.75;stroke-linecap:round;stroke-linejoin:round;stroke:rgb(58.823529%,100%,0%);stroke-opacity:1;stroke-miterlimit:10;\" d=\"M 469.921875 194.210938 L 473.761719 194.210938 L 473.761719 195.558594 L 469.921875 195.558594 Z \"/>\n",
       "<path style=\"fill-rule:nonzero;fill:rgb(57.254902%,100%,0%);fill-opacity:1;stroke-width:0.75;stroke-linecap:round;stroke-linejoin:round;stroke:rgb(57.254902%,100%,0%);stroke-opacity:1;stroke-miterlimit:10;\" d=\"M 469.921875 195.5625 L 473.761719 195.5625 L 473.761719 196.910156 L 469.921875 196.910156 Z \"/>\n",
       "<path style=\"fill-rule:nonzero;fill:rgb(55.686275%,100%,0%);fill-opacity:1;stroke-width:0.75;stroke-linecap:round;stroke-linejoin:round;stroke:rgb(55.686275%,100%,0%);stroke-opacity:1;stroke-miterlimit:10;\" d=\"M 469.921875 196.910156 L 473.761719 196.910156 L 473.761719 198.257812 L 469.921875 198.257812 Z \"/>\n",
       "<path style=\"fill-rule:nonzero;fill:rgb(54.117647%,100%,0%);fill-opacity:1;stroke-width:0.75;stroke-linecap:round;stroke-linejoin:round;stroke:rgb(54.117647%,100%,0%);stroke-opacity:1;stroke-miterlimit:10;\" d=\"M 469.921875 198.257812 L 473.761719 198.257812 L 473.761719 199.605469 L 469.921875 199.605469 Z \"/>\n",
       "<path style=\"fill-rule:nonzero;fill:rgb(52.54902%,100%,0%);fill-opacity:1;stroke-width:0.75;stroke-linecap:round;stroke-linejoin:round;stroke:rgb(52.54902%,100%,0%);stroke-opacity:1;stroke-miterlimit:10;\" d=\"M 469.921875 199.609375 L 473.761719 199.609375 L 473.761719 200.957031 L 469.921875 200.957031 Z \"/>\n",
       "<path style=\"fill-rule:nonzero;fill:rgb(50.980392%,100%,0%);fill-opacity:1;stroke-width:0.75;stroke-linecap:round;stroke-linejoin:round;stroke:rgb(50.980392%,100%,0%);stroke-opacity:1;stroke-miterlimit:10;\" d=\"M 469.921875 200.957031 L 473.761719 200.957031 L 473.761719 202.304688 L 469.921875 202.304688 Z \"/>\n",
       "<path style=\"fill-rule:nonzero;fill:rgb(49.411765%,100%,0%);fill-opacity:1;stroke-width:0.75;stroke-linecap:round;stroke-linejoin:round;stroke:rgb(49.411765%,100%,0%);stroke-opacity:1;stroke-miterlimit:10;\" d=\"M 469.921875 202.304688 L 473.761719 202.304688 L 473.761719 203.652344 L 469.921875 203.652344 Z \"/>\n",
       "<path style=\"fill-rule:nonzero;fill:rgb(47.843137%,100%,0%);fill-opacity:1;stroke-width:0.75;stroke-linecap:round;stroke-linejoin:round;stroke:rgb(47.843137%,100%,0%);stroke-opacity:1;stroke-miterlimit:10;\" d=\"M 469.921875 203.65625 L 473.761719 203.65625 L 473.761719 205.003906 L 469.921875 205.003906 Z \"/>\n",
       "<path style=\"fill-rule:nonzero;fill:rgb(46.27451%,100%,0%);fill-opacity:1;stroke-width:0.75;stroke-linecap:round;stroke-linejoin:round;stroke:rgb(46.27451%,100%,0%);stroke-opacity:1;stroke-miterlimit:10;\" d=\"M 469.921875 205.003906 L 473.761719 205.003906 L 473.761719 206.351562 L 469.921875 206.351562 Z \"/>\n",
       "<path style=\"fill-rule:nonzero;fill:rgb(44.705882%,100%,0%);fill-opacity:1;stroke-width:0.75;stroke-linecap:round;stroke-linejoin:round;stroke:rgb(44.705882%,100%,0%);stroke-opacity:1;stroke-miterlimit:10;\" d=\"M 469.921875 206.351562 L 473.761719 206.351562 L 473.761719 207.699219 L 469.921875 207.699219 Z \"/>\n",
       "<path style=\"fill-rule:nonzero;fill:rgb(43.137255%,100%,0%);fill-opacity:1;stroke-width:0.75;stroke-linecap:round;stroke-linejoin:round;stroke:rgb(43.137255%,100%,0%);stroke-opacity:1;stroke-miterlimit:10;\" d=\"M 469.921875 207.703125 L 473.761719 207.703125 L 473.761719 209.050781 L 469.921875 209.050781 Z \"/>\n",
       "<path style=\"fill-rule:nonzero;fill:rgb(41.568627%,100%,0%);fill-opacity:1;stroke-width:0.75;stroke-linecap:round;stroke-linejoin:round;stroke:rgb(41.568627%,100%,0%);stroke-opacity:1;stroke-miterlimit:10;\" d=\"M 469.921875 209.050781 L 473.761719 209.050781 L 473.761719 210.398438 L 469.921875 210.398438 Z \"/>\n",
       "<path style=\"fill-rule:nonzero;fill:rgb(40%,100%,0%);fill-opacity:1;stroke-width:0.75;stroke-linecap:round;stroke-linejoin:round;stroke:rgb(40%,100%,0%);stroke-opacity:1;stroke-miterlimit:10;\" d=\"M 469.921875 210.398438 L 473.761719 210.398438 L 473.761719 211.746094 L 469.921875 211.746094 Z \"/>\n",
       "<path style=\"fill-rule:nonzero;fill:rgb(38.431373%,100%,0%);fill-opacity:1;stroke-width:0.75;stroke-linecap:round;stroke-linejoin:round;stroke:rgb(38.431373%,100%,0%);stroke-opacity:1;stroke-miterlimit:10;\" d=\"M 469.921875 211.75 L 473.761719 211.75 L 473.761719 213.097656 L 469.921875 213.097656 Z \"/>\n",
       "<path style=\"fill-rule:nonzero;fill:rgb(36.862745%,100%,0%);fill-opacity:1;stroke-width:0.75;stroke-linecap:round;stroke-linejoin:round;stroke:rgb(36.862745%,100%,0%);stroke-opacity:1;stroke-miterlimit:10;\" d=\"M 469.921875 213.097656 L 473.761719 213.097656 L 473.761719 214.445312 L 469.921875 214.445312 Z \"/>\n",
       "<path style=\"fill-rule:nonzero;fill:rgb(35.294118%,100%,0%);fill-opacity:1;stroke-width:0.75;stroke-linecap:round;stroke-linejoin:round;stroke:rgb(35.294118%,100%,0%);stroke-opacity:1;stroke-miterlimit:10;\" d=\"M 469.921875 214.445312 L 473.761719 214.445312 L 473.761719 215.792969 L 469.921875 215.792969 Z \"/>\n",
       "<path style=\"fill-rule:nonzero;fill:rgb(33.72549%,100%,0%);fill-opacity:1;stroke-width:0.75;stroke-linecap:round;stroke-linejoin:round;stroke:rgb(33.72549%,100%,0%);stroke-opacity:1;stroke-miterlimit:10;\" d=\"M 469.921875 215.796875 L 473.761719 215.796875 L 473.761719 217.144531 L 469.921875 217.144531 Z \"/>\n",
       "<path style=\"fill-rule:nonzero;fill:rgb(32.156863%,100%,0%);fill-opacity:1;stroke-width:0.75;stroke-linecap:round;stroke-linejoin:round;stroke:rgb(32.156863%,100%,0%);stroke-opacity:1;stroke-miterlimit:10;\" d=\"M 469.921875 217.144531 L 473.761719 217.144531 L 473.761719 218.492188 L 469.921875 218.492188 Z \"/>\n",
       "<path style=\"fill-rule:nonzero;fill:rgb(30.588235%,100%,0%);fill-opacity:1;stroke-width:0.75;stroke-linecap:round;stroke-linejoin:round;stroke:rgb(30.588235%,100%,0%);stroke-opacity:1;stroke-miterlimit:10;\" d=\"M 469.921875 218.492188 L 473.761719 218.492188 L 473.761719 219.839844 L 469.921875 219.839844 Z \"/>\n",
       "<path style=\"fill-rule:nonzero;fill:rgb(29.019608%,100%,0%);fill-opacity:1;stroke-width:0.75;stroke-linecap:round;stroke-linejoin:round;stroke:rgb(29.019608%,100%,0%);stroke-opacity:1;stroke-miterlimit:10;\" d=\"M 469.921875 219.84375 L 473.761719 219.84375 L 473.761719 221.191406 L 469.921875 221.191406 Z \"/>\n",
       "<path style=\"fill-rule:nonzero;fill:rgb(27.45098%,100%,0%);fill-opacity:1;stroke-width:0.75;stroke-linecap:round;stroke-linejoin:round;stroke:rgb(27.45098%,100%,0%);stroke-opacity:1;stroke-miterlimit:10;\" d=\"M 469.921875 221.191406 L 473.761719 221.191406 L 473.761719 222.539062 L 469.921875 222.539062 Z \"/>\n",
       "<path style=\"fill-rule:nonzero;fill:rgb(25.882353%,100%,0%);fill-opacity:1;stroke-width:0.75;stroke-linecap:round;stroke-linejoin:round;stroke:rgb(25.882353%,100%,0%);stroke-opacity:1;stroke-miterlimit:10;\" d=\"M 469.921875 222.542969 L 473.761719 222.542969 L 473.761719 223.890625 L 469.921875 223.890625 Z \"/>\n",
       "<path style=\"fill-rule:nonzero;fill:rgb(24.313725%,100%,0%);fill-opacity:1;stroke-width:0.75;stroke-linecap:round;stroke-linejoin:round;stroke:rgb(24.313725%,100%,0%);stroke-opacity:1;stroke-miterlimit:10;\" d=\"M 469.921875 223.890625 L 473.761719 223.890625 L 473.761719 225.238281 L 469.921875 225.238281 Z \"/>\n",
       "<path style=\"fill-rule:nonzero;fill:rgb(22.745098%,100%,0%);fill-opacity:1;stroke-width:0.75;stroke-linecap:round;stroke-linejoin:round;stroke:rgb(22.745098%,100%,0%);stroke-opacity:1;stroke-miterlimit:10;\" d=\"M 469.921875 225.238281 L 473.761719 225.238281 L 473.761719 226.585938 L 469.921875 226.585938 Z \"/>\n",
       "<path style=\"fill-rule:nonzero;fill:rgb(21.176471%,100%,0%);fill-opacity:1;stroke-width:0.75;stroke-linecap:round;stroke-linejoin:round;stroke:rgb(21.176471%,100%,0%);stroke-opacity:1;stroke-miterlimit:10;\" d=\"M 469.921875 226.589844 L 473.761719 226.589844 L 473.761719 227.9375 L 469.921875 227.9375 Z \"/>\n",
       "<path style=\"fill-rule:nonzero;fill:rgb(19.607843%,100%,0%);fill-opacity:1;stroke-width:0.75;stroke-linecap:round;stroke-linejoin:round;stroke:rgb(19.607843%,100%,0%);stroke-opacity:1;stroke-miterlimit:10;\" d=\"M 469.921875 227.9375 L 473.761719 227.9375 L 473.761719 229.285156 L 469.921875 229.285156 Z \"/>\n",
       "<path style=\"fill-rule:nonzero;fill:rgb(18.039216%,100%,0%);fill-opacity:1;stroke-width:0.75;stroke-linecap:round;stroke-linejoin:round;stroke:rgb(18.039216%,100%,0%);stroke-opacity:1;stroke-miterlimit:10;\" d=\"M 469.921875 229.285156 L 473.761719 229.285156 L 473.761719 230.632812 L 469.921875 230.632812 Z \"/>\n",
       "<path style=\"fill-rule:nonzero;fill:rgb(16.470588%,100%,0%);fill-opacity:1;stroke-width:0.75;stroke-linecap:round;stroke-linejoin:round;stroke:rgb(16.470588%,100%,0%);stroke-opacity:1;stroke-miterlimit:10;\" d=\"M 469.921875 230.636719 L 473.761719 230.636719 L 473.761719 231.984375 L 469.921875 231.984375 Z \"/>\n",
       "<path style=\"fill-rule:nonzero;fill:rgb(14.901961%,100%,0%);fill-opacity:1;stroke-width:0.75;stroke-linecap:round;stroke-linejoin:round;stroke:rgb(14.901961%,100%,0%);stroke-opacity:1;stroke-miterlimit:10;\" d=\"M 469.921875 231.984375 L 473.761719 231.984375 L 473.761719 233.332031 L 469.921875 233.332031 Z \"/>\n",
       "<path style=\"fill-rule:nonzero;fill:rgb(13.333333%,100%,0%);fill-opacity:1;stroke-width:0.75;stroke-linecap:round;stroke-linejoin:round;stroke:rgb(13.333333%,100%,0%);stroke-opacity:1;stroke-miterlimit:10;\" d=\"M 469.921875 233.332031 L 473.761719 233.332031 L 473.761719 234.679688 L 469.921875 234.679688 Z \"/>\n",
       "<path style=\"fill-rule:nonzero;fill:rgb(11.764706%,100%,0%);fill-opacity:1;stroke-width:0.75;stroke-linecap:round;stroke-linejoin:round;stroke:rgb(11.764706%,100%,0%);stroke-opacity:1;stroke-miterlimit:10;\" d=\"M 469.921875 234.683594 L 473.761719 234.683594 L 473.761719 236.03125 L 469.921875 236.03125 Z \"/>\n",
       "<path style=\"fill-rule:nonzero;fill:rgb(10.196078%,100%,0%);fill-opacity:1;stroke-width:0.75;stroke-linecap:round;stroke-linejoin:round;stroke:rgb(10.196078%,100%,0%);stroke-opacity:1;stroke-miterlimit:10;\" d=\"M 469.921875 236.03125 L 473.761719 236.03125 L 473.761719 237.378906 L 469.921875 237.378906 Z \"/>\n",
       "<path style=\"fill-rule:nonzero;fill:rgb(8.627451%,100%,0%);fill-opacity:1;stroke-width:0.75;stroke-linecap:round;stroke-linejoin:round;stroke:rgb(8.627451%,100%,0%);stroke-opacity:1;stroke-miterlimit:10;\" d=\"M 469.921875 237.378906 L 473.761719 237.378906 L 473.761719 238.726562 L 469.921875 238.726562 Z \"/>\n",
       "<path style=\"fill-rule:nonzero;fill:rgb(7.058824%,100%,0%);fill-opacity:1;stroke-width:0.75;stroke-linecap:round;stroke-linejoin:round;stroke:rgb(7.058824%,100%,0%);stroke-opacity:1;stroke-miterlimit:10;\" d=\"M 469.921875 238.730469 L 473.761719 238.730469 L 473.761719 240.078125 L 469.921875 240.078125 Z \"/>\n",
       "<path style=\"fill-rule:nonzero;fill:rgb(5.490196%,100%,0%);fill-opacity:1;stroke-width:0.75;stroke-linecap:round;stroke-linejoin:round;stroke:rgb(5.490196%,100%,0%);stroke-opacity:1;stroke-miterlimit:10;\" d=\"M 469.921875 240.078125 L 473.761719 240.078125 L 473.761719 241.425781 L 469.921875 241.425781 Z \"/>\n",
       "<path style=\"fill-rule:nonzero;fill:rgb(3.921569%,100%,0%);fill-opacity:1;stroke-width:0.75;stroke-linecap:round;stroke-linejoin:round;stroke:rgb(3.921569%,100%,0%);stroke-opacity:1;stroke-miterlimit:10;\" d=\"M 469.921875 241.425781 L 473.761719 241.425781 L 473.761719 242.773438 L 469.921875 242.773438 Z \"/>\n",
       "<path style=\"fill-rule:nonzero;fill:rgb(2.352941%,100%,0%);fill-opacity:1;stroke-width:0.75;stroke-linecap:round;stroke-linejoin:round;stroke:rgb(2.352941%,100%,0%);stroke-opacity:1;stroke-miterlimit:10;\" d=\"M 469.921875 242.777344 L 473.761719 242.777344 L 473.761719 244.125 L 469.921875 244.125 Z \"/>\n",
       "<path style=\"fill-rule:nonzero;fill:rgb(0.784314%,100%,0%);fill-opacity:1;stroke-width:0.75;stroke-linecap:round;stroke-linejoin:round;stroke:rgb(0.784314%,100%,0%);stroke-opacity:1;stroke-miterlimit:10;\" d=\"M 469.921875 244.125 L 473.761719 244.125 L 473.761719 245.472656 L 469.921875 245.472656 Z \"/>\n",
       "<path style=\"fill-rule:nonzero;fill:rgb(0%,100%,0.784314%);fill-opacity:1;stroke-width:0.75;stroke-linecap:round;stroke-linejoin:round;stroke:rgb(0%,100%,0.784314%);stroke-opacity:1;stroke-miterlimit:10;\" d=\"M 469.921875 245.472656 L 473.761719 245.472656 L 473.761719 246.820312 L 469.921875 246.820312 Z \"/>\n",
       "<path style=\"fill-rule:nonzero;fill:rgb(0%,100%,2.352941%);fill-opacity:1;stroke-width:0.75;stroke-linecap:round;stroke-linejoin:round;stroke:rgb(0%,100%,2.352941%);stroke-opacity:1;stroke-miterlimit:10;\" d=\"M 469.921875 246.824219 L 473.761719 246.824219 L 473.761719 248.171875 L 469.921875 248.171875 Z \"/>\n",
       "<path style=\"fill-rule:nonzero;fill:rgb(0%,100%,3.921569%);fill-opacity:1;stroke-width:0.75;stroke-linecap:round;stroke-linejoin:round;stroke:rgb(0%,100%,3.921569%);stroke-opacity:1;stroke-miterlimit:10;\" d=\"M 469.921875 248.171875 L 473.761719 248.171875 L 473.761719 249.519531 L 469.921875 249.519531 Z \"/>\n",
       "<path style=\"fill-rule:nonzero;fill:rgb(0%,100%,5.490196%);fill-opacity:1;stroke-width:0.75;stroke-linecap:round;stroke-linejoin:round;stroke:rgb(0%,100%,5.490196%);stroke-opacity:1;stroke-miterlimit:10;\" d=\"M 469.921875 249.523438 L 473.761719 249.523438 L 473.761719 250.871094 L 469.921875 250.871094 Z \"/>\n",
       "<path style=\"fill-rule:nonzero;fill:rgb(0%,100%,7.058824%);fill-opacity:1;stroke-width:0.75;stroke-linecap:round;stroke-linejoin:round;stroke:rgb(0%,100%,7.058824%);stroke-opacity:1;stroke-miterlimit:10;\" d=\"M 469.921875 250.871094 L 473.761719 250.871094 L 473.761719 252.21875 L 469.921875 252.21875 Z \"/>\n",
       "<path style=\"fill-rule:nonzero;fill:rgb(0%,100%,8.627451%);fill-opacity:1;stroke-width:0.75;stroke-linecap:round;stroke-linejoin:round;stroke:rgb(0%,100%,8.627451%);stroke-opacity:1;stroke-miterlimit:10;\" d=\"M 469.921875 252.21875 L 473.761719 252.21875 L 473.761719 253.566406 L 469.921875 253.566406 Z \"/>\n",
       "<path style=\"fill-rule:nonzero;fill:rgb(0%,100%,10.196078%);fill-opacity:1;stroke-width:0.75;stroke-linecap:round;stroke-linejoin:round;stroke:rgb(0%,100%,10.196078%);stroke-opacity:1;stroke-miterlimit:10;\" d=\"M 469.921875 253.570312 L 473.761719 253.570312 L 473.761719 254.917969 L 469.921875 254.917969 Z \"/>\n",
       "<path style=\"fill-rule:nonzero;fill:rgb(0%,100%,11.764706%);fill-opacity:1;stroke-width:0.75;stroke-linecap:round;stroke-linejoin:round;stroke:rgb(0%,100%,11.764706%);stroke-opacity:1;stroke-miterlimit:10;\" d=\"M 469.921875 254.917969 L 473.761719 254.917969 L 473.761719 256.265625 L 469.921875 256.265625 Z \"/>\n",
       "<path style=\"fill-rule:nonzero;fill:rgb(0%,100%,13.333333%);fill-opacity:1;stroke-width:0.75;stroke-linecap:round;stroke-linejoin:round;stroke:rgb(0%,100%,13.333333%);stroke-opacity:1;stroke-miterlimit:10;\" d=\"M 469.921875 256.265625 L 473.761719 256.265625 L 473.761719 257.613281 L 469.921875 257.613281 Z \"/>\n",
       "<path style=\"fill-rule:nonzero;fill:rgb(0%,100%,14.901961%);fill-opacity:1;stroke-width:0.75;stroke-linecap:round;stroke-linejoin:round;stroke:rgb(0%,100%,14.901961%);stroke-opacity:1;stroke-miterlimit:10;\" d=\"M 469.921875 257.617188 L 473.761719 257.617188 L 473.761719 258.964844 L 469.921875 258.964844 Z \"/>\n",
       "<path style=\"fill-rule:nonzero;fill:rgb(0%,100%,16.470588%);fill-opacity:1;stroke-width:0.75;stroke-linecap:round;stroke-linejoin:round;stroke:rgb(0%,100%,16.470588%);stroke-opacity:1;stroke-miterlimit:10;\" d=\"M 469.921875 258.964844 L 473.761719 258.964844 L 473.761719 260.3125 L 469.921875 260.3125 Z \"/>\n",
       "<path style=\"fill-rule:nonzero;fill:rgb(0%,100%,18.039216%);fill-opacity:1;stroke-width:0.75;stroke-linecap:round;stroke-linejoin:round;stroke:rgb(0%,100%,18.039216%);stroke-opacity:1;stroke-miterlimit:10;\" d=\"M 469.921875 260.3125 L 473.761719 260.3125 L 473.761719 261.660156 L 469.921875 261.660156 Z \"/>\n",
       "<path style=\"fill-rule:nonzero;fill:rgb(0%,100%,19.607843%);fill-opacity:1;stroke-width:0.75;stroke-linecap:round;stroke-linejoin:round;stroke:rgb(0%,100%,19.607843%);stroke-opacity:1;stroke-miterlimit:10;\" d=\"M 469.921875 261.664062 L 473.761719 261.664062 L 473.761719 263.011719 L 469.921875 263.011719 Z \"/>\n",
       "<path style=\"fill-rule:nonzero;fill:rgb(0%,100%,21.176471%);fill-opacity:1;stroke-width:0.75;stroke-linecap:round;stroke-linejoin:round;stroke:rgb(0%,100%,21.176471%);stroke-opacity:1;stroke-miterlimit:10;\" d=\"M 469.921875 263.011719 L 473.761719 263.011719 L 473.761719 264.359375 L 469.921875 264.359375 Z \"/>\n",
       "<path style=\"fill-rule:nonzero;fill:rgb(0%,100%,22.745098%);fill-opacity:1;stroke-width:0.75;stroke-linecap:round;stroke-linejoin:round;stroke:rgb(0%,100%,22.745098%);stroke-opacity:1;stroke-miterlimit:10;\" d=\"M 469.921875 264.359375 L 473.761719 264.359375 L 473.761719 265.707031 L 469.921875 265.707031 Z \"/>\n",
       "<path style=\"fill-rule:nonzero;fill:rgb(0%,100%,24.313725%);fill-opacity:1;stroke-width:0.75;stroke-linecap:round;stroke-linejoin:round;stroke:rgb(0%,100%,24.313725%);stroke-opacity:1;stroke-miterlimit:10;\" d=\"M 469.921875 265.710938 L 473.761719 265.710938 L 473.761719 267.058594 L 469.921875 267.058594 Z \"/>\n",
       "<path style=\"fill-rule:nonzero;fill:rgb(0%,100%,25.882353%);fill-opacity:1;stroke-width:0.75;stroke-linecap:round;stroke-linejoin:round;stroke:rgb(0%,100%,25.882353%);stroke-opacity:1;stroke-miterlimit:10;\" d=\"M 469.921875 267.058594 L 473.761719 267.058594 L 473.761719 268.40625 L 469.921875 268.40625 Z \"/>\n",
       "<path style=\"fill-rule:nonzero;fill:rgb(0%,100%,27.45098%);fill-opacity:1;stroke-width:0.75;stroke-linecap:round;stroke-linejoin:round;stroke:rgb(0%,100%,27.45098%);stroke-opacity:1;stroke-miterlimit:10;\" d=\"M 469.921875 268.40625 L 473.761719 268.40625 L 473.761719 269.753906 L 469.921875 269.753906 Z \"/>\n",
       "<path style=\"fill-rule:nonzero;fill:rgb(0%,100%,29.019608%);fill-opacity:1;stroke-width:0.75;stroke-linecap:round;stroke-linejoin:round;stroke:rgb(0%,100%,29.019608%);stroke-opacity:1;stroke-miterlimit:10;\" d=\"M 469.921875 269.757812 L 473.761719 269.757812 L 473.761719 271.105469 L 469.921875 271.105469 Z \"/>\n",
       "<path style=\"fill-rule:nonzero;fill:rgb(0%,100%,30.588235%);fill-opacity:1;stroke-width:0.75;stroke-linecap:round;stroke-linejoin:round;stroke:rgb(0%,100%,30.588235%);stroke-opacity:1;stroke-miterlimit:10;\" d=\"M 469.921875 271.105469 L 473.761719 271.105469 L 473.761719 272.453125 L 469.921875 272.453125 Z \"/>\n",
       "<path style=\"fill-rule:nonzero;fill:rgb(0%,100%,32.156863%);fill-opacity:1;stroke-width:0.75;stroke-linecap:round;stroke-linejoin:round;stroke:rgb(0%,100%,32.156863%);stroke-opacity:1;stroke-miterlimit:10;\" d=\"M 469.921875 272.453125 L 473.761719 272.453125 L 473.761719 273.800781 L 469.921875 273.800781 Z \"/>\n",
       "<path style=\"fill-rule:nonzero;fill:rgb(0%,100%,33.72549%);fill-opacity:1;stroke-width:0.75;stroke-linecap:round;stroke-linejoin:round;stroke:rgb(0%,100%,33.72549%);stroke-opacity:1;stroke-miterlimit:10;\" d=\"M 469.921875 273.804688 L 473.761719 273.804688 L 473.761719 275.152344 L 469.921875 275.152344 Z \"/>\n",
       "<path style=\"fill-rule:nonzero;fill:rgb(0%,100%,35.294118%);fill-opacity:1;stroke-width:0.75;stroke-linecap:round;stroke-linejoin:round;stroke:rgb(0%,100%,35.294118%);stroke-opacity:1;stroke-miterlimit:10;\" d=\"M 469.921875 275.152344 L 473.761719 275.152344 L 473.761719 276.5 L 469.921875 276.5 Z \"/>\n",
       "<path style=\"fill-rule:nonzero;fill:rgb(0%,100%,36.862745%);fill-opacity:1;stroke-width:0.75;stroke-linecap:round;stroke-linejoin:round;stroke:rgb(0%,100%,36.862745%);stroke-opacity:1;stroke-miterlimit:10;\" d=\"M 469.921875 276.503906 L 473.761719 276.503906 L 473.761719 277.851562 L 469.921875 277.851562 Z \"/>\n",
       "<path style=\"fill-rule:nonzero;fill:rgb(0%,100%,38.431373%);fill-opacity:1;stroke-width:0.75;stroke-linecap:round;stroke-linejoin:round;stroke:rgb(0%,100%,38.431373%);stroke-opacity:1;stroke-miterlimit:10;\" d=\"M 469.921875 277.851562 L 473.761719 277.851562 L 473.761719 279.199219 L 469.921875 279.199219 Z \"/>\n",
       "<path style=\"fill-rule:nonzero;fill:rgb(0%,100%,40%);fill-opacity:1;stroke-width:0.75;stroke-linecap:round;stroke-linejoin:round;stroke:rgb(0%,100%,40%);stroke-opacity:1;stroke-miterlimit:10;\" d=\"M 469.921875 279.199219 L 473.761719 279.199219 L 473.761719 280.546875 L 469.921875 280.546875 Z \"/>\n",
       "<path style=\"fill-rule:nonzero;fill:rgb(0%,100%,41.568627%);fill-opacity:1;stroke-width:0.75;stroke-linecap:round;stroke-linejoin:round;stroke:rgb(0%,100%,41.568627%);stroke-opacity:1;stroke-miterlimit:10;\" d=\"M 469.921875 280.550781 L 473.761719 280.550781 L 473.761719 281.898438 L 469.921875 281.898438 Z \"/>\n",
       "<path style=\"fill-rule:nonzero;fill:rgb(0%,100%,43.137255%);fill-opacity:1;stroke-width:0.75;stroke-linecap:round;stroke-linejoin:round;stroke:rgb(0%,100%,43.137255%);stroke-opacity:1;stroke-miterlimit:10;\" d=\"M 469.921875 281.898438 L 473.761719 281.898438 L 473.761719 283.246094 L 469.921875 283.246094 Z \"/>\n",
       "<path style=\"fill-rule:nonzero;fill:rgb(0%,100%,44.705882%);fill-opacity:1;stroke-width:0.75;stroke-linecap:round;stroke-linejoin:round;stroke:rgb(0%,100%,44.705882%);stroke-opacity:1;stroke-miterlimit:10;\" d=\"M 469.921875 283.246094 L 473.761719 283.246094 L 473.761719 284.59375 L 469.921875 284.59375 Z \"/>\n",
       "<path style=\"fill-rule:nonzero;fill:rgb(0%,100%,46.27451%);fill-opacity:1;stroke-width:0.75;stroke-linecap:round;stroke-linejoin:round;stroke:rgb(0%,100%,46.27451%);stroke-opacity:1;stroke-miterlimit:10;\" d=\"M 469.921875 284.597656 L 473.761719 284.597656 L 473.761719 285.945312 L 469.921875 285.945312 Z \"/>\n",
       "<path style=\"fill-rule:nonzero;fill:rgb(0%,100%,47.843137%);fill-opacity:1;stroke-width:0.75;stroke-linecap:round;stroke-linejoin:round;stroke:rgb(0%,100%,47.843137%);stroke-opacity:1;stroke-miterlimit:10;\" d=\"M 469.921875 285.945312 L 473.761719 285.945312 L 473.761719 287.292969 L 469.921875 287.292969 Z \"/>\n",
       "<path style=\"fill-rule:nonzero;fill:rgb(0%,100%,49.411765%);fill-opacity:1;stroke-width:0.75;stroke-linecap:round;stroke-linejoin:round;stroke:rgb(0%,100%,49.411765%);stroke-opacity:1;stroke-miterlimit:10;\" d=\"M 469.921875 287.292969 L 473.761719 287.292969 L 473.761719 288.640625 L 469.921875 288.640625 Z \"/>\n",
       "<path style=\"fill-rule:nonzero;fill:rgb(0%,100%,50.980392%);fill-opacity:1;stroke-width:0.75;stroke-linecap:round;stroke-linejoin:round;stroke:rgb(0%,100%,50.980392%);stroke-opacity:1;stroke-miterlimit:10;\" d=\"M 469.921875 288.644531 L 473.761719 288.644531 L 473.761719 289.992188 L 469.921875 289.992188 Z \"/>\n",
       "<path style=\"fill-rule:nonzero;fill:rgb(0%,100%,52.54902%);fill-opacity:1;stroke-width:0.75;stroke-linecap:round;stroke-linejoin:round;stroke:rgb(0%,100%,52.54902%);stroke-opacity:1;stroke-miterlimit:10;\" d=\"M 469.921875 289.992188 L 473.761719 289.992188 L 473.761719 291.339844 L 469.921875 291.339844 Z \"/>\n",
       "<path style=\"fill-rule:nonzero;fill:rgb(0%,100%,54.117647%);fill-opacity:1;stroke-width:0.75;stroke-linecap:round;stroke-linejoin:round;stroke:rgb(0%,100%,54.117647%);stroke-opacity:1;stroke-miterlimit:10;\" d=\"M 469.921875 291.339844 L 473.761719 291.339844 L 473.761719 292.6875 L 469.921875 292.6875 Z \"/>\n",
       "<path style=\"fill-rule:nonzero;fill:rgb(0%,100%,55.686275%);fill-opacity:1;stroke-width:0.75;stroke-linecap:round;stroke-linejoin:round;stroke:rgb(0%,100%,55.686275%);stroke-opacity:1;stroke-miterlimit:10;\" d=\"M 469.921875 292.691406 L 473.761719 292.691406 L 473.761719 294.039062 L 469.921875 294.039062 Z \"/>\n",
       "<path style=\"fill-rule:nonzero;fill:rgb(0%,100%,57.254902%);fill-opacity:1;stroke-width:0.75;stroke-linecap:round;stroke-linejoin:round;stroke:rgb(0%,100%,57.254902%);stroke-opacity:1;stroke-miterlimit:10;\" d=\"M 469.921875 294.039062 L 473.761719 294.039062 L 473.761719 295.386719 L 469.921875 295.386719 Z \"/>\n",
       "<path style=\"fill-rule:nonzero;fill:rgb(0%,100%,58.823529%);fill-opacity:1;stroke-width:0.75;stroke-linecap:round;stroke-linejoin:round;stroke:rgb(0%,100%,58.823529%);stroke-opacity:1;stroke-miterlimit:10;\" d=\"M 469.921875 295.386719 L 473.761719 295.386719 L 473.761719 296.734375 L 469.921875 296.734375 Z \"/>\n",
       "<path style=\"fill-rule:nonzero;fill:rgb(0%,100%,60.392157%);fill-opacity:1;stroke-width:0.75;stroke-linecap:round;stroke-linejoin:round;stroke:rgb(0%,100%,60.392157%);stroke-opacity:1;stroke-miterlimit:10;\" d=\"M 469.921875 296.738281 L 473.761719 296.738281 L 473.761719 298.085938 L 469.921875 298.085938 Z \"/>\n",
       "<path style=\"fill-rule:nonzero;fill:rgb(0%,100%,61.960784%);fill-opacity:1;stroke-width:0.75;stroke-linecap:round;stroke-linejoin:round;stroke:rgb(0%,100%,61.960784%);stroke-opacity:1;stroke-miterlimit:10;\" d=\"M 469.921875 298.085938 L 473.761719 298.085938 L 473.761719 299.433594 L 469.921875 299.433594 Z \"/>\n",
       "<path style=\"fill-rule:nonzero;fill:rgb(0%,100%,63.529412%);fill-opacity:1;stroke-width:0.75;stroke-linecap:round;stroke-linejoin:round;stroke:rgb(0%,100%,63.529412%);stroke-opacity:1;stroke-miterlimit:10;\" d=\"M 469.921875 299.433594 L 473.761719 299.433594 L 473.761719 300.78125 L 469.921875 300.78125 Z \"/>\n",
       "<path style=\"fill-rule:nonzero;fill:rgb(0%,100%,65.098039%);fill-opacity:1;stroke-width:0.75;stroke-linecap:round;stroke-linejoin:round;stroke:rgb(0%,100%,65.098039%);stroke-opacity:1;stroke-miterlimit:10;\" d=\"M 469.921875 300.785156 L 473.761719 300.785156 L 473.761719 302.132812 L 469.921875 302.132812 Z \"/>\n",
       "<path style=\"fill-rule:nonzero;fill:rgb(0%,100%,66.666667%);fill-opacity:1;stroke-width:0.75;stroke-linecap:round;stroke-linejoin:round;stroke:rgb(0%,100%,66.666667%);stroke-opacity:1;stroke-miterlimit:10;\" d=\"M 469.921875 302.132812 L 473.761719 302.132812 L 473.761719 303.480469 L 469.921875 303.480469 Z \"/>\n",
       "<path style=\"fill-rule:nonzero;fill:rgb(0%,100%,68.235294%);fill-opacity:1;stroke-width:0.75;stroke-linecap:round;stroke-linejoin:round;stroke:rgb(0%,100%,68.235294%);stroke-opacity:1;stroke-miterlimit:10;\" d=\"M 469.921875 303.480469 L 473.761719 303.480469 L 473.761719 304.828125 L 469.921875 304.828125 Z \"/>\n",
       "<path style=\"fill-rule:nonzero;fill:rgb(0%,100%,69.803922%);fill-opacity:1;stroke-width:0.75;stroke-linecap:round;stroke-linejoin:round;stroke:rgb(0%,100%,69.803922%);stroke-opacity:1;stroke-miterlimit:10;\" d=\"M 469.921875 304.832031 L 473.761719 304.832031 L 473.761719 306.179688 L 469.921875 306.179688 Z \"/>\n",
       "<path style=\"fill-rule:nonzero;fill:rgb(0%,100%,71.372549%);fill-opacity:1;stroke-width:0.75;stroke-linecap:round;stroke-linejoin:round;stroke:rgb(0%,100%,71.372549%);stroke-opacity:1;stroke-miterlimit:10;\" d=\"M 469.921875 306.179688 L 473.761719 306.179688 L 473.761719 307.527344 L 469.921875 307.527344 Z \"/>\n",
       "<path style=\"fill-rule:nonzero;fill:rgb(0%,100%,72.941176%);fill-opacity:1;stroke-width:0.75;stroke-linecap:round;stroke-linejoin:round;stroke:rgb(0%,100%,72.941176%);stroke-opacity:1;stroke-miterlimit:10;\" d=\"M 469.921875 307.53125 L 473.761719 307.53125 L 473.761719 308.878906 L 469.921875 308.878906 Z \"/>\n",
       "<path style=\"fill-rule:nonzero;fill:rgb(0%,100%,74.509804%);fill-opacity:1;stroke-width:0.75;stroke-linecap:round;stroke-linejoin:round;stroke:rgb(0%,100%,74.509804%);stroke-opacity:1;stroke-miterlimit:10;\" d=\"M 469.921875 308.878906 L 473.761719 308.878906 L 473.761719 310.226562 L 469.921875 310.226562 Z \"/>\n",
       "<path style=\"fill-rule:nonzero;fill:rgb(0%,100%,76.078431%);fill-opacity:1;stroke-width:0.75;stroke-linecap:round;stroke-linejoin:round;stroke:rgb(0%,100%,76.078431%);stroke-opacity:1;stroke-miterlimit:10;\" d=\"M 469.921875 310.226562 L 473.761719 310.226562 L 473.761719 311.574219 L 469.921875 311.574219 Z \"/>\n",
       "<path style=\"fill-rule:nonzero;fill:rgb(0%,100%,77.647059%);fill-opacity:1;stroke-width:0.75;stroke-linecap:round;stroke-linejoin:round;stroke:rgb(0%,100%,77.647059%);stroke-opacity:1;stroke-miterlimit:10;\" d=\"M 469.921875 311.578125 L 473.761719 311.578125 L 473.761719 312.925781 L 469.921875 312.925781 Z \"/>\n",
       "<path style=\"fill-rule:nonzero;fill:rgb(0%,100%,79.215686%);fill-opacity:1;stroke-width:0.75;stroke-linecap:round;stroke-linejoin:round;stroke:rgb(0%,100%,79.215686%);stroke-opacity:1;stroke-miterlimit:10;\" d=\"M 469.921875 312.925781 L 473.761719 312.925781 L 473.761719 314.273438 L 469.921875 314.273438 Z \"/>\n",
       "<path style=\"fill-rule:nonzero;fill:rgb(0%,100%,80.784314%);fill-opacity:1;stroke-width:0.75;stroke-linecap:round;stroke-linejoin:round;stroke:rgb(0%,100%,80.784314%);stroke-opacity:1;stroke-miterlimit:10;\" d=\"M 469.921875 314.273438 L 473.761719 314.273438 L 473.761719 315.621094 L 469.921875 315.621094 Z \"/>\n",
       "<path style=\"fill-rule:nonzero;fill:rgb(0%,100%,82.352941%);fill-opacity:1;stroke-width:0.75;stroke-linecap:round;stroke-linejoin:round;stroke:rgb(0%,100%,82.352941%);stroke-opacity:1;stroke-miterlimit:10;\" d=\"M 469.921875 315.625 L 473.761719 315.625 L 473.761719 316.972656 L 469.921875 316.972656 Z \"/>\n",
       "<path style=\"fill-rule:nonzero;fill:rgb(0%,100%,83.921569%);fill-opacity:1;stroke-width:0.75;stroke-linecap:round;stroke-linejoin:round;stroke:rgb(0%,100%,83.921569%);stroke-opacity:1;stroke-miterlimit:10;\" d=\"M 469.921875 316.972656 L 473.761719 316.972656 L 473.761719 318.320312 L 469.921875 318.320312 Z \"/>\n",
       "<path style=\"fill-rule:nonzero;fill:rgb(0%,100%,85.490196%);fill-opacity:1;stroke-width:0.75;stroke-linecap:round;stroke-linejoin:round;stroke:rgb(0%,100%,85.490196%);stroke-opacity:1;stroke-miterlimit:10;\" d=\"M 469.921875 318.320312 L 473.761719 318.320312 L 473.761719 319.667969 L 469.921875 319.667969 Z \"/>\n",
       "<path style=\"fill-rule:nonzero;fill:rgb(0%,100%,87.058824%);fill-opacity:1;stroke-width:0.75;stroke-linecap:round;stroke-linejoin:round;stroke:rgb(0%,100%,87.058824%);stroke-opacity:1;stroke-miterlimit:10;\" d=\"M 469.921875 319.671875 L 473.761719 319.671875 L 473.761719 321.019531 L 469.921875 321.019531 Z \"/>\n",
       "<path style=\"fill-rule:nonzero;fill:rgb(0%,100%,88.627451%);fill-opacity:1;stroke-width:0.75;stroke-linecap:round;stroke-linejoin:round;stroke:rgb(0%,100%,88.627451%);stroke-opacity:1;stroke-miterlimit:10;\" d=\"M 469.921875 321.019531 L 473.761719 321.019531 L 473.761719 322.367188 L 469.921875 322.367188 Z \"/>\n",
       "<path style=\"fill-rule:nonzero;fill:rgb(0%,100%,90.196078%);fill-opacity:1;stroke-width:0.75;stroke-linecap:round;stroke-linejoin:round;stroke:rgb(0%,100%,90.196078%);stroke-opacity:1;stroke-miterlimit:10;\" d=\"M 469.921875 322.367188 L 473.761719 322.367188 L 473.761719 323.714844 L 469.921875 323.714844 Z \"/>\n",
       "<path style=\"fill-rule:nonzero;fill:rgb(0%,100%,91.764706%);fill-opacity:1;stroke-width:0.75;stroke-linecap:round;stroke-linejoin:round;stroke:rgb(0%,100%,91.764706%);stroke-opacity:1;stroke-miterlimit:10;\" d=\"M 469.921875 323.71875 L 473.761719 323.71875 L 473.761719 325.066406 L 469.921875 325.066406 Z \"/>\n",
       "<path style=\"fill-rule:nonzero;fill:rgb(0%,100%,93.333333%);fill-opacity:1;stroke-width:0.75;stroke-linecap:round;stroke-linejoin:round;stroke:rgb(0%,100%,93.333333%);stroke-opacity:1;stroke-miterlimit:10;\" d=\"M 469.921875 325.066406 L 473.761719 325.066406 L 473.761719 326.414062 L 469.921875 326.414062 Z \"/>\n",
       "<path style=\"fill-rule:nonzero;fill:rgb(0%,100%,94.901961%);fill-opacity:1;stroke-width:0.75;stroke-linecap:round;stroke-linejoin:round;stroke:rgb(0%,100%,94.901961%);stroke-opacity:1;stroke-miterlimit:10;\" d=\"M 469.921875 326.414062 L 473.761719 326.414062 L 473.761719 327.761719 L 469.921875 327.761719 Z \"/>\n",
       "<path style=\"fill-rule:nonzero;fill:rgb(0%,100%,96.470588%);fill-opacity:1;stroke-width:0.75;stroke-linecap:round;stroke-linejoin:round;stroke:rgb(0%,100%,96.470588%);stroke-opacity:1;stroke-miterlimit:10;\" d=\"M 469.921875 327.765625 L 473.761719 327.765625 L 473.761719 329.113281 L 469.921875 329.113281 Z \"/>\n",
       "<path style=\"fill-rule:nonzero;fill:rgb(0%,100%,98.039216%);fill-opacity:1;stroke-width:0.75;stroke-linecap:round;stroke-linejoin:round;stroke:rgb(0%,100%,98.039216%);stroke-opacity:1;stroke-miterlimit:10;\" d=\"M 469.921875 329.113281 L 473.761719 329.113281 L 473.761719 330.460938 L 469.921875 330.460938 Z \"/>\n",
       "<path style=\"fill-rule:nonzero;fill:rgb(0%,100%,99.607843%);fill-opacity:1;stroke-width:0.75;stroke-linecap:round;stroke-linejoin:round;stroke:rgb(0%,100%,99.607843%);stroke-opacity:1;stroke-miterlimit:10;\" d=\"M 469.921875 330.460938 L 473.761719 330.460938 L 473.761719 331.808594 L 469.921875 331.808594 Z \"/>\n",
       "<path style=\"fill-rule:nonzero;fill:rgb(0%,98.823529%,100%);fill-opacity:1;stroke-width:0.75;stroke-linecap:round;stroke-linejoin:round;stroke:rgb(0%,98.823529%,100%);stroke-opacity:1;stroke-miterlimit:10;\" d=\"M 469.921875 331.8125 L 473.761719 331.8125 L 473.761719 333.160156 L 469.921875 333.160156 Z \"/>\n",
       "<path style=\"fill-rule:nonzero;fill:rgb(0%,97.254902%,100%);fill-opacity:1;stroke-width:0.75;stroke-linecap:round;stroke-linejoin:round;stroke:rgb(0%,97.254902%,100%);stroke-opacity:1;stroke-miterlimit:10;\" d=\"M 469.921875 333.160156 L 473.761719 333.160156 L 473.761719 334.507812 L 469.921875 334.507812 Z \"/>\n",
       "<path style=\"fill-rule:nonzero;fill:rgb(0%,95.686275%,100%);fill-opacity:1;stroke-width:0.75;stroke-linecap:round;stroke-linejoin:round;stroke:rgb(0%,95.686275%,100%);stroke-opacity:1;stroke-miterlimit:10;\" d=\"M 469.921875 334.511719 L 473.761719 334.511719 L 473.761719 335.859375 L 469.921875 335.859375 Z \"/>\n",
       "<path style=\"fill-rule:nonzero;fill:rgb(0%,94.117647%,100%);fill-opacity:1;stroke-width:0.75;stroke-linecap:round;stroke-linejoin:round;stroke:rgb(0%,94.117647%,100%);stroke-opacity:1;stroke-miterlimit:10;\" d=\"M 469.921875 335.859375 L 473.761719 335.859375 L 473.761719 337.207031 L 469.921875 337.207031 Z \"/>\n",
       "<path style=\"fill-rule:nonzero;fill:rgb(0%,92.54902%,100%);fill-opacity:1;stroke-width:0.75;stroke-linecap:round;stroke-linejoin:round;stroke:rgb(0%,92.54902%,100%);stroke-opacity:1;stroke-miterlimit:10;\" d=\"M 469.921875 337.207031 L 473.761719 337.207031 L 473.761719 338.554688 L 469.921875 338.554688 Z \"/>\n",
       "<path style=\"fill-rule:nonzero;fill:rgb(0%,90.980392%,100%);fill-opacity:1;stroke-width:0.75;stroke-linecap:round;stroke-linejoin:round;stroke:rgb(0%,90.980392%,100%);stroke-opacity:1;stroke-miterlimit:10;\" d=\"M 469.921875 338.558594 L 473.761719 338.558594 L 473.761719 339.90625 L 469.921875 339.90625 Z \"/>\n",
       "<path style=\"fill-rule:nonzero;fill:rgb(0%,89.411765%,100%);fill-opacity:1;stroke-width:0.75;stroke-linecap:round;stroke-linejoin:round;stroke:rgb(0%,89.411765%,100%);stroke-opacity:1;stroke-miterlimit:10;\" d=\"M 469.921875 339.90625 L 473.761719 339.90625 L 473.761719 341.253906 L 469.921875 341.253906 Z \"/>\n",
       "<path style=\"fill-rule:nonzero;fill:rgb(0%,87.843137%,100%);fill-opacity:1;stroke-width:0.75;stroke-linecap:round;stroke-linejoin:round;stroke:rgb(0%,87.843137%,100%);stroke-opacity:1;stroke-miterlimit:10;\" d=\"M 469.921875 341.253906 L 473.761719 341.253906 L 473.761719 342.601562 L 469.921875 342.601562 Z \"/>\n",
       "<path style=\"fill-rule:nonzero;fill:rgb(0%,86.27451%,100%);fill-opacity:1;stroke-width:0.75;stroke-linecap:round;stroke-linejoin:round;stroke:rgb(0%,86.27451%,100%);stroke-opacity:1;stroke-miterlimit:10;\" d=\"M 469.921875 342.605469 L 473.761719 342.605469 L 473.761719 343.953125 L 469.921875 343.953125 Z \"/>\n",
       "<path style=\"fill-rule:nonzero;fill:rgb(0%,84.705882%,100%);fill-opacity:1;stroke-width:0.75;stroke-linecap:round;stroke-linejoin:round;stroke:rgb(0%,84.705882%,100%);stroke-opacity:1;stroke-miterlimit:10;\" d=\"M 469.921875 343.953125 L 473.761719 343.953125 L 473.761719 345.300781 L 469.921875 345.300781 Z \"/>\n",
       "<path style=\"fill-rule:nonzero;fill:rgb(0%,83.137255%,100%);fill-opacity:1;stroke-width:0.75;stroke-linecap:round;stroke-linejoin:round;stroke:rgb(0%,83.137255%,100%);stroke-opacity:1;stroke-miterlimit:10;\" d=\"M 469.921875 345.300781 L 473.761719 345.300781 L 473.761719 346.648438 L 469.921875 346.648438 Z \"/>\n",
       "<path style=\"fill-rule:nonzero;fill:rgb(0%,81.568627%,100%);fill-opacity:1;stroke-width:0.75;stroke-linecap:round;stroke-linejoin:round;stroke:rgb(0%,81.568627%,100%);stroke-opacity:1;stroke-miterlimit:10;\" d=\"M 469.921875 346.652344 L 473.761719 346.652344 L 473.761719 348 L 469.921875 348 Z \"/>\n",
       "<path style=\"fill-rule:nonzero;fill:rgb(0%,80%,100%);fill-opacity:1;stroke-width:0.75;stroke-linecap:round;stroke-linejoin:round;stroke:rgb(0%,80%,100%);stroke-opacity:1;stroke-miterlimit:10;\" d=\"M 469.921875 348 L 473.761719 348 L 473.761719 349.347656 L 469.921875 349.347656 Z \"/>\n",
       "<path style=\"fill-rule:nonzero;fill:rgb(0%,78.431373%,100%);fill-opacity:1;stroke-width:0.75;stroke-linecap:round;stroke-linejoin:round;stroke:rgb(0%,78.431373%,100%);stroke-opacity:1;stroke-miterlimit:10;\" d=\"M 469.921875 349.347656 L 473.761719 349.347656 L 473.761719 350.695312 L 469.921875 350.695312 Z \"/>\n",
       "<path style=\"fill-rule:nonzero;fill:rgb(0%,76.862745%,100%);fill-opacity:1;stroke-width:0.75;stroke-linecap:round;stroke-linejoin:round;stroke:rgb(0%,76.862745%,100%);stroke-opacity:1;stroke-miterlimit:10;\" d=\"M 469.921875 350.699219 L 473.761719 350.699219 L 473.761719 352.046875 L 469.921875 352.046875 Z \"/>\n",
       "<path style=\"fill-rule:nonzero;fill:rgb(0%,75.294118%,100%);fill-opacity:1;stroke-width:0.75;stroke-linecap:round;stroke-linejoin:round;stroke:rgb(0%,75.294118%,100%);stroke-opacity:1;stroke-miterlimit:10;\" d=\"M 469.921875 352.046875 L 473.761719 352.046875 L 473.761719 353.394531 L 469.921875 353.394531 Z \"/>\n",
       "<path style=\"fill-rule:nonzero;fill:rgb(0%,73.72549%,100%);fill-opacity:1;stroke-width:0.75;stroke-linecap:round;stroke-linejoin:round;stroke:rgb(0%,73.72549%,100%);stroke-opacity:1;stroke-miterlimit:10;\" d=\"M 469.921875 353.394531 L 473.761719 353.394531 L 473.761719 354.742188 L 469.921875 354.742188 Z \"/>\n",
       "<path style=\"fill-rule:nonzero;fill:rgb(0%,72.156863%,100%);fill-opacity:1;stroke-width:0.75;stroke-linecap:round;stroke-linejoin:round;stroke:rgb(0%,72.156863%,100%);stroke-opacity:1;stroke-miterlimit:10;\" d=\"M 469.921875 354.746094 L 473.761719 354.746094 L 473.761719 356.09375 L 469.921875 356.09375 Z \"/>\n",
       "<path style=\"fill-rule:nonzero;fill:rgb(0%,70.588235%,100%);fill-opacity:1;stroke-width:0.75;stroke-linecap:round;stroke-linejoin:round;stroke:rgb(0%,70.588235%,100%);stroke-opacity:1;stroke-miterlimit:10;\" d=\"M 469.921875 356.09375 L 473.761719 356.09375 L 473.761719 357.441406 L 469.921875 357.441406 Z \"/>\n",
       "<path style=\"fill-rule:nonzero;fill:rgb(0%,69.019608%,100%);fill-opacity:1;stroke-width:0.75;stroke-linecap:round;stroke-linejoin:round;stroke:rgb(0%,69.019608%,100%);stroke-opacity:1;stroke-miterlimit:10;\" d=\"M 469.921875 357.441406 L 473.761719 357.441406 L 473.761719 358.789062 L 469.921875 358.789062 Z \"/>\n",
       "<path style=\"fill-rule:nonzero;fill:rgb(0%,67.45098%,100%);fill-opacity:1;stroke-width:0.75;stroke-linecap:round;stroke-linejoin:round;stroke:rgb(0%,67.45098%,100%);stroke-opacity:1;stroke-miterlimit:10;\" d=\"M 469.921875 358.792969 L 473.761719 358.792969 L 473.761719 360.140625 L 469.921875 360.140625 Z \"/>\n",
       "<path style=\"fill-rule:nonzero;fill:rgb(0%,65.882353%,100%);fill-opacity:1;stroke-width:0.75;stroke-linecap:round;stroke-linejoin:round;stroke:rgb(0%,65.882353%,100%);stroke-opacity:1;stroke-miterlimit:10;\" d=\"M 469.921875 360.140625 L 473.761719 360.140625 L 473.761719 361.488281 L 469.921875 361.488281 Z \"/>\n",
       "<path style=\"fill-rule:nonzero;fill:rgb(0%,64.313725%,100%);fill-opacity:1;stroke-width:0.75;stroke-linecap:round;stroke-linejoin:round;stroke:rgb(0%,64.313725%,100%);stroke-opacity:1;stroke-miterlimit:10;\" d=\"M 469.921875 361.488281 L 473.761719 361.488281 L 473.761719 362.835938 L 469.921875 362.835938 Z \"/>\n",
       "<path style=\"fill-rule:nonzero;fill:rgb(0%,62.745098%,100%);fill-opacity:1;stroke-width:0.75;stroke-linecap:round;stroke-linejoin:round;stroke:rgb(0%,62.745098%,100%);stroke-opacity:1;stroke-miterlimit:10;\" d=\"M 469.921875 362.839844 L 473.761719 362.839844 L 473.761719 364.1875 L 469.921875 364.1875 Z \"/>\n",
       "<path style=\"fill-rule:nonzero;fill:rgb(0%,61.176471%,100%);fill-opacity:1;stroke-width:0.75;stroke-linecap:round;stroke-linejoin:round;stroke:rgb(0%,61.176471%,100%);stroke-opacity:1;stroke-miterlimit:10;\" d=\"M 469.921875 364.1875 L 473.761719 364.1875 L 473.761719 365.535156 L 469.921875 365.535156 Z \"/>\n",
       "<path style=\"fill-rule:nonzero;fill:rgb(0%,59.607843%,100%);fill-opacity:1;stroke-width:0.75;stroke-linecap:round;stroke-linejoin:round;stroke:rgb(0%,59.607843%,100%);stroke-opacity:1;stroke-miterlimit:10;\" d=\"M 469.921875 365.539062 L 473.761719 365.539062 L 473.761719 366.886719 L 469.921875 366.886719 Z \"/>\n",
       "<path style=\"fill-rule:nonzero;fill:rgb(0%,58.039216%,100%);fill-opacity:1;stroke-width:0.75;stroke-linecap:round;stroke-linejoin:round;stroke:rgb(0%,58.039216%,100%);stroke-opacity:1;stroke-miterlimit:10;\" d=\"M 469.921875 366.886719 L 473.761719 366.886719 L 473.761719 368.234375 L 469.921875 368.234375 Z \"/>\n",
       "<path style=\"fill-rule:nonzero;fill:rgb(0%,56.470588%,100%);fill-opacity:1;stroke-width:0.75;stroke-linecap:round;stroke-linejoin:round;stroke:rgb(0%,56.470588%,100%);stroke-opacity:1;stroke-miterlimit:10;\" d=\"M 469.921875 368.234375 L 473.761719 368.234375 L 473.761719 369.582031 L 469.921875 369.582031 Z \"/>\n",
       "<path style=\"fill-rule:nonzero;fill:rgb(0%,54.901961%,100%);fill-opacity:1;stroke-width:0.75;stroke-linecap:round;stroke-linejoin:round;stroke:rgb(0%,54.901961%,100%);stroke-opacity:1;stroke-miterlimit:10;\" d=\"M 469.921875 369.585938 L 473.761719 369.585938 L 473.761719 370.933594 L 469.921875 370.933594 Z \"/>\n",
       "<path style=\"fill-rule:nonzero;fill:rgb(0%,53.333333%,100%);fill-opacity:1;stroke-width:0.75;stroke-linecap:round;stroke-linejoin:round;stroke:rgb(0%,53.333333%,100%);stroke-opacity:1;stroke-miterlimit:10;\" d=\"M 469.921875 370.933594 L 473.761719 370.933594 L 473.761719 372.28125 L 469.921875 372.28125 Z \"/>\n",
       "<path style=\"fill-rule:nonzero;fill:rgb(0%,51.764706%,100%);fill-opacity:1;stroke-width:0.75;stroke-linecap:round;stroke-linejoin:round;stroke:rgb(0%,51.764706%,100%);stroke-opacity:1;stroke-miterlimit:10;\" d=\"M 469.921875 372.28125 L 473.761719 372.28125 L 473.761719 373.628906 L 469.921875 373.628906 Z \"/>\n",
       "<path style=\"fill-rule:nonzero;fill:rgb(0%,50.196078%,100%);fill-opacity:1;stroke-width:0.75;stroke-linecap:round;stroke-linejoin:round;stroke:rgb(0%,50.196078%,100%);stroke-opacity:1;stroke-miterlimit:10;\" d=\"M 469.921875 373.632812 L 473.761719 373.632812 L 473.761719 374.980469 L 469.921875 374.980469 Z \"/>\n",
       "<path style=\"fill-rule:nonzero;fill:rgb(0%,48.627451%,100%);fill-opacity:1;stroke-width:0.75;stroke-linecap:round;stroke-linejoin:round;stroke:rgb(0%,48.627451%,100%);stroke-opacity:1;stroke-miterlimit:10;\" d=\"M 469.921875 374.980469 L 473.761719 374.980469 L 473.761719 376.328125 L 469.921875 376.328125 Z \"/>\n",
       "<path style=\"fill-rule:nonzero;fill:rgb(0%,47.058824%,100%);fill-opacity:1;stroke-width:0.75;stroke-linecap:round;stroke-linejoin:round;stroke:rgb(0%,47.058824%,100%);stroke-opacity:1;stroke-miterlimit:10;\" d=\"M 469.921875 376.328125 L 473.761719 376.328125 L 473.761719 377.675781 L 469.921875 377.675781 Z \"/>\n",
       "<path style=\"fill-rule:nonzero;fill:rgb(0%,45.490196%,100%);fill-opacity:1;stroke-width:0.75;stroke-linecap:round;stroke-linejoin:round;stroke:rgb(0%,45.490196%,100%);stroke-opacity:1;stroke-miterlimit:10;\" d=\"M 469.921875 377.679688 L 473.761719 377.679688 L 473.761719 379.027344 L 469.921875 379.027344 Z \"/>\n",
       "<path style=\"fill-rule:nonzero;fill:rgb(0%,43.921569%,100%);fill-opacity:1;stroke-width:0.75;stroke-linecap:round;stroke-linejoin:round;stroke:rgb(0%,43.921569%,100%);stroke-opacity:1;stroke-miterlimit:10;\" d=\"M 469.921875 379.027344 L 473.761719 379.027344 L 473.761719 380.375 L 469.921875 380.375 Z \"/>\n",
       "<path style=\"fill-rule:nonzero;fill:rgb(0%,42.352941%,100%);fill-opacity:1;stroke-width:0.75;stroke-linecap:round;stroke-linejoin:round;stroke:rgb(0%,42.352941%,100%);stroke-opacity:1;stroke-miterlimit:10;\" d=\"M 469.921875 380.375 L 473.761719 380.375 L 473.761719 381.722656 L 469.921875 381.722656 Z \"/>\n",
       "<path style=\"fill-rule:nonzero;fill:rgb(0%,40.784314%,100%);fill-opacity:1;stroke-width:0.75;stroke-linecap:round;stroke-linejoin:round;stroke:rgb(0%,40.784314%,100%);stroke-opacity:1;stroke-miterlimit:10;\" d=\"M 469.921875 381.726562 L 473.761719 381.726562 L 473.761719 383.074219 L 469.921875 383.074219 Z \"/>\n",
       "<path style=\"fill-rule:nonzero;fill:rgb(0%,39.215686%,100%);fill-opacity:1;stroke-width:0.75;stroke-linecap:round;stroke-linejoin:round;stroke:rgb(0%,39.215686%,100%);stroke-opacity:1;stroke-miterlimit:10;\" d=\"M 469.921875 383.074219 L 473.761719 383.074219 L 473.761719 384.421875 L 469.921875 384.421875 Z \"/>\n",
       "<path style=\"fill-rule:nonzero;fill:rgb(0%,37.647059%,100%);fill-opacity:1;stroke-width:0.75;stroke-linecap:round;stroke-linejoin:round;stroke:rgb(0%,37.647059%,100%);stroke-opacity:1;stroke-miterlimit:10;\" d=\"M 469.921875 384.421875 L 473.761719 384.421875 L 473.761719 385.769531 L 469.921875 385.769531 Z \"/>\n",
       "<path style=\"fill-rule:nonzero;fill:rgb(0%,36.078431%,100%);fill-opacity:1;stroke-width:0.75;stroke-linecap:round;stroke-linejoin:round;stroke:rgb(0%,36.078431%,100%);stroke-opacity:1;stroke-miterlimit:10;\" d=\"M 469.921875 385.773438 L 473.761719 385.773438 L 473.761719 387.121094 L 469.921875 387.121094 Z \"/>\n",
       "<path style=\"fill-rule:nonzero;fill:rgb(0%,34.509804%,100%);fill-opacity:1;stroke-width:0.75;stroke-linecap:round;stroke-linejoin:round;stroke:rgb(0%,34.509804%,100%);stroke-opacity:1;stroke-miterlimit:10;\" d=\"M 469.921875 387.121094 L 473.761719 387.121094 L 473.761719 388.46875 L 469.921875 388.46875 Z \"/>\n",
       "<path style=\"fill-rule:nonzero;fill:rgb(0%,32.941176%,100%);fill-opacity:1;stroke-width:0.75;stroke-linecap:round;stroke-linejoin:round;stroke:rgb(0%,32.941176%,100%);stroke-opacity:1;stroke-miterlimit:10;\" d=\"M 469.921875 388.46875 L 473.761719 388.46875 L 473.761719 389.816406 L 469.921875 389.816406 Z \"/>\n",
       "<path style=\"fill-rule:nonzero;fill:rgb(0%,31.372549%,100%);fill-opacity:1;stroke-width:0.75;stroke-linecap:round;stroke-linejoin:round;stroke:rgb(0%,31.372549%,100%);stroke-opacity:1;stroke-miterlimit:10;\" d=\"M 469.921875 389.820312 L 473.761719 389.820312 L 473.761719 391.167969 L 469.921875 391.167969 Z \"/>\n",
       "<path style=\"fill-rule:nonzero;fill:rgb(0%,29.803922%,100%);fill-opacity:1;stroke-width:0.75;stroke-linecap:round;stroke-linejoin:round;stroke:rgb(0%,29.803922%,100%);stroke-opacity:1;stroke-miterlimit:10;\" d=\"M 469.921875 391.167969 L 473.761719 391.167969 L 473.761719 392.515625 L 469.921875 392.515625 Z \"/>\n",
       "<path style=\"fill-rule:nonzero;fill:rgb(0%,28.235294%,100%);fill-opacity:1;stroke-width:0.75;stroke-linecap:round;stroke-linejoin:round;stroke:rgb(0%,28.235294%,100%);stroke-opacity:1;stroke-miterlimit:10;\" d=\"M 469.921875 392.519531 L 473.761719 392.519531 L 473.761719 393.867188 L 469.921875 393.867188 Z \"/>\n",
       "<path style=\"fill-rule:nonzero;fill:rgb(0%,26.666667%,100%);fill-opacity:1;stroke-width:0.75;stroke-linecap:round;stroke-linejoin:round;stroke:rgb(0%,26.666667%,100%);stroke-opacity:1;stroke-miterlimit:10;\" d=\"M 469.921875 393.867188 L 473.761719 393.867188 L 473.761719 395.214844 L 469.921875 395.214844 Z \"/>\n",
       "<path style=\"fill-rule:nonzero;fill:rgb(0%,25.098039%,100%);fill-opacity:1;stroke-width:0.75;stroke-linecap:round;stroke-linejoin:round;stroke:rgb(0%,25.098039%,100%);stroke-opacity:1;stroke-miterlimit:10;\" d=\"M 469.921875 395.214844 L 473.761719 395.214844 L 473.761719 396.5625 L 469.921875 396.5625 Z \"/>\n",
       "<path style=\"fill-rule:nonzero;fill:rgb(0%,23.529412%,100%);fill-opacity:1;stroke-width:0.75;stroke-linecap:round;stroke-linejoin:round;stroke:rgb(0%,23.529412%,100%);stroke-opacity:1;stroke-miterlimit:10;\" d=\"M 469.921875 396.566406 L 473.761719 396.566406 L 473.761719 397.914062 L 469.921875 397.914062 Z \"/>\n",
       "<path style=\"fill-rule:nonzero;fill:rgb(0%,21.960784%,100%);fill-opacity:1;stroke-width:0.75;stroke-linecap:round;stroke-linejoin:round;stroke:rgb(0%,21.960784%,100%);stroke-opacity:1;stroke-miterlimit:10;\" d=\"M 469.921875 397.914062 L 473.761719 397.914062 L 473.761719 399.261719 L 469.921875 399.261719 Z \"/>\n",
       "<path style=\"fill-rule:nonzero;fill:rgb(0%,20.392157%,100%);fill-opacity:1;stroke-width:0.75;stroke-linecap:round;stroke-linejoin:round;stroke:rgb(0%,20.392157%,100%);stroke-opacity:1;stroke-miterlimit:10;\" d=\"M 469.921875 399.261719 L 473.761719 399.261719 L 473.761719 400.609375 L 469.921875 400.609375 Z \"/>\n",
       "<path style=\"fill-rule:nonzero;fill:rgb(0%,18.823529%,100%);fill-opacity:1;stroke-width:0.75;stroke-linecap:round;stroke-linejoin:round;stroke:rgb(0%,18.823529%,100%);stroke-opacity:1;stroke-miterlimit:10;\" d=\"M 469.921875 400.613281 L 473.761719 400.613281 L 473.761719 401.960938 L 469.921875 401.960938 Z \"/>\n",
       "<path style=\"fill-rule:nonzero;fill:rgb(0%,17.254902%,100%);fill-opacity:1;stroke-width:0.75;stroke-linecap:round;stroke-linejoin:round;stroke:rgb(0%,17.254902%,100%);stroke-opacity:1;stroke-miterlimit:10;\" d=\"M 469.921875 401.960938 L 473.761719 401.960938 L 473.761719 403.308594 L 469.921875 403.308594 Z \"/>\n",
       "<path style=\"fill-rule:nonzero;fill:rgb(0%,15.686275%,100%);fill-opacity:1;stroke-width:0.75;stroke-linecap:round;stroke-linejoin:round;stroke:rgb(0%,15.686275%,100%);stroke-opacity:1;stroke-miterlimit:10;\" d=\"M 469.921875 403.308594 L 473.761719 403.308594 L 473.761719 404.65625 L 469.921875 404.65625 Z \"/>\n",
       "<path style=\"fill-rule:nonzero;fill:rgb(0%,14.117647%,100%);fill-opacity:1;stroke-width:0.75;stroke-linecap:round;stroke-linejoin:round;stroke:rgb(0%,14.117647%,100%);stroke-opacity:1;stroke-miterlimit:10;\" d=\"M 469.921875 404.660156 L 473.761719 404.660156 L 473.761719 406.007812 L 469.921875 406.007812 Z \"/>\n",
       "<path style=\"fill-rule:nonzero;fill:rgb(0%,12.54902%,100%);fill-opacity:1;stroke-width:0.75;stroke-linecap:round;stroke-linejoin:round;stroke:rgb(0%,12.54902%,100%);stroke-opacity:1;stroke-miterlimit:10;\" d=\"M 469.921875 406.007812 L 473.761719 406.007812 L 473.761719 407.355469 L 469.921875 407.355469 Z \"/>\n",
       "<path style=\"fill-rule:nonzero;fill:rgb(0%,10.980392%,100%);fill-opacity:1;stroke-width:0.75;stroke-linecap:round;stroke-linejoin:round;stroke:rgb(0%,10.980392%,100%);stroke-opacity:1;stroke-miterlimit:10;\" d=\"M 469.921875 407.355469 L 473.761719 407.355469 L 473.761719 408.703125 L 469.921875 408.703125 Z \"/>\n",
       "<path style=\"fill-rule:nonzero;fill:rgb(0%,9.411765%,100%);fill-opacity:1;stroke-width:0.75;stroke-linecap:round;stroke-linejoin:round;stroke:rgb(0%,9.411765%,100%);stroke-opacity:1;stroke-miterlimit:10;\" d=\"M 469.921875 408.707031 L 473.761719 408.707031 L 473.761719 410.054688 L 469.921875 410.054688 Z \"/>\n",
       "<path style=\"fill-rule:nonzero;fill:rgb(0%,7.843137%,100%);fill-opacity:1;stroke-width:0.75;stroke-linecap:round;stroke-linejoin:round;stroke:rgb(0%,7.843137%,100%);stroke-opacity:1;stroke-miterlimit:10;\" d=\"M 469.921875 410.054688 L 473.761719 410.054688 L 473.761719 411.402344 L 469.921875 411.402344 Z \"/>\n",
       "<path style=\"fill-rule:nonzero;fill:rgb(0%,6.27451%,100%);fill-opacity:1;stroke-width:0.75;stroke-linecap:round;stroke-linejoin:round;stroke:rgb(0%,6.27451%,100%);stroke-opacity:1;stroke-miterlimit:10;\" d=\"M 469.921875 411.402344 L 473.761719 411.402344 L 473.761719 412.75 L 469.921875 412.75 Z \"/>\n",
       "<path style=\"fill-rule:nonzero;fill:rgb(0%,4.705882%,100%);fill-opacity:1;stroke-width:0.75;stroke-linecap:round;stroke-linejoin:round;stroke:rgb(0%,4.705882%,100%);stroke-opacity:1;stroke-miterlimit:10;\" d=\"M 469.921875 412.753906 L 473.761719 412.753906 L 473.761719 414.101562 L 469.921875 414.101562 Z \"/>\n",
       "<path style=\"fill-rule:nonzero;fill:rgb(0%,3.137255%,100%);fill-opacity:1;stroke-width:0.75;stroke-linecap:round;stroke-linejoin:round;stroke:rgb(0%,3.137255%,100%);stroke-opacity:1;stroke-miterlimit:10;\" d=\"M 469.921875 414.101562 L 473.761719 414.101562 L 473.761719 415.449219 L 469.921875 415.449219 Z \"/>\n",
       "<path style=\"fill-rule:nonzero;fill:rgb(0%,1.568627%,100%);fill-opacity:1;stroke-width:0.75;stroke-linecap:round;stroke-linejoin:round;stroke:rgb(0%,1.568627%,100%);stroke-opacity:1;stroke-miterlimit:10;\" d=\"M 469.921875 415.449219 L 473.761719 415.449219 L 473.761719 416.796875 L 469.921875 416.796875 Z \"/>\n",
       "<path style=\"fill-rule:nonzero;fill:rgb(0%,0%,100%);fill-opacity:1;stroke-width:0.75;stroke-linecap:round;stroke-linejoin:round;stroke:rgb(0%,0%,100%);stroke-opacity:1;stroke-miterlimit:10;\" d=\"M 469.921875 416.800781 L 473.761719 416.800781 L 473.761719 418.148438 L 469.921875 418.148438 Z \"/>\n",
       "<path style=\"fill:none;stroke-width:0.75;stroke-linecap:round;stroke-linejoin:round;stroke:rgb(0%,0%,0%);stroke-opacity:1;stroke-miterlimit:10;\" d=\"M 59.039062 430.558594 L 473.761719 430.558594 L 473.761719 59.039062 L 59.039062 59.039062 L 59.039062 430.558594 \"/>\n",
       "<path style=\"fill:none;stroke-width:0.75;stroke-linecap:round;stroke-linejoin:round;stroke:rgb(100%,0%,0%);stroke-opacity:1;stroke-miterlimit:10;\" d=\"M 74.398438 416.800781 L 89.121094 286.21875 \"/>\n",
       "<path style=\"fill:none;stroke-width:0.75;stroke-linecap:round;stroke-linejoin:round;stroke:rgb(100%,36.078431%,0%);stroke-opacity:1;stroke-miterlimit:10;\" d=\"M 89.121094 286.21875 L 112.433594 225.84375 \"/>\n",
       "<path style=\"fill:none;stroke-width:0.75;stroke-linecap:round;stroke-linejoin:round;stroke:rgb(100%,75.294118%,0%);stroke-opacity:1;stroke-miterlimit:10;\" d=\"M 112.433594 225.84375 L 125.925781 207.59375 \"/>\n",
       "<path style=\"fill:none;stroke-width:0.75;stroke-linecap:round;stroke-linejoin:round;stroke:rgb(100%,83.137255%,0%);stroke-opacity:1;stroke-miterlimit:10;\" d=\"M 125.925781 207.59375 L 129.609375 194.957031 \"/>\n",
       "<path style=\"fill:none;stroke-width:0.75;stroke-linecap:round;stroke-linejoin:round;stroke:rgb(100%,98.823529%,0%);stroke-opacity:1;stroke-miterlimit:10;\" d=\"M 129.609375 194.957031 L 138.195312 189.339844 \"/>\n",
       "<path style=\"fill:none;stroke-width:0.75;stroke-linecap:round;stroke-linejoin:round;stroke:rgb(68.235294%,100%,0%);stroke-opacity:1;stroke-miterlimit:10;\" d=\"M 138.195312 189.339844 L 141.875 183.722656 \"/>\n",
       "<path style=\"fill:none;stroke-width:0.75;stroke-linecap:round;stroke-linejoin:round;stroke:rgb(0%,100%,85.490196%);stroke-opacity:1;stroke-miterlimit:10;\" d=\"M 141.875 183.722656 L 183.589844 137.386719 \"/>\n",
       "<path style=\"fill:none;stroke-width:0.75;stroke-linecap:round;stroke-linejoin:round;stroke:rgb(0%,100%,96.470588%);stroke-opacity:1;stroke-miterlimit:10;\" d=\"M 183.589844 137.386719 L 192.175781 119.132812 \"/>\n",
       "<path style=\"fill:none;stroke-width:0.75;stroke-linecap:round;stroke-linejoin:round;stroke:rgb(0%,83.137255%,100%);stroke-opacity:1;stroke-miterlimit:10;\" d=\"M 192.175781 119.132812 L 194.628906 113.519531 \"/>\n",
       "<path style=\"fill:none;stroke-width:0.75;stroke-linecap:round;stroke-linejoin:round;stroke:rgb(0%,70.588235%,100%);stroke-opacity:1;stroke-miterlimit:10;\" d=\"M 194.628906 113.519531 L 424.046875 75.609375 \"/>\n",
       "<path style=\"fill:none;stroke-width:0.75;stroke-linecap:round;stroke-linejoin:round;stroke:rgb(0%,36.078431%,100%);stroke-opacity:1;stroke-miterlimit:10;\" d=\"M 424.046875 75.609375 L 458.398438 72.800781 \"/>\n",
       "</g>\n",
       "</svg>\n"
      ],
      "text/plain": [
       "plot without title"
      ]
     },
     "metadata": {
      "image/svg+xml": {
       "isolated": true
      }
     },
     "output_type": "display_data"
    }
   ],
   "source": [
    "perfROCR = performance(predROCR, \"tpr\", \"fpr\")\n",
    "plot(perfROCR, colorize=TRUE)\n",
    "performance(predROCR, \"auc\")@y.values"
   ]
  },
  {
   "cell_type": "markdown",
   "metadata": {},
   "source": [
    "## DECISION-MAKER TRADEOFFS\n",
    "\n",
    "The decision maker for this problem, a researcher performing a review of the medical literature, would use a model (like the CART one we built here) in the following workflow:\n",
    "\n",
    "1) For all of the papers retreived in the PubMed Search, predict which papers are clinical trials using the model. This yields some initial Set A of papers predicted to be trials, and some Set B of papers predicted not to be trials. (See the figure below.)\n",
    "\n",
    "2) Then, the decision maker manually reviews all papers in Set A, verifying that each paper meets the study's detailed inclusion criteria (for the purposes of this analysis, we assume this manual review is 100% accurate at identifying whether a paper in Set A is relevant to the study). This yields a more limited set of papers to be included in the study, which would ideally be all papers in the medical literature meeting the detailed inclusion criteria for the study.\n",
    "\n",
    "3) Perform the study-specific analysis, using data extracted from the limited set of papers identified in step 2.\n",
    "\n",
    "**A paper that should have been included in Set A will be missed, affecting the quality of the results of Step 3. A paper that should have been included in Set A will be missed, affecting the quality of the results of Step 3. - correct**\n",
    "\n",
    "**\n",
    "A paper will be mistakenly added to Set A, yielding additional work in Step 2 of the process but not affecting the quality of the results of Step 3. **\n",
    "\n",
    "**\n",
    "A false negative is more costly than a false positive; the decision maker should use a probability threshold less than 0.5 for the machine learning model.**\n",
    "\n",
    "A false negative might negatively affect the results of the literature review and analysis, while a false positive is a nuisance (one additional paper that needs to be manually checked). As a result, the cost of a false negative is much higher than the cost of a false positive, so much so that many studies actually use no machine learning (aka no Step 1) and have two people manually review each search result in Step 2. As always, we prefer a lower threshold in cases where false negatives are more costly than false positives, since we will make fewer negative predictions."
   ]
  },
  {
   "cell_type": "code",
   "execution_count": null,
   "metadata": {
    "collapsed": true
   },
   "outputs": [],
   "source": []
  }
 ],
 "metadata": {
  "kernelspec": {
   "display_name": "R",
   "language": "R",
   "name": "ir"
  },
  "language_info": {
   "codemirror_mode": "r",
   "file_extension": ".r",
   "mimetype": "text/x-r-source",
   "name": "R",
   "pygments_lexer": "r",
   "version": "3.2.3"
  }
 },
 "nbformat": 4,
 "nbformat_minor": 0
}
