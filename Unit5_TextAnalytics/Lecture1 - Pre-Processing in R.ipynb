{
 "cells": [
  {
   "cell_type": "markdown",
   "metadata": {
    "collapsed": false
   },
   "source": [
    "## Pre-Processing in R\n",
    "\n",
    "In the following video, we ask you to install the \"tm\" package to perform the pre-processing steps. Due to function changes that occurred after this video was recorded, you will need to run the following command immediately after converting all of the words to lowercase letters (it converts all documents in the corpus to the PlainTextDocument type):\n",
    "\n",
    "corpus = tm_map(corpus, PlainTextDocument)\n",
    "\n",
    "LANGUAGE SETTINGS\n",
    "\n",
    "If you downloaded and installed R in a location other than the United States, you might encounter some issues when using the bag of words approach (since the pre-processing tasks used here depend on the English language). To fix this, you will need to type in your R console:\n",
    "\n",
    "Sys.setlocale(\"LC_ALL\", \"C\")\n",
    "\n",
    "This will only change the locale for your current R session, so please make a note to run this command when you are working on any lectures or exercises that might depend on the English lanugage (for example, removing stop words)."
   ]
  },
  {
   "cell_type": "code",
   "execution_count": 1,
   "metadata": {
    "collapsed": false
   },
   "outputs": [
    {
     "name": "stderr",
     "output_type": "stream",
     "text": [
      "Loading required package: NLP\n"
     ]
    }
   ],
   "source": [
    "# install.packages(\"tm\")\n",
    "# install.packages(\"SnowballC\")\n",
    "library(tm)\n",
    "library(SnowballC)"
   ]
  },
  {
   "cell_type": "code",
   "execution_count": 2,
   "metadata": {
    "collapsed": true
   },
   "outputs": [],
   "source": [
    "tweets = read.csv('data/tweets.csv', stringsAsFactors=FALSE)"
   ]
  },
  {
   "cell_type": "code",
   "execution_count": 3,
   "metadata": {
    "collapsed": false
   },
   "outputs": [
    {
     "name": "stdout",
     "output_type": "stream",
     "text": [
      "'data.frame':\t1181 obs. of  2 variables:\n",
      " $ Tweet: chr  \"I have to say, Apple has by far the best customer care service I have ever received! @Apple @AppStore\" \"iOS 7 is so fricking smooth & beautiful!! #ThanxApple @Apple\" \"LOVE U @APPLE\" \"Thank you @apple, loving my new iPhone 5S!!!!!  #apple #iphone5S pic.twitter.com/XmHJCU4pcb\" ...\n",
      " $ Avg  : num  2 2 1.8 1.8 1.8 1.8 1.8 1.6 1.6 1.6 ...\n"
     ]
    }
   ],
   "source": [
    "str(tweets)"
   ]
  },
  {
   "cell_type": "code",
   "execution_count": 4,
   "metadata": {
    "collapsed": true
   },
   "outputs": [],
   "source": [
    "tweets$Negative = as.factor(tweets$Avg <= -1)"
   ]
  },
  {
   "cell_type": "code",
   "execution_count": 5,
   "metadata": {
    "collapsed": false
   },
   "outputs": [
    {
     "data": {
      "text/plain": [
       "\n",
       "FALSE  TRUE \n",
       "  999   182 "
      ]
     },
     "execution_count": 5,
     "metadata": {},
     "output_type": "execute_result"
    }
   ],
   "source": [
    "table(tweets$Negative)"
   ]
  },
  {
   "cell_type": "markdown",
   "metadata": {},
   "source": [
    "## Step 1 - start using the package tm and SnowballC"
   ]
  },
  {
   "cell_type": "code",
   "execution_count": 6,
   "metadata": {
    "collapsed": true
   },
   "outputs": [],
   "source": [
    "corpus = Corpus(VectorSource(tweets$Tweet))"
   ]
  },
  {
   "cell_type": "code",
   "execution_count": 7,
   "metadata": {
    "collapsed": false
   },
   "outputs": [
    {
     "data": {
      "text/plain": [
       "<<VCorpus>>\n",
       "Metadata:  corpus specific: 0, document level (indexed): 0\n",
       "Content:  documents: 1181"
      ]
     },
     "execution_count": 7,
     "metadata": {},
     "output_type": "execute_result"
    }
   ],
   "source": [
    "corpus"
   ]
  },
  {
   "cell_type": "code",
   "execution_count": 8,
   "metadata": {
    "collapsed": false
   },
   "outputs": [
    {
     "data": {
      "text/plain": [
       "  author       : character(0)\n",
       "  datetimestamp: 2016-05-23 20:27:17\n",
       "  description  : character(0)\n",
       "  heading      : character(0)\n",
       "  id           : 1\n",
       "  language     : en\n",
       "  origin       : character(0)"
      ]
     },
     "execution_count": 8,
     "metadata": {},
     "output_type": "execute_result"
    }
   ],
   "source": [
    "corpus[[1]]$meta"
   ]
  },
  {
   "cell_type": "code",
   "execution_count": 9,
   "metadata": {
    "collapsed": false
   },
   "outputs": [
    {
     "data": {
      "text/html": [
       "'I have to say, Apple has by far the best customer care service I have ever received! @Apple @AppStore'"
      ],
      "text/latex": [
       "'I have to say, Apple has by far the best customer care service I have ever received! @Apple @AppStore'"
      ],
      "text/markdown": [
       "'I have to say, Apple has by far the best customer care service I have ever received! @Apple @AppStore'"
      ],
      "text/plain": [
       "[1] \"I have to say, Apple has by far the best customer care service I have ever received! @Apple @AppStore\""
      ]
     },
     "execution_count": 9,
     "metadata": {},
     "output_type": "execute_result"
    }
   ],
   "source": [
    "corpus[[1]]$content"
   ]
  },
  {
   "cell_type": "markdown",
   "metadata": {},
   "source": [
    "### To lower case with `tm_map` and `tolower`:"
   ]
  },
  {
   "cell_type": "code",
   "execution_count": 10,
   "metadata": {
    "collapsed": true
   },
   "outputs": [],
   "source": [
    "corpus = tm_map(corpus, tolower)\n",
    "corpus = tm_map(corpus, PlainTextDocument)"
   ]
  },
  {
   "cell_type": "code",
   "execution_count": 11,
   "metadata": {
    "collapsed": false
   },
   "outputs": [
    {
     "data": {
      "text/html": [
       "'i have to say, apple has by far the best customer care service i have ever received! @apple @appstore'"
      ],
      "text/latex": [
       "'i have to say, apple has by far the best customer care service i have ever received! @apple @appstore'"
      ],
      "text/markdown": [
       "'i have to say, apple has by far the best customer care service i have ever received! @apple @appstore'"
      ],
      "text/plain": [
       "[1] \"i have to say, apple has by far the best customer care service i have ever received! @apple @appstore\""
      ]
     },
     "execution_count": 11,
     "metadata": {},
     "output_type": "execute_result"
    }
   ],
   "source": [
    "corpus[[1]]$content"
   ]
  },
  {
   "cell_type": "markdown",
   "metadata": {
    "collapsed": true
   },
   "source": [
    "### Remove Punctuation"
   ]
  },
  {
   "cell_type": "code",
   "execution_count": 12,
   "metadata": {
    "collapsed": true
   },
   "outputs": [],
   "source": [
    "corpus = tm_map(corpus, removePunctuation)"
   ]
  },
  {
   "cell_type": "code",
   "execution_count": 13,
   "metadata": {
    "collapsed": false
   },
   "outputs": [
    {
     "data": {
      "text/html": [
       "'i have to say apple has by far the best customer care service i have ever received apple appstore'"
      ],
      "text/latex": [
       "'i have to say apple has by far the best customer care service i have ever received apple appstore'"
      ],
      "text/markdown": [
       "'i have to say apple has by far the best customer care service i have ever received apple appstore'"
      ],
      "text/plain": [
       "[1] \"i have to say apple has by far the best customer care service i have ever received apple appstore\""
      ]
     },
     "execution_count": 13,
     "metadata": {},
     "output_type": "execute_result"
    }
   ],
   "source": [
    "corpus[[1]]$content"
   ]
  },
  {
   "cell_type": "code",
   "execution_count": 14,
   "metadata": {
    "collapsed": false
   },
   "outputs": [
    {
     "data": {
      "text/html": [
       "<ol class=list-inline>\n",
       "\t<li>'i'</li>\n",
       "\t<li>'me'</li>\n",
       "\t<li>'my'</li>\n",
       "\t<li>'myself'</li>\n",
       "\t<li>'we'</li>\n",
       "\t<li>'our'</li>\n",
       "\t<li>'ours'</li>\n",
       "\t<li>'ourselves'</li>\n",
       "\t<li>'you'</li>\n",
       "\t<li>'your'</li>\n",
       "</ol>\n"
      ],
      "text/latex": [
       "\\begin{enumerate*}\n",
       "\\item 'i'\n",
       "\\item 'me'\n",
       "\\item 'my'\n",
       "\\item 'myself'\n",
       "\\item 'we'\n",
       "\\item 'our'\n",
       "\\item 'ours'\n",
       "\\item 'ourselves'\n",
       "\\item 'you'\n",
       "\\item 'your'\n",
       "\\end{enumerate*}\n"
      ],
      "text/markdown": [
       "1. 'i'\n",
       "2. 'me'\n",
       "3. 'my'\n",
       "4. 'myself'\n",
       "5. 'we'\n",
       "6. 'our'\n",
       "7. 'ours'\n",
       "8. 'ourselves'\n",
       "9. 'you'\n",
       "10. 'your'\n",
       "\n",
       "\n"
      ],
      "text/plain": [
       " [1] \"i\"         \"me\"        \"my\"        \"myself\"    \"we\"        \"our\"      \n",
       " [7] \"ours\"      \"ourselves\" \"you\"       \"your\"     "
      ]
     },
     "execution_count": 14,
     "metadata": {},
     "output_type": "execute_result"
    }
   ],
   "source": [
    "stopwords(\"english\")[1:10]"
   ]
  },
  {
   "cell_type": "markdown",
   "metadata": {},
   "source": [
    "### Remove stop words and Apple"
   ]
  },
  {
   "cell_type": "code",
   "execution_count": 15,
   "metadata": {
    "collapsed": true
   },
   "outputs": [],
   "source": [
    "corpus = tm_map(corpus, removeWords, c(\"apple\", stopwords(\"english\")))"
   ]
  },
  {
   "cell_type": "code",
   "execution_count": 16,
   "metadata": {
    "collapsed": false
   },
   "outputs": [
    {
     "data": {
      "text/html": [
       "'   say    far  best customer care service   ever received  appstore'"
      ],
      "text/latex": [
       "'   say    far  best customer care service   ever received  appstore'"
      ],
      "text/markdown": [
       "'   say    far  best customer care service   ever received  appstore'"
      ],
      "text/plain": [
       "[1] \"   say    far  best customer care service   ever received  appstore\""
      ]
     },
     "execution_count": 16,
     "metadata": {},
     "output_type": "execute_result"
    }
   ],
   "source": [
    "corpus[[1]]$content"
   ]
  },
  {
   "cell_type": "markdown",
   "metadata": {},
   "source": [
    "### Stemming"
   ]
  },
  {
   "cell_type": "code",
   "execution_count": 17,
   "metadata": {
    "collapsed": true
   },
   "outputs": [],
   "source": [
    "corpus = tm_map(corpus, stemDocument)"
   ]
  },
  {
   "cell_type": "code",
   "execution_count": 18,
   "metadata": {
    "collapsed": false
   },
   "outputs": [
    {
     "data": {
      "text/html": [
       "'   say    far  best custom care servic   ever receiv  appstor'"
      ],
      "text/latex": [
       "'   say    far  best custom care servic   ever receiv  appstor'"
      ],
      "text/markdown": [
       "'   say    far  best custom care servic   ever receiv  appstor'"
      ],
      "text/plain": [
       "[1] \"   say    far  best custom care servic   ever receiv  appstor\""
      ]
     },
     "execution_count": 18,
     "metadata": {},
     "output_type": "execute_result"
    }
   ],
   "source": [
    "corpus[[1]]$content"
   ]
  },
  {
   "cell_type": "markdown",
   "metadata": {},
   "source": [
    "## Bag of words:\n",
    "\n",
    "The tm package provides a function called **`DocumentTermMatrix`** that generates a matrix where the rows correspond to documents, in our case tweets, and the columns correspond to words in those tweets. The values in the matrix are the number of times that word appears in each document."
   ]
  },
  {
   "cell_type": "code",
   "execution_count": 19,
   "metadata": {
    "collapsed": true
   },
   "outputs": [],
   "source": [
    "frequencies = DocumentTermMatrix(corpus)"
   ]
  },
  {
   "cell_type": "code",
   "execution_count": 20,
   "metadata": {
    "collapsed": false
   },
   "outputs": [
    {
     "data": {
      "text/plain": [
       "<<DocumentTermMatrix (documents: 1181, terms: 3289)>>\n",
       "Non-/sparse entries: 8980/3875329\n",
       "Sparsity           : 100%\n",
       "Maximal term length: 115\n",
       "Weighting          : term frequency (tf)"
      ]
     },
     "execution_count": 20,
     "metadata": {},
     "output_type": "execute_result"
    }
   ],
   "source": [
    "frequencies"
   ]
  },
  {
   "cell_type": "code",
   "execution_count": 21,
   "metadata": {
    "collapsed": false
   },
   "outputs": [
    {
     "name": "stdout",
     "output_type": "stream",
     "text": [
      "<<DocumentTermMatrix (documents: 6, terms: 11)>>\n",
      "Non-/sparse entries: 1/65\n",
      "Sparsity           : 98%\n",
      "Maximal term length: 9\n",
      "Weighting          : term frequency (tf)\n",
      "\n",
      "              Terms\n",
      "Docs           cheapen cheaper check cheep cheer cheerio cherylcol chief\n",
      "  character(0)       0       0     0     0     0       0         0     0\n",
      "  character(0)       0       0     0     0     0       0         0     0\n",
      "  character(0)       0       0     0     0     0       0         0     0\n",
      "  character(0)       0       0     0     0     0       0         0     0\n",
      "  character(0)       0       0     0     0     0       0         0     0\n",
      "  character(0)       0       0     0     0     1       0         0     0\n",
      "              Terms\n",
      "Docs           chiiiiqu child children\n",
      "  character(0)        0     0        0\n",
      "  character(0)        0     0        0\n",
      "  character(0)        0     0        0\n",
      "  character(0)        0     0        0\n",
      "  character(0)        0     0        0\n",
      "  character(0)        0     0        0\n"
     ]
    }
   ],
   "source": [
    "inspect(frequencies[1000:1005, 505: 515])"
   ]
  },
  {
   "cell_type": "code",
   "execution_count": 22,
   "metadata": {
    "collapsed": false
   },
   "outputs": [
    {
     "data": {
      "text/html": [
       "<ol class=list-inline>\n",
       "\t<li>'android'</li>\n",
       "\t<li>'anyon'</li>\n",
       "\t<li>'app'</li>\n",
       "\t<li>'appl'</li>\n",
       "\t<li>'back'</li>\n",
       "\t<li>'batteri'</li>\n",
       "\t<li>'better'</li>\n",
       "\t<li>'buy'</li>\n",
       "\t<li>'can'</li>\n",
       "\t<li>'cant'</li>\n",
       "\t<li>'come'</li>\n",
       "\t<li>'dont'</li>\n",
       "\t<li>'fingerprint'</li>\n",
       "\t<li>'freak'</li>\n",
       "\t<li>'get'</li>\n",
       "\t<li>'googl'</li>\n",
       "\t<li>'ios7'</li>\n",
       "\t<li>'ipad'</li>\n",
       "\t<li>'iphon'</li>\n",
       "\t<li>'iphone5'</li>\n",
       "\t<li>'iphone5c'</li>\n",
       "\t<li>'ipod'</li>\n",
       "\t<li>'ipodplayerpromo'</li>\n",
       "\t<li>'itun'</li>\n",
       "\t<li>'just'</li>\n",
       "\t<li>'like'</li>\n",
       "\t<li>'lol'</li>\n",
       "\t<li>'look'</li>\n",
       "\t<li>'love'</li>\n",
       "\t<li>'make'</li>\n",
       "\t<li>'market'</li>\n",
       "\t<li>'microsoft'</li>\n",
       "\t<li>'need'</li>\n",
       "\t<li>'new'</li>\n",
       "\t<li>'now'</li>\n",
       "\t<li>'one'</li>\n",
       "\t<li>'phone'</li>\n",
       "\t<li>'pleas'</li>\n",
       "\t<li>'promo'</li>\n",
       "\t<li>'promoipodplayerpromo'</li>\n",
       "\t<li>'realli'</li>\n",
       "\t<li>'releas'</li>\n",
       "\t<li>'samsung'</li>\n",
       "\t<li>'say'</li>\n",
       "\t<li>'store'</li>\n",
       "\t<li>'thank'</li>\n",
       "\t<li>'think'</li>\n",
       "\t<li>'time'</li>\n",
       "\t<li>'twitter'</li>\n",
       "\t<li>'updat'</li>\n",
       "\t<li>'use'</li>\n",
       "\t<li>'via'</li>\n",
       "\t<li>'want'</li>\n",
       "\t<li>'well'</li>\n",
       "\t<li>'will'</li>\n",
       "\t<li>'work'</li>\n",
       "</ol>\n"
      ],
      "text/latex": [
       "\\begin{enumerate*}\n",
       "\\item 'android'\n",
       "\\item 'anyon'\n",
       "\\item 'app'\n",
       "\\item 'appl'\n",
       "\\item 'back'\n",
       "\\item 'batteri'\n",
       "\\item 'better'\n",
       "\\item 'buy'\n",
       "\\item 'can'\n",
       "\\item 'cant'\n",
       "\\item 'come'\n",
       "\\item 'dont'\n",
       "\\item 'fingerprint'\n",
       "\\item 'freak'\n",
       "\\item 'get'\n",
       "\\item 'googl'\n",
       "\\item 'ios7'\n",
       "\\item 'ipad'\n",
       "\\item 'iphon'\n",
       "\\item 'iphone5'\n",
       "\\item 'iphone5c'\n",
       "\\item 'ipod'\n",
       "\\item 'ipodplayerpromo'\n",
       "\\item 'itun'\n",
       "\\item 'just'\n",
       "\\item 'like'\n",
       "\\item 'lol'\n",
       "\\item 'look'\n",
       "\\item 'love'\n",
       "\\item 'make'\n",
       "\\item 'market'\n",
       "\\item 'microsoft'\n",
       "\\item 'need'\n",
       "\\item 'new'\n",
       "\\item 'now'\n",
       "\\item 'one'\n",
       "\\item 'phone'\n",
       "\\item 'pleas'\n",
       "\\item 'promo'\n",
       "\\item 'promoipodplayerpromo'\n",
       "\\item 'realli'\n",
       "\\item 'releas'\n",
       "\\item 'samsung'\n",
       "\\item 'say'\n",
       "\\item 'store'\n",
       "\\item 'thank'\n",
       "\\item 'think'\n",
       "\\item 'time'\n",
       "\\item 'twitter'\n",
       "\\item 'updat'\n",
       "\\item 'use'\n",
       "\\item 'via'\n",
       "\\item 'want'\n",
       "\\item 'well'\n",
       "\\item 'will'\n",
       "\\item 'work'\n",
       "\\end{enumerate*}\n"
      ],
      "text/markdown": [
       "1. 'android'\n",
       "2. 'anyon'\n",
       "3. 'app'\n",
       "4. 'appl'\n",
       "5. 'back'\n",
       "6. 'batteri'\n",
       "7. 'better'\n",
       "8. 'buy'\n",
       "9. 'can'\n",
       "10. 'cant'\n",
       "11. 'come'\n",
       "12. 'dont'\n",
       "13. 'fingerprint'\n",
       "14. 'freak'\n",
       "15. 'get'\n",
       "16. 'googl'\n",
       "17. 'ios7'\n",
       "18. 'ipad'\n",
       "19. 'iphon'\n",
       "20. 'iphone5'\n",
       "21. 'iphone5c'\n",
       "22. 'ipod'\n",
       "23. 'ipodplayerpromo'\n",
       "24. 'itun'\n",
       "25. 'just'\n",
       "26. 'like'\n",
       "27. 'lol'\n",
       "28. 'look'\n",
       "29. 'love'\n",
       "30. 'make'\n",
       "31. 'market'\n",
       "32. 'microsoft'\n",
       "33. 'need'\n",
       "34. 'new'\n",
       "35. 'now'\n",
       "36. 'one'\n",
       "37. 'phone'\n",
       "38. 'pleas'\n",
       "39. 'promo'\n",
       "40. 'promoipodplayerpromo'\n",
       "41. 'realli'\n",
       "42. 'releas'\n",
       "43. 'samsung'\n",
       "44. 'say'\n",
       "45. 'store'\n",
       "46. 'thank'\n",
       "47. 'think'\n",
       "48. 'time'\n",
       "49. 'twitter'\n",
       "50. 'updat'\n",
       "51. 'use'\n",
       "52. 'via'\n",
       "53. 'want'\n",
       "54. 'well'\n",
       "55. 'will'\n",
       "56. 'work'\n",
       "\n",
       "\n"
      ],
      "text/plain": [
       " [1] \"android\"              \"anyon\"                \"app\"                 \n",
       " [4] \"appl\"                 \"back\"                 \"batteri\"             \n",
       " [7] \"better\"               \"buy\"                  \"can\"                 \n",
       "[10] \"cant\"                 \"come\"                 \"dont\"                \n",
       "[13] \"fingerprint\"          \"freak\"                \"get\"                 \n",
       "[16] \"googl\"                \"ios7\"                 \"ipad\"                \n",
       "[19] \"iphon\"                \"iphone5\"              \"iphone5c\"            \n",
       "[22] \"ipod\"                 \"ipodplayerpromo\"      \"itun\"                \n",
       "[25] \"just\"                 \"like\"                 \"lol\"                 \n",
       "[28] \"look\"                 \"love\"                 \"make\"                \n",
       "[31] \"market\"               \"microsoft\"            \"need\"                \n",
       "[34] \"new\"                  \"now\"                  \"one\"                 \n",
       "[37] \"phone\"                \"pleas\"                \"promo\"               \n",
       "[40] \"promoipodplayerpromo\" \"realli\"               \"releas\"              \n",
       "[43] \"samsung\"              \"say\"                  \"store\"               \n",
       "[46] \"thank\"                \"think\"                \"time\"                \n",
       "[49] \"twitter\"              \"updat\"                \"use\"                 \n",
       "[52] \"via\"                  \"want\"                 \"well\"                \n",
       "[55] \"will\"                 \"work\"                "
      ]
     },
     "execution_count": 22,
     "metadata": {},
     "output_type": "execute_result"
    }
   ],
   "source": [
    "findFreqTerms(frequencies, lowfreq = 20)"
   ]
  },
  {
   "cell_type": "code",
   "execution_count": 23,
   "metadata": {
    "collapsed": false
   },
   "outputs": [
    {
     "data": {
      "text/html": [
       "<ol class=list-inline>\n",
       "\t<li>'iphon'</li>\n",
       "\t<li>'itun'</li>\n",
       "\t<li>'new'</li>\n",
       "</ol>\n"
      ],
      "text/latex": [
       "\\begin{enumerate*}\n",
       "\\item 'iphon'\n",
       "\\item 'itun'\n",
       "\\item 'new'\n",
       "\\end{enumerate*}\n"
      ],
      "text/markdown": [
       "1. 'iphon'\n",
       "2. 'itun'\n",
       "3. 'new'\n",
       "\n",
       "\n"
      ],
      "text/plain": [
       "[1] \"iphon\" \"itun\"  \"new\"  "
      ]
     },
     "execution_count": 23,
     "metadata": {},
     "output_type": "execute_result"
    }
   ],
   "source": [
    "findFreqTerms(frequencies, lowfreq = 100)"
   ]
  },
  {
   "cell_type": "markdown",
   "metadata": {},
   "source": [
    "### Only a few words showed up more than 20 times. So let's remove some"
   ]
  },
  {
   "cell_type": "code",
   "execution_count": 24,
   "metadata": {
    "collapsed": true
   },
   "outputs": [],
   "source": [
    "sparse = removeSparseTerms(frequencies, 0.995)"
   ]
  },
  {
   "cell_type": "code",
   "execution_count": 25,
   "metadata": {
    "collapsed": false
   },
   "outputs": [
    {
     "data": {
      "text/plain": [
       "<<DocumentTermMatrix (documents: 1181, terms: 309)>>\n",
       "Non-/sparse entries: 4669/360260\n",
       "Sparsity           : 99%\n",
       "Maximal term length: 20\n",
       "Weighting          : term frequency (tf)"
      ]
     },
     "execution_count": 25,
     "metadata": {},
     "output_type": "execute_result"
    }
   ],
   "source": [
    "sparse"
   ]
  },
  {
   "cell_type": "code",
   "execution_count": 26,
   "metadata": {
    "collapsed": true
   },
   "outputs": [],
   "source": [
    "tweetsSparse = as.data.frame(as.matrix(sparse))"
   ]
  },
  {
   "cell_type": "markdown",
   "metadata": {},
   "source": [
    "Since R struggles with variable names that start with a number,\n",
    "and we probably have some words here that start with a number,\n",
    "let's run the make.names function to make sure\n",
    "all of our words are appropriate variable names."
   ]
  },
  {
   "cell_type": "code",
   "execution_count": 27,
   "metadata": {
    "collapsed": false
   },
   "outputs": [],
   "source": [
    "colnames(tweetsSparse) = make.names(colnames(tweetsSparse))"
   ]
  },
  {
   "cell_type": "markdown",
   "metadata": {},
   "source": [
    "This will just convert our variable names\n",
    "to make sure they're all appropriate names\n",
    "before we build our predictive models.\n",
    "**You should do this each time you've\n",
    "built a data frame using text analytics.**\n",
    "Now let's add our dependent variable to this data set."
   ]
  },
  {
   "cell_type": "code",
   "execution_count": 28,
   "metadata": {
    "collapsed": true
   },
   "outputs": [],
   "source": [
    "tweetsSparse$Negative = tweets$Negative"
   ]
  },
  {
   "cell_type": "markdown",
   "metadata": {},
   "source": [
    "## Train, Test split"
   ]
  },
  {
   "cell_type": "code",
   "execution_count": 35,
   "metadata": {
    "collapsed": true
   },
   "outputs": [],
   "source": [
    "library(caTools)\n",
    "set.seed(123)\n",
    "split = sample.split(tweetsSparse$Negative, SplitRatio = 0.7)\n",
    "trainSparse = subset(tweetsSparse, split==TRUE)\n",
    "testSparse = subset(tweetsSparse, split==FALSE)"
   ]
  },
  {
   "cell_type": "code",
   "execution_count": 36,
   "metadata": {
    "collapsed": false
   },
   "outputs": [
    {
     "data": {
      "text/html": [
       "826"
      ],
      "text/latex": [
       "826"
      ],
      "text/markdown": [
       "826"
      ],
      "text/plain": [
       "[1] 826"
      ]
     },
     "execution_count": 36,
     "metadata": {},
     "output_type": "execute_result"
    }
   ],
   "source": [
    "nrow(trainSparse)"
   ]
  },
  {
   "cell_type": "code",
   "execution_count": 37,
   "metadata": {
    "collapsed": false
   },
   "outputs": [
    {
     "data": {
      "text/html": [
       "355"
      ],
      "text/latex": [
       "355"
      ],
      "text/markdown": [
       "355"
      ],
      "text/plain": [
       "[1] 355"
      ]
     },
     "execution_count": 37,
     "metadata": {},
     "output_type": "execute_result"
    }
   ],
   "source": [
    "nrow(testSparse)"
   ]
  },
  {
   "cell_type": "markdown",
   "metadata": {},
   "source": [
    "## Predicting Sentiment"
   ]
  },
  {
   "cell_type": "code",
   "execution_count": 38,
   "metadata": {
    "collapsed": true
   },
   "outputs": [],
   "source": [
    "# Tree CART model:\n",
    "library(rpart)\n",
    "library(rpart.plot)"
   ]
  },
  {
   "cell_type": "code",
   "execution_count": 39,
   "metadata": {
    "collapsed": true
   },
   "outputs": [],
   "source": [
    "tweetCART = rpart(Negative ~., data = trainSparse, method = \"class\")"
   ]
  },
  {
   "cell_type": "code",
   "execution_count": 40,
   "metadata": {
    "collapsed": false
   },
   "outputs": [
    {
     "data": {
      "image/png": "[encoded data removed]",
      "image/svg+xml": [
       "<?xml version=\"1.0\" encoding=\"UTF-8\"?>\n",
       "<svg xmlns=\"http://www.w3.org/2000/svg\" xmlns:xlink=\"http://www.w3.org/1999/xlink\" width=\"504pt\" height=\"504pt\" viewBox=\"0 0 504 504\" version=\"1.1\">\n",
       "<defs>\n",
       "<g>\n",
       "<symbol overflow=\"visible\" id=\"glyph0-0\">\n",
       "<path style=\"stroke:none;\" d=\"M 0.90625 0 L 0.90625 -8.640625 L 7.859375 -8.640625 L 7.859375 0 Z M 6.78125 -1.078125 L 6.78125 -7.5625 L 1.984375 -7.5625 L 1.984375 -1.078125 Z \"/>\n",
       "</symbol>\n",
       "<symbol overflow=\"visible\" id=\"glyph0-1\">\n",
       "<path style=\"stroke:none;\" d=\"M 3.140625 -8.71875 C 3.242188 -8.71875 3.335938 -8.710938 3.421875 -8.703125 C 3.503906 -8.703125 3.625 -8.695312 3.78125 -8.6875 L 3.78125 -7.328125 C 3.6875 -7.335938 3.523438 -7.34375 3.296875 -7.34375 C 3.078125 -7.351562 2.925781 -7.304688 2.84375 -7.203125 C 2.757812 -7.109375 2.71875 -7 2.71875 -6.875 C 2.71875 -6.75 2.71875 -6.566406 2.71875 -6.328125 L 3.8125 -6.328125 L 3.8125 -5.15625 L 2.71875 -5.15625 L 2.71875 0 L 1.0625 0 L 1.0625 -5.15625 L 0.125 -5.15625 L 0.125 -6.328125 L 1.03125 -6.328125 L 1.03125 -6.734375 C 1.03125 -7.421875 1.148438 -7.894531 1.390625 -8.15625 C 1.628906 -8.53125 2.210938 -8.71875 3.140625 -8.71875 Z \"/>\n",
       "</symbol>\n",
       "<symbol overflow=\"visible\" id=\"glyph0-2\">\n",
       "<path style=\"stroke:none;\" d=\"M 4.25 -6.546875 C 4.28125 -6.546875 4.304688 -6.539062 4.328125 -6.53125 C 4.347656 -6.53125 4.394531 -6.53125 4.46875 -6.53125 L 4.46875 -4.8125 C 4.363281 -4.820312 4.269531 -4.828125 4.1875 -4.828125 C 4.101562 -4.835938 4.035156 -4.84375 3.984375 -4.84375 C 3.316406 -4.84375 2.867188 -4.625 2.640625 -4.1875 C 2.503906 -3.945312 2.4375 -3.566406 2.4375 -3.046875 L 2.4375 0 L 0.765625 0 L 0.765625 -6.390625 L 2.359375 -6.390625 L 2.359375 -5.28125 C 2.617188 -5.695312 2.84375 -5.984375 3.03125 -6.140625 C 3.34375 -6.410156 3.75 -6.546875 4.25 -6.546875 Z \"/>\n",
       "</symbol>\n",
       "<symbol overflow=\"visible\" id=\"glyph0-3\">\n",
       "<path style=\"stroke:none;\" d=\"M 3.296875 -5.1875 C 2.910156 -5.1875 2.609375 -5.0625 2.390625 -4.8125 C 2.179688 -4.570312 2.050781 -4.242188 2 -3.828125 L 4.59375 -3.828125 C 4.5625 -4.273438 4.425781 -4.613281 4.1875 -4.84375 C 3.945312 -5.070312 3.648438 -5.1875 3.296875 -5.1875 Z M 3.296875 -6.5625 C 3.828125 -6.5625 4.304688 -6.457031 4.734375 -6.25 C 5.160156 -6.050781 5.515625 -5.738281 5.796875 -5.3125 C 6.046875 -4.9375 6.207031 -4.5 6.28125 -4 C 6.320312 -3.707031 6.335938 -3.285156 6.328125 -2.734375 L 1.953125 -2.734375 C 1.984375 -2.085938 2.1875 -1.640625 2.5625 -1.390625 C 2.789062 -1.222656 3.066406 -1.140625 3.390625 -1.140625 C 3.734375 -1.140625 4.015625 -1.238281 4.234375 -1.4375 C 4.347656 -1.539062 4.453125 -1.6875 4.546875 -1.875 L 6.25 -1.875 C 6.207031 -1.5 6.007812 -1.113281 5.65625 -0.71875 C 5.101562 -0.09375 4.335938 0.21875 3.359375 0.21875 C 2.546875 0.21875 1.828125 -0.0390625 1.203125 -0.5625 C 0.585938 -1.09375 0.28125 -1.945312 0.28125 -3.125 C 0.28125 -4.226562 0.554688 -5.078125 1.109375 -5.671875 C 1.671875 -6.265625 2.398438 -6.5625 3.296875 -6.5625 Z M 3.421875 -6.5625 Z \"/>\n",
       "</symbol>\n",
       "<symbol overflow=\"visible\" id=\"glyph0-4\">\n",
       "<path style=\"stroke:none;\" d=\"M 4.296875 -3.109375 C 4.191406 -3.035156 4.085938 -2.976562 3.984375 -2.9375 C 3.878906 -2.90625 3.734375 -2.867188 3.546875 -2.828125 L 3.171875 -2.765625 C 2.816406 -2.703125 2.5625 -2.625 2.40625 -2.53125 C 2.144531 -2.375 2.015625 -2.140625 2.015625 -1.828125 C 2.015625 -1.535156 2.09375 -1.328125 2.25 -1.203125 C 2.414062 -1.078125 2.613281 -1.015625 2.84375 -1.015625 C 3.195312 -1.015625 3.523438 -1.117188 3.828125 -1.328125 C 4.128906 -1.535156 4.285156 -1.921875 4.296875 -2.484375 Z M 3.28125 -3.890625 C 3.59375 -3.921875 3.816406 -3.96875 3.953125 -4.03125 C 4.191406 -4.132812 4.3125 -4.289062 4.3125 -4.5 C 4.3125 -4.769531 4.21875 -4.953125 4.03125 -5.046875 C 3.851562 -5.148438 3.585938 -5.203125 3.234375 -5.203125 C 2.835938 -5.203125 2.554688 -5.101562 2.390625 -4.90625 C 2.273438 -4.757812 2.195312 -4.5625 2.15625 -4.3125 L 0.546875 -4.3125 C 0.585938 -4.875 0.742188 -5.335938 1.015625 -5.703125 C 1.460938 -6.265625 2.222656 -6.546875 3.296875 -6.546875 C 3.992188 -6.546875 4.613281 -6.40625 5.15625 -6.125 C 5.695312 -5.84375 5.96875 -5.316406 5.96875 -4.546875 L 5.96875 -1.625 C 5.96875 -1.414062 5.972656 -1.171875 5.984375 -0.890625 C 5.992188 -0.671875 6.023438 -0.519531 6.078125 -0.4375 C 6.140625 -0.363281 6.222656 -0.300781 6.328125 -0.25 L 6.328125 0 L 4.515625 0 C 4.460938 -0.125 4.425781 -0.242188 4.40625 -0.359375 C 4.382812 -0.472656 4.367188 -0.601562 4.359375 -0.75 C 4.128906 -0.5 3.863281 -0.285156 3.5625 -0.109375 C 3.207031 0.0976562 2.800781 0.203125 2.34375 0.203125 C 1.769531 0.203125 1.289062 0.0351562 0.90625 -0.296875 C 0.53125 -0.628906 0.34375 -1.097656 0.34375 -1.703125 C 0.34375 -2.484375 0.644531 -3.050781 1.25 -3.40625 C 1.582031 -3.59375 2.070312 -3.726562 2.71875 -3.8125 Z M 3.375 -6.5625 Z \"/>\n",
       "</symbol>\n",
       "<symbol overflow=\"visible\" id=\"glyph0-5\">\n",
       "<path style=\"stroke:none;\" d=\"M 0.765625 -8.609375 L 2.40625 -8.609375 L 2.40625 -3.953125 L 4.484375 -6.359375 L 6.546875 -6.359375 L 4.3125 -3.921875 L 6.640625 0 L 4.625 0 L 3.09375 -2.734375 L 2.40625 -2.015625 L 2.40625 0 L 0.765625 0 Z \"/>\n",
       "</symbol>\n",
       "<symbol overflow=\"visible\" id=\"glyph0-6\">\n",
       "<path style=\"stroke:none;\" d=\"\"/>\n",
       "</symbol>\n",
       "<symbol overflow=\"visible\" id=\"glyph0-7\">\n",
       "<path style=\"stroke:none;\" d=\"M 0.140625 -3.921875 L 7.03125 -6.546875 L 7.03125 -4.921875 L 2.109375 -3.171875 L 7.03125 -1.4375 L 7.03125 0.203125 L 0.140625 -2.421875 Z \"/>\n",
       "</symbol>\n",
       "<symbol overflow=\"visible\" id=\"glyph0-8\">\n",
       "<path style=\"stroke:none;\" d=\"M 2.078125 -4.171875 C 2.078125 -3.191406 2.15625 -2.441406 2.3125 -1.921875 C 2.476562 -1.410156 2.8125 -1.15625 3.3125 -1.15625 C 3.800781 -1.15625 4.125 -1.410156 4.28125 -1.921875 C 4.4375 -2.441406 4.515625 -3.191406 4.515625 -4.171875 C 4.515625 -5.191406 4.4375 -5.945312 4.28125 -6.4375 C 4.125 -6.925781 3.800781 -7.171875 3.3125 -7.171875 C 2.8125 -7.171875 2.476562 -6.925781 2.3125 -6.4375 C 2.15625 -5.945312 2.078125 -5.191406 2.078125 -4.171875 Z M 3.3125 -8.5625 C 4.382812 -8.5625 5.140625 -8.175781 5.578125 -7.40625 C 6.015625 -6.644531 6.234375 -5.566406 6.234375 -4.171875 C 6.234375 -2.765625 6.015625 -1.679688 5.578125 -0.921875 C 5.140625 -0.160156 4.382812 0.21875 3.3125 0.21875 C 2.226562 0.21875 1.46875 -0.160156 1.03125 -0.921875 C 0.59375 -1.679688 0.375 -2.765625 0.375 -4.171875 C 0.375 -5.566406 0.59375 -6.644531 1.03125 -7.40625 C 1.46875 -8.175781 2.226562 -8.5625 3.3125 -8.5625 Z \"/>\n",
       "</symbol>\n",
       "<symbol overflow=\"visible\" id=\"glyph0-9\">\n",
       "<path style=\"stroke:none;\" d=\"M 0.75 -1.75 L 2.53125 -1.75 L 2.53125 0 L 0.75 0 Z \"/>\n",
       "</symbol>\n",
       "<symbol overflow=\"visible\" id=\"glyph0-10\">\n",
       "<path style=\"stroke:none;\" d=\"M 1.984375 -2.28125 C 2.046875 -1.914062 2.171875 -1.632812 2.359375 -1.4375 C 2.546875 -1.238281 2.820312 -1.140625 3.1875 -1.140625 C 3.59375 -1.140625 3.90625 -1.285156 4.125 -1.578125 C 4.34375 -1.867188 4.453125 -2.234375 4.453125 -2.671875 C 4.453125 -3.109375 4.347656 -3.472656 4.140625 -3.765625 C 3.941406 -4.066406 3.628906 -4.21875 3.203125 -4.21875 C 2.992188 -4.21875 2.816406 -4.191406 2.671875 -4.140625 C 2.410156 -4.046875 2.210938 -3.875 2.078125 -3.625 L 0.578125 -3.6875 L 1.171875 -8.390625 L 5.859375 -8.390625 L 5.859375 -6.96875 L 2.390625 -6.96875 L 2.078125 -5.109375 C 2.335938 -5.273438 2.539062 -5.382812 2.6875 -5.4375 C 2.925781 -5.53125 3.21875 -5.578125 3.5625 -5.578125 C 4.269531 -5.578125 4.882812 -5.335938 5.40625 -4.859375 C 5.925781 -4.390625 6.1875 -3.707031 6.1875 -2.8125 C 6.1875 -2.019531 5.9375 -1.316406 5.4375 -0.703125 C 4.9375 -0.0859375 4.179688 0.21875 3.171875 0.21875 C 2.367188 0.21875 1.707031 0.00390625 1.1875 -0.421875 C 0.664062 -0.859375 0.375 -1.476562 0.3125 -2.28125 Z \"/>\n",
       "</symbol>\n",
       "<symbol overflow=\"visible\" id=\"glyph0-11\">\n",
       "<path style=\"stroke:none;\" d=\"M 4.296875 -6.546875 C 4.691406 -6.546875 5.050781 -6.476562 5.375 -6.34375 C 5.695312 -6.207031 5.960938 -6 6.171875 -5.71875 C 6.347656 -5.476562 6.453125 -5.234375 6.484375 -4.984375 C 6.523438 -4.734375 6.546875 -4.320312 6.546875 -3.75 L 6.546875 0 L 4.84375 0 L 4.84375 -3.890625 C 4.84375 -4.234375 4.785156 -4.507812 4.671875 -4.71875 C 4.515625 -5.007812 4.222656 -5.15625 3.796875 -5.15625 C 3.359375 -5.15625 3.023438 -5.007812 2.796875 -4.71875 C 2.566406 -4.425781 2.453125 -4.003906 2.453125 -3.453125 L 2.453125 0 L 0.796875 0 L 0.796875 -8.609375 L 2.453125 -8.609375 L 2.453125 -5.5625 C 2.691406 -5.925781 2.972656 -6.179688 3.296875 -6.328125 C 3.617188 -6.472656 3.953125 -6.546875 4.296875 -6.546875 Z \"/>\n",
       "</symbol>\n",
       "<symbol overflow=\"visible\" id=\"glyph0-12\">\n",
       "<path style=\"stroke:none;\" d=\"M 0.125 -5.140625 L 0.125 -6.328125 L 1.015625 -6.328125 L 1.015625 -8.109375 L 2.671875 -8.109375 L 2.671875 -6.328125 L 3.703125 -6.328125 L 3.703125 -5.140625 L 2.671875 -5.140625 L 2.671875 -1.765625 C 2.671875 -1.503906 2.703125 -1.335938 2.765625 -1.265625 C 2.828125 -1.203125 3.03125 -1.171875 3.375 -1.171875 C 3.425781 -1.171875 3.476562 -1.171875 3.53125 -1.171875 C 3.59375 -1.179688 3.648438 -1.1875 3.703125 -1.1875 L 3.703125 0.0625 L 2.90625 0.09375 C 2.125 0.113281 1.585938 -0.0234375 1.296875 -0.328125 C 1.109375 -0.515625 1.015625 -0.804688 1.015625 -1.203125 L 1.015625 -5.140625 Z \"/>\n",
       "</symbol>\n",
       "<symbol overflow=\"visible\" id=\"glyph0-13\">\n",
       "<path style=\"stroke:none;\" d=\"M 3.796875 -6.390625 L 5.484375 -6.390625 L 6.453125 -1.78125 L 7.453125 -6.390625 L 9.1875 -6.390625 L 7.34375 0 L 5.625 0 L 4.625 -4.65625 L 3.609375 0 L 1.875 0 L 0.078125 -6.390625 L 1.875 -6.390625 L 2.875 -1.8125 Z \"/>\n",
       "</symbol>\n",
       "<symbol overflow=\"visible\" id=\"glyph1-0\">\n",
       "<path style=\"stroke:none;\" d=\"M 0.390625 0 L 0.390625 -8.609375 L 7.21875 -8.609375 L 7.21875 0 Z M 6.140625 -1.078125 L 6.140625 -7.53125 L 1.46875 -7.53125 L 1.46875 -1.078125 Z \"/>\n",
       "</symbol>\n",
       "<symbol overflow=\"visible\" id=\"glyph1-1\">\n",
       "<path style=\"stroke:none;\" d=\"M 1.03125 -8.609375 L 7 -8.609375 L 7 -7.546875 L 2.1875 -7.546875 L 2.1875 -4.9375 L 6.421875 -4.9375 L 6.421875 -3.921875 L 2.1875 -3.921875 L 2.1875 0 L 1.03125 0 Z \"/>\n",
       "</symbol>\n",
       "<symbol overflow=\"visible\" id=\"glyph1-2\">\n",
       "<path style=\"stroke:none;\" d=\"M 5.328125 -3.53125 L 4.03125 -7.328125 L 2.640625 -3.53125 Z M 3.421875 -8.609375 L 4.734375 -8.609375 L 7.859375 0 L 6.578125 0 L 5.703125 -2.578125 L 2.296875 -2.578125 L 1.375 0 L 0.171875 0 Z M 4.015625 -8.609375 Z \"/>\n",
       "</symbol>\n",
       "<symbol overflow=\"visible\" id=\"glyph1-3\">\n",
       "<path style=\"stroke:none;\" d=\"M 0.921875 -8.609375 L 2.078125 -8.609375 L 2.078125 -1.03125 L 6.4375 -1.03125 L 6.4375 0 L 0.921875 0 Z \"/>\n",
       "</symbol>\n",
       "<symbol overflow=\"visible\" id=\"glyph1-4\">\n",
       "<path style=\"stroke:none;\" d=\"M 1.671875 -2.78125 C 1.703125 -2.289062 1.816406 -1.894531 2.015625 -1.59375 C 2.410156 -1.019531 3.09375 -0.734375 4.0625 -0.734375 C 4.5 -0.734375 4.898438 -0.796875 5.265625 -0.921875 C 5.960938 -1.160156 6.3125 -1.59375 6.3125 -2.21875 C 6.3125 -2.6875 6.160156 -3.019531 5.859375 -3.21875 C 5.566406 -3.414062 5.101562 -3.585938 4.46875 -3.734375 L 3.3125 -4 C 2.539062 -4.164062 2 -4.351562 1.6875 -4.5625 C 1.144531 -4.925781 0.875 -5.460938 0.875 -6.171875 C 0.875 -6.953125 1.140625 -7.585938 1.671875 -8.078125 C 2.203125 -8.578125 2.957031 -8.828125 3.9375 -8.828125 C 4.84375 -8.828125 5.609375 -8.609375 6.234375 -8.171875 C 6.867188 -7.734375 7.1875 -7.035156 7.1875 -6.078125 L 6.09375 -6.078125 C 6.03125 -6.546875 5.90625 -6.898438 5.71875 -7.140625 C 5.363281 -7.585938 4.757812 -7.8125 3.90625 -7.8125 C 3.21875 -7.8125 2.722656 -7.664062 2.421875 -7.375 C 2.117188 -7.09375 1.96875 -6.757812 1.96875 -6.375 C 1.96875 -5.957031 2.144531 -5.648438 2.5 -5.453125 C 2.726562 -5.328125 3.25 -5.171875 4.0625 -4.984375 L 5.28125 -4.703125 C 5.851562 -4.566406 6.300781 -4.382812 6.625 -4.15625 C 7.164062 -3.757812 7.4375 -3.175781 7.4375 -2.40625 C 7.4375 -1.457031 7.085938 -0.773438 6.390625 -0.359375 C 5.703125 0.046875 4.898438 0.25 3.984375 0.25 C 2.910156 0.25 2.070312 -0.0195312 1.46875 -0.5625 C 0.863281 -1.113281 0.566406 -1.851562 0.578125 -2.78125 Z M 4.03125 -8.84375 Z \"/>\n",
       "</symbol>\n",
       "<symbol overflow=\"visible\" id=\"glyph1-5\">\n",
       "<path style=\"stroke:none;\" d=\"M 1.03125 -8.609375 L 7.296875 -8.609375 L 7.296875 -7.546875 L 2.15625 -7.546875 L 2.15625 -4.9375 L 6.921875 -4.9375 L 6.921875 -3.9375 L 2.15625 -3.9375 L 2.15625 -1.03125 L 7.390625 -1.03125 L 7.390625 0 L 1.03125 0 Z M 4.203125 -8.609375 Z \"/>\n",
       "</symbol>\n",
       "<symbol overflow=\"visible\" id=\"glyph1-6\">\n",
       "<path style=\"stroke:none;\" d=\"M 7.171875 -8.609375 L 7.171875 -7.578125 L 4.28125 -7.578125 L 4.28125 0 L 3.09375 0 L 3.09375 -7.578125 L 0.1875 -7.578125 L 0.1875 -8.609375 Z \"/>\n",
       "</symbol>\n",
       "<symbol overflow=\"visible\" id=\"glyph1-7\">\n",
       "<path style=\"stroke:none;\" d=\"M 4.921875 -4.671875 C 5.460938 -4.671875 5.890625 -4.78125 6.203125 -5 C 6.523438 -5.21875 6.6875 -5.609375 6.6875 -6.171875 C 6.6875 -6.785156 6.46875 -7.207031 6.03125 -7.4375 C 5.789062 -7.550781 5.46875 -7.609375 5.0625 -7.609375 L 2.21875 -7.609375 L 2.21875 -4.671875 Z M 1.0625 -8.609375 L 5.046875 -8.609375 C 5.703125 -8.609375 6.238281 -8.515625 6.65625 -8.328125 C 7.46875 -7.953125 7.875 -7.269531 7.875 -6.28125 C 7.875 -5.769531 7.765625 -5.347656 7.546875 -5.015625 C 7.335938 -4.691406 7.039062 -4.429688 6.65625 -4.234375 C 7 -4.097656 7.253906 -3.914062 7.421875 -3.6875 C 7.585938 -3.46875 7.679688 -3.109375 7.703125 -2.609375 L 7.75 -1.453125 C 7.757812 -1.128906 7.785156 -0.882812 7.828125 -0.71875 C 7.898438 -0.445312 8.023438 -0.269531 8.203125 -0.1875 L 8.203125 0 L 6.78125 0 C 6.738281 -0.0703125 6.703125 -0.164062 6.671875 -0.28125 C 6.648438 -0.40625 6.632812 -0.632812 6.625 -0.96875 L 6.546875 -2.40625 C 6.523438 -2.96875 6.316406 -3.34375 5.921875 -3.53125 C 5.703125 -3.632812 5.351562 -3.6875 4.875 -3.6875 L 2.21875 -3.6875 L 2.21875 0 L 1.0625 0 Z \"/>\n",
       "</symbol>\n",
       "<symbol overflow=\"visible\" id=\"glyph1-8\">\n",
       "<path style=\"stroke:none;\" d=\"M 2.1875 -8.609375 L 2.1875 -3.28125 C 2.1875 -2.65625 2.300781 -2.140625 2.53125 -1.734375 C 2.875 -1.109375 3.460938 -0.796875 4.296875 -0.796875 C 5.273438 -0.796875 5.945312 -1.132812 6.3125 -1.8125 C 6.5 -2.175781 6.59375 -2.664062 6.59375 -3.28125 L 6.59375 -8.609375 L 7.78125 -8.609375 L 7.78125 -3.78125 C 7.78125 -2.71875 7.632812 -1.898438 7.34375 -1.328125 C 6.820312 -0.285156 5.835938 0.234375 4.390625 0.234375 C 2.929688 0.234375 1.941406 -0.285156 1.421875 -1.328125 C 1.140625 -1.898438 1 -2.71875 1 -3.78125 L 1 -8.609375 Z M 4.390625 -8.609375 Z \"/>\n",
       "</symbol>\n",
       "<symbol overflow=\"visible\" id=\"glyph2-0\">\n",
       "<path style=\"stroke:none;\" d=\"M 0.3125 0 L 0.3125 -6.875 L 5.765625 -6.875 L 5.765625 0 Z M 4.90625 -0.859375 L 4.90625 -6.015625 L 1.171875 -6.015625 L 1.171875 -0.859375 Z \"/>\n",
       "</symbol>\n",
       "<symbol overflow=\"visible\" id=\"glyph2-1\">\n",
       "<path style=\"stroke:none;\" d=\"M 3.75 -5.015625 L 4.6875 -5.015625 C 4.5625 -4.691406 4.296875 -3.957031 3.890625 -2.8125 C 3.585938 -1.945312 3.332031 -1.242188 3.125 -0.703125 C 2.632812 0.578125 2.289062 1.359375 2.09375 1.640625 C 1.894531 1.921875 1.550781 2.0625 1.0625 2.0625 C 0.945312 2.0625 0.851562 2.054688 0.78125 2.046875 C 0.71875 2.035156 0.640625 2.015625 0.546875 1.984375 L 0.546875 1.21875 C 0.691406 1.257812 0.796875 1.285156 0.859375 1.296875 C 0.929688 1.304688 0.992188 1.3125 1.046875 1.3125 C 1.203125 1.3125 1.316406 1.285156 1.390625 1.234375 C 1.460938 1.179688 1.523438 1.117188 1.578125 1.046875 C 1.585938 1.015625 1.640625 0.882812 1.734375 0.65625 C 1.835938 0.425781 1.910156 0.253906 1.953125 0.140625 L 0.09375 -5.015625 L 1.046875 -5.015625 L 2.40625 -0.9375 Z M 2.390625 -5.140625 Z \"/>\n",
       "</symbol>\n",
       "<symbol overflow=\"visible\" id=\"glyph2-2\">\n",
       "<path style=\"stroke:none;\" d=\"M 2.703125 -5.125 C 3.054688 -5.125 3.398438 -5.039062 3.734375 -4.875 C 4.078125 -4.707031 4.332031 -4.492188 4.5 -4.234375 C 4.675781 -3.972656 4.789062 -3.675781 4.84375 -3.34375 C 4.894531 -3.113281 4.921875 -2.742188 4.921875 -2.234375 L 1.234375 -2.234375 C 1.253906 -1.722656 1.375 -1.3125 1.59375 -1 C 1.820312 -0.695312 2.171875 -0.546875 2.640625 -0.546875 C 3.085938 -0.546875 3.441406 -0.691406 3.703125 -0.984375 C 3.847656 -1.148438 3.953125 -1.347656 4.015625 -1.578125 L 4.84375 -1.578125 C 4.820312 -1.390625 4.75 -1.179688 4.625 -0.953125 C 4.507812 -0.734375 4.375 -0.550781 4.21875 -0.40625 C 3.957031 -0.15625 3.640625 0.015625 3.265625 0.109375 C 3.054688 0.148438 2.828125 0.171875 2.578125 0.171875 C 1.953125 0.171875 1.421875 -0.0507812 0.984375 -0.5 C 0.554688 -0.957031 0.34375 -1.59375 0.34375 -2.40625 C 0.34375 -3.21875 0.5625 -3.875 1 -4.375 C 1.4375 -4.875 2.003906 -5.125 2.703125 -5.125 Z M 4.046875 -2.90625 C 4.015625 -3.269531 3.9375 -3.5625 3.8125 -3.78125 C 3.582031 -4.1875 3.195312 -4.390625 2.65625 -4.390625 C 2.269531 -4.390625 1.941406 -4.25 1.671875 -3.96875 C 1.410156 -3.695312 1.273438 -3.34375 1.265625 -2.90625 Z M 2.625 -5.140625 Z \"/>\n",
       "</symbol>\n",
       "<symbol overflow=\"visible\" id=\"glyph2-3\">\n",
       "<path style=\"stroke:none;\" d=\"M 1.125 -1.578125 C 1.144531 -1.296875 1.210938 -1.078125 1.328125 -0.921875 C 1.546875 -0.648438 1.914062 -0.515625 2.4375 -0.515625 C 2.75 -0.515625 3.019531 -0.582031 3.25 -0.71875 C 3.488281 -0.851562 3.609375 -1.066406 3.609375 -1.359375 C 3.609375 -1.566406 3.515625 -1.726562 3.328125 -1.84375 C 3.203125 -1.914062 2.960938 -1.992188 2.609375 -2.078125 L 1.9375 -2.25 C 1.507812 -2.351562 1.195312 -2.472656 1 -2.609375 C 0.632812 -2.835938 0.453125 -3.15625 0.453125 -3.5625 C 0.453125 -4.03125 0.617188 -4.410156 0.953125 -4.703125 C 1.296875 -4.992188 1.757812 -5.140625 2.34375 -5.140625 C 3.09375 -5.140625 3.640625 -4.921875 3.984375 -4.484375 C 4.191406 -4.203125 4.289062 -3.898438 4.28125 -3.578125 L 3.484375 -3.578125 C 3.472656 -3.765625 3.40625 -3.9375 3.28125 -4.09375 C 3.09375 -4.3125 2.757812 -4.421875 2.28125 -4.421875 C 1.957031 -4.421875 1.710938 -4.359375 1.546875 -4.234375 C 1.390625 -4.117188 1.3125 -3.960938 1.3125 -3.765625 C 1.3125 -3.546875 1.414062 -3.367188 1.625 -3.234375 C 1.75 -3.160156 1.9375 -3.09375 2.1875 -3.03125 L 2.734375 -2.890625 C 3.347656 -2.742188 3.753906 -2.601562 3.953125 -2.46875 C 4.285156 -2.25 4.453125 -1.910156 4.453125 -1.453125 C 4.453125 -1.003906 4.28125 -0.617188 3.9375 -0.296875 C 3.601562 0.0234375 3.085938 0.1875 2.390625 0.1875 C 1.648438 0.1875 1.125 0.0195312 0.8125 -0.3125 C 0.5 -0.65625 0.332031 -1.078125 0.3125 -1.578125 Z M 2.359375 -5.140625 Z \"/>\n",
       "</symbol>\n",
       "<symbol overflow=\"visible\" id=\"glyph2-4\">\n",
       "<path style=\"stroke:none;\" d=\"M 0.625 -5.015625 L 1.421875 -5.015625 L 1.421875 -4.3125 C 1.660156 -4.601562 1.910156 -4.8125 2.171875 -4.9375 C 2.441406 -5.0625 2.738281 -5.125 3.0625 -5.125 C 3.769531 -5.125 4.25 -4.878906 4.5 -4.390625 C 4.632812 -4.117188 4.703125 -3.726562 4.703125 -3.21875 L 4.703125 0 L 3.84375 0 L 3.84375 -3.15625 C 3.84375 -3.46875 3.800781 -3.71875 3.71875 -3.90625 C 3.5625 -4.21875 3.289062 -4.375 2.90625 -4.375 C 2.695312 -4.375 2.53125 -4.351562 2.40625 -4.3125 C 2.175781 -4.238281 1.972656 -4.097656 1.796875 -3.890625 C 1.660156 -3.734375 1.570312 -3.566406 1.53125 -3.390625 C 1.488281 -3.210938 1.46875 -2.957031 1.46875 -2.625 L 1.46875 0 L 0.625 0 Z M 2.59375 -5.140625 Z \"/>\n",
       "</symbol>\n",
       "<symbol overflow=\"visible\" id=\"glyph2-5\">\n",
       "<path style=\"stroke:none;\" d=\"M 2.609375 -0.546875 C 3.171875 -0.546875 3.554688 -0.753906 3.765625 -1.171875 C 3.972656 -1.597656 4.078125 -2.070312 4.078125 -2.59375 C 4.078125 -3.0625 4 -3.441406 3.84375 -3.734375 C 3.601562 -4.191406 3.195312 -4.421875 2.625 -4.421875 C 2.101562 -4.421875 1.722656 -4.222656 1.484375 -3.828125 C 1.253906 -3.441406 1.140625 -2.96875 1.140625 -2.40625 C 1.140625 -1.875 1.253906 -1.429688 1.484375 -1.078125 C 1.722656 -0.722656 2.097656 -0.546875 2.609375 -0.546875 Z M 2.640625 -5.15625 C 3.285156 -5.15625 3.832031 -4.941406 4.28125 -4.515625 C 4.726562 -4.085938 4.953125 -3.453125 4.953125 -2.609375 C 4.953125 -1.804688 4.753906 -1.140625 4.359375 -0.609375 C 3.960938 -0.078125 3.351562 0.1875 2.53125 0.1875 C 1.84375 0.1875 1.296875 -0.046875 0.890625 -0.515625 C 0.484375 -0.984375 0.28125 -1.613281 0.28125 -2.40625 C 0.28125 -3.238281 0.492188 -3.90625 0.921875 -4.40625 C 1.347656 -4.90625 1.921875 -5.15625 2.640625 -5.15625 Z M 2.609375 -5.140625 Z \"/>\n",
       "</symbol>\n",
       "</g>\n",
       "</defs>\n",
       "<g id=\"surface1\">\n",
       "<rect x=\"0\" y=\"0\" width=\"504\" height=\"504\" style=\"fill:rgb(100%,100%,100%);fill-opacity:1;stroke:none;\"/>\n",
       "<path style=\"fill:none;stroke-width:0.75;stroke-linecap:butt;stroke-linejoin:round;stroke:rgb(0%,0%,0%);stroke-opacity:1;stroke-miterlimit:10;\" d=\"M 250.078125 223.453125 L 285.597656 166.351562 L 294.480469 166.351562 \"/>\n",
       "<path style=\"fill:none;stroke-width:0.75;stroke-linecap:butt;stroke-linejoin:round;stroke:rgb(0%,0%,0%);stroke-opacity:1;stroke-miterlimit:10;\" d=\"M 206.078125 281.984375 L 241.277344 224.882812 L 250.078125 224.882812 \"/>\n",
       "<path style=\"fill:none;stroke-width:0.75;stroke-linecap:butt;stroke-linejoin:round;stroke:rgb(0%,0%,0%);stroke-opacity:1;stroke-miterlimit:10;\" d=\"M 166.078125 329.023438 L 198.078125 283.414062 L 206.078125 283.414062 \"/>\n",
       "<path style=\"fill:none;stroke-width:0.75;stroke-linecap:butt;stroke-linejoin:round;stroke:rgb(0%,0%,0%);stroke-opacity:1;stroke-miterlimit:10;\" d=\"M 246.078125 329.023438 L 214.078125 283.414062 L 206.078125 283.414062 \"/>\n",
       "<path style=\"fill:none;stroke-width:0.75;stroke-linecap:butt;stroke-linejoin:round;stroke:rgb(0%,0%,0%);stroke-opacity:1;stroke-miterlimit:10;\" d=\"M 294.078125 270.492188 L 258.878906 224.882812 L 250.078125 224.882812 \"/>\n",
       "<path style=\"fill:none;stroke-width:0.75;stroke-linecap:butt;stroke-linejoin:round;stroke:rgb(0%,0%,0%);stroke-opacity:1;stroke-miterlimit:10;\" d=\"M 338.878906 211.957031 L 303.359375 166.351562 L 294.480469 166.351562 \"/>\n",
       "<path style=\" stroke:none;fill-rule:nonzero;fill:rgb(100%,100%,100%);fill-opacity:1;\" d=\"M 259.960938 170.660156 L 259.960938 153.425781 L 328.996094 153.425781 L 328.996094 170.660156 Z \"/>\n",
       "<path style=\" stroke:none;fill-rule:nonzero;fill:rgb(100%,100%,100%);fill-opacity:1;\" d=\"M 217.5625 229.191406 L 217.5625 211.957031 L 282.59375 211.957031 L 282.59375 229.191406 Z \"/>\n",
       "<path style=\" stroke:none;fill-rule:nonzero;fill:rgb(100%,100%,100%);fill-opacity:1;\" d=\"M 177.234375 287.722656 L 177.234375 270.492188 L 234.921875 270.492188 L 234.921875 287.722656 Z \"/>\n",
       "<g style=\"fill:rgb(0%,0%,0%);fill-opacity:1;\">\n",
       "  <use xlink:href=\"#glyph0-1\" x=\"264.957031\" y=\"166.292969\"/>\n",
       "  <use xlink:href=\"#glyph0-2\" x=\"268.953125\" y=\"166.292969\"/>\n",
       "  <use xlink:href=\"#glyph0-3\" x=\"273.623047\" y=\"166.292969\"/>\n",
       "  <use xlink:href=\"#glyph0-4\" x=\"280.296875\" y=\"166.292969\"/>\n",
       "  <use xlink:href=\"#glyph0-5\" x=\"286.970703\" y=\"166.292969\"/>\n",
       "  <use xlink:href=\"#glyph0-6\" x=\"293.644531\" y=\"166.292969\"/>\n",
       "  <use xlink:href=\"#glyph0-7\" x=\"296.978516\" y=\"166.292969\"/>\n",
       "  <use xlink:href=\"#glyph0-6\" x=\"303.986328\" y=\"166.292969\"/>\n",
       "  <use xlink:href=\"#glyph0-8\" x=\"307.320312\" y=\"166.292969\"/>\n",
       "  <use xlink:href=\"#glyph0-9\" x=\"313.994141\" y=\"166.292969\"/>\n",
       "  <use xlink:href=\"#glyph0-10\" x=\"317.328125\" y=\"166.292969\"/>\n",
       "</g>\n",
       "<g style=\"fill:rgb(0%,0%,0%);fill-opacity:1;\">\n",
       "  <use xlink:href=\"#glyph0-11\" x=\"222.5625\" y=\"224.769531\"/>\n",
       "  <use xlink:href=\"#glyph0-4\" x=\"229.892578\" y=\"224.769531\"/>\n",
       "  <use xlink:href=\"#glyph0-12\" x=\"236.566406\" y=\"224.769531\"/>\n",
       "  <use xlink:href=\"#glyph0-3\" x=\"240.5625\" y=\"224.769531\"/>\n",
       "  <use xlink:href=\"#glyph0-6\" x=\"247.236328\" y=\"224.769531\"/>\n",
       "  <use xlink:href=\"#glyph0-7\" x=\"250.570312\" y=\"224.769531\"/>\n",
       "  <use xlink:href=\"#glyph0-6\" x=\"257.578125\" y=\"224.769531\"/>\n",
       "  <use xlink:href=\"#glyph0-8\" x=\"260.912109\" y=\"224.769531\"/>\n",
       "  <use xlink:href=\"#glyph0-9\" x=\"267.585938\" y=\"224.769531\"/>\n",
       "  <use xlink:href=\"#glyph0-10\" x=\"270.919922\" y=\"224.769531\"/>\n",
       "</g>\n",
       "<g style=\"fill:rgb(0%,0%,0%);fill-opacity:1;\">\n",
       "  <use xlink:href=\"#glyph0-13\" x=\"182.234375\" y=\"283.355469\"/>\n",
       "  <use xlink:href=\"#glyph0-12\" x=\"191.568359\" y=\"283.355469\"/>\n",
       "  <use xlink:href=\"#glyph0-1\" x=\"195.564453\" y=\"283.355469\"/>\n",
       "  <use xlink:href=\"#glyph0-6\" x=\"199.560547\" y=\"283.355469\"/>\n",
       "  <use xlink:href=\"#glyph0-7\" x=\"202.894531\" y=\"283.355469\"/>\n",
       "  <use xlink:href=\"#glyph0-6\" x=\"209.902344\" y=\"283.355469\"/>\n",
       "  <use xlink:href=\"#glyph0-8\" x=\"213.236328\" y=\"283.355469\"/>\n",
       "  <use xlink:href=\"#glyph0-9\" x=\"219.910156\" y=\"283.355469\"/>\n",
       "  <use xlink:href=\"#glyph0-10\" x=\"223.244141\" y=\"283.355469\"/>\n",
       "</g>\n",
       "<path style=\"fill-rule:nonzero;fill:rgb(100%,100%,100%);fill-opacity:1;stroke-width:0.75;stroke-linecap:round;stroke-linejoin:round;stroke:rgb(0%,0%,0%);stroke-opacity:1;stroke-miterlimit:10;\" d=\"M 142.550781 337.640625 L 142.84375 335.410156 L 143.707031 333.332031 L 145.074219 331.546875 L 146.859375 330.179688 L 148.9375 329.316406 L 151.167969 329.023438 L 180.988281 329.023438 L 183.21875 329.316406 L 185.296875 330.179688 L 187.082031 331.546875 L 188.449219 333.332031 L 189.308594 335.410156 L 189.605469 337.640625 L 189.308594 339.871094 L 188.449219 341.949219 L 187.082031 343.730469 L 185.296875 345.101562 L 183.21875 345.960938 L 180.988281 346.253906 L 151.167969 346.253906 L 148.9375 345.960938 L 146.859375 345.101562 L 145.074219 343.730469 L 143.707031 341.949219 L 142.84375 339.871094 Z \"/>\n",
       "<path style=\"fill-rule:nonzero;fill:rgb(100%,100%,100%);fill-opacity:1;stroke-width:0.75;stroke-linecap:round;stroke-linejoin:round;stroke:rgb(0%,0%,0%);stroke-opacity:1;stroke-miterlimit:10;\" d=\"M 224.988281 337.640625 L 225.28125 335.410156 L 226.144531 333.332031 L 227.511719 331.546875 L 229.296875 330.179688 L 231.375 329.316406 L 233.605469 329.023438 L 258.550781 329.023438 L 260.78125 329.316406 L 262.859375 330.179688 L 264.644531 331.546875 L 266.015625 333.332031 L 266.875 335.410156 L 267.167969 337.640625 L 266.875 339.871094 L 266.015625 341.949219 L 264.644531 343.730469 L 262.859375 345.101562 L 260.78125 345.960938 L 258.550781 346.253906 L 233.605469 346.253906 L 231.375 345.960938 L 229.296875 345.101562 L 227.511719 343.730469 L 226.144531 341.949219 L 225.28125 339.871094 Z \"/>\n",
       "<path style=\"fill-rule:nonzero;fill:rgb(100%,100%,100%);fill-opacity:1;stroke-width:0.75;stroke-linecap:round;stroke-linejoin:round;stroke:rgb(0%,0%,0%);stroke-opacity:1;stroke-miterlimit:10;\" d=\"M 272.988281 279.105469 L 273.28125 276.878906 L 274.144531 274.800781 L 275.511719 273.015625 L 277.296875 271.644531 L 279.375 270.785156 L 281.605469 270.492188 L 306.550781 270.492188 L 308.78125 270.785156 L 310.859375 271.644531 L 312.644531 273.015625 L 314.015625 274.800781 L 314.875 276.878906 L 315.167969 279.105469 L 314.875 281.335938 L 314.015625 283.414062 L 312.644531 285.199219 L 310.859375 286.570312 L 308.78125 287.429688 L 306.550781 287.722656 L 281.605469 287.722656 L 279.375 287.429688 L 277.296875 286.570312 L 275.511719 285.199219 L 274.144531 283.414062 L 273.28125 281.335938 Z \"/>\n",
       "<path style=\"fill-rule:nonzero;fill:rgb(100%,100%,100%);fill-opacity:1;stroke-width:0.75;stroke-linecap:round;stroke-linejoin:round;stroke:rgb(0%,0%,0%);stroke-opacity:1;stroke-miterlimit:10;\" d=\"M 317.789062 220.574219 L 318.082031 218.34375 L 318.941406 216.265625 L 320.3125 214.484375 L 322.097656 213.113281 L 324.175781 212.253906 L 326.40625 211.957031 L 351.351562 211.957031 L 353.582031 212.253906 L 355.660156 213.113281 L 357.445312 214.484375 L 358.816406 216.265625 L 359.675781 218.34375 L 359.96875 220.574219 L 359.675781 222.804688 L 358.816406 224.882812 L 357.445312 226.667969 L 355.660156 228.035156 L 353.582031 228.898438 L 351.351562 229.191406 L 326.40625 229.191406 L 324.175781 228.898438 L 322.097656 228.035156 L 320.3125 226.667969 L 318.941406 224.882812 L 318.082031 222.804688 Z \"/>\n",
       "<g style=\"fill:rgb(0%,0%,0%);fill-opacity:1;\">\n",
       "  <use xlink:href=\"#glyph1-1\" x=\"147.070312\" y=\"341.9375\"/>\n",
       "  <use xlink:href=\"#glyph1-2\" x=\"154.400391\" y=\"341.9375\"/>\n",
       "  <use xlink:href=\"#glyph1-3\" x=\"162.404297\" y=\"341.9375\"/>\n",
       "  <use xlink:href=\"#glyph1-4\" x=\"169.078125\" y=\"341.9375\"/>\n",
       "  <use xlink:href=\"#glyph1-5\" x=\"177.082031\" y=\"341.9375\"/>\n",
       "</g>\n",
       "<g style=\"fill:rgb(0%,0%,0%);fill-opacity:1;\">\n",
       "  <use xlink:href=\"#glyph1-6\" x=\"229.746094\" y=\"341.828125\"/>\n",
       "  <use xlink:href=\"#glyph1-7\" x=\"237.076172\" y=\"341.828125\"/>\n",
       "  <use xlink:href=\"#glyph1-8\" x=\"245.742188\" y=\"341.828125\"/>\n",
       "  <use xlink:href=\"#glyph1-5\" x=\"254.408203\" y=\"341.828125\"/>\n",
       "</g>\n",
       "<g style=\"fill:rgb(0%,0%,0%);fill-opacity:1;\">\n",
       "  <use xlink:href=\"#glyph1-6\" x=\"277.746094\" y=\"283.292969\"/>\n",
       "  <use xlink:href=\"#glyph1-7\" x=\"285.076172\" y=\"283.292969\"/>\n",
       "  <use xlink:href=\"#glyph1-8\" x=\"293.742188\" y=\"283.292969\"/>\n",
       "  <use xlink:href=\"#glyph1-5\" x=\"302.408203\" y=\"283.292969\"/>\n",
       "</g>\n",
       "<g style=\"fill:rgb(0%,0%,0%);fill-opacity:1;\">\n",
       "  <use xlink:href=\"#glyph1-6\" x=\"322.546875\" y=\"224.761719\"/>\n",
       "  <use xlink:href=\"#glyph1-7\" x=\"329.876953\" y=\"224.761719\"/>\n",
       "  <use xlink:href=\"#glyph1-8\" x=\"338.542969\" y=\"224.761719\"/>\n",
       "  <use xlink:href=\"#glyph1-5\" x=\"347.208984\" y=\"224.761719\"/>\n",
       "</g>\n",
       "<path style=\"fill-rule:nonzero;fill:rgb(100%,100%,100%);fill-opacity:1;stroke-width:0.75;stroke-linecap:round;stroke-linejoin:round;stroke:rgb(0%,0%,0%);stroke-opacity:1;stroke-miterlimit:10;\" d=\"M 232.3125 161.503906 L 232.367188 161.085938 L 232.527344 160.695312 L 232.785156 160.363281 L 233.121094 160.105469 L 233.511719 159.945312 L 233.929688 159.890625 L 253.738281 159.890625 L 254.15625 159.945312 L 254.542969 160.105469 L 254.878906 160.363281 L 255.136719 160.695312 L 255.296875 161.085938 L 255.351562 161.503906 L 255.351562 171.195312 L 255.296875 171.617188 L 255.136719 172.003906 L 254.878906 172.339844 L 254.542969 172.597656 L 254.15625 172.757812 L 253.738281 172.8125 L 233.929688 172.8125 L 233.511719 172.757812 L 233.121094 172.597656 L 232.785156 172.339844 L 232.527344 172.003906 L 232.367188 171.617188 L 232.3125 171.195312 Z \"/>\n",
       "<path style=\"fill-rule:nonzero;fill:rgb(100%,100%,100%);fill-opacity:1;stroke-width:0.75;stroke-linecap:round;stroke-linejoin:round;stroke:rgb(0%,0%,0%);stroke-opacity:1;stroke-miterlimit:10;\" d=\"M 333.605469 161.503906 L 333.660156 161.085938 L 333.820312 160.695312 L 334.078125 160.363281 L 334.414062 160.105469 L 334.800781 159.945312 L 335.21875 159.890625 L 355.027344 159.890625 L 355.445312 159.945312 L 355.835938 160.105469 L 356.171875 160.363281 L 356.429688 160.695312 L 356.589844 161.085938 L 356.644531 161.503906 L 356.644531 171.195312 L 356.589844 171.617188 L 356.429688 172.003906 L 356.171875 172.339844 L 355.835938 172.597656 L 355.445312 172.757812 L 355.027344 172.8125 L 335.21875 172.8125 L 334.800781 172.757812 L 334.414062 172.597656 L 334.078125 172.339844 L 333.820312 172.003906 L 333.660156 171.617188 L 333.605469 171.195312 Z \"/>\n",
       "<g style=\"fill:rgb(0%,0%,0%);fill-opacity:1;\">\n",
       "  <use xlink:href=\"#glyph2-1\" x=\"236.367188\" y=\"168.964844\"/>\n",
       "  <use xlink:href=\"#glyph2-2\" x=\"241.164062\" y=\"168.964844\"/>\n",
       "  <use xlink:href=\"#glyph2-3\" x=\"246.499649\" y=\"168.964844\"/>\n",
       "</g>\n",
       "<g style=\"fill:rgb(0%,0%,0%);fill-opacity:1;\">\n",
       "  <use xlink:href=\"#glyph2-4\" x=\"339.789062\" y=\"168.835938\"/>\n",
       "  <use xlink:href=\"#glyph2-5\" x=\"345.124649\" y=\"168.835938\"/>\n",
       "</g>\n",
       "</g>\n",
       "</svg>\n"
      ],
      "text/plain": [
       "plot without title"
      ]
     },
     "metadata": {
      "image/svg+xml": {
       "isolated": true
      }
     },
     "output_type": "display_data"
    }
   ],
   "source": [
    "prp(tweetCART)"
   ]
  },
  {
   "cell_type": "code",
   "execution_count": 41,
   "metadata": {
    "collapsed": true
   },
   "outputs": [],
   "source": [
    "predictCART = predict(tweetCART, newdata = testSparse, type = \"class\")"
   ]
  },
  {
   "cell_type": "code",
   "execution_count": 42,
   "metadata": {
    "collapsed": false
   },
   "outputs": [
    {
     "data": {
      "text/plain": [
       "       predictCART\n",
       "        FALSE TRUE\n",
       "  FALSE   294    6\n",
       "  TRUE     37   18"
      ]
     },
     "execution_count": 42,
     "metadata": {},
     "output_type": "execute_result"
    }
   ],
   "source": [
    "table(testSparse$Negative, predictCART)"
   ]
  },
  {
   "cell_type": "code",
   "execution_count": 43,
   "metadata": {
    "collapsed": false,
    "scrolled": true
   },
   "outputs": [
    {
     "data": {
      "text/html": [
       "0.87887323943662"
      ],
      "text/latex": [
       "0.87887323943662"
      ],
      "text/markdown": [
       "0.87887323943662"
      ],
      "text/plain": [
       "[1] 0.8788732"
      ]
     },
     "execution_count": 43,
     "metadata": {},
     "output_type": "execute_result"
    }
   ],
   "source": [
    "t = table(testSparse$Negative, predictCART)\n",
    "# ACC:\n",
    "sum(diag(t))/sum(t)"
   ]
  },
  {
   "cell_type": "code",
   "execution_count": 44,
   "metadata": {
    "collapsed": true
   },
   "outputs": [],
   "source": [
    "# ACC baseline:"
   ]
  },
  {
   "cell_type": "code",
   "execution_count": 45,
   "metadata": {
    "collapsed": false
   },
   "outputs": [
    {
     "data": {
      "text/plain": [
       "\n",
       "FALSE  TRUE \n",
       "  300    55 "
      ]
     },
     "execution_count": 45,
     "metadata": {},
     "output_type": "execute_result"
    }
   ],
   "source": [
    "table(testSparse$Negative)"
   ]
  },
  {
   "cell_type": "code",
   "execution_count": 46,
   "metadata": {
    "collapsed": false
   },
   "outputs": [
    {
     "data": {
      "text/html": [
       "0.845070422535211"
      ],
      "text/latex": [
       "0.845070422535211"
      ],
      "text/markdown": [
       "0.845070422535211"
      ],
      "text/plain": [
       "[1] 0.8450704"
      ]
     },
     "execution_count": 46,
     "metadata": {},
     "output_type": "execute_result"
    }
   ],
   "source": [
    "300/355"
   ]
  },
  {
   "cell_type": "markdown",
   "metadata": {},
   "source": [
    "Our mode is a bit better. Now try RandomForest\n"
   ]
  },
  {
   "cell_type": "markdown",
   "metadata": {},
   "source": [
    "\n",
    "## RandomForest "
   ]
  },
  {
   "cell_type": "code",
   "execution_count": 48,
   "metadata": {
    "collapsed": false
   },
   "outputs": [],
   "source": [
    "library(randomForest)\n",
    "set.seed(123)"
   ]
  },
  {
   "cell_type": "code",
   "execution_count": 49,
   "metadata": {
    "collapsed": true
   },
   "outputs": [],
   "source": [
    "tweetRF = randomForest(Negative ~., data=trainSparse)"
   ]
  },
  {
   "cell_type": "code",
   "execution_count": 50,
   "metadata": {
    "collapsed": true
   },
   "outputs": [],
   "source": [
    "predictRF = predict(tweetRF, newdata = testSparse)"
   ]
  },
  {
   "cell_type": "code",
   "execution_count": 51,
   "metadata": {
    "collapsed": false
   },
   "outputs": [
    {
     "data": {
      "text/plain": [
       "       predictRF\n",
       "        FALSE TRUE\n",
       "  FALSE   293    7\n",
       "  TRUE     34   21"
      ]
     },
     "execution_count": 51,
     "metadata": {},
     "output_type": "execute_result"
    }
   ],
   "source": [
    "table(testSparse$Negative, predictRF)"
   ]
  },
  {
   "cell_type": "code",
   "execution_count": 52,
   "metadata": {
    "collapsed": false
   },
   "outputs": [
    {
     "data": {
      "text/html": [
       "0.884507042253521"
      ],
      "text/latex": [
       "0.884507042253521"
      ],
      "text/markdown": [
       "0.884507042253521"
      ],
      "text/plain": [
       "[1] 0.884507"
      ]
     },
     "execution_count": 52,
     "metadata": {},
     "output_type": "execute_result"
    }
   ],
   "source": [
    "t = table(testSparse$Negative, predictRF)\n",
    "# ACC:\n",
    "sum(diag(t))/sum(t)"
   ]
  },
  {
   "cell_type": "markdown",
   "metadata": {},
   "source": [
    "## Logistic Regression"
   ]
  },
  {
   "cell_type": "code",
   "execution_count": 57,
   "metadata": {
    "collapsed": false
   },
   "outputs": [
    {
     "name": "stderr",
     "output_type": "stream",
     "text": [
      "Warning message:\n",
      ": glm.fit: algorithm did not convergeWarning message:\n",
      ": glm.fit: fitted probabilities numerically 0 or 1 occurred"
     ]
    }
   ],
   "source": [
    "tweetLR = glm(Negative ~., data=trainSparse, family = 'binomial')"
   ]
  },
  {
   "cell_type": "code",
   "execution_count": 60,
   "metadata": {
    "collapsed": false
   },
   "outputs": [
    {
     "name": "stderr",
     "output_type": "stream",
     "text": [
      "Warning message:\n",
      "In predict.lm(object, newdata, se.fit, scale = 1, type = ifelse(type == : prediction from a rank-deficient fit may be misleading"
     ]
    }
   ],
   "source": [
    "predictLR = predict(tweetLR, newdata = testSparse, type='response')"
   ]
  },
  {
   "cell_type": "code",
   "execution_count": 61,
   "metadata": {
    "collapsed": false
   },
   "outputs": [
    {
     "data": {
      "text/plain": [
       "       \n",
       "        FALSE TRUE\n",
       "  FALSE   253   47\n",
       "  TRUE     23   32"
      ]
     },
     "execution_count": 61,
     "metadata": {},
     "output_type": "execute_result"
    }
   ],
   "source": [
    "table(testSparse$Negative, predictLR > 0.5)"
   ]
  },
  {
   "cell_type": "code",
   "execution_count": 62,
   "metadata": {
    "collapsed": false
   },
   "outputs": [
    {
     "data": {
      "text/html": [
       "0.802816901408451"
      ],
      "text/latex": [
       "0.802816901408451"
      ],
      "text/markdown": [
       "0.802816901408451"
      ],
      "text/plain": [
       "[1] 0.8028169"
      ]
     },
     "execution_count": 62,
     "metadata": {},
     "output_type": "execute_result"
    }
   ],
   "source": [
    "t = table(testSparse$Negative, predictLR > 0.5)\n",
    "# ACC:\n",
    "sum(diag(t))/sum(t)"
   ]
  },
  {
   "cell_type": "code",
   "execution_count": null,
   "metadata": {
    "collapsed": true
   },
   "outputs": [],
   "source": []
  }
 ],
 "metadata": {
  "kernelspec": {
   "display_name": "R",
   "language": "R",
   "name": "ir"
  },
  "language_info": {
   "codemirror_mode": "r",
   "file_extension": ".r",
   "mimetype": "text/x-r-source",
   "name": "R",
   "pygments_lexer": "r",
   "version": "3.2.3"
  }
 },
 "nbformat": 4,
 "nbformat_minor": 0
}
